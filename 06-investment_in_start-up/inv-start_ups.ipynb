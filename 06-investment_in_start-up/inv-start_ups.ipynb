{
 "cells": [
  {
   "cell_type": "markdown",
   "id": "a9c25c6b",
   "metadata": {},
   "source": [
    "**Проект \"Базовый SQL\"**"
   ]
  },
  {
   "cell_type": "markdown",
   "id": "9ac2ac7b",
   "metadata": {},
   "source": [
    "1. Отобразите все записи из таблицы company по компаниям, которые закрылись.\n",
    "\n",
    "SELECT *\\\n",
    "FROM company\\\n",
    "WHERE status = 'closed';"
   ]
  },
  {
   "cell_type": "markdown",
   "id": "d3b47355",
   "metadata": {},
   "source": [
    "2. Отобразите количество привлечённых средств для новостных компаний США. Используйте данные из таблицы company. Отсортируйте таблицу по убыванию значений в поле funding_total.\n",
    "\n",
    "SELECT funding_total\\\n",
    "FROM company\\\n",
    "WHERE category_code = 'news'\\\n",
    "AND country_code = 'USA'\\\n",
    "ORDER BY funding_total DESC;"
   ]
  },
  {
   "cell_type": "markdown",
   "id": "7f6ff3bf",
   "metadata": {},
   "source": [
    "3. Найдите общую сумму сделок по покупке одних компаний другими в долларах. Отберите сделки, которые осуществлялись только за наличные с 2011 по 2013 год включительно.\n",
    "\n",
    "SELECT SUM (price_amount)\\\n",
    "FROM acquisition\\\n",
    "WHERE term_code = 'cash'\\\n",
    "AND EXTRACT (YEAR FROM CAST (acquired_at AS date)) BETWEEN '2011' AND '2013';"
   ]
  },
  {
   "cell_type": "markdown",
   "id": "435f4f68",
   "metadata": {},
   "source": [
    "4. Отобразите имя, фамилию и названия аккаунтов людей в поле network_username, у которых названия аккаунтов начинаются на 'Silver'.\n",
    "\n",
    "SELECT first_name,\n",
    "\n",
    "       last_name,\n",
    "       \n",
    "       network_username\n",
    "FROM people\\\n",
    "WHERE network_username LIKE 'Silver%';"
   ]
  },
  {
   "cell_type": "markdown",
   "id": "e29ab5cb",
   "metadata": {},
   "source": [
    "5. Выведите на экран всю информацию о людях, у которых названия аккаунтов в поле network_username содержат подстроку 'money', а фамилия начинается на 'K'.\n",
    "\n",
    "SELECT *\\\n",
    "FROM people\\\n",
    "WHERE network_username LIKE '%money%'\\\n",
    "AND last_name LIKE 'K%';"
   ]
  },
  {
   "cell_type": "markdown",
   "id": "efe30b61",
   "metadata": {},
   "source": [
    "6. Для каждой страны отобразите общую сумму привлечённых инвестиций, которые получили компании, зарегистрированные в этой стране. Страну, в которой зарегистрирована компания, можно определить по коду страны. Отсортируйте данные по убыванию суммы.\n",
    "\n",
    "SELECT c.country_code,\n",
    "\n",
    "       SUM (c.funding_total)\\\n",
    "FROM company AS c\\\n",
    "GROUP BY c.country_code\\\n",
    "ORDER BY SUM (c.funding_total) DESC;"
   ]
  },
  {
   "cell_type": "markdown",
   "id": "1a8174da",
   "metadata": {},
   "source": [
    "7. Составьте таблицу, в которую войдёт дата проведения раунда, а также минимальное и максимальное значения суммы инвестиций, привлечённых в эту дату. Оставьте в итоговой таблице только те записи, в которых минимальное значение суммы инвестиций не равно нулю и не равно максимальному значению.\n",
    "\n",
    "SELECT funded_at,\n",
    "\n",
    "       MIN (raised_amount),\n",
    "       \n",
    "       MAX (raised_amount)\n",
    "FROM funding_round\\\n",
    "GROUP BY funded_at\\\n",
    "HAVING MIN (raised_amount) != 0\\\n",
    "AND MIN (raised_amount) != MAX (raised_amount);"
   ]
  },
  {
   "cell_type": "markdown",
   "id": "743d70aa",
   "metadata": {},
   "source": [
    "8. Создайте поле с категориями: \n",
    "Для фондов, которые инвестируют в 100 и более компаний, назначьте категорию high_activity.\n",
    "Для фондов, которые инвестируют в 20 и более компаний до 100, назначьте категорию middle_activity.\n",
    "Если количество инвестируемых компаний фонда не достигает 20, назначьте категорию low_activity.\n",
    "Отобразите все поля таблицы fund и новое поле с категориями.\n",
    "\n",
    "SELECT *,\n",
    "\n",
    "       CASE \n",
    "          WHEN invested_companies >= 100 THEN 'high_activity'\n",
    "          WHEN invested_companies >= 20  AND invested_companies < 100 THEN 'middle_activity'\n",
    "          WHEN invested_companies < 20 THEN 'low_activity'\n",
    "       END\n",
    "FROM fund;"
   ]
  },
  {
   "cell_type": "markdown",
   "id": "67b071ba",
   "metadata": {},
   "source": [
    "9. Для каждой из категорий, назначенных в предыдущем задании, посчитайте округлённое до ближайшего целого числа среднее количество инвестиционных раундов, в которых фонд принимал участие. Выведите на экран категории и среднее число инвестиционных раундов. Отсортируйте таблицу по возрастанию среднего.\n",
    "\n",
    "SELECT CASE\n",
    "\n",
    "           WHEN invested_companies>=100 THEN 'high_activity'\n",
    "           WHEN invested_companies>=20 THEN 'middle_activity'\n",
    "           ELSE 'low_activity'\n",
    "       END AS activity,\n",
    "       ROUND (AVG (investment_rounds))\n",
    "FROM fund\\\n",
    "GROUP BY activity\\\n",
    "ORDER BY ROUND (AVG (investment_rounds));"
   ]
  },
  {
   "cell_type": "markdown",
   "id": "16d92df7",
   "metadata": {},
   "source": [
    "10. Проанализируйте, в каких странах находятся фонды, которые чаще всего инвестируют в стартапы. \n",
    "Для каждой страны посчитайте минимальное, максимальное и среднее число компаний, в которые инвестировали фонды этой страны, основанные с 2010 по 2012 год включительно. Исключите страны с фондами, у которых минимальное число компаний, получивших инвестиции, равно нулю. \n",
    "Выгрузите десять самых активных стран-инвесторов: отсортируйте таблицу по среднему количеству компаний от большего к меньшему. Затем добавьте сортировку по коду страны в лексикографическом порядке.\n",
    "\n",
    "SELECT country_code,\n",
    "\n",
    "       MIN (invested_companies),\n",
    "       \n",
    "       MAX (invested_companies),\n",
    "       \n",
    "       AVG (invested_companies)\n",
    "FROM fund\\\n",
    "WHERE EXTRACT (YEAR FROM CAST (founded_at AS date)) BETWEEN '2010' AND '2012'\\\n",
    "GROUP BY country_code\\\n",
    "HAVING MIN (invested_companies) > 0\\\n",
    "ORDER BY AVG (invested_companies) DESC, country_code\\\n",
    "LIMIT 10;"
   ]
  },
  {
   "cell_type": "markdown",
   "id": "cabd06b1",
   "metadata": {},
   "source": [
    "11. Отобразите имя и фамилию всех сотрудников стартапов. Добавьте поле с названием учебного заведения, которое окончил сотрудник, если эта информация известна.\n",
    "\n",
    "SELECT p.first_name,\n",
    "\n",
    "       p.last_name\n",
    "FROM people AS p\\\n",
    "LEFT JOIN education AS ed ON p.id=ed.id;"
   ]
  },
  {
   "cell_type": "markdown",
   "id": "483e6fc6",
   "metadata": {},
   "source": [
    "12. Для каждой компании найдите количество учебных заведений, которые окончили её сотрудники. Выведите название компании и число уникальных названий учебных заведений. Составьте топ-5 компаний по количеству университетов.\n",
    "\n",
    "SELECT c.name,\n",
    "\n",
    "       COUNT (DISTINCT ed.instituition)\n",
    "FROM company AS c\\\n",
    "JOIN people AS pl ON c.id = pl.company_id\\\n",
    "JOIN education AS ed ON pl.id = ed.person_id\\\n",
    "GROUP BY c.name\\\n",
    "ORDER BY COUNT (DISTINCT ed.instituition) DESC\\\n",
    "LIMIT 5;"
   ]
  },
  {
   "cell_type": "markdown",
   "id": "e609c273",
   "metadata": {},
   "source": [
    "13. Составьте список с уникальными названиями закрытых компаний, для которых первый раунд финансирования оказался последним.\n",
    "\n",
    "SELECT c.name\\\n",
    "FROM company AS c\\\n",
    "JOIN funding_round AS fr ON c.id = fr.company_id\\\n",
    "WHERE c.status = 'closed'\\\n",
    "AND is_first_round = 1\\\n",
    "AND is_last_round = 1\\\n",
    "GROUP BY name;"
   ]
  },
  {
   "cell_type": "markdown",
   "id": "1cbd93a9",
   "metadata": {},
   "source": [
    "14. Составьте список уникальных номеров сотрудников, которые работают в компаниях, отобранных в предыдущем задании.\n",
    "\n",
    "SELECT DISTINCT p.id\\\n",
    "FROM people AS p\\\n",
    "INNER JOIN company AS c ON p.company_id = c.id\\\n",
    "WHERE c.name IN (SELECT c.name\n",
    "\n",
    "                 FROM company AS c\n",
    "                 \n",
    "                 JOIN funding_round AS fr ON c.id = fr.company_id\n",
    "                 \n",
    "                 WHERE c.status = 'closed'\n",
    "                 \n",
    "                 AND is_first_round = 1\n",
    "                 \n",
    "                 AND is_last_round = 1\n",
    "                 \n",
    "                 GROUP BY name);"
   ]
  },
  {
   "cell_type": "markdown",
   "id": "4c5bb62c",
   "metadata": {},
   "source": [
    "15. Составьте таблицу, куда войдут уникальные пары с номерами сотрудников из предыдущей задачи и учебным заведением, которое окончил сотрудник.\n",
    "\n",
    "SELECT DISTINCT p.id,\n",
    "\n",
    "       ed.instituition\n",
    "FROM people AS p\\\n",
    "INNER JOIN company AS c ON p.company_id = c.id\\\n",
    "INNER JOIN education AS ed ON p.id = ed.person_id\\\n",
    "WHERE c.name IN (SELECT c.name\n",
    "\n",
    "                 FROM company AS c\n",
    "                 \n",
    "                 JOIN funding_round AS fr ON c.id = fr.company_id\n",
    "                 \n",
    "                 WHERE c.status = 'closed'\n",
    "                 \n",
    "                 AND is_first_round = 1\n",
    "                 \n",
    "                 AND is_last_round = 1\n",
    "                 \n",
    "                 GROUP BY name);"
   ]
  },
  {
   "cell_type": "markdown",
   "id": "68c7461e",
   "metadata": {},
   "source": [
    "16. Посчитайте количество учебных заведений для каждого сотрудника из предыдущего задания. При подсчёте учитывайте, что некоторые сотрудники могли окончить одно и то же заведение дважды.\n",
    "\n",
    "SELECT p.id,\n",
    "\n",
    "       COUNT (ed.instituition)\n",
    "FROM people AS p\\\n",
    "INNER JOIN company AS c ON p.company_id = c.id\\\n",
    "INNER JOIN education AS ed ON p.id = ed.person_id\\\n",
    "WHERE c.name IN (SELECT c.name\n",
    "\n",
    "                 FROM company AS c\n",
    "                 \n",
    "                 JOIN funding_round AS fr ON c.id = fr.company_id\n",
    "                 \n",
    "                 WHERE c.status = 'closed'\n",
    "                 \n",
    "                 AND is_first_round = 1\n",
    "                 \n",
    "                 AND is_last_round = 1\n",
    "                 \n",
    "                 GROUP BY name)\n",
    "GROUP BY p.id;"
   ]
  },
  {
   "cell_type": "markdown",
   "id": "04a864e3",
   "metadata": {},
   "source": [
    "17. Дополните предыдущий запрос и выведите среднее число учебных заведений (всех, не только уникальных), которые окончили сотрудники разных компаний. Нужно вывести только одну запись, группировка здесь не понадобится.\n",
    "\n",
    "SELECT AVG (i1.number_instituitions)\\\n",
    "FROM (SELECT p.id,\n",
    "\n",
    "             COUNT (ed.instituition) AS number_instituitions\n",
    "FROM people AS p\\\n",
    "INNER JOIN company AS c ON p.company_id = c.id\\\n",
    "INNER JOIN education AS ed ON p.id = ed.person_id\\\n",
    "WHERE c.name IN (SELECT c.name\n",
    "\n",
    "                 FROM company AS c\n",
    "                 \n",
    "                 JOIN funding_round AS fr ON c.id = fr.company_id\n",
    "                 \n",
    "                 WHERE c.status = 'closed'\n",
    "                 \n",
    "                 AND is_first_round = 1\n",
    "                 \n",
    "                 AND is_last_round = 1\n",
    "                 \n",
    "                 GROUP BY name)\n",
    "GROUP BY p.id) AS i1;"
   ]
  },
  {
   "cell_type": "markdown",
   "id": "fe6ece33",
   "metadata": {},
   "source": [
    "18. Напишите похожий запрос: выведите среднее число учебных заведений (всех, не только уникальных), которые окончили сотрудники Socialnet.\n",
    "\n",
    "SELECT AVG (i1.number_instituitions)\\\n",
    "FROM (SELECT p.id,\n",
    "\n",
    "       COUNT (ed.instituition) AS number_instituitions\n",
    "FROM people AS p\\\n",
    "INNER JOIN company AS c ON p.company_id = c.id\\\n",
    "INNER JOIN education AS ed ON p.id = ed.person_id\\\n",
    "WHERE c.name = 'Socialnet'\\\n",
    "GROUP BY p.id) AS i1;"
   ]
  },
  {
   "cell_type": "markdown",
   "id": "ebbd043d",
   "metadata": {},
   "source": [
    "19. Составьте таблицу из полей:\n",
    "name_of_fund — название фонда;\n",
    "name_of_company — название компании;\n",
    "amount — сумма инвестиций, которую привлекла компания в раунде.\n",
    "В таблицу войдут данные о компаниях, в истории которых было больше шести важных этапов, а раунды финансирования проходили с 2012 по 2013 год включительно.\n",
    "\n",
    "SELECT f.name AS name_of_fund,\n",
    "\n",
    "       c.name AS name_of_company,\n",
    "       \n",
    "       raised_amount AS amount\n",
    "FROM company AS c\\\n",
    "LEFT JOIN funding_round AS fr ON c.id = fr.company_id\\\n",
    "LEFT JOIN investment AS inv ON fr.id = inv.funding_round_id\\\n",
    "RIGHT JOIN fund AS f ON inv.fund_id = f.id\\\n",
    "WHERE c.milestones > 6 \\\n",
    "AND EXTRACT (YEAR FROM CAST (funded_at AS date)) BETWEEN '2012' AND '2013';"
   ]
  },
  {
   "cell_type": "markdown",
   "id": "6277200b",
   "metadata": {},
   "source": [
    "20. Выгрузите таблицу, в которой будут такие поля:\n",
    "название компании-покупателя;\n",
    "сумма сделки;\n",
    "название компании, которую купили;\n",
    "сумма инвестиций, вложенных в купленную компанию;\n",
    "доля, которая отображает, во сколько раз сумма покупки превысила сумму вложенных в компанию инвестиций, округлённая до ближайшего целого числа.\n",
    "Не учитывайте те сделки, в которых сумма покупки равна нулю. Если сумма инвестиций в компанию равна нулю, исключите такую компанию из таблицы. \n",
    "Отсортируйте таблицу по сумме сделки от большей к меньшей, а затем по названию купленной компании в лексикографическом порядке. Ограничьте таблицу первыми десятью записями.\n",
    "\n",
    "SELECT c.name AS acquiring_company,\n",
    "\n",
    "       ac.price_amount AS price_amount,\n",
    "       \n",
    "       co.name AS acquired_company,\n",
    "       \n",
    "       co.funding_total AS funding_total,\n",
    "       \n",
    "       ROUND (ac.price_amount/co.funding_total)\n",
    "FROM acquisition AS ac\\\n",
    "LEFT JOIN company AS c ON ac.acquiring_company_id = c.id\\\n",
    "LEFT JOIN company AS co ON ac.acquired_company_id = co.id\\\n",
    "WHERE ac.price_amount > 0\\\n",
    "AND co.funding_total > 0\\\n",
    "ORDER BY ac.price_amount DESC, acquired_company \\\n",
    "LIMIT 10;"
   ]
  },
  {
   "cell_type": "markdown",
   "id": "77ebfcf2",
   "metadata": {},
   "source": [
    "21. Выгрузите таблицу, в которую войдут названия компаний из категории social, получившие финансирование с 2010 по 2013 год включительно. Проверьте, что сумма инвестиций не равна нулю. Выведите также номер месяца, в котором проходил раунд финансирования.\n",
    "\n",
    "SELECT c.name,\n",
    "\n",
    "       EXTRACT (MONTH FROM CAST (fr.funded_at AS date))\n",
    "FROM company AS c\\\n",
    "LEFT JOIN funding_round AS fr ON fr.company_id = c.id\\\n",
    "WHERE c.category_code = 'social'\\\n",
    "AND fr.raised_amount > 0\\\n",
    "AND EXTRACT (YEAR FROM CAST (fr.funded_at AS date)) BETWEEN '2010' AND '2013';"
   ]
  },
  {
   "cell_type": "markdown",
   "id": "e59c59f7",
   "metadata": {},
   "source": [
    "22. Отберите данные по месяцам с 2010 по 2013 год, когда проходили инвестиционные раунды. Сгруппируйте данные по номеру месяца и получите таблицу, в которой будут поля:\n",
    "номер месяца, в котором проходили раунды;\n",
    "количество уникальных названий фондов из США, которые инвестировали в этом месяце;\n",
    "количество компаний, купленных за этот месяц;\n",
    "общая сумма сделок по покупкам в этом месяце.\n",
    "\n",
    "WITH\\\n",
    "i1 AS (SELECT EXTRACT (MONTH FROM CAST (fr.funded_at AS date)) AS round_month,\n",
    "              COUNT (DISTINCT f.id) AS funds\\\n",
    "       FROM fund AS f\\\n",
    "       LEFT JOIN investment AS inv ON f.id = inv.fund_id\\\n",
    "       LEFT JOIN funding_round AS fr ON inv.funding_round_id = fr.id\\\n",
    "       WHERE EXTRACT (YEAR FROM CAST (fr.funded_at AS date)) BETWEEN 2010 AND 2013\\\n",
    "       AND f.country_code = 'USA'\\\n",
    "       GROUP BY EXTRACT (MONTH FROM CAST (fr.funded_at AS date))),\n",
    " \n",
    "i2 AS (SELECT EXTRACT (MONTH FROM CAST (ac.acquired_at AS date)) AS round_month,\n",
    "              COUNT (ac.acquired_company_id) AS acquired_companies,\\\n",
    "              SUM (ac.price_amount) AS sum_price_amount\\\n",
    "       FROM acquisition AS ac\\\n",
    "       WHERE EXTRACT (YEAR FROM CAST (ac.acquired_at AS date)) BETWEEN 2010 AND 2013\\\n",
    "       GROUP BY EXTRACT (MONTH FROM CAST (ac.acquired_at AS date)))\n",
    "       \n",
    "SELECT i1.round_month,\n",
    "\n",
    "       i1.funds,\n",
    "       \n",
    "       i2.acquired_companies,\n",
    "       \n",
    "       i2.sum_price_amount\n",
    "FROM i1 JOIN i2 ON i1.round_month = i2.round_month;"
   ]
  },
  {
   "cell_type": "markdown",
   "id": "c8e4f82e",
   "metadata": {},
   "source": [
    "23. Составьте сводную таблицу и выведите среднюю сумму инвестиций для стран, в которых есть стартапы, зарегистрированные в 2011, 2012 и 2013 годах. Данные за каждый год должны быть в отдельном поле. Отсортируйте таблицу по среднему значению инвестиций за 2011 год от большего к меньшему.\n",
    "\n",
    "WITH\\\n",
    "inv_2011 AS (SELECT country_code,\\\n",
    "                    AVG (funding_total) AS avg_funding_total_2011\\\n",
    "             FROM company\\\n",
    "             WHERE EXTRACT (YEAR FROM CAST (founded_at AS date)) = 2011\\\n",
    "             GROUP BY country_code),\n",
    "             \n",
    "inv_2012 AS (SELECT country_code,\\\n",
    "                    AVG (funding_total) AS avg_funding_total_2012\\\n",
    "             FROM company\\\n",
    "             WHERE EXTRACT (YEAR FROM CAST (founded_at AS date)) = 2012\\\n",
    "             GROUP BY country_code),\n",
    "             \n",
    "inv_2013 AS (SELECT country_code,\\\n",
    "                    AVG (funding_total) AS avg_funding_total_2013\\\n",
    "             FROM company\\\n",
    "             WHERE EXTRACT (YEAR FROM CAST (founded_at AS date)) = 2013\\\n",
    "             GROUP BY country_code)\n",
    "\n",
    "SELECT inv_2011.country_code,\n",
    "\n",
    "       inv_2011.avg_funding_total_2011,\n",
    "       \n",
    "       inv_2012.avg_funding_total_2012,\n",
    "       \n",
    "       inv_2013.avg_funding_total_2013\n",
    "FROM inv_2011\\\n",
    "INNER JOIN inv_2012 ON inv_2011.country_code = inv_2012.country_code\\\n",
    "INNER JOIN inv_2013 ON inv_2012.country_code = inv_2013.country_code\\\n",
    "ORDER BY inv_2011.avg_funding_total_2011 DESC;"
   ]
  },
  {
   "cell_type": "code",
   "execution_count": null,
   "id": "9d24d762",
   "metadata": {},
   "outputs": [],
   "source": []
  }
 ],
 "metadata": {
  "kernelspec": {
   "display_name": "Python 3 (ipykernel)",
   "language": "python",
   "name": "python3"
  },
  "language_info": {
   "codemirror_mode": {
    "name": "ipython",
    "version": 3
   },
   "file_extension": ".py",
   "mimetype": "text/x-python",
   "name": "python",
   "nbconvert_exporter": "python",
   "pygments_lexer": "ipython3",
   "version": "3.11.4"
  }
 },
 "nbformat": 4,
 "nbformat_minor": 5
}
