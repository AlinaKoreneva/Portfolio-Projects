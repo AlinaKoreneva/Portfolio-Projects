{
 "cells": [
  {
   "cell_type": "markdown",
   "id": "8913f0ff",
   "metadata": {},
   "source": [
    "# Исследование опроса клиентов телекомунникацонной компании"
   ]
  },
  {
   "cell_type": "code",
   "execution_count": 1,
   "id": "fc7efa54",
   "metadata": {},
   "outputs": [],
   "source": [
    "import os\n",
    "import pandas as pd\n",
    "import numpy as np\n",
    "\n",
    "from sqlalchemy import create_engine"
   ]
  },
  {
   "cell_type": "code",
   "execution_count": 2,
   "id": "0017f8e7",
   "metadata": {},
   "outputs": [],
   "source": [
    "path_to_db_local = 'telecomm_csi.db'\n",
    "path_to_db_platform = '/datasets/telecomm_csi.db'\n",
    "path_to_db = None\n",
    "\n",
    "if os.path.exists(path_to_db_local):\n",
    "    path_to_db = path_to_db_local\n",
    "elif os.path.exists(path_to_db_platform):\n",
    "    path_to_db = path_to_db_platform\n",
    "else:\n",
    "    raise Exception('Файл с базой данных SQLite не найден!')\n",
    "\n",
    "if path_to_db:\n",
    "    engine = create_engine(f'sqlite:///{path_to_db}', echo=False)"
   ]
  },
  {
   "cell_type": "code",
   "execution_count": 3,
   "id": "84ebad43",
   "metadata": {},
   "outputs": [],
   "source": [
    "query = \"\"\"\n",
    "SELECT u.user_id,\n",
    "       u.lt_day,\n",
    "       CAST (CASE\n",
    "                 WHEN u.lt_day <= 365 THEN 1\n",
    "                 WHEN u.lt_day > 365 THEN 0\n",
    "             END AS boolean) AS is_new,\n",
    "       u.age,\n",
    "       CASE\n",
    "           WHEN u.gender_segment IS NOT NULL AND u.gender_segment = 1 THEN 'женщина'\n",
    "           WHEN u.gender_segment IS NOT NULL AND u.gender_segment = 0 THEN 'мужчина'\n",
    "       END AS gender_segment,\n",
    "       u.os_name,\n",
    "       u.cpe_type_name,\n",
    "       u.nps_score,\n",
    "       l.country,\n",
    "       l.city,\n",
    "       ags.title AS age_segment,\n",
    "       ts.title AS traffic_segment,\n",
    "       lts.title AS lifetime_segment,\n",
    "       CASE\n",
    "           WHEN u.nps_score = 10 OR u.nps_score = 9 THEN \"cторонники\"\n",
    "           WHEN u.nps_score = 8 OR u.nps_score = 7 THEN \"нейтралы\"\n",
    "           WHEN u.nps_score < 7 THEN \"критики\"\n",
    "       END AS nps_group\n",
    "FROM user AS u\n",
    "LEFT JOIN location AS l ON u.location_id = l.location_id\n",
    "LEFT JOIN age_segment AS ags ON u.age_gr_id = ags.age_gr_id\n",
    "LEFT JOIN traffic_segment AS ts ON u.tr_gr_id = ts.tr_gr_id\n",
    "LEFT JOIN lifetime_segment AS lts ON u.lt_gr_id = lts.lt_gr_id;\n",
    "\"\"\""
   ]
  },
  {
   "cell_type": "code",
   "execution_count": 4,
   "id": "3965faf2",
   "metadata": {},
   "outputs": [
    {
     "data": {
      "text/html": [
       "<div>\n",
       "<style scoped>\n",
       "    .dataframe tbody tr th:only-of-type {\n",
       "        vertical-align: middle;\n",
       "    }\n",
       "\n",
       "    .dataframe tbody tr th {\n",
       "        vertical-align: top;\n",
       "    }\n",
       "\n",
       "    .dataframe thead th {\n",
       "        text-align: right;\n",
       "    }\n",
       "</style>\n",
       "<table border=\"1\" class=\"dataframe\">\n",
       "  <thead>\n",
       "    <tr style=\"text-align: right;\">\n",
       "      <th></th>\n",
       "      <th>user_id</th>\n",
       "      <th>lt_day</th>\n",
       "      <th>is_new</th>\n",
       "      <th>age</th>\n",
       "      <th>gender_segment</th>\n",
       "      <th>os_name</th>\n",
       "      <th>cpe_type_name</th>\n",
       "      <th>nps_score</th>\n",
       "      <th>country</th>\n",
       "      <th>city</th>\n",
       "      <th>age_segment</th>\n",
       "      <th>traffic_segment</th>\n",
       "      <th>lifetime_segment</th>\n",
       "      <th>nps_group</th>\n",
       "    </tr>\n",
       "  </thead>\n",
       "  <tbody>\n",
       "    <tr>\n",
       "      <th>0</th>\n",
       "      <td>A001A2</td>\n",
       "      <td>2320</td>\n",
       "      <td>0</td>\n",
       "      <td>45.0</td>\n",
       "      <td>женщина</td>\n",
       "      <td>ANDROID</td>\n",
       "      <td>SMARTPHONE</td>\n",
       "      <td>10</td>\n",
       "      <td>Россия</td>\n",
       "      <td>Уфа</td>\n",
       "      <td>05 45-54</td>\n",
       "      <td>04 1-5</td>\n",
       "      <td>08 36+</td>\n",
       "      <td>cторонники</td>\n",
       "    </tr>\n",
       "    <tr>\n",
       "      <th>1</th>\n",
       "      <td>A001WF</td>\n",
       "      <td>2344</td>\n",
       "      <td>0</td>\n",
       "      <td>53.0</td>\n",
       "      <td>мужчина</td>\n",
       "      <td>ANDROID</td>\n",
       "      <td>SMARTPHONE</td>\n",
       "      <td>10</td>\n",
       "      <td>Россия</td>\n",
       "      <td>Киров</td>\n",
       "      <td>05 45-54</td>\n",
       "      <td>04 1-5</td>\n",
       "      <td>08 36+</td>\n",
       "      <td>cторонники</td>\n",
       "    </tr>\n",
       "    <tr>\n",
       "      <th>2</th>\n",
       "      <td>A003Q7</td>\n",
       "      <td>467</td>\n",
       "      <td>0</td>\n",
       "      <td>57.0</td>\n",
       "      <td>мужчина</td>\n",
       "      <td>ANDROID</td>\n",
       "      <td>SMARTPHONE</td>\n",
       "      <td>10</td>\n",
       "      <td>Россия</td>\n",
       "      <td>Москва</td>\n",
       "      <td>06 55-64</td>\n",
       "      <td>08 20-25</td>\n",
       "      <td>06 13-24</td>\n",
       "      <td>cторонники</td>\n",
       "    </tr>\n",
       "    <tr>\n",
       "      <th>3</th>\n",
       "      <td>A004TB</td>\n",
       "      <td>4190</td>\n",
       "      <td>0</td>\n",
       "      <td>44.0</td>\n",
       "      <td>женщина</td>\n",
       "      <td>IOS</td>\n",
       "      <td>SMARTPHONE</td>\n",
       "      <td>10</td>\n",
       "      <td>Россия</td>\n",
       "      <td>РостовнаДону</td>\n",
       "      <td>04 35-44</td>\n",
       "      <td>03 0.1-1</td>\n",
       "      <td>08 36+</td>\n",
       "      <td>cторонники</td>\n",
       "    </tr>\n",
       "    <tr>\n",
       "      <th>4</th>\n",
       "      <td>A004XT</td>\n",
       "      <td>1163</td>\n",
       "      <td>0</td>\n",
       "      <td>24.0</td>\n",
       "      <td>мужчина</td>\n",
       "      <td>ANDROID</td>\n",
       "      <td>SMARTPHONE</td>\n",
       "      <td>10</td>\n",
       "      <td>Россия</td>\n",
       "      <td>Рязань</td>\n",
       "      <td>02 16-24</td>\n",
       "      <td>05 5-10</td>\n",
       "      <td>08 36+</td>\n",
       "      <td>cторонники</td>\n",
       "    </tr>\n",
       "    <tr>\n",
       "      <th>5</th>\n",
       "      <td>A005O0</td>\n",
       "      <td>5501</td>\n",
       "      <td>0</td>\n",
       "      <td>42.0</td>\n",
       "      <td>женщина</td>\n",
       "      <td>ANDROID</td>\n",
       "      <td>SMARTPHONE</td>\n",
       "      <td>6</td>\n",
       "      <td>Россия</td>\n",
       "      <td>Омск</td>\n",
       "      <td>04 35-44</td>\n",
       "      <td>05 5-10</td>\n",
       "      <td>08 36+</td>\n",
       "      <td>критики</td>\n",
       "    </tr>\n",
       "    <tr>\n",
       "      <th>6</th>\n",
       "      <td>A0061R</td>\n",
       "      <td>1236</td>\n",
       "      <td>0</td>\n",
       "      <td>45.0</td>\n",
       "      <td>мужчина</td>\n",
       "      <td>ANDROID</td>\n",
       "      <td>SMARTPHONE</td>\n",
       "      <td>10</td>\n",
       "      <td>Россия</td>\n",
       "      <td>Уфа</td>\n",
       "      <td>05 45-54</td>\n",
       "      <td>06 10-15</td>\n",
       "      <td>08 36+</td>\n",
       "      <td>cторонники</td>\n",
       "    </tr>\n",
       "    <tr>\n",
       "      <th>7</th>\n",
       "      <td>A009KS</td>\n",
       "      <td>313</td>\n",
       "      <td>1</td>\n",
       "      <td>35.0</td>\n",
       "      <td>мужчина</td>\n",
       "      <td>ANDROID</td>\n",
       "      <td>SMARTPHONE</td>\n",
       "      <td>10</td>\n",
       "      <td>Россия</td>\n",
       "      <td>Москва</td>\n",
       "      <td>04 35-44</td>\n",
       "      <td>13 45-50</td>\n",
       "      <td>05 7-12</td>\n",
       "      <td>cторонники</td>\n",
       "    </tr>\n",
       "    <tr>\n",
       "      <th>8</th>\n",
       "      <td>A00AES</td>\n",
       "      <td>3238</td>\n",
       "      <td>0</td>\n",
       "      <td>36.0</td>\n",
       "      <td>женщина</td>\n",
       "      <td>ANDROID</td>\n",
       "      <td>SMARTPHONE</td>\n",
       "      <td>10</td>\n",
       "      <td>Россия</td>\n",
       "      <td>СанктПетербург</td>\n",
       "      <td>04 35-44</td>\n",
       "      <td>04 1-5</td>\n",
       "      <td>08 36+</td>\n",
       "      <td>cторонники</td>\n",
       "    </tr>\n",
       "    <tr>\n",
       "      <th>9</th>\n",
       "      <td>A00F70</td>\n",
       "      <td>4479</td>\n",
       "      <td>0</td>\n",
       "      <td>54.0</td>\n",
       "      <td>женщина</td>\n",
       "      <td>ANDROID</td>\n",
       "      <td>SMARTPHONE</td>\n",
       "      <td>9</td>\n",
       "      <td>Россия</td>\n",
       "      <td>Волгоград</td>\n",
       "      <td>05 45-54</td>\n",
       "      <td>07 15-20</td>\n",
       "      <td>08 36+</td>\n",
       "      <td>cторонники</td>\n",
       "    </tr>\n",
       "  </tbody>\n",
       "</table>\n",
       "</div>"
      ],
      "text/plain": [
       "  user_id  lt_day  is_new   age gender_segment  os_name cpe_type_name  \\\n",
       "0  A001A2    2320       0  45.0        женщина  ANDROID    SMARTPHONE   \n",
       "1  A001WF    2344       0  53.0        мужчина  ANDROID    SMARTPHONE   \n",
       "2  A003Q7     467       0  57.0        мужчина  ANDROID    SMARTPHONE   \n",
       "3  A004TB    4190       0  44.0        женщина      IOS    SMARTPHONE   \n",
       "4  A004XT    1163       0  24.0        мужчина  ANDROID    SMARTPHONE   \n",
       "5  A005O0    5501       0  42.0        женщина  ANDROID    SMARTPHONE   \n",
       "6  A0061R    1236       0  45.0        мужчина  ANDROID    SMARTPHONE   \n",
       "7  A009KS     313       1  35.0        мужчина  ANDROID    SMARTPHONE   \n",
       "8  A00AES    3238       0  36.0        женщина  ANDROID    SMARTPHONE   \n",
       "9  A00F70    4479       0  54.0        женщина  ANDROID    SMARTPHONE   \n",
       "\n",
       "   nps_score country            city age_segment traffic_segment  \\\n",
       "0         10  Россия             Уфа    05 45-54          04 1-5   \n",
       "1         10  Россия           Киров    05 45-54          04 1-5   \n",
       "2         10  Россия          Москва    06 55-64        08 20-25   \n",
       "3         10  Россия    РостовнаДону    04 35-44        03 0.1-1   \n",
       "4         10  Россия          Рязань    02 16-24         05 5-10   \n",
       "5          6  Россия            Омск    04 35-44         05 5-10   \n",
       "6         10  Россия             Уфа    05 45-54        06 10-15   \n",
       "7         10  Россия          Москва    04 35-44        13 45-50   \n",
       "8         10  Россия  СанктПетербург    04 35-44          04 1-5   \n",
       "9          9  Россия       Волгоград    05 45-54        07 15-20   \n",
       "\n",
       "  lifetime_segment   nps_group  \n",
       "0           08 36+  cторонники  \n",
       "1           08 36+  cторонники  \n",
       "2         06 13-24  cторонники  \n",
       "3           08 36+  cторонники  \n",
       "4           08 36+  cторонники  \n",
       "5           08 36+     критики  \n",
       "6           08 36+  cторонники  \n",
       "7          05 7-12  cторонники  \n",
       "8           08 36+  cторонники  \n",
       "9           08 36+  cторонники  "
      ]
     },
     "execution_count": 4,
     "metadata": {},
     "output_type": "execute_result"
    }
   ],
   "source": [
    "df = pd.read_sql(query, engine)\n",
    "df.head(10)"
   ]
  },
  {
   "cell_type": "code",
   "execution_count": 5,
   "id": "9db04858",
   "metadata": {},
   "outputs": [],
   "source": [
    "df.to_csv('telecomm_csi_tableau.csv', index=False)"
   ]
  },
  {
   "cell_type": "markdown",
   "id": "4b82cf16",
   "metadata": {},
   "source": [
    "<div class=\"alert alert-info\">  \n",
    "    \n",
    "[Презентация](https://disk.yandex.ru/d/yX4Vvv4XB6XL3A)\n",
    "    \n",
    "[Дашборд](https://public.tableau.com/shared/CH5Y6PS9Q?:display_count=n&:origin=viz_share_link)\n",
    "</div>"
   ]
  }
 ],
 "metadata": {
  "ExecuteTimeLog": [
   {
    "duration": 585,
    "start_time": "2024-02-22T10:11:23.253Z"
   },
   {
    "duration": 92,
    "start_time": "2024-02-22T10:11:23.840Z"
   },
   {
    "duration": 3,
    "start_time": "2024-02-22T10:11:23.933Z"
   },
   {
    "duration": 474,
    "start_time": "2024-02-22T10:11:23.937Z"
   },
   {
    "duration": 0,
    "start_time": "2024-02-22T10:11:24.412Z"
   },
   {
    "duration": 102,
    "start_time": "2024-02-22T10:13:43.217Z"
   },
   {
    "duration": 2,
    "start_time": "2024-02-22T10:14:17.753Z"
   },
   {
    "duration": 3688,
    "start_time": "2024-02-22T10:14:19.150Z"
   },
   {
    "duration": 3021,
    "start_time": "2024-02-22T10:14:22.840Z"
   },
   {
    "duration": 561,
    "start_time": "2024-02-22T10:14:29.688Z"
   },
   {
    "duration": 74,
    "start_time": "2024-02-22T10:14:30.251Z"
   },
   {
    "duration": 3,
    "start_time": "2024-02-22T10:14:30.326Z"
   },
   {
    "duration": 3695,
    "start_time": "2024-02-22T10:14:30.330Z"
   },
   {
    "duration": 3051,
    "start_time": "2024-02-22T10:14:34.027Z"
   },
   {
    "duration": 2,
    "start_time": "2024-02-22T10:25:23.904Z"
   },
   {
    "duration": 476,
    "start_time": "2024-02-22T10:25:25.843Z"
   },
   {
    "duration": 508,
    "start_time": "2024-02-22T10:25:59.100Z"
   },
   {
    "duration": 75,
    "start_time": "2024-02-22T10:25:59.610Z"
   },
   {
    "duration": 3,
    "start_time": "2024-02-22T10:25:59.687Z"
   },
   {
    "duration": 450,
    "start_time": "2024-02-22T10:25:59.691Z"
   },
   {
    "duration": 0,
    "start_time": "2024-02-22T10:26:00.143Z"
   },
   {
    "duration": 2,
    "start_time": "2024-02-22T10:26:57.379Z"
   },
   {
    "duration": 423,
    "start_time": "2024-02-22T10:26:58.302Z"
   },
   {
    "duration": 3,
    "start_time": "2024-02-22T10:27:39.126Z"
   },
   {
    "duration": 415,
    "start_time": "2024-02-22T10:27:39.622Z"
   },
   {
    "duration": 3,
    "start_time": "2024-02-22T10:28:00.133Z"
   },
   {
    "duration": 412,
    "start_time": "2024-02-22T10:28:00.692Z"
   },
   {
    "duration": 3,
    "start_time": "2024-02-22T10:29:33.604Z"
   },
   {
    "duration": 3754,
    "start_time": "2024-02-22T10:29:34.241Z"
   },
   {
    "duration": 2,
    "start_time": "2024-02-22T10:38:25.237Z"
   },
   {
    "duration": 399,
    "start_time": "2024-02-22T10:38:25.947Z"
   },
   {
    "duration": 3,
    "start_time": "2024-02-22T10:41:30.608Z"
   },
   {
    "duration": 715,
    "start_time": "2024-02-22T10:41:31.543Z"
   },
   {
    "duration": 3,
    "start_time": "2024-02-22T10:43:48.423Z"
   },
   {
    "duration": 676,
    "start_time": "2024-02-22T10:43:52.573Z"
   },
   {
    "duration": 3,
    "start_time": "2024-02-22T10:47:34.059Z"
   },
   {
    "duration": 665,
    "start_time": "2024-02-22T10:47:34.521Z"
   },
   {
    "duration": 3,
    "start_time": "2024-02-22T10:47:57.299Z"
   },
   {
    "duration": 656,
    "start_time": "2024-02-22T10:47:57.970Z"
   },
   {
    "duration": 504,
    "start_time": "2024-02-22T10:48:54.027Z"
   },
   {
    "duration": 127,
    "start_time": "2024-02-22T10:48:54.534Z"
   },
   {
    "duration": 3,
    "start_time": "2024-02-22T10:48:54.663Z"
   },
   {
    "duration": 738,
    "start_time": "2024-02-22T10:48:54.669Z"
   },
   {
    "duration": 0,
    "start_time": "2024-02-22T10:48:55.408Z"
   },
   {
    "duration": 676,
    "start_time": "2024-02-22T10:49:01.720Z"
   },
   {
    "duration": 3,
    "start_time": "2024-02-22T10:49:20.048Z"
   },
   {
    "duration": 677,
    "start_time": "2024-02-22T10:49:20.856Z"
   },
   {
    "duration": 3,
    "start_time": "2024-02-22T10:51:02.359Z"
   },
   {
    "duration": 682,
    "start_time": "2024-02-22T10:51:03.060Z"
   },
   {
    "duration": 3,
    "start_time": "2024-02-22T10:51:19.115Z"
   },
   {
    "duration": 685,
    "start_time": "2024-02-22T10:51:20.094Z"
   },
   {
    "duration": 557,
    "start_time": "2024-02-22T10:53:34.046Z"
   },
   {
    "duration": 82,
    "start_time": "2024-02-22T10:53:34.605Z"
   },
   {
    "duration": 3,
    "start_time": "2024-02-22T10:53:34.689Z"
   },
   {
    "duration": 729,
    "start_time": "2024-02-22T10:53:34.695Z"
   },
   {
    "duration": 0,
    "start_time": "2024-02-22T10:53:35.426Z"
   },
   {
    "duration": 3,
    "start_time": "2024-02-22T10:55:49.670Z"
   },
   {
    "duration": 4651,
    "start_time": "2024-02-22T10:55:50.034Z"
   },
   {
    "duration": 3,
    "start_time": "2024-02-22T10:56:15.000Z"
   },
   {
    "duration": 4503,
    "start_time": "2024-02-22T10:56:15.476Z"
   },
   {
    "duration": 3,
    "start_time": "2024-02-22T11:03:16.501Z"
   },
   {
    "duration": 704,
    "start_time": "2024-02-22T11:03:17.108Z"
   },
   {
    "duration": 2,
    "start_time": "2024-02-22T11:03:50.259Z"
   },
   {
    "duration": 715,
    "start_time": "2024-02-22T11:03:50.771Z"
   },
   {
    "duration": 3,
    "start_time": "2024-02-22T11:04:03.871Z"
   },
   {
    "duration": 4784,
    "start_time": "2024-02-22T11:04:04.326Z"
   },
   {
    "duration": 3,
    "start_time": "2024-02-22T11:09:44.084Z"
   },
   {
    "duration": 5097,
    "start_time": "2024-02-22T11:09:44.940Z"
   },
   {
    "duration": 5527,
    "start_time": "2024-02-22T11:10:16.627Z"
   },
   {
    "duration": 510,
    "start_time": "2024-02-22T11:10:26.097Z"
   },
   {
    "duration": 80,
    "start_time": "2024-02-22T11:10:26.609Z"
   },
   {
    "duration": 3,
    "start_time": "2024-02-22T11:10:26.690Z"
   },
   {
    "duration": 5342,
    "start_time": "2024-02-22T11:10:26.695Z"
   },
   {
    "duration": 4763,
    "start_time": "2024-02-22T11:10:32.039Z"
   },
   {
    "duration": 3,
    "start_time": "2024-02-22T11:20:24.763Z"
   },
   {
    "duration": 503,
    "start_time": "2024-02-22T11:20:28.220Z"
   },
   {
    "duration": 3,
    "start_time": "2024-02-22T11:20:41.367Z"
   },
   {
    "duration": 407,
    "start_time": "2024-02-22T11:20:41.892Z"
   },
   {
    "duration": 3,
    "start_time": "2024-02-22T11:20:57.656Z"
   },
   {
    "duration": 432,
    "start_time": "2024-02-22T11:20:58.580Z"
   },
   {
    "duration": 3,
    "start_time": "2024-02-22T11:21:30.183Z"
   },
   {
    "duration": 700,
    "start_time": "2024-02-22T11:21:30.777Z"
   },
   {
    "duration": 3,
    "start_time": "2024-02-22T11:23:21.647Z"
   },
   {
    "duration": 407,
    "start_time": "2024-02-22T11:23:22.293Z"
   },
   {
    "duration": 3,
    "start_time": "2024-02-22T11:23:38.645Z"
   },
   {
    "duration": 407,
    "start_time": "2024-02-22T11:23:39.221Z"
   },
   {
    "duration": 3,
    "start_time": "2024-02-22T11:26:29.018Z"
   },
   {
    "duration": 446,
    "start_time": "2024-02-22T11:26:29.590Z"
   },
   {
    "duration": 3,
    "start_time": "2024-02-22T11:27:51.175Z"
   },
   {
    "duration": 5141,
    "start_time": "2024-02-22T11:27:51.879Z"
   },
   {
    "duration": 540,
    "start_time": "2024-02-22T11:28:13.113Z"
   },
   {
    "duration": 76,
    "start_time": "2024-02-22T11:28:13.655Z"
   },
   {
    "duration": 3,
    "start_time": "2024-02-22T11:28:13.733Z"
   },
   {
    "duration": 5476,
    "start_time": "2024-02-22T11:28:13.738Z"
   },
   {
    "duration": 5447,
    "start_time": "2024-02-22T11:28:19.217Z"
   },
   {
    "duration": 9,
    "start_time": "2024-02-23T11:15:51.163Z"
   },
   {
    "duration": 47,
    "start_time": "2024-02-23T11:15:52.605Z"
   },
   {
    "duration": 569,
    "start_time": "2024-02-23T11:16:01.769Z"
   },
   {
    "duration": 90,
    "start_time": "2024-02-23T11:16:02.340Z"
   },
   {
    "duration": 3,
    "start_time": "2024-02-23T11:16:02.432Z"
   },
   {
    "duration": 5800,
    "start_time": "2024-02-23T11:16:02.437Z"
   },
   {
    "duration": 5475,
    "start_time": "2024-02-23T11:16:08.239Z"
   },
   {
    "duration": 542,
    "start_time": "2024-02-23T17:01:10.752Z"
   },
   {
    "duration": 87,
    "start_time": "2024-02-23T17:01:11.296Z"
   },
   {
    "duration": 3,
    "start_time": "2024-02-23T17:01:11.387Z"
   },
   {
    "duration": 5737,
    "start_time": "2024-02-23T17:01:11.392Z"
   },
   {
    "duration": 4701,
    "start_time": "2024-02-23T17:01:17.131Z"
   },
   {
    "duration": 491,
    "start_time": "2024-02-23T17:02:54.042Z"
   },
   {
    "duration": 82,
    "start_time": "2024-02-23T17:02:54.535Z"
   },
   {
    "duration": 4,
    "start_time": "2024-02-23T17:02:54.618Z"
   },
   {
    "duration": 5476,
    "start_time": "2024-02-23T17:02:54.623Z"
   },
   {
    "duration": 4709,
    "start_time": "2024-02-23T17:03:00.102Z"
   },
   {
    "duration": 542,
    "start_time": "2024-03-13T11:53:48.503Z"
   },
   {
    "duration": 76,
    "start_time": "2024-03-13T11:53:49.047Z"
   },
   {
    "duration": 3,
    "start_time": "2024-03-13T11:53:49.125Z"
   },
   {
    "duration": 5689,
    "start_time": "2024-03-13T11:53:49.130Z"
   },
   {
    "duration": 4249,
    "start_time": "2024-03-13T11:53:54.821Z"
   }
  ],
  "kernelspec": {
   "display_name": "Python 3 (ipykernel)",
   "language": "python",
   "name": "python3"
  },
  "language_info": {
   "codemirror_mode": {
    "name": "ipython",
    "version": 3
   },
   "file_extension": ".py",
   "mimetype": "text/x-python",
   "name": "python",
   "nbconvert_exporter": "python",
   "pygments_lexer": "ipython3",
   "version": "3.9.5"
  },
  "toc": {
   "base_numbering": 1,
   "nav_menu": {},
   "number_sections": true,
   "sideBar": true,
   "skip_h1_title": true,
   "title_cell": "Table of Contents",
   "title_sidebar": "Contents",
   "toc_cell": false,
   "toc_position": {},
   "toc_section_display": true,
   "toc_window_display": false
  }
 },
 "nbformat": 4,
 "nbformat_minor": 5
}
