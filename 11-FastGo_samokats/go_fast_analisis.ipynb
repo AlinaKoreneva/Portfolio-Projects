{
 "cells": [
  {
   "cell_type": "markdown",
   "id": "11d903fb",
   "metadata": {},
   "source": [
    "____"
   ]
  },
  {
   "cell_type": "markdown",
   "id": "0d249213",
   "metadata": {},
   "source": [
    "# Проект: Статистический анализ данных GoFast"
   ]
  },
  {
   "cell_type": "markdown",
   "id": "f36e0c28",
   "metadata": {},
   "source": [
    "_____"
   ]
  },
  {
   "cell_type": "markdown",
   "id": "a6d42667",
   "metadata": {},
   "source": [
    "**Название проекта:**\n",
    "\n",
    "Статистический анализ данных сервиса аренды самокатов GoFast\n",
    "_____\n",
    "**Цель исследования:**\n",
    "\n",
    "Провести предварительный анализ использования тарифов на выборке клиентов сервиса самокатов.\n",
    "_____\n",
    "**Задачи исследования:**\n",
    "\n",
    "1. Проанализировать поведение клиентов при использовании услуг. \n",
    "2. Проверить статистические гипотезы на основе имеющихся данных.\n",
    "_____\n",
    "**Исходные данные:**\n",
    "    \n",
    "В качестве материала для анализа были получены 3 файла .csv с информацией о пользователях, их поездках и подписках.\n",
    "______\n",
    "\n",
    "**Работа над данным проектом была разделена на 7 шагов:**\n",
    "\n",
    "1) [Изучение общей информации](#start)\n",
    "\n",
    "2) [Предобработка данных](#prework)\n",
    "- [2.1 Типы данных](#prework1)\n",
    "- [2.2 Дибликаты в данных](#prework2)\n",
    "- [2.3 Создание нового столбца](#prework3)\n",
    "- [2.4 Временной период](#prework4)\n",
    "\n",
    "3) [Исследовательский анализ данных](#research)\n",
    "- [3.1 Частота встречаемости городов](#research1)\n",
    "- [3.2 Соотношение пользователей с подпиской и без подписки](#research2)\n",
    "- [3.3 Возраст пользователей](#research3)\n",
    "- [3.4 Расстояние, которое пользователь преодолел за одну поездку](#research4)\n",
    "- [3.5 Продолжительность поездок](#research5)\n",
    "\n",
    "4) [Объединение данных](#merge)\n",
    "- [4.1 Объединение датасетов](#merge1)\n",
    "- [4.2 Создание датасетов пользователей \"с подпиской\" и \"без подписки\"](#merge2)\n",
    "- [4.3 Визуализация информации о времени и расстоянии поездок для пользователей обеих категорий](#merge3)\n",
    "\n",
    "5) [Подсчёт выручки](#revenue)\n",
    "\n",
    "6) [Проверка гипотез](#yesno)\n",
    "- [6.1 Проверка \"времени\"](#yesno1)\n",
    "- [6.2 Проверка \"расстояния\"](#yesno2)\n",
    "- [6.3 Проверка \"выручки\"](#yesno3)\n",
    "- [6.4 Проверка \"изменения\"](#yesno4)\n",
    "\n",
    "7) [Распределения](#distr)\n",
    "- 7.1\n",
    "- 7.2\n",
    "\n",
    "8) [Вывод](#end)\n",
    "\n",
    "9) [Рекомендации](#endless)\n",
    "_________________\n",
    "\n",
    "\n",
    "</div>"
   ]
  },
  {
   "cell_type": "code",
   "execution_count": 1,
   "id": "b9850583",
   "metadata": {},
   "outputs": [],
   "source": [
    "# Импорт библиотек\n",
    "import pandas as pd\n",
    "import numpy as np\n",
    "from scipy import stats as st\n",
    "from matplotlib import pyplot as plt\n",
    "import seaborn as sns\n",
    "import plotly.express as px\n",
    "from plotly import graph_objects as go\n",
    "import warnings\n",
    "warnings.filterwarnings('ignore')\n",
    "#pd.set_option('display.max_rows', None)"
   ]
  },
  {
   "cell_type": "markdown",
   "id": "2a36ec4c",
   "metadata": {},
   "source": [
    "____\n",
    "<a id=\"start\"></a>\n",
    "## Изучение общей информации\n",
    "\n",
    "____"
   ]
  },
  {
   "cell_type": "code",
   "execution_count": 2,
   "id": "d6d68483",
   "metadata": {},
   "outputs": [],
   "source": [
    "users, rides, subscriptions = (\n",
    "    pd.read_csv ('/datasets/users_go.csv'),\n",
    "    pd.read_csv ('/datasets/rides_go.csv'),\n",
    "    pd.read_csv ('/datasets/subscriptions_go.csv')\n",
    ")"
   ]
  },
  {
   "cell_type": "code",
   "execution_count": 3,
   "id": "92399806",
   "metadata": {},
   "outputs": [
    {
     "data": {
      "text/html": [
       "<div>\n",
       "<style scoped>\n",
       "    .dataframe tbody tr th:only-of-type {\n",
       "        vertical-align: middle;\n",
       "    }\n",
       "\n",
       "    .dataframe tbody tr th {\n",
       "        vertical-align: top;\n",
       "    }\n",
       "\n",
       "    .dataframe thead th {\n",
       "        text-align: right;\n",
       "    }\n",
       "</style>\n",
       "<table border=\"1\" class=\"dataframe\">\n",
       "  <thead>\n",
       "    <tr style=\"text-align: right;\">\n",
       "      <th></th>\n",
       "      <th>user_id</th>\n",
       "      <th>name</th>\n",
       "      <th>age</th>\n",
       "      <th>city</th>\n",
       "      <th>subscription_type</th>\n",
       "    </tr>\n",
       "  </thead>\n",
       "  <tbody>\n",
       "    <tr>\n",
       "      <th>0</th>\n",
       "      <td>1</td>\n",
       "      <td>Кира</td>\n",
       "      <td>22</td>\n",
       "      <td>Тюмень</td>\n",
       "      <td>ultra</td>\n",
       "    </tr>\n",
       "    <tr>\n",
       "      <th>1</th>\n",
       "      <td>2</td>\n",
       "      <td>Станислав</td>\n",
       "      <td>31</td>\n",
       "      <td>Омск</td>\n",
       "      <td>ultra</td>\n",
       "    </tr>\n",
       "    <tr>\n",
       "      <th>2</th>\n",
       "      <td>3</td>\n",
       "      <td>Алексей</td>\n",
       "      <td>20</td>\n",
       "      <td>Москва</td>\n",
       "      <td>ultra</td>\n",
       "    </tr>\n",
       "    <tr>\n",
       "      <th>3</th>\n",
       "      <td>4</td>\n",
       "      <td>Константин</td>\n",
       "      <td>26</td>\n",
       "      <td>Ростов-на-Дону</td>\n",
       "      <td>ultra</td>\n",
       "    </tr>\n",
       "    <tr>\n",
       "      <th>4</th>\n",
       "      <td>5</td>\n",
       "      <td>Адель</td>\n",
       "      <td>28</td>\n",
       "      <td>Омск</td>\n",
       "      <td>ultra</td>\n",
       "    </tr>\n",
       "  </tbody>\n",
       "</table>\n",
       "</div>"
      ],
      "text/plain": [
       "   user_id        name  age            city subscription_type\n",
       "0        1        Кира   22          Тюмень             ultra\n",
       "1        2   Станислав   31            Омск             ultra\n",
       "2        3     Алексей   20          Москва             ultra\n",
       "3        4  Константин   26  Ростов-на-Дону             ultra\n",
       "4        5       Адель   28            Омск             ultra"
      ]
     },
     "metadata": {},
     "output_type": "display_data"
    },
    {
     "data": {
      "text/html": [
       "<div>\n",
       "<style scoped>\n",
       "    .dataframe tbody tr th:only-of-type {\n",
       "        vertical-align: middle;\n",
       "    }\n",
       "\n",
       "    .dataframe tbody tr th {\n",
       "        vertical-align: top;\n",
       "    }\n",
       "\n",
       "    .dataframe thead th {\n",
       "        text-align: right;\n",
       "    }\n",
       "</style>\n",
       "<table border=\"1\" class=\"dataframe\">\n",
       "  <thead>\n",
       "    <tr style=\"text-align: right;\">\n",
       "      <th></th>\n",
       "      <th>user_id</th>\n",
       "      <th>distance</th>\n",
       "      <th>duration</th>\n",
       "      <th>date</th>\n",
       "    </tr>\n",
       "  </thead>\n",
       "  <tbody>\n",
       "    <tr>\n",
       "      <th>0</th>\n",
       "      <td>1</td>\n",
       "      <td>4409.919140</td>\n",
       "      <td>25.599769</td>\n",
       "      <td>2021-01-01</td>\n",
       "    </tr>\n",
       "    <tr>\n",
       "      <th>1</th>\n",
       "      <td>1</td>\n",
       "      <td>2617.592153</td>\n",
       "      <td>15.816871</td>\n",
       "      <td>2021-01-18</td>\n",
       "    </tr>\n",
       "    <tr>\n",
       "      <th>2</th>\n",
       "      <td>1</td>\n",
       "      <td>754.159807</td>\n",
       "      <td>6.232113</td>\n",
       "      <td>2021-04-20</td>\n",
       "    </tr>\n",
       "    <tr>\n",
       "      <th>3</th>\n",
       "      <td>1</td>\n",
       "      <td>2694.783254</td>\n",
       "      <td>18.511000</td>\n",
       "      <td>2021-08-11</td>\n",
       "    </tr>\n",
       "    <tr>\n",
       "      <th>4</th>\n",
       "      <td>1</td>\n",
       "      <td>4028.687306</td>\n",
       "      <td>26.265803</td>\n",
       "      <td>2021-08-28</td>\n",
       "    </tr>\n",
       "  </tbody>\n",
       "</table>\n",
       "</div>"
      ],
      "text/plain": [
       "   user_id     distance   duration        date\n",
       "0        1  4409.919140  25.599769  2021-01-01\n",
       "1        1  2617.592153  15.816871  2021-01-18\n",
       "2        1   754.159807   6.232113  2021-04-20\n",
       "3        1  2694.783254  18.511000  2021-08-11\n",
       "4        1  4028.687306  26.265803  2021-08-28"
      ]
     },
     "metadata": {},
     "output_type": "display_data"
    },
    {
     "data": {
      "text/html": [
       "<div>\n",
       "<style scoped>\n",
       "    .dataframe tbody tr th:only-of-type {\n",
       "        vertical-align: middle;\n",
       "    }\n",
       "\n",
       "    .dataframe tbody tr th {\n",
       "        vertical-align: top;\n",
       "    }\n",
       "\n",
       "    .dataframe thead th {\n",
       "        text-align: right;\n",
       "    }\n",
       "</style>\n",
       "<table border=\"1\" class=\"dataframe\">\n",
       "  <thead>\n",
       "    <tr style=\"text-align: right;\">\n",
       "      <th></th>\n",
       "      <th>subscription_type</th>\n",
       "      <th>minute_price</th>\n",
       "      <th>start_ride_price</th>\n",
       "      <th>subscription_fee</th>\n",
       "    </tr>\n",
       "  </thead>\n",
       "  <tbody>\n",
       "    <tr>\n",
       "      <th>0</th>\n",
       "      <td>free</td>\n",
       "      <td>8</td>\n",
       "      <td>50</td>\n",
       "      <td>0</td>\n",
       "    </tr>\n",
       "    <tr>\n",
       "      <th>1</th>\n",
       "      <td>ultra</td>\n",
       "      <td>6</td>\n",
       "      <td>0</td>\n",
       "      <td>199</td>\n",
       "    </tr>\n",
       "  </tbody>\n",
       "</table>\n",
       "</div>"
      ],
      "text/plain": [
       "  subscription_type  minute_price  start_ride_price  subscription_fee\n",
       "0              free             8                50                 0\n",
       "1             ultra             6                 0               199"
      ]
     },
     "metadata": {},
     "output_type": "display_data"
    }
   ],
   "source": [
    "display (\n",
    "users.head(),\n",
    "rides.head(),\n",
    "subscriptions.head()\n",
    ")"
   ]
  },
  {
   "cell_type": "code",
   "execution_count": 4,
   "id": "9bf41c12",
   "metadata": {},
   "outputs": [
    {
     "name": "stdout",
     "output_type": "stream",
     "text": [
      "<class 'pandas.core.frame.DataFrame'>\n",
      "RangeIndex: 1565 entries, 0 to 1564\n",
      "Data columns (total 5 columns):\n",
      " #   Column             Non-Null Count  Dtype \n",
      "---  ------             --------------  ----- \n",
      " 0   user_id            1565 non-null   int64 \n",
      " 1   name               1565 non-null   object\n",
      " 2   age                1565 non-null   int64 \n",
      " 3   city               1565 non-null   object\n",
      " 4   subscription_type  1565 non-null   object\n",
      "dtypes: int64(2), object(3)\n",
      "memory usage: 61.3+ KB\n"
     ]
    },
    {
     "data": {
      "text/plain": [
       "'Датасет users None'"
      ]
     },
     "metadata": {},
     "output_type": "display_data"
    }
   ],
   "source": [
    "display (f'Датасет users {users.info()}')"
   ]
  },
  {
   "cell_type": "code",
   "execution_count": 5,
   "id": "99229f60",
   "metadata": {},
   "outputs": [
    {
     "name": "stdout",
     "output_type": "stream",
     "text": [
      "<class 'pandas.core.frame.DataFrame'>\n",
      "RangeIndex: 18068 entries, 0 to 18067\n",
      "Data columns (total 4 columns):\n",
      " #   Column    Non-Null Count  Dtype  \n",
      "---  ------    --------------  -----  \n",
      " 0   user_id   18068 non-null  int64  \n",
      " 1   distance  18068 non-null  float64\n",
      " 2   duration  18068 non-null  float64\n",
      " 3   date      18068 non-null  object \n",
      "dtypes: float64(2), int64(1), object(1)\n",
      "memory usage: 564.8+ KB\n"
     ]
    },
    {
     "data": {
      "text/plain": [
       "'Датасет rides None'"
      ]
     },
     "metadata": {},
     "output_type": "display_data"
    }
   ],
   "source": [
    "display (f'Датасет rides {rides.info()}')"
   ]
  },
  {
   "cell_type": "code",
   "execution_count": 6,
   "id": "e2d6d1d6",
   "metadata": {},
   "outputs": [
    {
     "name": "stdout",
     "output_type": "stream",
     "text": [
      "<class 'pandas.core.frame.DataFrame'>\n",
      "RangeIndex: 2 entries, 0 to 1\n",
      "Data columns (total 4 columns):\n",
      " #   Column             Non-Null Count  Dtype \n",
      "---  ------             --------------  ----- \n",
      " 0   subscription_type  2 non-null      object\n",
      " 1   minute_price       2 non-null      int64 \n",
      " 2   start_ride_price   2 non-null      int64 \n",
      " 3   subscription_fee   2 non-null      int64 \n",
      "dtypes: int64(3), object(1)\n",
      "memory usage: 192.0+ bytes\n"
     ]
    },
    {
     "data": {
      "text/plain": [
       "'Датасет subscriptions None'"
      ]
     },
     "metadata": {},
     "output_type": "display_data"
    }
   ],
   "source": [
    "display (f'Датасет subscriptions {subscriptions.info()}')"
   ]
  },
  {
   "cell_type": "code",
   "execution_count": 7,
   "id": "337eacf9",
   "metadata": {},
   "outputs": [
    {
     "data": {
      "text/plain": [
       "Index(['user_id', 'name', 'age', 'city', 'subscription_type'], dtype='object')"
      ]
     },
     "metadata": {},
     "output_type": "display_data"
    },
    {
     "data": {
      "text/plain": [
       "Index(['user_id', 'distance', 'duration', 'date'], dtype='object')"
      ]
     },
     "metadata": {},
     "output_type": "display_data"
    },
    {
     "data": {
      "text/plain": [
       "Index(['subscription_type', 'minute_price', 'start_ride_price',\n",
       "       'subscription_fee'],\n",
       "      dtype='object')"
      ]
     },
     "metadata": {},
     "output_type": "display_data"
    }
   ],
   "source": [
    "display (\n",
    "users.columns,\n",
    "rides.columns,\n",
    "subscriptions.columns\n",
    ")"
   ]
  },
  {
   "cell_type": "code",
   "execution_count": 8,
   "id": "f9042eaa",
   "metadata": {},
   "outputs": [
    {
     "data": {
      "text/plain": [
       "user_id              0\n",
       "name                 0\n",
       "age                  0\n",
       "city                 0\n",
       "subscription_type    0\n",
       "dtype: int64"
      ]
     },
     "metadata": {},
     "output_type": "display_data"
    },
    {
     "data": {
      "text/plain": [
       "user_id     0\n",
       "distance    0\n",
       "duration    0\n",
       "date        0\n",
       "dtype: int64"
      ]
     },
     "metadata": {},
     "output_type": "display_data"
    },
    {
     "data": {
      "text/plain": [
       "subscription_type    0\n",
       "minute_price         0\n",
       "start_ride_price     0\n",
       "subscription_fee     0\n",
       "dtype: int64"
      ]
     },
     "metadata": {},
     "output_type": "display_data"
    }
   ],
   "source": [
    "display (\n",
    "users.isna().sum(),\n",
    "rides.isna().sum(),\n",
    "subscriptions.isna().sum()\n",
    ")"
   ]
  },
  {
   "cell_type": "code",
   "execution_count": 9,
   "id": "d4686737",
   "metadata": {},
   "outputs": [
    {
     "data": {
      "text/plain": [
       "31"
      ]
     },
     "metadata": {},
     "output_type": "display_data"
    },
    {
     "data": {
      "text/plain": [
       "0"
      ]
     },
     "metadata": {},
     "output_type": "display_data"
    },
    {
     "data": {
      "text/plain": [
       "0"
      ]
     },
     "metadata": {},
     "output_type": "display_data"
    }
   ],
   "source": [
    "display (\n",
    "users.duplicated().sum(),\n",
    "rides.duplicated().sum(),\n",
    "subscriptions.duplicated().sum()\n",
    ")"
   ]
  },
  {
   "cell_type": "markdown",
   "id": "0383fd3d",
   "metadata": {},
   "source": [
    "-----\n",
    "**Пояснение:**\n",
    "\n",
    "На данном этапе были открыты файлы с данными и сохранены в переменные 'users', 'rides' и 'subscriptions'. Далее была изучена общая информация по ним для возможности приступить к дальнейшим шагам работы.\n",
    "\n",
    "В датасете 'users' находяться 5 столбцов, содержащих следующие данные:\n",
    "\n",
    "- user_id - уникальный идентификатор пользователя;\n",
    "- name - имя пользователя;\n",
    "- age - возраст;\n",
    "- city - город;\n",
    "- subscription_type - тип подписки (free, ultra).\n",
    "\n",
    "В датасете 'rides' находяться 4 столбца, содержащих следующие данные:\n",
    "\n",
    "- user_id - уникальный идентификатор пользователя;\n",
    "- distance - расстояние, которое пользователь проехал в текущей сессии (в метрах);\n",
    "- duration - продолжительность сессии (в минутах);\n",
    "- date - дата совершения поездки.\n",
    "\n",
    "В датасете 'subscriptions' находяться 4 столбца, содержащих следующие данные:\n",
    "\n",
    "- subscription_type - тип подписки;\n",
    "- minute_price - стоимость одной минуты поездки по данной подписке;\n",
    "- start_ride_price - стоимость начала поездки;\n",
    "- subscription_fee - стоимость ежемесячного платежа.\n",
    "\n",
    "Было обнаружено что, столбец 'date' из датасета 'rides' имеет некорректный тип данных, что может отразиться на будущих результатах, следовательно на следущем этапе данный столбец будет обработан для устранения такого рода ошибки.\n",
    "\n",
    "При анализе заголовков столбцов не было выявлено никаких замечаний, которые должны подвергнуться дополнительному анализу. Также не было обнаружено пропущенных значений.\n",
    "\n",
    "Однако, были обнаружены явные дубликаты в датасете 'users', который будет повторно обработан на следующем этапе для более детального рассмотрения данных.\n",
    "\n",
    "---"
   ]
  },
  {
   "cell_type": "markdown",
   "id": "e3cfb667",
   "metadata": {},
   "source": [
    "___\n",
    "<a id=\"prework\"></a>\n",
    "## Предобработка данных\n",
    "___"
   ]
  },
  {
   "cell_type": "markdown",
   "id": "0529a910",
   "metadata": {},
   "source": [
    "<a id=\"prework1\"></a>\n",
    "### Типы данных"
   ]
  },
  {
   "cell_type": "code",
   "execution_count": 10,
   "id": "817bc31b",
   "metadata": {},
   "outputs": [
    {
     "data": {
      "text/plain": [
       "dtype('<M8[ns]')"
      ]
     },
     "execution_count": 10,
     "metadata": {},
     "output_type": "execute_result"
    }
   ],
   "source": [
    "# Приведение столбца 'date' к временному типу данных\n",
    "rides.date = pd.to_datetime(rides.date)\n",
    "rides.date.dtypes"
   ]
  },
  {
   "cell_type": "markdown",
   "id": "a3527c33",
   "metadata": {},
   "source": [
    "___\n",
    "<a id=\"prework2\"></a>\n",
    "### Дубликаты в данных"
   ]
  },
  {
   "cell_type": "code",
   "execution_count": 11,
   "id": "34e23a5c",
   "metadata": {},
   "outputs": [
    {
     "data": {
      "text/html": [
       "<div>\n",
       "<style scoped>\n",
       "    .dataframe tbody tr th:only-of-type {\n",
       "        vertical-align: middle;\n",
       "    }\n",
       "\n",
       "    .dataframe tbody tr th {\n",
       "        vertical-align: top;\n",
       "    }\n",
       "\n",
       "    .dataframe thead th {\n",
       "        text-align: right;\n",
       "    }\n",
       "</style>\n",
       "<table border=\"1\" class=\"dataframe\">\n",
       "  <thead>\n",
       "    <tr style=\"text-align: right;\">\n",
       "      <th></th>\n",
       "      <th>user_id</th>\n",
       "      <th>name</th>\n",
       "      <th>age</th>\n",
       "      <th>city</th>\n",
       "      <th>subscription_type</th>\n",
       "    </tr>\n",
       "  </thead>\n",
       "  <tbody>\n",
       "    <tr>\n",
       "      <th>15</th>\n",
       "      <td>16</td>\n",
       "      <td>Амалия</td>\n",
       "      <td>27</td>\n",
       "      <td>Краснодар</td>\n",
       "      <td>ultra</td>\n",
       "    </tr>\n",
       "    <tr>\n",
       "      <th>1535</th>\n",
       "      <td>16</td>\n",
       "      <td>Амалия</td>\n",
       "      <td>27</td>\n",
       "      <td>Краснодар</td>\n",
       "      <td>ultra</td>\n",
       "    </tr>\n",
       "    <tr>\n",
       "      <th>42</th>\n",
       "      <td>43</td>\n",
       "      <td>Стефания</td>\n",
       "      <td>22</td>\n",
       "      <td>Омск</td>\n",
       "      <td>ultra</td>\n",
       "    </tr>\n",
       "    <tr>\n",
       "      <th>1539</th>\n",
       "      <td>43</td>\n",
       "      <td>Стефания</td>\n",
       "      <td>22</td>\n",
       "      <td>Омск</td>\n",
       "      <td>ultra</td>\n",
       "    </tr>\n",
       "    <tr>\n",
       "      <th>1563</th>\n",
       "      <td>47</td>\n",
       "      <td>Юрий</td>\n",
       "      <td>28</td>\n",
       "      <td>Тюмень</td>\n",
       "      <td>ultra</td>\n",
       "    </tr>\n",
       "    <tr>\n",
       "      <th>...</th>\n",
       "      <td>...</td>\n",
       "      <td>...</td>\n",
       "      <td>...</td>\n",
       "      <td>...</td>\n",
       "      <td>...</td>\n",
       "    </tr>\n",
       "    <tr>\n",
       "      <th>1554</th>\n",
       "      <td>1198</td>\n",
       "      <td>Демид</td>\n",
       "      <td>29</td>\n",
       "      <td>Ростов-на-Дону</td>\n",
       "      <td>free</td>\n",
       "    </tr>\n",
       "    <tr>\n",
       "      <th>1558</th>\n",
       "      <td>1237</td>\n",
       "      <td>Евгения</td>\n",
       "      <td>23</td>\n",
       "      <td>Тюмень</td>\n",
       "      <td>free</td>\n",
       "    </tr>\n",
       "    <tr>\n",
       "      <th>1236</th>\n",
       "      <td>1237</td>\n",
       "      <td>Евгения</td>\n",
       "      <td>23</td>\n",
       "      <td>Тюмень</td>\n",
       "      <td>free</td>\n",
       "    </tr>\n",
       "    <tr>\n",
       "      <th>1544</th>\n",
       "      <td>1245</td>\n",
       "      <td>Регина</td>\n",
       "      <td>27</td>\n",
       "      <td>Пятигорск</td>\n",
       "      <td>free</td>\n",
       "    </tr>\n",
       "    <tr>\n",
       "      <th>1244</th>\n",
       "      <td>1245</td>\n",
       "      <td>Регина</td>\n",
       "      <td>27</td>\n",
       "      <td>Пятигорск</td>\n",
       "      <td>free</td>\n",
       "    </tr>\n",
       "  </tbody>\n",
       "</table>\n",
       "<p>62 rows × 5 columns</p>\n",
       "</div>"
      ],
      "text/plain": [
       "      user_id      name  age            city subscription_type\n",
       "15         16    Амалия   27       Краснодар             ultra\n",
       "1535       16    Амалия   27       Краснодар             ultra\n",
       "42         43  Стефания   22            Омск             ultra\n",
       "1539       43  Стефания   22            Омск             ultra\n",
       "1563       47      Юрий   28          Тюмень             ultra\n",
       "...       ...       ...  ...             ...               ...\n",
       "1554     1198     Демид   29  Ростов-на-Дону              free\n",
       "1558     1237   Евгения   23          Тюмень              free\n",
       "1236     1237   Евгения   23          Тюмень              free\n",
       "1544     1245    Регина   27       Пятигорск              free\n",
       "1244     1245    Регина   27       Пятигорск              free\n",
       "\n",
       "[62 rows x 5 columns]"
      ]
     },
     "execution_count": 11,
     "metadata": {},
     "output_type": "execute_result"
    }
   ],
   "source": [
    "# Просмотр дубликатов\n",
    "users[users.duplicated(keep = False)].sort_values(by = 'user_id')"
   ]
  },
  {
   "cell_type": "code",
   "execution_count": 12,
   "id": "ac1b38de",
   "metadata": {},
   "outputs": [
    {
     "data": {
      "text/plain": [
       "0"
      ]
     },
     "execution_count": 12,
     "metadata": {},
     "output_type": "execute_result"
    }
   ],
   "source": [
    "# Удаление явных дубликатов\n",
    "users = users.drop_duplicates()\n",
    "users.duplicated().sum()"
   ]
  },
  {
   "cell_type": "markdown",
   "id": "196a02e8",
   "metadata": {},
   "source": [
    "____\n",
    "<a id=\"prework3\"></a>\n",
    "### Создание нового столбца"
   ]
  },
  {
   "cell_type": "code",
   "execution_count": 13,
   "id": "e3ecb2c9",
   "metadata": {},
   "outputs": [
    {
     "data": {
      "text/html": [
       "<div>\n",
       "<style scoped>\n",
       "    .dataframe tbody tr th:only-of-type {\n",
       "        vertical-align: middle;\n",
       "    }\n",
       "\n",
       "    .dataframe tbody tr th {\n",
       "        vertical-align: top;\n",
       "    }\n",
       "\n",
       "    .dataframe thead th {\n",
       "        text-align: right;\n",
       "    }\n",
       "</style>\n",
       "<table border=\"1\" class=\"dataframe\">\n",
       "  <thead>\n",
       "    <tr style=\"text-align: right;\">\n",
       "      <th></th>\n",
       "      <th>user_id</th>\n",
       "      <th>distance</th>\n",
       "      <th>duration</th>\n",
       "      <th>date</th>\n",
       "      <th>month</th>\n",
       "    </tr>\n",
       "  </thead>\n",
       "  <tbody>\n",
       "    <tr>\n",
       "      <th>0</th>\n",
       "      <td>1</td>\n",
       "      <td>4409.919140</td>\n",
       "      <td>25.599769</td>\n",
       "      <td>2021-01-01</td>\n",
       "      <td>1</td>\n",
       "    </tr>\n",
       "    <tr>\n",
       "      <th>1</th>\n",
       "      <td>1</td>\n",
       "      <td>2617.592153</td>\n",
       "      <td>15.816871</td>\n",
       "      <td>2021-01-18</td>\n",
       "      <td>1</td>\n",
       "    </tr>\n",
       "    <tr>\n",
       "      <th>2</th>\n",
       "      <td>1</td>\n",
       "      <td>754.159807</td>\n",
       "      <td>6.232113</td>\n",
       "      <td>2021-04-20</td>\n",
       "      <td>4</td>\n",
       "    </tr>\n",
       "    <tr>\n",
       "      <th>3</th>\n",
       "      <td>1</td>\n",
       "      <td>2694.783254</td>\n",
       "      <td>18.511000</td>\n",
       "      <td>2021-08-11</td>\n",
       "      <td>8</td>\n",
       "    </tr>\n",
       "    <tr>\n",
       "      <th>4</th>\n",
       "      <td>1</td>\n",
       "      <td>4028.687306</td>\n",
       "      <td>26.265803</td>\n",
       "      <td>2021-08-28</td>\n",
       "      <td>8</td>\n",
       "    </tr>\n",
       "  </tbody>\n",
       "</table>\n",
       "</div>"
      ],
      "text/plain": [
       "   user_id     distance   duration       date  month\n",
       "0        1  4409.919140  25.599769 2021-01-01      1\n",
       "1        1  2617.592153  15.816871 2021-01-18      1\n",
       "2        1   754.159807   6.232113 2021-04-20      4\n",
       "3        1  2694.783254  18.511000 2021-08-11      8\n",
       "4        1  4028.687306  26.265803 2021-08-28      8"
      ]
     },
     "execution_count": 13,
     "metadata": {},
     "output_type": "execute_result"
    }
   ],
   "source": [
    "# Создание столбца 'month' в датасете rides с номером месяца \n",
    "rides['month'] = rides['date'].dt.month\n",
    "rides.head()"
   ]
  },
  {
   "cell_type": "markdown",
   "id": "875d92b4",
   "metadata": {},
   "source": [
    "____\n",
    "<a id=\"prework4\"></a>\n",
    "### Временной период"
   ]
  },
  {
   "cell_type": "code",
   "execution_count": 14,
   "id": "d9d2074d",
   "metadata": {},
   "outputs": [
    {
     "data": {
      "text/plain": [
       "count                   18068\n",
       "unique                    364\n",
       "top       2021-12-22 00:00:00\n",
       "freq                       72\n",
       "first     2021-01-01 00:00:00\n",
       "last      2021-12-30 00:00:00\n",
       "Name: date, dtype: object"
      ]
     },
     "execution_count": 14,
     "metadata": {},
     "output_type": "execute_result"
    }
   ],
   "source": [
    "rides.date.describe()"
   ]
  },
  {
   "cell_type": "markdown",
   "id": "94e636ed",
   "metadata": {},
   "source": [
    "___\n",
    "**Пояснение:**\n",
    "\n",
    "На данном этапе удалось:\n",
    "\n",
    "1. Изменить тип данных строковых значений в столбце *date* в датасете `rides` на временной;\n",
    "\n",
    "2. Удалить дубликаты в данных датасета `users`, которые являлись повторяющейся информацией по некоторым пользователям;\n",
    "\n",
    "3. Создать новый столбец *month* с номером каждого месяца в датасете `rides`;\n",
    "\n",
    "4. Определить исследуемый временной промежуток, который составил 1 год: с 2021-01-01 по 2021-12-30.\n",
    "___"
   ]
  },
  {
   "cell_type": "markdown",
   "id": "e4e1855e",
   "metadata": {},
   "source": [
    "___\n",
    "<a id=\"research\"></a>\n",
    "## Исследовательский анализ данных\n",
    "___"
   ]
  },
  {
   "cell_type": "markdown",
   "id": "3b3a027b",
   "metadata": {},
   "source": [
    "<a id=\"research1\"></a>\n",
    "### Частота встречаемости городов"
   ]
  },
  {
   "cell_type": "code",
   "execution_count": 15,
   "id": "20a076bf",
   "metadata": {},
   "outputs": [
    {
     "data": {
      "text/plain": [
       "Пятигорск         219\n",
       "Екатеринбург      204\n",
       "Ростов-на-Дону    198\n",
       "Краснодар         193\n",
       "Сочи              189\n",
       "Омск              183\n",
       "Тюмень            180\n",
       "Москва            168\n",
       "Name: city, dtype: int64"
      ]
     },
     "metadata": {},
     "output_type": "display_data"
    },
    {
     "data": {
      "image/png": "[encoded data removed]",
      "text/plain": [
       "<Figure size 1008x504 with 1 Axes>"
      ]
     },
     "metadata": {
      "needs_background": "light"
     },
     "output_type": "display_data"
    }
   ],
   "source": [
    "town = users.city.value_counts(ascending = False)\n",
    "display(town)\n",
    "\n",
    "ax = town.plot.bar(figsize = (14,7), color = 'pink', grid = True)\n",
    "plt.xticks(rotation = 45, fontsize = 12)\n",
    "plt.title('Частота появления городов пользователей', fontsize = 16)\n",
    "plt.ylabel('Пользователи, %', fontsize = 12)\n",
    "plt.show()"
   ]
  },
  {
   "cell_type": "markdown",
   "id": "a49288d8",
   "metadata": {},
   "source": [
    "***Пояснение:***\n",
    "\n",
    "- В данных представлены 8 городов, в которых работает сервис GoFast. \n",
    "\n",
    "- Топ-3 города по количеству пользователей: Пятигорск, Екатеринбург, Ростов-на-Дону. \n",
    "\n",
    "- Москва занимает последнее место, что противоречит статистическим данным, в которых говорится, что данный город является лидером в России и стремится к лидерству в мире по аренде электросамокатов. "
   ]
  },
  {
   "cell_type": "markdown",
   "id": "91ac5dc8",
   "metadata": {},
   "source": [
    "___\n",
    "<a id=\"research2\"></a>\n",
    "### Cоотношение пользователей с подпиской и без подписки"
   ]
  },
  {
   "cell_type": "code",
   "execution_count": 16,
   "id": "65258771",
   "metadata": {},
   "outputs": [
    {
     "data": {
      "image/png": "[encoded data removed]",
      "text/plain": [
       "<Figure size 720x720 with 1 Axes>"
      ]
     },
     "metadata": {},
     "output_type": "display_data"
    }
   ],
   "source": [
    "names = ['С подпиской', 'Без подписки']\n",
    "colors = ['palegreen', 'tomato']\n",
    "users.subscription_type.value_counts().plot(kind = 'pie', figsize = (10,10), subplots=True, \\\n",
    "                                            labels = names, autopct='%1.1f%%', colors = colors,\\\n",
    "                                           explode = [0.02, 0.05], textprops={'fontsize': 12})\n",
    "plt.title('Соотношение пользователей с подпиской и без подписки', fontsize = 16)\n",
    "plt.ylabel('')\n",
    "plt.xlabel('')\n",
    "plt.show()"
   ]
  },
  {
   "cell_type": "code",
   "execution_count": 17,
   "id": "94efb953",
   "metadata": {},
   "outputs": [
    {
     "data": {
      "text/html": [
       "<div>\n",
       "<style scoped>\n",
       "    .dataframe tbody tr th:only-of-type {\n",
       "        vertical-align: middle;\n",
       "    }\n",
       "\n",
       "    .dataframe tbody tr th {\n",
       "        vertical-align: top;\n",
       "    }\n",
       "\n",
       "    .dataframe thead th {\n",
       "        text-align: right;\n",
       "    }\n",
       "</style>\n",
       "<table border=\"1\" class=\"dataframe\">\n",
       "  <thead>\n",
       "    <tr style=\"text-align: right;\">\n",
       "      <th></th>\n",
       "      <th>percent_ultra</th>\n",
       "      <th>percent_free</th>\n",
       "    </tr>\n",
       "    <tr>\n",
       "      <th>city</th>\n",
       "      <th></th>\n",
       "      <th></th>\n",
       "    </tr>\n",
       "  </thead>\n",
       "  <tbody>\n",
       "    <tr>\n",
       "      <th>Екатеринбург</th>\n",
       "      <td>45.1</td>\n",
       "      <td>54.9</td>\n",
       "    </tr>\n",
       "    <tr>\n",
       "      <th>Краснодар</th>\n",
       "      <td>42.0</td>\n",
       "      <td>58.0</td>\n",
       "    </tr>\n",
       "    <tr>\n",
       "      <th>Москва</th>\n",
       "      <td>50.0</td>\n",
       "      <td>50.0</td>\n",
       "    </tr>\n",
       "    <tr>\n",
       "      <th>Омск</th>\n",
       "      <td>49.7</td>\n",
       "      <td>50.3</td>\n",
       "    </tr>\n",
       "    <tr>\n",
       "      <th>Пятигорск</th>\n",
       "      <td>42.9</td>\n",
       "      <td>57.1</td>\n",
       "    </tr>\n",
       "    <tr>\n",
       "      <th>Ростов-на-Дону</th>\n",
       "      <td>44.9</td>\n",
       "      <td>55.1</td>\n",
       "    </tr>\n",
       "    <tr>\n",
       "      <th>Сочи</th>\n",
       "      <td>45.5</td>\n",
       "      <td>54.5</td>\n",
       "    </tr>\n",
       "    <tr>\n",
       "      <th>Тюмень</th>\n",
       "      <td>45.6</td>\n",
       "      <td>54.4</td>\n",
       "    </tr>\n",
       "  </tbody>\n",
       "</table>\n",
       "</div>"
      ],
      "text/plain": [
       "                percent_ultra  percent_free\n",
       "city                                       \n",
       "Екатеринбург             45.1          54.9\n",
       "Краснодар                42.0          58.0\n",
       "Москва                   50.0          50.0\n",
       "Омск                     49.7          50.3\n",
       "Пятигорск                42.9          57.1\n",
       "Ростов-на-Дону           44.9          55.1\n",
       "Сочи                     45.5          54.5\n",
       "Тюмень                   45.6          54.4"
      ]
     },
     "metadata": {},
     "output_type": "display_data"
    },
    {
     "data": {
      "image/png": "[encoded data removed]",
      "text/plain": [
       "<Figure size 1008x504 with 1 Axes>"
      ]
     },
     "metadata": {
      "needs_background": "light"
     },
     "output_type": "display_data"
    }
   ],
   "source": [
    "citys_ultra = users[users['subscription_type']=='ultra'].groupby('city')['user_id'].count().reset_index()\n",
    "citys_ultra.columns = ['city', 'count_ultra']\n",
    "citys_free = users[users['subscription_type']=='free'].groupby('city')['user_id'].count().reset_index()\n",
    "citys_free.columns = ['city', 'count_free']\n",
    "citys_sub = pd.merge(citys_ultra, citys_free, how = \"inner\", on = ['city', 'city'])\n",
    "citys_sub['percent_ultra'] = round((citys_sub['count_ultra']/(citys_sub['count_ultra']+citys_sub['count_free']))*100, 1)\n",
    "citys_sub['percent_free'] = round((citys_sub['count_free']/(citys_sub['count_ultra']+citys_sub['count_free']))*100, 1)\n",
    "del citys_sub['count_ultra']\n",
    "del citys_sub['count_free']\n",
    "citys_sub.set_index('city', inplace=True)\n",
    "display(citys_sub)\n",
    "\n",
    "citys_sub.sort_values(by = ['percent_ultra', 'percent_free'], ascending = False)\\\n",
    ".plot.bar(figsize = (14,7), color = ['palegreen', 'tomato'], grid = True)\n",
    "plt.xticks(rotation = 45, fontsize = 12)\n",
    "plt.title('Соотношение пользователей с подпиской и без подписки по городам', fontsize = 16)\n",
    "plt.legend(['\"с подписки\"', '\"без подпиской\"'])\n",
    "plt.xlabel('')\n",
    "plt.ylabel('Пользователи, %', fontsize = 12)\n",
    "plt.show()"
   ]
  },
  {
   "cell_type": "code",
   "execution_count": 18,
   "id": "ea0b9b35",
   "metadata": {},
   "outputs": [
    {
     "data": {
      "text/html": [
       "<div>\n",
       "<style scoped>\n",
       "    .dataframe tbody tr th:only-of-type {\n",
       "        vertical-align: middle;\n",
       "    }\n",
       "\n",
       "    .dataframe tbody tr th {\n",
       "        vertical-align: top;\n",
       "    }\n",
       "\n",
       "    .dataframe thead th {\n",
       "        text-align: right;\n",
       "    }\n",
       "</style>\n",
       "<table border=\"1\" class=\"dataframe\">\n",
       "  <thead>\n",
       "    <tr style=\"text-align: right;\">\n",
       "      <th></th>\n",
       "      <th>percent_ultra</th>\n",
       "      <th>percent_free</th>\n",
       "    </tr>\n",
       "    <tr>\n",
       "      <th>city</th>\n",
       "      <th></th>\n",
       "      <th></th>\n",
       "    </tr>\n",
       "  </thead>\n",
       "  <tbody>\n",
       "    <tr>\n",
       "      <th>Екатеринбург</th>\n",
       "      <td>6.0</td>\n",
       "      <td>7.3</td>\n",
       "    </tr>\n",
       "    <tr>\n",
       "      <th>Краснодар</th>\n",
       "      <td>5.3</td>\n",
       "      <td>7.3</td>\n",
       "    </tr>\n",
       "    <tr>\n",
       "      <th>Москва</th>\n",
       "      <td>5.5</td>\n",
       "      <td>5.5</td>\n",
       "    </tr>\n",
       "    <tr>\n",
       "      <th>Омск</th>\n",
       "      <td>5.9</td>\n",
       "      <td>6.0</td>\n",
       "    </tr>\n",
       "    <tr>\n",
       "      <th>Пятигорск</th>\n",
       "      <td>6.1</td>\n",
       "      <td>8.1</td>\n",
       "    </tr>\n",
       "    <tr>\n",
       "      <th>Ростов-на-Дону</th>\n",
       "      <td>5.8</td>\n",
       "      <td>7.1</td>\n",
       "    </tr>\n",
       "    <tr>\n",
       "      <th>Сочи</th>\n",
       "      <td>5.6</td>\n",
       "      <td>6.7</td>\n",
       "    </tr>\n",
       "    <tr>\n",
       "      <th>Тюмень</th>\n",
       "      <td>5.3</td>\n",
       "      <td>6.4</td>\n",
       "    </tr>\n",
       "  </tbody>\n",
       "</table>\n",
       "</div>"
      ],
      "text/plain": [
       "                percent_ultra  percent_free\n",
       "city                                       \n",
       "Екатеринбург              6.0           7.3\n",
       "Краснодар                 5.3           7.3\n",
       "Москва                    5.5           5.5\n",
       "Омск                      5.9           6.0\n",
       "Пятигорск                 6.1           8.1\n",
       "Ростов-на-Дону            5.8           7.1\n",
       "Сочи                      5.6           6.7\n",
       "Тюмень                    5.3           6.4"
      ]
     },
     "metadata": {},
     "output_type": "display_data"
    },
    {
     "data": {
      "image/png": "[encoded data removed]",
      "text/plain": [
       "<Figure size 1008x504 with 1 Axes>"
      ]
     },
     "metadata": {
      "needs_background": "light"
     },
     "output_type": "display_data"
    }
   ],
   "source": [
    "citys_ultra = users[users['subscription_type']=='ultra'].groupby('city')['user_id'].count().reset_index()\n",
    "citys_ultra.columns = ['city', 'count_ultra']\n",
    "citys_free = users[users['subscription_type']=='free'].groupby('city')['user_id'].count().reset_index()\n",
    "citys_free.columns = ['city', 'count_free']\n",
    "citys_sub = pd.merge(citys_ultra, citys_free, how = \"inner\", on = ['city', 'city'])\n",
    "citys_sub['percent_ultra'] = round(((citys_sub['count_ultra']*100)/len(users)), 1)\n",
    "citys_sub['percent_free'] = round(((citys_sub['count_free']*100)/len(users)), 1)\n",
    "del citys_sub['count_ultra']\n",
    "del citys_sub['count_free'] \n",
    "citys_sub.set_index('city', inplace=True)\n",
    "display(citys_sub)\n",
    "\n",
    "citys_sub.sort_values(by = ['percent_free', 'percent_ultra'], ascending = False)\\\n",
    ".plot.bar(figsize = (14,7), color = ['palegreen', 'tomato'], grid = True)\n",
    "plt.xticks(rotation = 45, fontsize = 12)\n",
    "plt.title('Соотношение пользователей с подпиской и без подписки по городам', fontsize = 16)\n",
    "plt.legend(['\"с подписки\"', '\"без подпиской\"'])\n",
    "plt.xlabel('')\n",
    "plt.ylabel('Пользователи, %', fontsize = 12)\n",
    "plt.show()"
   ]
  },
  {
   "cell_type": "markdown",
   "id": "9fe1fe04",
   "metadata": {},
   "source": [
    "***Пояснение:***\n",
    "\n",
    "- В данных представлены два типа подписок: \n",
    "  - \"ultra\" - официальная ежемесячная подписка на сервис GoFast \n",
    "  - \"free\" - бесплатная версия программы \n",
    "  \n",
    "- 54,4% - пользователи с подпиской \n",
    "\n",
    "- 45,6% - пользователи без подписки \n",
    "\n",
    "- Разница между данными категориями небольшая => есть большое пространство для роста компании в плане развития системы подписок и стимуляции пользователей на их оформление\n",
    "\n",
    "- В разрезе по городам: наибольшее количество пользователей с подпиской по отношению к пользователем без подписки в таких городах, как Москва, Омск и Тюмень. Также стоит отметить, что в Краснодаре, Пятигорск и Ростов-на-Дону данный показатель самый низкий."
   ]
  },
  {
   "cell_type": "markdown",
   "id": "15855650",
   "metadata": {},
   "source": [
    "___\n",
    "<a id=\"research3\"></a>\n",
    "### Возраст пользователей"
   ]
  },
  {
   "cell_type": "code",
   "execution_count": 19,
   "id": "d3269c4c",
   "metadata": {},
   "outputs": [
    {
     "data": {
      "text/plain": [
       "count    1534.000000\n",
       "mean       24.903520\n",
       "std         4.572367\n",
       "min        12.000000\n",
       "25%        22.000000\n",
       "50%        25.000000\n",
       "75%        28.000000\n",
       "max        43.000000\n",
       "Name: age, dtype: float64"
      ]
     },
     "execution_count": 19,
     "metadata": {},
     "output_type": "execute_result"
    }
   ],
   "source": [
    "users.age.describe()"
   ]
  },
  {
   "cell_type": "code",
   "execution_count": 20,
   "id": "f881bebe",
   "metadata": {},
   "outputs": [
    {
     "data": {
      "image/png": "[encoded data removed]",
      "text/plain": [
       "<Figure size 1224x144 with 1 Axes>"
      ]
     },
     "metadata": {
      "needs_background": "light"
     },
     "output_type": "display_data"
    }
   ],
   "source": [
    "fig, ax = plt.subplots(figsize = (17,2))\n",
    "ax = users[['age']].boxplot(vert = False, ax =ax)\n",
    "plt.xticks(fontsize = 12)\n",
    "plt.yticks(fontsize = 12)\n",
    "ax.set_title('Диаграмма размаха возрастов пользователей', fontsize = 16)\n",
    "plt.show()"
   ]
  },
  {
   "cell_type": "code",
   "execution_count": 21,
   "id": "5456e8c1",
   "metadata": {},
   "outputs": [],
   "source": [
    "def colors_for_bar (age):\n",
    "        if age >= 18:\n",
    "            return 'green'\n",
    "        else:\n",
    "            return 'red'\n",
    "        \n",
    "        \n",
    "users ['colors'] = users ['age'].apply(colors_for_bar)"
   ]
  },
  {
   "cell_type": "code",
   "execution_count": 22,
   "id": "d0576e36",
   "metadata": {},
   "outputs": [],
   "source": [
    "data = users.pivot_table (index = ['age', 'colors'], values = 'user_id', aggfunc = 'count').reset_index()"
   ]
  },
  {
   "cell_type": "code",
   "execution_count": 23,
   "id": "e7ab8c0b",
   "metadata": {},
   "outputs": [
    {
     "data": {
      "image/png": "[encoded data removed]",
      "text/plain": [
       "<Figure size 1008x504 with 1 Axes>"
      ]
     },
     "metadata": {
      "needs_background": "light"
     },
     "output_type": "display_data"
    }
   ],
   "source": [
    "ax = data.plot.bar(x = 'age', y = 'user_id', figsize = (14,7), color = data['colors'])\n",
    "plt.xticks(rotation = 360, fontsize = 12)\n",
    "plt.title('Возраст пользователей', fontsize = 16)\n",
    "plt.legend('')\n",
    "plt.xlabel('Возраст', fontsize = 12)\n",
    "plt.ylabel('Кол-во пользователей', fontsize = 12)\n",
    "plt.show()"
   ]
  },
  {
   "cell_type": "code",
   "execution_count": 24,
   "id": "7205c8c4",
   "metadata": {},
   "outputs": [],
   "source": [
    "del users['colors']"
   ]
  },
  {
   "cell_type": "markdown",
   "id": "72f47d41",
   "metadata": {},
   "source": [
    "***Пояснение:***\n",
    "\n",
    "- В данных представлены пользователи возрастов от 12 до 43 лет.\n",
    "- Чаще всего встречается возраст 25 лет.\n",
    "- Наличие пользователей от 12 до 17 лет: многие сервисы прокатов электросамокатов (например, такие как Whoosh или Яндекс) ограничивают пользование своими услугам лицам недостигшим 18 лет. Данное решение обуславливается заботой о безопасности как самих пользователей, так и окружающих. Также предположительно, несовершеннолетние менее склонны оформлять подписку."
   ]
  },
  {
   "cell_type": "markdown",
   "id": "2c46142e",
   "metadata": {},
   "source": [
    "___\n",
    "<a id=\"research4\"></a>\n",
    "### Расстояние, которое пользователь преодолел за одну поездку"
   ]
  },
  {
   "cell_type": "code",
   "execution_count": 25,
   "id": "d2d4efe4",
   "metadata": {},
   "outputs": [
    {
     "data": {
      "text/plain": [
       "count    18068.000000\n",
       "mean      3070.659976\n",
       "std       1116.831209\n",
       "min          0.855683\n",
       "25%       2543.226360\n",
       "50%       3133.609994\n",
       "75%       3776.222735\n",
       "max       7211.007745\n",
       "Name: distance, dtype: float64"
      ]
     },
     "execution_count": 25,
     "metadata": {},
     "output_type": "execute_result"
    }
   ],
   "source": [
    "rides.distance.describe()"
   ]
  },
  {
   "cell_type": "code",
   "execution_count": 26,
   "id": "314799bd",
   "metadata": {},
   "outputs": [
    {
     "data": {
      "image/png": "[encoded data removed]",
      "text/plain": [
       "<Figure size 1224x144 with 1 Axes>"
      ]
     },
     "metadata": {
      "needs_background": "light"
     },
     "output_type": "display_data"
    }
   ],
   "source": [
    "fig, ax = plt.subplots(figsize = (17,2))\n",
    "ax = rides[['distance']].boxplot(vert = False, ax =ax)\n",
    "plt.xticks(fontsize = 12)\n",
    "plt.yticks(fontsize = 12)\n",
    "ax.set_title('Диаграмма размаха расстояния, которое пользователи преодолели за одну поездку', fontsize = 16)\n",
    "plt.show()"
   ]
  },
  {
   "cell_type": "code",
   "execution_count": 27,
   "id": "6b8d5da1",
   "metadata": {},
   "outputs": [
    {
     "data": {
      "image/png": "[encoded data removed]",
      "text/plain": [
       "<Figure size 864x576 with 1 Axes>"
      ]
     },
     "metadata": {
      "needs_background": "light"
     },
     "output_type": "display_data"
    }
   ],
   "source": [
    "plt.figure(figsize=(12,8))\n",
    "ax = rides.distance.plot.hist(bins=25, color = 'slateblue')\n",
    "plt.xlabel('Расстояние в метрах', fontsize = 12)\n",
    "plt.ylabel('Частота появления', fontsize = 12)  \n",
    "plt.title('Распределение расстояния за одну поездку пользователей', fontsize = 16)\n",
    "plt.show()"
   ]
  },
  {
   "cell_type": "markdown",
   "id": "c072b59d",
   "metadata": {},
   "source": [
    "--------\n",
    "________"
   ]
  },
  {
   "cell_type": "code",
   "execution_count": 28,
   "id": "0062f049",
   "metadata": {},
   "outputs": [],
   "source": [
    "#m_per_user = rides.groupby(['user_id'])['distance'].agg(['mean', 'median']).reset_index()\n",
    "#m_per_user[['mean', 'median']].describe()"
   ]
  },
  {
   "cell_type": "code",
   "execution_count": 29,
   "id": "abbbac91",
   "metadata": {},
   "outputs": [],
   "source": [
    "#fig, ax = plt.subplots(figsize = (17,2))\n",
    "#ax = m_per_user[['mean', 'median']].boxplot(vert = False, ax =ax)\n",
    "#plt.xticks(fontsize = 12)\n",
    "#plt.yticks(fontsize = 12)\n",
    "#ax.set_title('Диаграмма размаха медианного и среднего значений расстояния за одну поездку для каждого пользователя', fontsize = 16)\n",
    "#ax.set (xlabel = '', ylabel = '')\n",
    "#plt.show()"
   ]
  },
  {
   "cell_type": "code",
   "execution_count": 30,
   "id": "66cf8fa8",
   "metadata": {},
   "outputs": [],
   "source": [
    "#plt.figure(figsize=(12,8))\n",
    "#plt.hist([m_per_user['mean'], m_per_user['median']], bins=25, stacked = True, color = ['royalblue', 'orchid'])\n",
    "#plt.xlabel('Расстояние в метрах', fontsize = 12)\n",
    "#plt.ylabel('')  \n",
    "#plt.title('Распределение медианного и среднего значений расстояния за одну поездку для каждого пользователя', fontsize = 16)\n",
    "#plt.legend(['Средние значения', 'Медианное значения'])\n",
    "#plt.show()"
   ]
  },
  {
   "cell_type": "markdown",
   "id": "16390374",
   "metadata": {},
   "source": [
    "***Пояснение:***\n",
    "\n",
    "- В среднем пользователи проезжают примерно 3134 метров за одну поездку.\n",
    "- Медианное значение (менее подверженное аномальным значениям или выбросам в данных) составляет примерно 3071 метров.\n",
    "- В данных также присутствуют выбросы, как, например, 7211 метров или 0.86 метров, однако, стоит предположить, что они не являются результатом ошибки, а лишь подчеркивают зависимость использования электросамокатов от различных факторов (погодные условия, конечная цель и т.д.).\n",
    "- Стоит отдельно рассмотреть показатели минимальной дальности поездки на предмет неудовлетворенности пользователей сервисом.\n",
    "- Вид гистограммы - бимодальный, что свидетельствует о том, что в данных обеих групп присутсвует две моды, то есть можно разделить данные для них на две группы, например, \"короткие поездки\" и \"длинные поездки\", что можно объяснить как \"клиенты выбирают самокат для небольшого расстояния при опозданиях\" и \"клиенты выбирают самокат для больного расстояния при желании съэкономить\"."
   ]
  },
  {
   "cell_type": "markdown",
   "id": "f07f2941",
   "metadata": {},
   "source": [
    "___\n",
    "<a id=\"research5\"></a>\n",
    "### Продолжительность поездок"
   ]
  },
  {
   "cell_type": "code",
   "execution_count": 31,
   "id": "4ceeec23",
   "metadata": {},
   "outputs": [
    {
     "data": {
      "text/plain": [
       "count    18068.000000\n",
       "mean        17.805011\n",
       "std          6.091051\n",
       "min          0.500000\n",
       "25%         13.597563\n",
       "50%         17.678395\n",
       "75%         21.724800\n",
       "max         40.823963\n",
       "Name: duration, dtype: float64"
      ]
     },
     "execution_count": 31,
     "metadata": {},
     "output_type": "execute_result"
    }
   ],
   "source": [
    "rides.duration.describe()"
   ]
  },
  {
   "cell_type": "code",
   "execution_count": 32,
   "id": "69aa5bfb",
   "metadata": {},
   "outputs": [
    {
     "data": {
      "image/png": "[encoded data removed]",
      "text/plain": [
       "<Figure size 1224x144 with 1 Axes>"
      ]
     },
     "metadata": {
      "needs_background": "light"
     },
     "output_type": "display_data"
    }
   ],
   "source": [
    "fig, ax = plt.subplots(figsize = (17,2))\n",
    "ax = rides[['duration']].boxplot(vert = False, ax =ax)\n",
    "plt.xticks(fontsize = 12)\n",
    "plt.yticks(fontsize = 12)\n",
    "ax.set_title('Диаграмма размаха продолжительности поездок', fontsize = 16)\n",
    "plt.show()"
   ]
  },
  {
   "cell_type": "code",
   "execution_count": 33,
   "id": "b066178f",
   "metadata": {},
   "outputs": [
    {
     "data": {
      "image/png": "[encoded data removed]",
      "text/plain": [
       "<Figure size 864x576 with 1 Axes>"
      ]
     },
     "metadata": {
      "needs_background": "light"
     },
     "output_type": "display_data"
    }
   ],
   "source": [
    "plt.figure(figsize=(12,8))\n",
    "ax = rides.duration.plot.hist(bins=25, color = 'slateblue')\n",
    "plt.xlabel('Продолжительность в минутах', fontsize = 12)\n",
    "plt.ylabel('Частота появления', fontsize = 12)  \n",
    "plt.title('Распределение продолжительности поездок', fontsize = 16)\n",
    "plt.show()"
   ]
  },
  {
   "cell_type": "code",
   "execution_count": 34,
   "id": "fe664454",
   "metadata": {},
   "outputs": [
    {
     "data": {
      "text/html": [
       "<div>\n",
       "<style scoped>\n",
       "    .dataframe tbody tr th:only-of-type {\n",
       "        vertical-align: middle;\n",
       "    }\n",
       "\n",
       "    .dataframe tbody tr th {\n",
       "        vertical-align: top;\n",
       "    }\n",
       "\n",
       "    .dataframe thead th {\n",
       "        text-align: right;\n",
       "    }\n",
       "</style>\n",
       "<table border=\"1\" class=\"dataframe\">\n",
       "  <thead>\n",
       "    <tr style=\"text-align: right;\">\n",
       "      <th></th>\n",
       "      <th>user_id</th>\n",
       "      <th>distance</th>\n",
       "      <th>duration</th>\n",
       "      <th>date</th>\n",
       "      <th>month</th>\n",
       "    </tr>\n",
       "  </thead>\n",
       "  <tbody>\n",
       "    <tr>\n",
       "      <th>6531</th>\n",
       "      <td>701</td>\n",
       "      <td>4196.445201</td>\n",
       "      <td>0.5</td>\n",
       "      <td>2021-08-31</td>\n",
       "      <td>8</td>\n",
       "    </tr>\n",
       "    <tr>\n",
       "      <th>6570</th>\n",
       "      <td>704</td>\n",
       "      <td>4830.824371</td>\n",
       "      <td>0.5</td>\n",
       "      <td>2021-10-14</td>\n",
       "      <td>10</td>\n",
       "    </tr>\n",
       "    <tr>\n",
       "      <th>6680</th>\n",
       "      <td>712</td>\n",
       "      <td>4684.004397</td>\n",
       "      <td>0.5</td>\n",
       "      <td>2021-03-04</td>\n",
       "      <td>3</td>\n",
       "    </tr>\n",
       "    <tr>\n",
       "      <th>6695</th>\n",
       "      <td>713</td>\n",
       "      <td>5215.642710</td>\n",
       "      <td>0.5</td>\n",
       "      <td>2021-02-25</td>\n",
       "      <td>2</td>\n",
       "    </tr>\n",
       "    <tr>\n",
       "      <th>6768</th>\n",
       "      <td>718</td>\n",
       "      <td>5197.436649</td>\n",
       "      <td>0.5</td>\n",
       "      <td>2021-02-11</td>\n",
       "      <td>2</td>\n",
       "    </tr>\n",
       "    <tr>\n",
       "      <th>...</th>\n",
       "      <td>...</td>\n",
       "      <td>...</td>\n",
       "      <td>...</td>\n",
       "      <td>...</td>\n",
       "      <td>...</td>\n",
       "    </tr>\n",
       "    <tr>\n",
       "      <th>17004</th>\n",
       "      <td>1460</td>\n",
       "      <td>5531.335845</td>\n",
       "      <td>0.5</td>\n",
       "      <td>2021-01-19</td>\n",
       "      <td>1</td>\n",
       "    </tr>\n",
       "    <tr>\n",
       "      <th>17242</th>\n",
       "      <td>1477</td>\n",
       "      <td>6724.932981</td>\n",
       "      <td>0.5</td>\n",
       "      <td>2021-01-12</td>\n",
       "      <td>1</td>\n",
       "    </tr>\n",
       "    <tr>\n",
       "      <th>17314</th>\n",
       "      <td>1483</td>\n",
       "      <td>4445.481070</td>\n",
       "      <td>0.5</td>\n",
       "      <td>2021-03-06</td>\n",
       "      <td>3</td>\n",
       "    </tr>\n",
       "    <tr>\n",
       "      <th>17505</th>\n",
       "      <td>1496</td>\n",
       "      <td>5722.551787</td>\n",
       "      <td>0.5</td>\n",
       "      <td>2021-02-14</td>\n",
       "      <td>2</td>\n",
       "    </tr>\n",
       "    <tr>\n",
       "      <th>17909</th>\n",
       "      <td>1524</td>\n",
       "      <td>4103.998874</td>\n",
       "      <td>0.5</td>\n",
       "      <td>2021-06-18</td>\n",
       "      <td>6</td>\n",
       "    </tr>\n",
       "  </tbody>\n",
       "</table>\n",
       "<p>95 rows × 5 columns</p>\n",
       "</div>"
      ],
      "text/plain": [
       "       user_id     distance  duration       date  month\n",
       "6531       701  4196.445201       0.5 2021-08-31      8\n",
       "6570       704  4830.824371       0.5 2021-10-14     10\n",
       "6680       712  4684.004397       0.5 2021-03-04      3\n",
       "6695       713  5215.642710       0.5 2021-02-25      2\n",
       "6768       718  5197.436649       0.5 2021-02-11      2\n",
       "...        ...          ...       ...        ...    ...\n",
       "17004     1460  5531.335845       0.5 2021-01-19      1\n",
       "17242     1477  6724.932981       0.5 2021-01-12      1\n",
       "17314     1483  4445.481070       0.5 2021-03-06      3\n",
       "17505     1496  5722.551787       0.5 2021-02-14      2\n",
       "17909     1524  4103.998874       0.5 2021-06-18      6\n",
       "\n",
       "[95 rows x 5 columns]"
      ]
     },
     "metadata": {},
     "output_type": "display_data"
    },
    {
     "name": "stdout",
     "output_type": "stream",
     "text": [
      "Процент аномально коротких поездок (продлились 0.5 минут): 0.53\n"
     ]
    }
   ],
   "source": [
    "rides_min = rides.query('duration < 2.0')\n",
    "display (rides_min)\n",
    "print('Процент аномально коротких поездок (продлились 0.5 минут):', round((len(rides_min)*100)/len(rides), 2))"
   ]
  },
  {
   "cell_type": "code",
   "execution_count": 35,
   "id": "f3f3fabb",
   "metadata": {},
   "outputs": [],
   "source": [
    "#rides = rides.query('duration >= 2.0')"
   ]
  },
  {
   "cell_type": "markdown",
   "id": "c7580b41",
   "metadata": {},
   "source": [
    "***Пояснение:***\n",
    "\n",
    "- В среднем продолжительность одной поездки составляет примерно 18 минут.\n",
    "- Медианное значение (менее подверженное аномальным значениям или выбросам в данных) также составляет примерно 18 минут.\n",
    "- В данных также присутствуют выбросы, как, например, 41 минута или 0.5 минут. Однако, предположительно, только аномально долгие поездки не являются результатом ошибки, а лишь подчеркивают зависимость использования электросамокатов от различных факторов (погодные условия, конечная цель и т.д.).\n",
    "- Отдельно были рассмотрены аномально короткие поездки (продлились 0.5 минут), их процент от всех данных составил 0,53%. Однако, в дальнейшем рекомендуется рассмотреть такие значения, так как они могут быть отражением технической ошибки сервиса или неудовлетворенности пользователей сервисом, но также причиной их появления может быть какая-либо акция."
   ]
  },
  {
   "cell_type": "markdown",
   "id": "cef86648",
   "metadata": {},
   "source": [
    "___\n",
    "<a id=\"merge\"></a>\n",
    "## Объединение данных\n",
    "___"
   ]
  },
  {
   "cell_type": "markdown",
   "id": "022c497e",
   "metadata": {},
   "source": [
    "<a id=\"merge1\"></a>\n",
    "### Объединение датасетов\n",
    "___"
   ]
  },
  {
   "cell_type": "code",
   "execution_count": 36,
   "id": "72bed3d0",
   "metadata": {},
   "outputs": [
    {
     "data": {
      "text/html": [
       "<div>\n",
       "<style scoped>\n",
       "    .dataframe tbody tr th:only-of-type {\n",
       "        vertical-align: middle;\n",
       "    }\n",
       "\n",
       "    .dataframe tbody tr th {\n",
       "        vertical-align: top;\n",
       "    }\n",
       "\n",
       "    .dataframe thead th {\n",
       "        text-align: right;\n",
       "    }\n",
       "</style>\n",
       "<table border=\"1\" class=\"dataframe\">\n",
       "  <thead>\n",
       "    <tr style=\"text-align: right;\">\n",
       "      <th></th>\n",
       "      <th>user_id</th>\n",
       "      <th>name</th>\n",
       "      <th>age</th>\n",
       "      <th>city</th>\n",
       "      <th>subscription_type</th>\n",
       "      <th>minute_price</th>\n",
       "      <th>start_ride_price</th>\n",
       "      <th>subscription_fee</th>\n",
       "      <th>distance</th>\n",
       "      <th>duration</th>\n",
       "      <th>date</th>\n",
       "      <th>month</th>\n",
       "    </tr>\n",
       "  </thead>\n",
       "  <tbody>\n",
       "    <tr>\n",
       "      <th>0</th>\n",
       "      <td>1</td>\n",
       "      <td>Кира</td>\n",
       "      <td>22</td>\n",
       "      <td>Тюмень</td>\n",
       "      <td>ultra</td>\n",
       "      <td>6</td>\n",
       "      <td>0</td>\n",
       "      <td>199</td>\n",
       "      <td>4409.919140</td>\n",
       "      <td>25.599769</td>\n",
       "      <td>2021-01-01</td>\n",
       "      <td>1</td>\n",
       "    </tr>\n",
       "    <tr>\n",
       "      <th>1</th>\n",
       "      <td>1</td>\n",
       "      <td>Кира</td>\n",
       "      <td>22</td>\n",
       "      <td>Тюмень</td>\n",
       "      <td>ultra</td>\n",
       "      <td>6</td>\n",
       "      <td>0</td>\n",
       "      <td>199</td>\n",
       "      <td>2617.592153</td>\n",
       "      <td>15.816871</td>\n",
       "      <td>2021-01-18</td>\n",
       "      <td>1</td>\n",
       "    </tr>\n",
       "    <tr>\n",
       "      <th>2</th>\n",
       "      <td>1</td>\n",
       "      <td>Кира</td>\n",
       "      <td>22</td>\n",
       "      <td>Тюмень</td>\n",
       "      <td>ultra</td>\n",
       "      <td>6</td>\n",
       "      <td>0</td>\n",
       "      <td>199</td>\n",
       "      <td>754.159807</td>\n",
       "      <td>6.232113</td>\n",
       "      <td>2021-04-20</td>\n",
       "      <td>4</td>\n",
       "    </tr>\n",
       "    <tr>\n",
       "      <th>3</th>\n",
       "      <td>1</td>\n",
       "      <td>Кира</td>\n",
       "      <td>22</td>\n",
       "      <td>Тюмень</td>\n",
       "      <td>ultra</td>\n",
       "      <td>6</td>\n",
       "      <td>0</td>\n",
       "      <td>199</td>\n",
       "      <td>2694.783254</td>\n",
       "      <td>18.511000</td>\n",
       "      <td>2021-08-11</td>\n",
       "      <td>8</td>\n",
       "    </tr>\n",
       "    <tr>\n",
       "      <th>4</th>\n",
       "      <td>1</td>\n",
       "      <td>Кира</td>\n",
       "      <td>22</td>\n",
       "      <td>Тюмень</td>\n",
       "      <td>ultra</td>\n",
       "      <td>6</td>\n",
       "      <td>0</td>\n",
       "      <td>199</td>\n",
       "      <td>4028.687306</td>\n",
       "      <td>26.265803</td>\n",
       "      <td>2021-08-28</td>\n",
       "      <td>8</td>\n",
       "    </tr>\n",
       "  </tbody>\n",
       "</table>\n",
       "</div>"
      ],
      "text/plain": [
       "   user_id  name  age    city subscription_type  minute_price  \\\n",
       "0        1  Кира   22  Тюмень             ultra             6   \n",
       "1        1  Кира   22  Тюмень             ultra             6   \n",
       "2        1  Кира   22  Тюмень             ultra             6   \n",
       "3        1  Кира   22  Тюмень             ultra             6   \n",
       "4        1  Кира   22  Тюмень             ultra             6   \n",
       "\n",
       "   start_ride_price  subscription_fee     distance   duration       date  \\\n",
       "0                 0               199  4409.919140  25.599769 2021-01-01   \n",
       "1                 0               199  2617.592153  15.816871 2021-01-18   \n",
       "2                 0               199   754.159807   6.232113 2021-04-20   \n",
       "3                 0               199  2694.783254  18.511000 2021-08-11   \n",
       "4                 0               199  4028.687306  26.265803 2021-08-28   \n",
       "\n",
       "   month  \n",
       "0      1  \n",
       "1      1  \n",
       "2      4  \n",
       "3      8  \n",
       "4      8  "
      ]
     },
     "execution_count": 36,
     "metadata": {},
     "output_type": "execute_result"
    }
   ],
   "source": [
    "# Объединение датасетов users и subscriptions\n",
    "users_sub = pd.merge(\n",
    "     users, subscriptions, how=\"left\", on= \"subscription_type\"\n",
    ")\n",
    "\n",
    "# Объединение датасетов rides и users-subscriptions\n",
    "data_full = pd.merge(\n",
    "     users_sub, rides, how=\"right\", on=[\"user_id\", \"user_id\"]\n",
    ")\n",
    "\n",
    "data_full.head()"
   ]
  },
  {
   "cell_type": "code",
   "execution_count": 37,
   "id": "031ad2bc",
   "metadata": {},
   "outputs": [
    {
     "data": {
      "text/plain": [
       "18068"
      ]
     },
     "metadata": {},
     "output_type": "display_data"
    },
    {
     "data": {
      "text/plain": [
       "18068"
      ]
     },
     "execution_count": 37,
     "metadata": {},
     "output_type": "execute_result"
    }
   ],
   "source": [
    "# Проверка, что данные не потеряны/неизлишне\n",
    "display (len(rides))\n",
    "len(data_full)"
   ]
  },
  {
   "cell_type": "markdown",
   "id": "4725d110",
   "metadata": {},
   "source": [
    "____\n",
    "<a id=\"merge2\"></a>\n",
    "### Создание датасетов пользователей \"с подпиской\" и \"без подписки\"\n",
    "____"
   ]
  },
  {
   "cell_type": "code",
   "execution_count": 38,
   "id": "5fad7c00",
   "metadata": {},
   "outputs": [
    {
     "data": {
      "text/html": [
       "<div>\n",
       "<style scoped>\n",
       "    .dataframe tbody tr th:only-of-type {\n",
       "        vertical-align: middle;\n",
       "    }\n",
       "\n",
       "    .dataframe tbody tr th {\n",
       "        vertical-align: top;\n",
       "    }\n",
       "\n",
       "    .dataframe thead th {\n",
       "        text-align: right;\n",
       "    }\n",
       "</style>\n",
       "<table border=\"1\" class=\"dataframe\">\n",
       "  <thead>\n",
       "    <tr style=\"text-align: right;\">\n",
       "      <th></th>\n",
       "      <th>user_id</th>\n",
       "      <th>name</th>\n",
       "      <th>age</th>\n",
       "      <th>city</th>\n",
       "      <th>subscription_type</th>\n",
       "      <th>minute_price</th>\n",
       "      <th>start_ride_price</th>\n",
       "      <th>subscription_fee</th>\n",
       "      <th>distance</th>\n",
       "      <th>duration</th>\n",
       "      <th>date</th>\n",
       "      <th>month</th>\n",
       "    </tr>\n",
       "  </thead>\n",
       "  <tbody>\n",
       "    <tr>\n",
       "      <th>6500</th>\n",
       "      <td>700</td>\n",
       "      <td>Айдар</td>\n",
       "      <td>22</td>\n",
       "      <td>Омск</td>\n",
       "      <td>free</td>\n",
       "      <td>8</td>\n",
       "      <td>50</td>\n",
       "      <td>0</td>\n",
       "      <td>2515.690719</td>\n",
       "      <td>14.944286</td>\n",
       "      <td>2021-01-02</td>\n",
       "      <td>1</td>\n",
       "    </tr>\n",
       "    <tr>\n",
       "      <th>6501</th>\n",
       "      <td>700</td>\n",
       "      <td>Айдар</td>\n",
       "      <td>22</td>\n",
       "      <td>Омск</td>\n",
       "      <td>free</td>\n",
       "      <td>8</td>\n",
       "      <td>50</td>\n",
       "      <td>0</td>\n",
       "      <td>846.932642</td>\n",
       "      <td>16.234663</td>\n",
       "      <td>2021-02-01</td>\n",
       "      <td>2</td>\n",
       "    </tr>\n",
       "    <tr>\n",
       "      <th>6502</th>\n",
       "      <td>700</td>\n",
       "      <td>Айдар</td>\n",
       "      <td>22</td>\n",
       "      <td>Омск</td>\n",
       "      <td>free</td>\n",
       "      <td>8</td>\n",
       "      <td>50</td>\n",
       "      <td>0</td>\n",
       "      <td>4004.434142</td>\n",
       "      <td>20.016628</td>\n",
       "      <td>2021-02-04</td>\n",
       "      <td>2</td>\n",
       "    </tr>\n",
       "    <tr>\n",
       "      <th>6503</th>\n",
       "      <td>700</td>\n",
       "      <td>Айдар</td>\n",
       "      <td>22</td>\n",
       "      <td>Омск</td>\n",
       "      <td>free</td>\n",
       "      <td>8</td>\n",
       "      <td>50</td>\n",
       "      <td>0</td>\n",
       "      <td>1205.911290</td>\n",
       "      <td>9.782872</td>\n",
       "      <td>2021-02-10</td>\n",
       "      <td>2</td>\n",
       "    </tr>\n",
       "    <tr>\n",
       "      <th>6504</th>\n",
       "      <td>700</td>\n",
       "      <td>Айдар</td>\n",
       "      <td>22</td>\n",
       "      <td>Омск</td>\n",
       "      <td>free</td>\n",
       "      <td>8</td>\n",
       "      <td>50</td>\n",
       "      <td>0</td>\n",
       "      <td>3047.379435</td>\n",
       "      <td>17.427673</td>\n",
       "      <td>2021-02-14</td>\n",
       "      <td>2</td>\n",
       "    </tr>\n",
       "  </tbody>\n",
       "</table>\n",
       "</div>"
      ],
      "text/plain": [
       "      user_id   name  age  city subscription_type  minute_price  \\\n",
       "6500      700  Айдар   22  Омск              free             8   \n",
       "6501      700  Айдар   22  Омск              free             8   \n",
       "6502      700  Айдар   22  Омск              free             8   \n",
       "6503      700  Айдар   22  Омск              free             8   \n",
       "6504      700  Айдар   22  Омск              free             8   \n",
       "\n",
       "      start_ride_price  subscription_fee     distance   duration       date  \\\n",
       "6500                50                 0  2515.690719  14.944286 2021-01-02   \n",
       "6501                50                 0   846.932642  16.234663 2021-02-01   \n",
       "6502                50                 0  4004.434142  20.016628 2021-02-04   \n",
       "6503                50                 0  1205.911290   9.782872 2021-02-10   \n",
       "6504                50                 0  3047.379435  17.427673 2021-02-14   \n",
       "\n",
       "      month  \n",
       "6500      1  \n",
       "6501      2  \n",
       "6502      2  \n",
       "6503      2  \n",
       "6504      2  "
      ]
     },
     "metadata": {},
     "output_type": "display_data"
    },
    {
     "data": {
      "text/html": [
       "<div>\n",
       "<style scoped>\n",
       "    .dataframe tbody tr th:only-of-type {\n",
       "        vertical-align: middle;\n",
       "    }\n",
       "\n",
       "    .dataframe tbody tr th {\n",
       "        vertical-align: top;\n",
       "    }\n",
       "\n",
       "    .dataframe thead th {\n",
       "        text-align: right;\n",
       "    }\n",
       "</style>\n",
       "<table border=\"1\" class=\"dataframe\">\n",
       "  <thead>\n",
       "    <tr style=\"text-align: right;\">\n",
       "      <th></th>\n",
       "      <th>user_id</th>\n",
       "      <th>name</th>\n",
       "      <th>age</th>\n",
       "      <th>city</th>\n",
       "      <th>subscription_type</th>\n",
       "      <th>minute_price</th>\n",
       "      <th>start_ride_price</th>\n",
       "      <th>subscription_fee</th>\n",
       "      <th>distance</th>\n",
       "      <th>duration</th>\n",
       "      <th>date</th>\n",
       "      <th>month</th>\n",
       "    </tr>\n",
       "  </thead>\n",
       "  <tbody>\n",
       "    <tr>\n",
       "      <th>0</th>\n",
       "      <td>1</td>\n",
       "      <td>Кира</td>\n",
       "      <td>22</td>\n",
       "      <td>Тюмень</td>\n",
       "      <td>ultra</td>\n",
       "      <td>6</td>\n",
       "      <td>0</td>\n",
       "      <td>199</td>\n",
       "      <td>4409.919140</td>\n",
       "      <td>25.599769</td>\n",
       "      <td>2021-01-01</td>\n",
       "      <td>1</td>\n",
       "    </tr>\n",
       "    <tr>\n",
       "      <th>1</th>\n",
       "      <td>1</td>\n",
       "      <td>Кира</td>\n",
       "      <td>22</td>\n",
       "      <td>Тюмень</td>\n",
       "      <td>ultra</td>\n",
       "      <td>6</td>\n",
       "      <td>0</td>\n",
       "      <td>199</td>\n",
       "      <td>2617.592153</td>\n",
       "      <td>15.816871</td>\n",
       "      <td>2021-01-18</td>\n",
       "      <td>1</td>\n",
       "    </tr>\n",
       "    <tr>\n",
       "      <th>2</th>\n",
       "      <td>1</td>\n",
       "      <td>Кира</td>\n",
       "      <td>22</td>\n",
       "      <td>Тюмень</td>\n",
       "      <td>ultra</td>\n",
       "      <td>6</td>\n",
       "      <td>0</td>\n",
       "      <td>199</td>\n",
       "      <td>754.159807</td>\n",
       "      <td>6.232113</td>\n",
       "      <td>2021-04-20</td>\n",
       "      <td>4</td>\n",
       "    </tr>\n",
       "    <tr>\n",
       "      <th>3</th>\n",
       "      <td>1</td>\n",
       "      <td>Кира</td>\n",
       "      <td>22</td>\n",
       "      <td>Тюмень</td>\n",
       "      <td>ultra</td>\n",
       "      <td>6</td>\n",
       "      <td>0</td>\n",
       "      <td>199</td>\n",
       "      <td>2694.783254</td>\n",
       "      <td>18.511000</td>\n",
       "      <td>2021-08-11</td>\n",
       "      <td>8</td>\n",
       "    </tr>\n",
       "    <tr>\n",
       "      <th>4</th>\n",
       "      <td>1</td>\n",
       "      <td>Кира</td>\n",
       "      <td>22</td>\n",
       "      <td>Тюмень</td>\n",
       "      <td>ultra</td>\n",
       "      <td>6</td>\n",
       "      <td>0</td>\n",
       "      <td>199</td>\n",
       "      <td>4028.687306</td>\n",
       "      <td>26.265803</td>\n",
       "      <td>2021-08-28</td>\n",
       "      <td>8</td>\n",
       "    </tr>\n",
       "  </tbody>\n",
       "</table>\n",
       "</div>"
      ],
      "text/plain": [
       "   user_id  name  age    city subscription_type  minute_price  \\\n",
       "0        1  Кира   22  Тюмень             ultra             6   \n",
       "1        1  Кира   22  Тюмень             ultra             6   \n",
       "2        1  Кира   22  Тюмень             ultra             6   \n",
       "3        1  Кира   22  Тюмень             ultra             6   \n",
       "4        1  Кира   22  Тюмень             ultra             6   \n",
       "\n",
       "   start_ride_price  subscription_fee     distance   duration       date  \\\n",
       "0                 0               199  4409.919140  25.599769 2021-01-01   \n",
       "1                 0               199  2617.592153  15.816871 2021-01-18   \n",
       "2                 0               199   754.159807   6.232113 2021-04-20   \n",
       "3                 0               199  2694.783254  18.511000 2021-08-11   \n",
       "4                 0               199  4028.687306  26.265803 2021-08-28   \n",
       "\n",
       "   month  \n",
       "0      1  \n",
       "1      1  \n",
       "2      4  \n",
       "3      8  \n",
       "4      8  "
      ]
     },
     "metadata": {},
     "output_type": "display_data"
    }
   ],
   "source": [
    "# Создание датасета с пользователями без подписки\n",
    "without_subscrip = data_full.query ('subscription_type == \"free\"')\n",
    "display (without_subscrip.head())\n",
    "\n",
    "# Создание датасета с пользователями с подпиской\n",
    "with_subscrip = data_full.query ('subscription_type == \"ultra\"')\n",
    "\n",
    "display (with_subscrip.head())"
   ]
  },
  {
   "cell_type": "markdown",
   "id": "6f5557e1",
   "metadata": {},
   "source": [
    "____\n",
    "<a id=\"merge3\"></a>\n",
    "### Визуализация информации о расстоянии и времени поездок для пользователей обеих категорий\n",
    "____"
   ]
  },
  {
   "cell_type": "markdown",
   "id": "c9bd0da7",
   "metadata": {},
   "source": [
    "<a id=\"merge31\"></a>\n",
    "#### Время поездок"
   ]
  },
  {
   "cell_type": "code",
   "execution_count": 39,
   "id": "9040ebe7",
   "metadata": {},
   "outputs": [
    {
     "data": {
      "text/plain": [
       "'Без подписки'"
      ]
     },
     "metadata": {},
     "output_type": "display_data"
    },
    {
     "data": {
      "text/plain": [
       "count    11568.000000\n",
       "mean        17.390909\n",
       "std          6.326803\n",
       "min          0.500000\n",
       "25%         12.958437\n",
       "50%         17.326890\n",
       "75%         21.594071\n",
       "max         34.948498\n",
       "Name: duration, dtype: float64"
      ]
     },
     "metadata": {},
     "output_type": "display_data"
    },
    {
     "data": {
      "text/plain": [
       "'С подпиской'"
      ]
     },
     "metadata": {},
     "output_type": "display_data"
    },
    {
     "data": {
      "text/plain": [
       "count    6500.000000\n",
       "mean       18.541985\n",
       "std         5.572048\n",
       "min         3.760353\n",
       "25%        14.524654\n",
       "50%        18.178153\n",
       "75%        21.884129\n",
       "max        40.823963\n",
       "Name: duration, dtype: float64"
      ]
     },
     "metadata": {},
     "output_type": "display_data"
    },
    {
     "data": {
      "image/png": "[encoded data removed]",
      "text/plain": [
       "<Figure size 1224x144 with 1 Axes>"
      ]
     },
     "metadata": {
      "needs_background": "light"
     },
     "output_type": "display_data"
    },
    {
     "data": {
      "image/png": "[encoded data removed]",
      "text/plain": [
       "<Figure size 864x576 with 1 Axes>"
      ]
     },
     "metadata": {
      "needs_background": "light"
     },
     "output_type": "display_data"
    }
   ],
   "source": [
    "# Описание:\n",
    "display ('Без подписки', without_subscrip['duration'].describe())\n",
    "display ('С подпиской',with_subscrip['duration'].describe())\n",
    "\n",
    "# Диаграмма размаха:\n",
    "plt.figure (figsize = (17,2))\n",
    "sns.boxplot(x = 'duration', y = 'subscription_type', data = data_full, orient='h')\n",
    "plt.xticks(fontsize = 12)\n",
    "plt.yticks(fontsize = 12)\n",
    "plt.title('Диаграмма размаха продолжительности поездок для пользователей \"с подпиской\" и \"без подписки\"', fontsize = 16)\n",
    "plt.ylabel('') \n",
    "plt.xlabel('')\n",
    "plt.show()\n",
    "\n",
    "# Гистограмма:\n",
    "plt.figure(figsize=(12,8))\n",
    "plt.hist([without_subscrip['duration'], with_subscrip['duration']], bins=25, stacked = True, \\\n",
    "         color = ['orange', 'mediumpurple'])\n",
    "plt.xlabel('Продолжительность в минутах', fontsize = 12)\n",
    "plt.ylabel('Частота появления', fontsize = 12)    \n",
    "plt.title('Распределение продолжительности поездок для пользователей \"с подпиской\" и \"без подписки\"', fontsize = 16)\n",
    "plt.legend(['\"без подписки\"', '\"с подпиской\"'])\n",
    "plt.show()"
   ]
  },
  {
   "cell_type": "markdown",
   "id": "5459766b",
   "metadata": {},
   "source": [
    "___\n",
    "**Пояснение:**\n",
    "\n",
    "\"Продолжительность\":\n",
    "\n",
    "- Показатели двух групп пользователей очень близки друг к другу, например, среднее значение продолжительности поездки для подписчиков равно  18.6 минут, а для неподписчиков - 17.4 минут, или медиана, аналогично для первых - 18.1 минут, а для вторых - 17.3 минут.\n",
    "\n",
    "- Вид гистограммы - колокольный, что свидетельствует о том, что данные обеих групп распределены нормально. Однако, есть небольшой пик в начале значений, скорее всего, это отражение аномально малых значений (равных 0.5 минут).\n",
    "\n",
    "- В данных обеих групп присутствуют выбросы в виде очень малой продолжительности или, наоборот, очень большой. Более того, в данных \"подписчиков\" больше таких значений, чем в данных пользователей без подписки.\n",
    "___"
   ]
  },
  {
   "cell_type": "markdown",
   "id": "73f42ac7",
   "metadata": {},
   "source": [
    "____\n",
    "<a id=\"merge32\"></a>\n",
    "#### Расстояние поездок"
   ]
  },
  {
   "cell_type": "code",
   "execution_count": 40,
   "id": "d0d149b5",
   "metadata": {},
   "outputs": [
    {
     "data": {
      "text/plain": [
       "'Без подписки'"
      ]
     },
     "metadata": {},
     "output_type": "display_data"
    },
    {
     "data": {
      "text/plain": [
       "count    11568.000000\n",
       "mean      3045.495282\n",
       "std       1246.173806\n",
       "min          0.855683\n",
       "25%       2366.562689\n",
       "50%       3114.648465\n",
       "75%       3905.697894\n",
       "max       7211.007745\n",
       "Name: distance, dtype: float64"
      ]
     },
     "metadata": {},
     "output_type": "display_data"
    },
    {
     "data": {
      "text/plain": [
       "'С подпиской'"
      ]
     },
     "metadata": {},
     "output_type": "display_data"
    },
    {
     "data": {
      "text/plain": [
       "count    6500.000000\n",
       "mean     3115.445388\n",
       "std       836.895330\n",
       "min       244.210438\n",
       "25%      2785.444017\n",
       "50%      3148.637229\n",
       "75%      3560.574425\n",
       "max      5699.769662\n",
       "Name: distance, dtype: float64"
      ]
     },
     "metadata": {},
     "output_type": "display_data"
    },
    {
     "data": {
      "image/png": "[encoded data removed]",
      "text/plain": [
       "<Figure size 1224x144 with 1 Axes>"
      ]
     },
     "metadata": {
      "needs_background": "light"
     },
     "output_type": "display_data"
    },
    {
     "data": {
      "image/png": "[encoded data removed]",
      "text/plain": [
       "<Figure size 864x576 with 1 Axes>"
      ]
     },
     "metadata": {
      "needs_background": "light"
     },
     "output_type": "display_data"
    }
   ],
   "source": [
    "# Описание:\n",
    "display ('Без подписки', without_subscrip['distance'].describe())\n",
    "display ('С подпиской',with_subscrip['distance'].describe())\n",
    "\n",
    "# Диаграмма размаха:\n",
    "plt.figure (figsize = (17,2))\n",
    "sns.boxplot(x = 'distance', y = 'subscription_type', data = data_full, orient='h')\n",
    "plt.xticks(fontsize = 12)\n",
    "plt.yticks(fontsize = 12)\n",
    "plt.title('Диаграмма размаха расстояния поездок для пользователей \"с подпиской\" и \"без подписки\"', fontsize = 16)\n",
    "plt.ylabel('') \n",
    "plt.xlabel('')\n",
    "plt.show()\n",
    "\n",
    "# Гистограмма:\n",
    "plt.figure(figsize=(12,8))\n",
    "plt.hist([without_subscrip['distance'], with_subscrip['distance']], bins=25, stacked = True, \\\n",
    "         color = ['orange', 'mediumpurple'])\n",
    "plt.xlabel('Расстояние в метрах', fontsize = 12)\n",
    "plt.ylabel('Частота появления', fontsize = 12)    \n",
    "plt.title('Распределение расстояния поездок для пользователей \"с подпиской\" и \"без подписки\"', fontsize = 16)\n",
    "plt.legend(['\"без подписки\"', '\"с подпиской\"'])\n",
    "plt.show()"
   ]
  },
  {
   "cell_type": "markdown",
   "id": "04de92f9",
   "metadata": {},
   "source": [
    "___\n",
    "\n",
    "**Пояснение:**\n",
    "\n",
    "\"Расстояние\":\n",
    "\n",
    "- Показатели двух групп пользователей близки друг к другу, например, среднее значение расстояния поездки для подписчиков равно 3115.4 метров, а для неподписчиков - 3045.5 метров, или медиана первых - 3148.6 метров, а для вторых - 3114.6 минут.\n",
    "\n",
    "- Вид гистограммы - бимодальный, что свидетельствует о том, что в данных обеих групп присутсвует две моды, то есть можно разделить данные для них на две группы, например, \"короткие поездки\" и \"длинные поездки\".\n",
    "\n",
    "- В данных обеих групп присутствуют выбросы в виде очень малого расстояния или, наоборот, очень большое. Более того, в данных \"подписчиков\" больше таких значений, чем в данных пользователей без подписки. \n",
    "___"
   ]
  },
  {
   "cell_type": "markdown",
   "id": "9f21723e",
   "metadata": {},
   "source": [
    "___\n",
    "<a id=\"revenue\"></a>\n",
    "## Подсчёт выручки\n",
    "___"
   ]
  },
  {
   "cell_type": "code",
   "execution_count": 41,
   "id": "8964ab77",
   "metadata": {},
   "outputs": [],
   "source": [
    "# Создание функции summary(x) для агрегации данных\n",
    "#def summary(x):\n",
    "    #result = {\n",
    "        #'distance_sum': x['distance'].sum(),\n",
    "        #'rides_count': x['month'].count(),\n",
    "        #'duration_sum': x['duration'].sum()\n",
    "    #}\n",
    "    #return pd.Series(result)\n",
    "\n",
    "# Применение функции summary(x) для создания нового датасета с агрегированными данными\n",
    "#data_summed = data_full.groupby(['user_id', 'month', 'subscription_type']).apply(summary).reset_index()\n",
    "#data_summed"
   ]
  },
  {
   "cell_type": "code",
   "execution_count": 42,
   "id": "4939bc42",
   "metadata": {},
   "outputs": [],
   "source": [
    "# Округление значений продолжительности \"до потолка\" в объедененной таблице data_full\n",
    "data_full['duration'] = np.ceil(data_full['duration']).astype('int')"
   ]
  },
  {
   "cell_type": "code",
   "execution_count": 43,
   "id": "49b9d522",
   "metadata": {},
   "outputs": [
    {
     "data": {
      "text/html": [
       "<div>\n",
       "<style scoped>\n",
       "    .dataframe tbody tr th:only-of-type {\n",
       "        vertical-align: middle;\n",
       "    }\n",
       "\n",
       "    .dataframe tbody tr th {\n",
       "        vertical-align: top;\n",
       "    }\n",
       "\n",
       "    .dataframe thead th {\n",
       "        text-align: right;\n",
       "    }\n",
       "</style>\n",
       "<table border=\"1\" class=\"dataframe\">\n",
       "  <thead>\n",
       "    <tr style=\"text-align: right;\">\n",
       "      <th></th>\n",
       "      <th>user_id</th>\n",
       "      <th>month</th>\n",
       "      <th>subscription_type</th>\n",
       "      <th>distance_sum</th>\n",
       "      <th>rides_count</th>\n",
       "      <th>duration_sum</th>\n",
       "    </tr>\n",
       "  </thead>\n",
       "  <tbody>\n",
       "    <tr>\n",
       "      <th>0</th>\n",
       "      <td>1</td>\n",
       "      <td>1</td>\n",
       "      <td>ultra</td>\n",
       "      <td>7027.511294</td>\n",
       "      <td>2</td>\n",
       "      <td>42</td>\n",
       "    </tr>\n",
       "    <tr>\n",
       "      <th>1</th>\n",
       "      <td>1</td>\n",
       "      <td>4</td>\n",
       "      <td>ultra</td>\n",
       "      <td>754.159807</td>\n",
       "      <td>1</td>\n",
       "      <td>7</td>\n",
       "    </tr>\n",
       "    <tr>\n",
       "      <th>2</th>\n",
       "      <td>1</td>\n",
       "      <td>8</td>\n",
       "      <td>ultra</td>\n",
       "      <td>6723.470560</td>\n",
       "      <td>2</td>\n",
       "      <td>46</td>\n",
       "    </tr>\n",
       "    <tr>\n",
       "      <th>3</th>\n",
       "      <td>1</td>\n",
       "      <td>10</td>\n",
       "      <td>ultra</td>\n",
       "      <td>5809.911100</td>\n",
       "      <td>2</td>\n",
       "      <td>32</td>\n",
       "    </tr>\n",
       "    <tr>\n",
       "      <th>4</th>\n",
       "      <td>1</td>\n",
       "      <td>11</td>\n",
       "      <td>ultra</td>\n",
       "      <td>7003.499363</td>\n",
       "      <td>3</td>\n",
       "      <td>56</td>\n",
       "    </tr>\n",
       "    <tr>\n",
       "      <th>...</th>\n",
       "      <td>...</td>\n",
       "      <td>...</td>\n",
       "      <td>...</td>\n",
       "      <td>...</td>\n",
       "      <td>...</td>\n",
       "      <td>...</td>\n",
       "    </tr>\n",
       "    <tr>\n",
       "      <th>11326</th>\n",
       "      <td>1534</td>\n",
       "      <td>6</td>\n",
       "      <td>free</td>\n",
       "      <td>3409.468534</td>\n",
       "      <td>2</td>\n",
       "      <td>26</td>\n",
       "    </tr>\n",
       "    <tr>\n",
       "      <th>11327</th>\n",
       "      <td>1534</td>\n",
       "      <td>8</td>\n",
       "      <td>free</td>\n",
       "      <td>7622.453034</td>\n",
       "      <td>2</td>\n",
       "      <td>48</td>\n",
       "    </tr>\n",
       "    <tr>\n",
       "      <th>11328</th>\n",
       "      <td>1534</td>\n",
       "      <td>9</td>\n",
       "      <td>free</td>\n",
       "      <td>4928.173852</td>\n",
       "      <td>1</td>\n",
       "      <td>23</td>\n",
       "    </tr>\n",
       "    <tr>\n",
       "      <th>11329</th>\n",
       "      <td>1534</td>\n",
       "      <td>11</td>\n",
       "      <td>free</td>\n",
       "      <td>13350.015305</td>\n",
       "      <td>4</td>\n",
       "      <td>78</td>\n",
       "    </tr>\n",
       "    <tr>\n",
       "      <th>11330</th>\n",
       "      <td>1534</td>\n",
       "      <td>12</td>\n",
       "      <td>free</td>\n",
       "      <td>2371.711192</td>\n",
       "      <td>1</td>\n",
       "      <td>16</td>\n",
       "    </tr>\n",
       "  </tbody>\n",
       "</table>\n",
       "<p>11331 rows × 6 columns</p>\n",
       "</div>"
      ],
      "text/plain": [
       "       user_id  month subscription_type  distance_sum  rides_count  \\\n",
       "0            1      1             ultra   7027.511294            2   \n",
       "1            1      4             ultra    754.159807            1   \n",
       "2            1      8             ultra   6723.470560            2   \n",
       "3            1     10             ultra   5809.911100            2   \n",
       "4            1     11             ultra   7003.499363            3   \n",
       "...        ...    ...               ...           ...          ...   \n",
       "11326     1534      6              free   3409.468534            2   \n",
       "11327     1534      8              free   7622.453034            2   \n",
       "11328     1534      9              free   4928.173852            1   \n",
       "11329     1534     11              free  13350.015305            4   \n",
       "11330     1534     12              free   2371.711192            1   \n",
       "\n",
       "       duration_sum  \n",
       "0                42  \n",
       "1                 7  \n",
       "2                46  \n",
       "3                32  \n",
       "4                56  \n",
       "...             ...  \n",
       "11326            26  \n",
       "11327            48  \n",
       "11328            23  \n",
       "11329            78  \n",
       "11330            16  \n",
       "\n",
       "[11331 rows x 6 columns]"
      ]
     },
     "execution_count": 43,
     "metadata": {},
     "output_type": "execute_result"
    }
   ],
   "source": [
    "# Создание нового датасета с агрегированными данными\n",
    "data_summed = data_full\\\n",
    ".groupby(['user_id', 'month', 'subscription_type'])\\\n",
    ".agg({'distance': ['sum'], 'month': ['count'], 'duration': ['sum']})\\\n",
    ".reset_index()\n",
    "\n",
    "# Переименование столбцов\n",
    "data_summed.columns = ['user_id', 'month', 'subscription_type', 'distance_sum', 'rides_count', 'duration_sum']\n",
    "\n",
    "data_summed"
   ]
  },
  {
   "cell_type": "markdown",
   "id": "cd491e22",
   "metadata": {},
   "source": [
    "____"
   ]
  },
  {
   "cell_type": "markdown",
   "id": "c4491468",
   "metadata": {},
   "source": [
    "|| ***без подписки Free:*** | ***с подпиской Ultra:*** |\n",
    "| --- | --- | --- |\n",
    "|абонентская плата|  0 руб./месяц | 199 руб./месяц |\n",
    "|стоимость одной минуты поездки|  8 руб.|6 руб.|\n",
    "|стоимость старта (начала поездки)| 50 руб.|0 руб.|\n",
    "|помесячная выручка|стоимость старта поездки * количество поездок + стоимость одной минуты поездки * общая продолжительность всех поездок в минутах + стоимость подписки|стоимость старта поездки * количество поездок + стоимость одной минуты поездки * общая продолжительность всех поездок в минутах + стоимость подписки|\n",
    "\n",
    "\n",
    "\n",
    "\n"
   ]
  },
  {
   "cell_type": "code",
   "execution_count": 44,
   "id": "5ee71854",
   "metadata": {},
   "outputs": [],
   "source": [
    "# Подсчет выручки от пользователей (другие варианты):\n",
    "\n",
    "# 1 вариант:\n",
    "#for i in data_summed['subscription_type']:\n",
    "    #if i == 'ultra':\n",
    "        #data_summed['revenue'] = ((0 * data_summed ['rides_count']) + (6 * data_summed ['duration_sum']) + 199)\n",
    "    #else: \n",
    "        #data_summed['revenue'] = (50 * data_summed ['rides_count']) + (8 * data_summed ['duration_sum']) + 0\n",
    "#data_summed.head()\n",
    "\n",
    "\n",
    "# 2 варинат:\n",
    "#data_summed['revenue'] = np.where(data_summed['subscription_type']== 'ultra', \\\n",
    "                                  #((0 * data_summed ['rides_count']) + (6 * data_summed ['duration_sum']) + 199),\\\n",
    "                                  #((50 * data_summed ['rides_count']) + (8 * data_summed ['duration_sum']) + 0))"
   ]
  },
  {
   "cell_type": "code",
   "execution_count": 45,
   "id": "f4b1cac7",
   "metadata": {},
   "outputs": [],
   "source": [
    "# Объединение датасетов data_summed и subscriptions \n",
    "data_summed = pd.merge(\n",
    "     data_summed, subscriptions, how=\"left\", on= \"subscription_type\"\n",
    ")"
   ]
  },
  {
   "cell_type": "code",
   "execution_count": 46,
   "id": "79eb4520",
   "metadata": {},
   "outputs": [
    {
     "data": {
      "text/html": [
       "<div>\n",
       "<style scoped>\n",
       "    .dataframe tbody tr th:only-of-type {\n",
       "        vertical-align: middle;\n",
       "    }\n",
       "\n",
       "    .dataframe tbody tr th {\n",
       "        vertical-align: top;\n",
       "    }\n",
       "\n",
       "    .dataframe thead th {\n",
       "        text-align: right;\n",
       "    }\n",
       "</style>\n",
       "<table border=\"1\" class=\"dataframe\">\n",
       "  <thead>\n",
       "    <tr style=\"text-align: right;\">\n",
       "      <th></th>\n",
       "      <th>user_id</th>\n",
       "      <th>month</th>\n",
       "      <th>subscription_type</th>\n",
       "      <th>distance_sum</th>\n",
       "      <th>rides_count</th>\n",
       "      <th>duration_sum</th>\n",
       "      <th>minute_price</th>\n",
       "      <th>start_ride_price</th>\n",
       "      <th>subscription_fee</th>\n",
       "      <th>revenue</th>\n",
       "    </tr>\n",
       "  </thead>\n",
       "  <tbody>\n",
       "    <tr>\n",
       "      <th>0</th>\n",
       "      <td>1</td>\n",
       "      <td>1</td>\n",
       "      <td>ultra</td>\n",
       "      <td>7027.511294</td>\n",
       "      <td>2</td>\n",
       "      <td>42</td>\n",
       "      <td>6</td>\n",
       "      <td>0</td>\n",
       "      <td>199</td>\n",
       "      <td>451</td>\n",
       "    </tr>\n",
       "    <tr>\n",
       "      <th>1</th>\n",
       "      <td>1</td>\n",
       "      <td>4</td>\n",
       "      <td>ultra</td>\n",
       "      <td>754.159807</td>\n",
       "      <td>1</td>\n",
       "      <td>7</td>\n",
       "      <td>6</td>\n",
       "      <td>0</td>\n",
       "      <td>199</td>\n",
       "      <td>241</td>\n",
       "    </tr>\n",
       "    <tr>\n",
       "      <th>2</th>\n",
       "      <td>1</td>\n",
       "      <td>8</td>\n",
       "      <td>ultra</td>\n",
       "      <td>6723.470560</td>\n",
       "      <td>2</td>\n",
       "      <td>46</td>\n",
       "      <td>6</td>\n",
       "      <td>0</td>\n",
       "      <td>199</td>\n",
       "      <td>475</td>\n",
       "    </tr>\n",
       "    <tr>\n",
       "      <th>3</th>\n",
       "      <td>1</td>\n",
       "      <td>10</td>\n",
       "      <td>ultra</td>\n",
       "      <td>5809.911100</td>\n",
       "      <td>2</td>\n",
       "      <td>32</td>\n",
       "      <td>6</td>\n",
       "      <td>0</td>\n",
       "      <td>199</td>\n",
       "      <td>391</td>\n",
       "    </tr>\n",
       "    <tr>\n",
       "      <th>4</th>\n",
       "      <td>1</td>\n",
       "      <td>11</td>\n",
       "      <td>ultra</td>\n",
       "      <td>7003.499363</td>\n",
       "      <td>3</td>\n",
       "      <td>56</td>\n",
       "      <td>6</td>\n",
       "      <td>0</td>\n",
       "      <td>199</td>\n",
       "      <td>535</td>\n",
       "    </tr>\n",
       "    <tr>\n",
       "      <th>...</th>\n",
       "      <td>...</td>\n",
       "      <td>...</td>\n",
       "      <td>...</td>\n",
       "      <td>...</td>\n",
       "      <td>...</td>\n",
       "      <td>...</td>\n",
       "      <td>...</td>\n",
       "      <td>...</td>\n",
       "      <td>...</td>\n",
       "      <td>...</td>\n",
       "    </tr>\n",
       "    <tr>\n",
       "      <th>11326</th>\n",
       "      <td>1534</td>\n",
       "      <td>6</td>\n",
       "      <td>free</td>\n",
       "      <td>3409.468534</td>\n",
       "      <td>2</td>\n",
       "      <td>26</td>\n",
       "      <td>8</td>\n",
       "      <td>50</td>\n",
       "      <td>0</td>\n",
       "      <td>308</td>\n",
       "    </tr>\n",
       "    <tr>\n",
       "      <th>11327</th>\n",
       "      <td>1534</td>\n",
       "      <td>8</td>\n",
       "      <td>free</td>\n",
       "      <td>7622.453034</td>\n",
       "      <td>2</td>\n",
       "      <td>48</td>\n",
       "      <td>8</td>\n",
       "      <td>50</td>\n",
       "      <td>0</td>\n",
       "      <td>484</td>\n",
       "    </tr>\n",
       "    <tr>\n",
       "      <th>11328</th>\n",
       "      <td>1534</td>\n",
       "      <td>9</td>\n",
       "      <td>free</td>\n",
       "      <td>4928.173852</td>\n",
       "      <td>1</td>\n",
       "      <td>23</td>\n",
       "      <td>8</td>\n",
       "      <td>50</td>\n",
       "      <td>0</td>\n",
       "      <td>234</td>\n",
       "    </tr>\n",
       "    <tr>\n",
       "      <th>11329</th>\n",
       "      <td>1534</td>\n",
       "      <td>11</td>\n",
       "      <td>free</td>\n",
       "      <td>13350.015305</td>\n",
       "      <td>4</td>\n",
       "      <td>78</td>\n",
       "      <td>8</td>\n",
       "      <td>50</td>\n",
       "      <td>0</td>\n",
       "      <td>824</td>\n",
       "    </tr>\n",
       "    <tr>\n",
       "      <th>11330</th>\n",
       "      <td>1534</td>\n",
       "      <td>12</td>\n",
       "      <td>free</td>\n",
       "      <td>2371.711192</td>\n",
       "      <td>1</td>\n",
       "      <td>16</td>\n",
       "      <td>8</td>\n",
       "      <td>50</td>\n",
       "      <td>0</td>\n",
       "      <td>178</td>\n",
       "    </tr>\n",
       "  </tbody>\n",
       "</table>\n",
       "<p>11331 rows × 10 columns</p>\n",
       "</div>"
      ],
      "text/plain": [
       "       user_id  month subscription_type  distance_sum  rides_count  \\\n",
       "0            1      1             ultra   7027.511294            2   \n",
       "1            1      4             ultra    754.159807            1   \n",
       "2            1      8             ultra   6723.470560            2   \n",
       "3            1     10             ultra   5809.911100            2   \n",
       "4            1     11             ultra   7003.499363            3   \n",
       "...        ...    ...               ...           ...          ...   \n",
       "11326     1534      6              free   3409.468534            2   \n",
       "11327     1534      8              free   7622.453034            2   \n",
       "11328     1534      9              free   4928.173852            1   \n",
       "11329     1534     11              free  13350.015305            4   \n",
       "11330     1534     12              free   2371.711192            1   \n",
       "\n",
       "       duration_sum  minute_price  start_ride_price  subscription_fee  revenue  \n",
       "0                42             6                 0               199      451  \n",
       "1                 7             6                 0               199      241  \n",
       "2                46             6                 0               199      475  \n",
       "3                32             6                 0               199      391  \n",
       "4                56             6                 0               199      535  \n",
       "...             ...           ...               ...               ...      ...  \n",
       "11326            26             8                50                 0      308  \n",
       "11327            48             8                50                 0      484  \n",
       "11328            23             8                50                 0      234  \n",
       "11329            78             8                50                 0      824  \n",
       "11330            16             8                50                 0      178  \n",
       "\n",
       "[11331 rows x 10 columns]"
      ]
     },
     "execution_count": 46,
     "metadata": {},
     "output_type": "execute_result"
    }
   ],
   "source": [
    "# Подсчет выручки от пользователей \n",
    "data_summed['revenue'] = data_summed['start_ride_price']*data_summed['rides_count']\\\n",
    "+data_summed['minute_price']*data_summed['duration_sum']\\\n",
    "+data_summed['subscription_fee']\n",
    "\n",
    "data_summed"
   ]
  },
  {
   "cell_type": "markdown",
   "id": "37ea2cce",
   "metadata": {},
   "source": [
    "___\n",
    "<a id=\"yesno\"></a>\n",
    "## Проверка гипотез\n",
    "___"
   ]
  },
  {
   "cell_type": "markdown",
   "id": "f3bb6a0e",
   "metadata": {},
   "source": [
    "<a id=\"yesno1\"></a>\n",
    "### Проверка \"времени\"\n",
    "___\n",
    "- Важно понять, тратят ли пользователи с подпиской больше времени на поездки? Если да, то пользователи с подпиской могут быть «выгоднее» для компании. "
   ]
  },
  {
   "cell_type": "markdown",
   "id": "7156e94c",
   "metadata": {},
   "source": [
    "***Гипотеза H0:*** Пользователи с подпиской тратят столько же времени на поездки, что и пользователи без подписки.\n",
    "\n",
    "***Гипотеза H1:*** Пользователи с подпиской тратят больше времени на поездки, чем пользователи без подписки."
   ]
  },
  {
   "cell_type": "code",
   "execution_count": 47,
   "id": "df33f015",
   "metadata": {},
   "outputs": [
    {
     "name": "stdout",
     "output_type": "stream",
     "text": [
      "p-value: 5.6757813771289775e-37\n",
      "Отвергаем нулевую гипотезу: пользователи с подпиской тратят больше времени.\n"
     ]
    }
   ],
   "source": [
    "# Уровень статистической значимости\n",
    "alpha = 0.05\n",
    "\n",
    "# Время первой группы пользователей (с подпиской)\n",
    "first_group = with_subscrip['duration']\n",
    "\n",
    "# Время второй группы пользователей (без подписки)\n",
    "second_group = without_subscrip['duration']\n",
    "\n",
    "# ttest для двух выборок, в качестве альтернативной используем одностороннюю гипотезу «больше»;\n",
    "# Продположение, что дисперсии не равны, так как разный размер выборки\n",
    "results = st.ttest_ind(first_group, second_group, alternative='greater', equal_var=False)\n",
    "\n",
    "print(f'p-value: {results.pvalue}')\n",
    "\n",
    "# Проверка p-value\n",
    "if results.pvalue < alpha:\n",
    "    print('Отвергаем нулевую гипотезу: пользователи с подпиской тратят больше времени.')\n",
    "else:\n",
    "    print('Нет оснований отвергнуть нулевую гипотезу: временя равно.')"
   ]
  },
  {
   "cell_type": "markdown",
   "id": "b0907310",
   "metadata": {},
   "source": [
    "***Вывод:*** \n",
    "\n",
    "Полученное значение p-value меньше заданного уровня значимости (alpha = 0.05), поэтому можно отвергнуть нулевую гипотезу. Есть основания говорить, что пользователи с подпиской тратят больше времени на поездки, чем пользователи без подписки."
   ]
  },
  {
   "cell_type": "markdown",
   "id": "59d4758d",
   "metadata": {},
   "source": [
    "___\n",
    "<a id=\"yesno2\"></a>\n",
    "### Проверка \"расстояния\"\n",
    "___\n",
    "- Расстояние одной поездки в 3130 метров — оптимальное с точки зрения износа самоката. Можно ли сказать, что среднее расстояние, которое проезжают пользователи с подпиской за одну поездку, не превышает 3130 метров? "
   ]
  },
  {
   "cell_type": "markdown",
   "id": "95b54a12",
   "metadata": {},
   "source": [
    "***Гипотеза H0:*** Cреднее расстояние, которое проезжают пользователи с подпиской за одну поездку, не превышает 3130 метров.\n",
    "\n",
    "***Гипотеза H1:*** Cреднее расстояние, которое проезжают пользователи с подпиской за одну поездку, больше 3130 метров."
   ]
  },
  {
   "cell_type": "code",
   "execution_count": 48,
   "id": "a4504661",
   "metadata": {},
   "outputs": [
    {
     "name": "stdout",
     "output_type": "stream",
     "text": [
      "p-значение: 0.9195368847849785\n",
      "Не получилось отвергнуть нулевую гипотезу: среднее расстояние не превышает 3130 метров.\n"
     ]
    }
   ],
   "source": [
    " # Cреднее расстояние, которое проезжают пользователи с подпиской за одну поездку\n",
    "interested_value = 3130\n",
    "\n",
    "# Уровень статистической значимости\n",
    "alpha = 0.05 \n",
    "\n",
    "# ttest для одной выборки, в качестве альтернативной используем двустороннюю гипотезу\n",
    "results = st.ttest_1samp(\n",
    "    with_subscrip['distance'], \n",
    "    interested_value,\n",
    "    alternative='greater')\n",
    "\n",
    "# Проверка p-value\n",
    "print('p-значение:', results.pvalue)\n",
    "\n",
    "if results.pvalue < alpha:\n",
    "    print('Отвергаем нулевую гипотезу: среднее расстояние больше 3130 метров.')\n",
    "else:\n",
    "    print('Не получилось отвергнуть нулевую гипотезу: среднее расстояние не превышает 3130 метров.')"
   ]
  },
  {
   "cell_type": "markdown",
   "id": "872ad2a0",
   "metadata": {},
   "source": [
    "***Вывод:*** \n",
    "\n",
    "Полученное значение p-value больше заданного уровня значимости (alpha = 0.05), поэтому не рекомендуется отвергать нулевую гипотезу. Есть основания говорить, что среднее расстояние, которое проезжают пользователи с подпиской за одну поездку, не превышает 3130 метров."
   ]
  },
  {
   "cell_type": "markdown",
   "id": "70a5051e",
   "metadata": {},
   "source": [
    "___\n",
    "<a id=\"yesno3\"></a>\n",
    "### Проверка \"выручки\"\n",
    "___\n",
    "- Помесячная выручка от пользователей с подпиской выше, чем выручка от пользователей без подписки."
   ]
  },
  {
   "cell_type": "markdown",
   "id": "d83e4837",
   "metadata": {},
   "source": [
    "***Гипотеза H0:*** Помесячная выручка от пользователей с подпиской равна выручке от пользователей без подписки.\n",
    "\n",
    "***Гипотеза H1:*** Помесячная выручка от пользователей с подпиской выше, чем выручка от пользователей без подписки."
   ]
  },
  {
   "cell_type": "code",
   "execution_count": 49,
   "id": "24573add",
   "metadata": {},
   "outputs": [
    {
     "name": "stdout",
     "output_type": "stream",
     "text": [
      "p-value: 8.874140893976874e-40\n",
      "Отвергаем нулевую гипотезу: помесячная выручка от пользователей с подпиской выше.\n"
     ]
    }
   ],
   "source": [
    "# Уровень статистической значимости\n",
    "alpha = 0.05\n",
    "\n",
    "# Выручка первой группы пользователей (с подпиской)\n",
    "first_group = data_summed[data_summed['subscription_type']=='ultra']['revenue']\n",
    "\n",
    "# Выручка второй группы пользователей (без подписки)\n",
    "second_group = data_summed[data_summed['subscription_type']=='free']['revenue']\n",
    "\n",
    "# ttest для двух выборок, в качестве альтернативной используем одностороннюю гипотезу «больше»;\n",
    "# Продположение, что дисперсии не равны, так как разный размер выборки\n",
    "results = st.ttest_ind(first_group, second_group, alternative='greater', equal_var=False)\n",
    "\n",
    "print(f'p-value: {results.pvalue}')\n",
    "\n",
    "# Проверка p-value\n",
    "if results.pvalue < alpha:\n",
    "    print('Отвергаем нулевую гипотезу: помесячная выручка от пользователей с подпиской выше.')\n",
    "else:\n",
    "    print('Нет оснований отвергнуть нулевую гипотезу: помесячные выручки равны')"
   ]
  },
  {
   "cell_type": "markdown",
   "id": "72b46061",
   "metadata": {},
   "source": [
    "***Вывод:***\n",
    "\n",
    "Полученное значение p-value меньше заданного уровня значимости (alpha = 0.05), поэтому можно отвергнуть нулевую гипотезу. Есть основания говорить, что помесячная выручка от пользователей с подпиской по месяцам выше, чем выручка от пользователей без подписки."
   ]
  },
  {
   "cell_type": "markdown",
   "id": "5358a17e",
   "metadata": {},
   "source": [
    "___\n",
    "<a id=\"yesno4\"></a>\n",
    "### Проверка \"изменения\"\n",
    "___\n",
    "- Техническая команда сервиса обновила сервера, с которыми взаимодействует мобильное приложение. Она надеется, что из-за этого количество обращений в техподдержку значимо снизилось. Некоторый файл содержит для каждого пользователя данные о количестве обращений до обновления и после него. Какой тест понадобился бы для проверки этой гипотезы?"
   ]
  },
  {
   "cell_type": "markdown",
   "id": "a891b32b",
   "metadata": {},
   "source": [
    "***Гипотеза H0:*** Количество обращений в техподдержку не изменилось.\n",
    "\n",
    "***Гипотеза H1:*** Количество обращений в техподдержку значимо снизилось.\n",
    "\n",
    "***Необходимый тест:*** Двухвыборочный t-тест для зависимых выборок; метод scipy.stats.ttest_rel"
   ]
  },
  {
   "cell_type": "markdown",
   "id": "2b02a984",
   "metadata": {},
   "source": [
    "___\n",
    "<a id=\"distr\"></a>\n",
    "## Распределения\n",
    "___"
   ]
  },
  {
   "cell_type": "markdown",
   "id": "7bf80ab2",
   "metadata": {},
   "source": [
    "7.1 Отделу маркетинга GoFast поставили задачу: нужно провести акцию с раздачей промокодов на один бесплатный месяц подписки, в рамках которой как минимум 100 существующих клиентов должны продлить эту подписку. То есть по завершении периода действия подписки пользователь может либо отказаться от неё, либо продлить, совершив соответствующий платёж. \n",
    "\n",
    "Эта акция уже проводилась ранее и по итогу выяснилось, что после бесплатного пробного периода подписку продлевают 10 % пользователей. Выясните, какое минимальное количество промокодов нужно разослать, чтобы вероятность не выполнить план была примерно 5 %. Подберите параметры распределения, описывающего эту ситуацию, постройте график распределения и сформулируйте ответ на вопрос о количестве промокодов."
   ]
  },
  {
   "cell_type": "code",
   "execution_count": 50,
   "id": "55055512",
   "metadata": {},
   "outputs": [],
   "source": [
    "#from matplotlib import pyplot as plt\n",
    "#from math import factorial\n",
    "\n",
    "#p = 0.1\n",
    "#n = 100\n",
    "\n",
    "#distr = []\n",
    "\n",
    "#for k in range(0, n + 1):\n",
    "    #choose = factorial(n) / (factorial(k) * factorial(n-k))\n",
    "    #prob = choose * p**k * (1 - p)**(n - k) \n",
    "    #distr.append(prob)\n",
    "    \n",
    "#plt.bar(range(0, n + 1), distr)"
   ]
  },
  {
   "cell_type": "markdown",
   "id": "e1330f31",
   "metadata": {},
   "source": [
    "___\n",
    "<a id=\"end\"></a>\n",
    "## Вывод\n",
    "___"
   ]
  },
  {
   "cell_type": "markdown",
   "id": "29a9ab3e",
   "metadata": {},
   "source": [
    "***Обзор и предобработка данных:***\n",
    "\n",
    "Были получены:\n",
    "- файл `users` с уникальными идентификаторами пользователей, их именами, возрастом, городом и типом подписки; \n",
    "- файл `rides` с уникальными идентификаторами пользователей, расстоянием, которое пользователь проехал в текущей сессии (в метрах), продолжительностью сессии (в минутах) и датой совершения поездки; \n",
    "- файл `subscriptions` с типом подписки, стоимостью одной минуты поездки по данной подписке, стоимостью начала поездки, стоимостью ежемесячного платежа.\n",
    "\n",
    "При предобработке: \n",
    "- Изменен тип данных в столбце *date* из файла `rides`;\n",
    "- В файл `rides` добавлен столбец *month* с номером месяца поездки; \n",
    "- Были удалены дубликаты в файле `users`.\n",
    "- Определен временной промежуток данных, который составил 1 год: с 2021-01-01 по 2021-12-30.\n",
    "\n",
    "***Исследовательский анализ данных:***\n",
    "\n",
    "Было получено, что:\n",
    "- Сервис доступен в 8 городах России, при чем Москва находится на последнем месте по количеству пользователей GoFast; Топ-3 городов: Пятигорск, Екатеринбург, Ростов-на-Дону;\n",
    "  \n",
    "- Предоставляется два способа использования сервиса: \n",
    "|| ***без подписки Free:*** | ***с подпиской Ultra :*** |\n",
    "| --- | --- | --- |\n",
    "|% пользователей|45,6%|54,4%|\n",
    "|абонентская плата|  0 руб./месяц | 199 руб./месяц |\n",
    "|стоимость одной минуты поездки|  8 руб.|6 руб.|\n",
    "|стоимость старта (начала поездки)| 50 руб.|0 руб.|\n",
    "|помесячная выручка|стоимость старта поездки * количество поездок + стоимость одной минуты поездки * общая продолжительность всех поездок в минутах + стоимость подписки|стоимость старта поездки * количество поездок + стоимость одной минуты поездки * общая продолжительность всех поездок в минутах + стоимость подписки|\n",
    "  \n",
    "- В разрезе по городам: наибольшее количество пользователей с подпиской по отношению к пользователем без подписки в таких городах, как Москва, Омск и Тюмень. Также стоит отметить, что в Краснодаре, Пятигорск и Ростов-на-Дону данный показатель самый низкий;\n",
    "  \n",
    "- В данных представлены пользователи возрастов от 12 до 43 лет, чаще всего встречается возраст 25 лет; \n",
    "\n",
    "- В среднем пользователи проезжают примерно 3134 метров за одну поездку; Медианное значение составляет примерно 3071 метров; В данных также присутствуют выбросы, как, например, 7211 метров или 0.86 метров; \n",
    "\n",
    "- В среднем продолжительность одной поездки составляет примерно 18 минут; Медианное значение также составляет примерно 18 минут; В данных также присутствуют выбросы, как, например, 41 минута или 0.5 минут; Такие аномальные зачения были оставлены в даных без изменений.\n",
    "\n",
    "***Для более детального рассмотрения данных:***\n",
    "- На основе имеющихся данных была создана таблица (`data_full`), объединяющая все три изначальные таюлицы;\n",
    "- Далее на основе таблицы `data_full` были созданы две таблицы отдельно для пользователей с подпиской и без нее (`with_subscrip` и `without_subscrip` соответственно);\n",
    "- После были описаны данные о продолжительности и протяженности поездок для кажой категории пользователей;\n",
    "- Также на основе таблицы `data_full` была создана таблица `data_summed` с подсчетом суммарного расстояния, количеством поездок, суммарным временем и выручкой для каждого пользователя за каждый месяц.\n",
    "\n",
    "***Проверка гипотез:***\n",
    "\n",
    "1. Важно понять, тратят ли пользователи с подпиской больше времени на поездки? Если да, то пользователи с подпиской могут быть «выгоднее» для компании.\n",
    "\n",
    "*Результат: Согласно анализу есть основания говорить, что пользователи с подпиской тратят больше времени на поездки, чем пользователи без подписки*. \n",
    "\n",
    "2. Расстояние одной поездки в 3130 метров — оптимальное с точки зрения износа самоката. Можно ли сказать, что среднее расстояние, которое проезжают пользователи с подпиской за одну поездку, не превышает 3130 метров?\n",
    "\n",
    "*Результат: Есть основания говорить, что среднее расстояние, которое проезжают пользователи с подпиской за одну поездку, не превышает 3130 метров*.\n",
    "\n",
    "3. Помесячная выручка от пользователей с подпиской выше, чем выручка от пользователей без подписки.\n",
    "\n",
    "*Результат: Есть основания говорить, что помесячная выручка от пользователей с подпиской выше, чем выручка от пользователей без подписки*.\n",
    "\n",
    "4. Техническая команда сервиса обновила сервера, с которыми взаимодействует мобильное приложение. Она надеется, что из-за этого количество обращений в техподдержку значимо снизилось. Некоторый файл содержит для каждого пользователя данные о количестве обращений до обновления и после него. Какой тест понадобился бы для проверки этой гипотезы?\n",
    "\n",
    "*Результат: Необходимый тест - двухвыборочный t-тест для зависимых выборок; метод scipy.stats.ttest_rel*"
   ]
  },
  {
   "cell_type": "markdown",
   "id": "7a27d013",
   "metadata": {},
   "source": [
    "___\n",
    "<a id=\"endless\"></a>\n",
    "## Рекомендации:\n",
    "___"
   ]
  },
  {
   "cell_type": "markdown",
   "id": "c7410a13",
   "metadata": {},
   "source": [
    "___\n",
    "***По общим данным:*** \n",
    "___\n",
    " **1. ГОРОДА**: \n",
    "\n",
    "Рассмотреть повышение присутствия в таких городах как Москва, Омск и Тюмень: сервис GoFast уже представлен в данных городах, но совокупное количество пользователей ниже, чем в остальных пяти. Однако, соотношение \"с подпиской\"-\"без подписки\" наиболее высокие, то есть пользователи в данных городах с большей вероятностью оформят подписку.\n",
    "\n",
    " **2. ПОДПИСКИ**: \n",
    "\n",
    "Рассмотреть повышение числа пользователей с подпиской: разница между категориями \"с подпиской\" и \"без подписки\" небольшая => есть большое пространство для роста компании в плане развития системы подписок и стимуляции пользователей на их оформление. Возможно, необходимо разнообразить планы подписок.\n",
    "\n",
    " **3. ВОЗРАСТ**: \n",
    " \n",
    "Рассмотреть возможность ограничения использование сервиса несовершеннолетними: данное предложение основывается на общей тенденции сервисов проката электросамокатов ввиду мер безопасности как самих водителей, так и окружающих. Как дополнительный фактор к данной рекомендации можно отности низкую платежеспособность пользователей младше 18 лет.\n",
    "\n",
    " **4. РАССТОЯНИЕ И ПРОДОЛЖИТЕЛЬНОСТЬ**:\n",
    "\n",
    "Рассмотреть наиболее низкие и высокие значения для таких показателей как расстояние и продолжительность сессии и причины их возникновения: \n",
    "- малые аномальные значения могут свидетельствовать о каких-либо проблемах в использовании продукта (электросамоката), которые препятствуют продолжению поездки клиента (например, ошибка сервиса), а также способны понизить удовлетворенность клиента от сервиса;\n",
    "- большие аномальные значения могут свидетельствовать о частоте очень длительного использования электросамоката, что может приводить к его изнашиванию и различным поломкам.\n",
    "\n",
    "___\n",
    "***По гипотезам:*** \n",
    "___\n",
    "\n",
    " **1. Пользователи с подпиской тратят больше времени на поездки, чем пользователи без подписки.**\n",
    " \n",
    " и \n",
    " \n",
    " **2. Помесячная выручка от пользователей с подпиской выше, чем выручка от пользователей без подписки.**\n",
    " \n",
    "Опираясь на результат анализа, можно сказать, что пользователи с подпиской \"выгоднее\" сервису, поэтому стоит продвигать подписки среди пользователей. В пул возможных стратегий продвижения могут входить акции для подписчиков или для определенных групп пользователей, кэшбэк, специальные предложения или другие дополнительные привилегии.\n",
    "\n",
    " **3. Среднее расстояние, которое проезжают пользователи с подпиской за одну поездку, не превышает 3130 метров.**\n",
    " \n",
    "Опираясь на результат анализа, можно сказать, что пользователи с подпиской проезжают в среднем мене 3130 метров за одну сессию, что является оптимальным с точки зрения износа самоката. Однако, стоит отдельно рассмотреть площадь действия самокатов, расположение \"станций\" и пути клиентов в целях оптимизации размещения. Данные меры могут способствовать сокращению расстояния пройденого за одну сессию, в следствии чего уменьшить износ самокатов."
   ]
  }
 ],
 "metadata": {
  "ExecuteTimeLog": [
   {
    "duration": 443,
    "start_time": "2024-05-10T16:31:27.787Z"
   },
   {
    "duration": 109,
    "start_time": "2024-05-10T16:31:28.231Z"
   },
   {
    "duration": 8,
    "start_time": "2024-05-10T16:34:57.489Z"
   },
   {
    "duration": 51,
    "start_time": "2024-05-10T16:35:31.212Z"
   },
   {
    "duration": 2425,
    "start_time": "2024-05-10T16:35:32.865Z"
   },
   {
    "duration": 464,
    "start_time": "2024-05-10T16:39:37.382Z"
   },
   {
    "duration": 1641,
    "start_time": "2024-05-10T16:39:37.848Z"
   },
   {
    "duration": 27,
    "start_time": "2024-05-10T16:40:19.071Z"
   },
   {
    "duration": 12,
    "start_time": "2024-05-10T16:41:18.663Z"
   },
   {
    "duration": 443,
    "start_time": "2024-05-10T16:43:57.193Z"
   },
   {
    "duration": 1026,
    "start_time": "2024-05-10T16:43:57.638Z"
   },
   {
    "duration": 16,
    "start_time": "2024-05-10T16:43:58.665Z"
   },
   {
    "duration": 450,
    "start_time": "2024-05-10T16:47:02.613Z"
   },
   {
    "duration": 1618,
    "start_time": "2024-05-10T16:49:13.513Z"
   },
   {
    "duration": 9,
    "start_time": "2024-05-10T16:49:16.851Z"
   },
   {
    "duration": 8,
    "start_time": "2024-05-10T16:52:23.711Z"
   },
   {
    "duration": 11,
    "start_time": "2024-05-10T16:52:33.720Z"
   },
   {
    "duration": 12,
    "start_time": "2024-05-10T16:52:54.438Z"
   },
   {
    "duration": 1075,
    "start_time": "2024-05-10T16:53:57.574Z"
   },
   {
    "duration": 9,
    "start_time": "2024-05-10T16:53:59.320Z"
   },
   {
    "duration": 1217,
    "start_time": "2024-05-10T16:54:34.806Z"
   },
   {
    "duration": 9,
    "start_time": "2024-05-10T16:54:36.639Z"
   },
   {
    "duration": 8,
    "start_time": "2024-05-10T16:54:37.371Z"
   },
   {
    "duration": 976,
    "start_time": "2024-05-10T16:58:03.361Z"
   },
   {
    "duration": 9,
    "start_time": "2024-05-10T16:58:04.890Z"
   },
   {
    "duration": 473,
    "start_time": "2024-05-10T16:58:13.690Z"
   },
   {
    "duration": 1033,
    "start_time": "2024-05-10T16:58:14.165Z"
   },
   {
    "duration": 22,
    "start_time": "2024-05-10T16:58:15.200Z"
   },
   {
    "duration": 16,
    "start_time": "2024-05-10T16:58:15.223Z"
   },
   {
    "duration": 117,
    "start_time": "2024-05-10T16:59:10.104Z"
   },
   {
    "duration": 3,
    "start_time": "2024-05-10T16:59:25.318Z"
   },
   {
    "duration": 1760,
    "start_time": "2024-05-10T17:04:44.490Z"
   },
   {
    "duration": 12,
    "start_time": "2024-05-10T17:04:46.909Z"
   },
   {
    "duration": 107,
    "start_time": "2024-05-10T17:13:22.541Z"
   },
   {
    "duration": 37,
    "start_time": "2024-05-10T17:13:29.798Z"
   },
   {
    "duration": 1537,
    "start_time": "2024-05-10T17:14:27.654Z"
   },
   {
    "duration": 9,
    "start_time": "2024-05-10T17:14:29.857Z"
   },
   {
    "duration": 503,
    "start_time": "2024-05-10T17:15:33.736Z"
   },
   {
    "duration": 374,
    "start_time": "2024-05-10T17:15:34.241Z"
   },
   {
    "duration": 17,
    "start_time": "2024-05-10T17:15:34.617Z"
   },
   {
    "duration": 92,
    "start_time": "2024-05-10T17:15:34.635Z"
   },
   {
    "duration": 0,
    "start_time": "2024-05-10T17:15:34.729Z"
   },
   {
    "duration": 332,
    "start_time": "2024-05-10T17:15:47.603Z"
   },
   {
    "duration": 316,
    "start_time": "2024-05-10T17:15:50.158Z"
   },
   {
    "duration": 475,
    "start_time": "2024-05-10T17:16:07.147Z"
   },
   {
    "duration": 327,
    "start_time": "2024-05-10T17:16:07.624Z"
   },
   {
    "duration": 16,
    "start_time": "2024-05-10T17:16:07.953Z"
   },
   {
    "duration": 327,
    "start_time": "2024-05-10T17:16:07.970Z"
   },
   {
    "duration": 315,
    "start_time": "2024-05-10T17:16:08.299Z"
   },
   {
    "duration": 38,
    "start_time": "2024-05-10T17:16:08.616Z"
   },
   {
    "duration": 343,
    "start_time": "2024-05-10T17:16:21.070Z"
   },
   {
    "duration": 434,
    "start_time": "2024-05-10T17:16:24.409Z"
   },
   {
    "duration": 38,
    "start_time": "2024-05-10T17:16:25.099Z"
   },
   {
    "duration": 513,
    "start_time": "2024-05-10T17:16:43.544Z"
   },
   {
    "duration": 326,
    "start_time": "2024-05-10T17:16:44.059Z"
   },
   {
    "duration": 15,
    "start_time": "2024-05-10T17:16:44.386Z"
   },
   {
    "duration": 322,
    "start_time": "2024-05-10T17:16:44.403Z"
   },
   {
    "duration": 323,
    "start_time": "2024-05-10T17:16:44.727Z"
   },
   {
    "duration": 46,
    "start_time": "2024-05-10T17:16:45.052Z"
   },
   {
    "duration": 671,
    "start_time": "2024-05-10T17:20:48.876Z"
   },
   {
    "duration": 8,
    "start_time": "2024-05-10T17:20:50.262Z"
   },
   {
    "duration": 664,
    "start_time": "2024-05-10T17:22:26.731Z"
   },
   {
    "duration": 8,
    "start_time": "2024-05-10T17:22:29.030Z"
   },
   {
    "duration": 10,
    "start_time": "2024-05-11T11:48:59.160Z"
   },
   {
    "duration": 430,
    "start_time": "2024-05-11T11:49:04.825Z"
   },
   {
    "duration": 253,
    "start_time": "2024-05-11T11:49:05.257Z"
   },
   {
    "duration": 15,
    "start_time": "2024-05-11T11:49:05.512Z"
   },
   {
    "duration": 7,
    "start_time": "2024-05-11T11:49:13.082Z"
   },
   {
    "duration": 19,
    "start_time": "2024-05-11T11:49:25.057Z"
   },
   {
    "duration": 16,
    "start_time": "2024-05-11T11:49:41.069Z"
   },
   {
    "duration": 37,
    "start_time": "2024-05-11T11:50:01.812Z"
   },
   {
    "duration": 7,
    "start_time": "2024-05-11T11:51:05.480Z"
   },
   {
    "duration": 11,
    "start_time": "2024-05-11T11:52:14.249Z"
   },
   {
    "duration": 13,
    "start_time": "2024-05-11T11:53:03.686Z"
   },
   {
    "duration": 10,
    "start_time": "2024-05-11T12:09:22.222Z"
   },
   {
    "duration": 118,
    "start_time": "2024-05-11T12:09:28.639Z"
   },
   {
    "duration": 28,
    "start_time": "2024-05-11T12:09:41.821Z"
   },
   {
    "duration": 18,
    "start_time": "2024-05-11T12:09:49.796Z"
   },
   {
    "duration": 19,
    "start_time": "2024-05-11T12:09:54.828Z"
   },
   {
    "duration": 17,
    "start_time": "2024-05-11T12:09:58.983Z"
   },
   {
    "duration": 15,
    "start_time": "2024-05-11T12:10:02.159Z"
   },
   {
    "duration": 21,
    "start_time": "2024-05-11T12:10:13.680Z"
   },
   {
    "duration": 18,
    "start_time": "2024-05-11T12:10:25.967Z"
   },
   {
    "duration": 19,
    "start_time": "2024-05-11T12:10:31.667Z"
   },
   {
    "duration": 19,
    "start_time": "2024-05-11T12:10:35.702Z"
   },
   {
    "duration": 51,
    "start_time": "2024-05-11T12:10:42.347Z"
   },
   {
    "duration": 18,
    "start_time": "2024-05-11T12:10:46.455Z"
   },
   {
    "duration": 17,
    "start_time": "2024-05-11T12:10:52.569Z"
   },
   {
    "duration": 17,
    "start_time": "2024-05-11T12:10:56.074Z"
   },
   {
    "duration": 15,
    "start_time": "2024-05-11T12:11:30.538Z"
   },
   {
    "duration": 6,
    "start_time": "2024-05-11T12:11:59.352Z"
   },
   {
    "duration": 22,
    "start_time": "2024-05-11T12:12:19.985Z"
   },
   {
    "duration": 8,
    "start_time": "2024-05-11T12:12:25.710Z"
   },
   {
    "duration": 16,
    "start_time": "2024-05-11T12:13:29.262Z"
   },
   {
    "duration": 352,
    "start_time": "2024-05-11T12:13:47.703Z"
   },
   {
    "duration": 15,
    "start_time": "2024-05-11T12:13:58.473Z"
   },
   {
    "duration": 6,
    "start_time": "2024-05-11T12:14:52.951Z"
   },
   {
    "duration": 16,
    "start_time": "2024-05-11T12:17:02.395Z"
   },
   {
    "duration": 14,
    "start_time": "2024-05-11T12:18:23.823Z"
   },
   {
    "duration": 4,
    "start_time": "2024-05-11T12:18:52.023Z"
   },
   {
    "duration": 16,
    "start_time": "2024-05-11T12:20:10.432Z"
   },
   {
    "duration": 13,
    "start_time": "2024-05-11T12:21:12.655Z"
   },
   {
    "duration": 17,
    "start_time": "2024-05-11T12:22:43.480Z"
   },
   {
    "duration": 15,
    "start_time": "2024-05-11T12:23:28.790Z"
   },
   {
    "duration": 386,
    "start_time": "2024-05-11T12:24:52.434Z"
   },
   {
    "duration": 70,
    "start_time": "2024-05-11T12:24:52.822Z"
   },
   {
    "duration": 24,
    "start_time": "2024-05-11T12:24:52.894Z"
   },
   {
    "duration": 47,
    "start_time": "2024-05-11T12:24:52.919Z"
   },
   {
    "duration": 49,
    "start_time": "2024-05-11T12:24:52.969Z"
   },
   {
    "duration": 47,
    "start_time": "2024-05-11T12:24:53.020Z"
   },
   {
    "duration": 40,
    "start_time": "2024-05-11T12:24:53.069Z"
   },
   {
    "duration": 39,
    "start_time": "2024-05-11T12:24:53.111Z"
   },
   {
    "duration": 25,
    "start_time": "2024-05-11T12:24:53.152Z"
   },
   {
    "duration": 37,
    "start_time": "2024-05-11T12:24:53.178Z"
   },
   {
    "duration": 5,
    "start_time": "2024-05-11T12:25:40.033Z"
   },
   {
    "duration": 24,
    "start_time": "2024-05-11T12:26:23.340Z"
   },
   {
    "duration": 8,
    "start_time": "2024-05-11T12:26:29.151Z"
   },
   {
    "duration": 9,
    "start_time": "2024-05-11T12:26:49.258Z"
   },
   {
    "duration": 439,
    "start_time": "2024-05-11T12:26:56.365Z"
   },
   {
    "duration": 70,
    "start_time": "2024-05-11T12:26:56.806Z"
   },
   {
    "duration": 25,
    "start_time": "2024-05-11T12:26:56.878Z"
   },
   {
    "duration": 30,
    "start_time": "2024-05-11T12:26:56.905Z"
   },
   {
    "duration": 17,
    "start_time": "2024-05-11T12:26:56.937Z"
   },
   {
    "duration": 38,
    "start_time": "2024-05-11T12:26:56.956Z"
   },
   {
    "duration": 46,
    "start_time": "2024-05-11T12:26:56.995Z"
   },
   {
    "duration": 11,
    "start_time": "2024-05-11T12:26:57.043Z"
   },
   {
    "duration": 28,
    "start_time": "2024-05-11T12:26:57.057Z"
   },
   {
    "duration": 14,
    "start_time": "2024-05-11T12:26:57.087Z"
   },
   {
    "duration": 8,
    "start_time": "2024-05-11T12:27:16.060Z"
   },
   {
    "duration": 71,
    "start_time": "2024-05-11T12:29:08.827Z"
   },
   {
    "duration": 8,
    "start_time": "2024-05-11T12:29:18.608Z"
   },
   {
    "duration": 6,
    "start_time": "2024-05-11T12:29:40.035Z"
   },
   {
    "duration": 394,
    "start_time": "2024-05-11T12:30:06.904Z"
   },
   {
    "duration": 70,
    "start_time": "2024-05-11T12:30:07.300Z"
   },
   {
    "duration": 34,
    "start_time": "2024-05-11T12:30:07.371Z"
   },
   {
    "duration": 28,
    "start_time": "2024-05-11T12:30:07.407Z"
   },
   {
    "duration": 8,
    "start_time": "2024-05-11T12:30:07.438Z"
   },
   {
    "duration": 38,
    "start_time": "2024-05-11T12:30:07.448Z"
   },
   {
    "duration": 14,
    "start_time": "2024-05-11T12:30:07.488Z"
   },
   {
    "duration": 10,
    "start_time": "2024-05-11T12:30:07.504Z"
   },
   {
    "duration": 35,
    "start_time": "2024-05-11T12:30:07.516Z"
   },
   {
    "duration": 11,
    "start_time": "2024-05-11T12:30:07.572Z"
   },
   {
    "duration": 9,
    "start_time": "2024-05-11T12:30:07.585Z"
   },
   {
    "duration": 10,
    "start_time": "2024-05-11T12:30:22.970Z"
   },
   {
    "duration": 11,
    "start_time": "2024-05-11T12:30:43.331Z"
   },
   {
    "duration": 10,
    "start_time": "2024-05-11T12:31:04.880Z"
   },
   {
    "duration": 11,
    "start_time": "2024-05-11T12:31:14.135Z"
   },
   {
    "duration": 11,
    "start_time": "2024-05-11T12:31:21.843Z"
   },
   {
    "duration": 13,
    "start_time": "2024-05-11T12:32:03.958Z"
   },
   {
    "duration": 66,
    "start_time": "2024-05-11T12:33:32.302Z"
   },
   {
    "duration": 1003,
    "start_time": "2024-05-11T12:34:02.723Z"
   },
   {
    "duration": 54,
    "start_time": "2024-05-11T12:34:09.893Z"
   },
   {
    "duration": 10,
    "start_time": "2024-05-11T12:34:16.472Z"
   },
   {
    "duration": 9,
    "start_time": "2024-05-11T12:34:23.256Z"
   },
   {
    "duration": 9,
    "start_time": "2024-05-11T12:34:32.964Z"
   },
   {
    "duration": 13,
    "start_time": "2024-05-11T12:34:36.834Z"
   },
   {
    "duration": 165,
    "start_time": "2024-05-11T12:35:58.050Z"
   },
   {
    "duration": 11,
    "start_time": "2024-05-11T12:36:35.854Z"
   },
   {
    "duration": 10,
    "start_time": "2024-05-11T12:36:45.707Z"
   },
   {
    "duration": 173,
    "start_time": "2024-05-11T12:37:04.513Z"
   },
   {
    "duration": 161,
    "start_time": "2024-05-11T12:37:18.135Z"
   },
   {
    "duration": 176,
    "start_time": "2024-05-11T12:37:26.064Z"
   },
   {
    "duration": 172,
    "start_time": "2024-05-11T12:37:44.932Z"
   },
   {
    "duration": 180,
    "start_time": "2024-05-11T12:37:57.649Z"
   },
   {
    "duration": 165,
    "start_time": "2024-05-11T12:38:44.842Z"
   },
   {
    "duration": 241,
    "start_time": "2024-05-11T12:40:42.019Z"
   },
   {
    "duration": 163,
    "start_time": "2024-05-11T12:40:48.368Z"
   },
   {
    "duration": 176,
    "start_time": "2024-05-11T12:43:31.103Z"
   },
   {
    "duration": 156,
    "start_time": "2024-05-11T12:45:51.732Z"
   },
   {
    "duration": 189,
    "start_time": "2024-05-11T12:45:58.306Z"
   },
   {
    "duration": 91,
    "start_time": "2024-05-11T12:48:13.554Z"
   },
   {
    "duration": 287,
    "start_time": "2024-05-11T12:49:35.587Z"
   },
   {
    "duration": 11,
    "start_time": "2024-05-11T12:50:17.695Z"
   },
   {
    "duration": 131,
    "start_time": "2024-05-11T12:50:27.288Z"
   },
   {
    "duration": 120,
    "start_time": "2024-05-11T12:51:01.462Z"
   },
   {
    "duration": 121,
    "start_time": "2024-05-11T12:57:35.907Z"
   },
   {
    "duration": 125,
    "start_time": "2024-05-11T12:58:00.125Z"
   },
   {
    "duration": 188,
    "start_time": "2024-05-11T12:59:15.051Z"
   },
   {
    "duration": 143,
    "start_time": "2024-05-11T12:59:24.061Z"
   },
   {
    "duration": 119,
    "start_time": "2024-05-11T12:59:41.772Z"
   },
   {
    "duration": 251,
    "start_time": "2024-05-11T13:00:50.604Z"
   },
   {
    "duration": 117,
    "start_time": "2024-05-11T13:01:00.930Z"
   },
   {
    "duration": 142,
    "start_time": "2024-05-11T13:03:50.547Z"
   },
   {
    "duration": 119,
    "start_time": "2024-05-11T13:04:05.922Z"
   },
   {
    "duration": 122,
    "start_time": "2024-05-11T13:04:49.308Z"
   },
   {
    "duration": 153,
    "start_time": "2024-05-11T13:05:36.438Z"
   },
   {
    "duration": 186,
    "start_time": "2024-05-11T13:05:43.062Z"
   },
   {
    "duration": 113,
    "start_time": "2024-05-11T13:06:21.097Z"
   },
   {
    "duration": 200,
    "start_time": "2024-05-11T13:07:10.416Z"
   },
   {
    "duration": 70,
    "start_time": "2024-05-11T13:07:25.622Z"
   },
   {
    "duration": 201,
    "start_time": "2024-05-11T13:07:31.094Z"
   },
   {
    "duration": 200,
    "start_time": "2024-05-11T13:07:36.955Z"
   },
   {
    "duration": 197,
    "start_time": "2024-05-11T13:07:42.272Z"
   },
   {
    "duration": 176,
    "start_time": "2024-05-11T13:07:53.622Z"
   },
   {
    "duration": 183,
    "start_time": "2024-05-11T13:08:15.200Z"
   },
   {
    "duration": 1298,
    "start_time": "2024-05-11T13:08:49.420Z"
   },
   {
    "duration": 69,
    "start_time": "2024-05-11T13:08:50.720Z"
   },
   {
    "duration": 21,
    "start_time": "2024-05-11T13:08:50.791Z"
   },
   {
    "duration": 36,
    "start_time": "2024-05-11T13:08:50.814Z"
   },
   {
    "duration": 22,
    "start_time": "2024-05-11T13:08:50.851Z"
   },
   {
    "duration": 24,
    "start_time": "2024-05-11T13:08:50.875Z"
   },
   {
    "duration": 16,
    "start_time": "2024-05-11T13:08:50.901Z"
   },
   {
    "duration": 8,
    "start_time": "2024-05-11T13:08:50.919Z"
   },
   {
    "duration": 28,
    "start_time": "2024-05-11T13:08:50.928Z"
   },
   {
    "duration": 10,
    "start_time": "2024-05-11T13:08:50.974Z"
   },
   {
    "duration": 30,
    "start_time": "2024-05-11T13:08:50.986Z"
   },
   {
    "duration": 201,
    "start_time": "2024-05-11T13:08:51.018Z"
   },
   {
    "duration": 126,
    "start_time": "2024-05-11T13:08:51.220Z"
   },
   {
    "duration": 335,
    "start_time": "2024-05-11T13:10:33.857Z"
   },
   {
    "duration": 276,
    "start_time": "2024-05-11T13:12:44.344Z"
   },
   {
    "duration": 11,
    "start_time": "2024-05-11T13:13:59.120Z"
   },
   {
    "duration": 269,
    "start_time": "2024-05-11T13:14:43.935Z"
   },
   {
    "duration": 179,
    "start_time": "2024-05-11T13:15:19.062Z"
   },
   {
    "duration": 420,
    "start_time": "2024-05-11T13:18:18.122Z"
   },
   {
    "duration": 430,
    "start_time": "2024-05-11T13:18:34.773Z"
   },
   {
    "duration": 287,
    "start_time": "2024-05-11T13:28:30.675Z"
   },
   {
    "duration": 299,
    "start_time": "2024-05-11T13:28:38.060Z"
   },
   {
    "duration": 286,
    "start_time": "2024-05-11T13:28:51.778Z"
   },
   {
    "duration": 351,
    "start_time": "2024-05-11T13:29:14.713Z"
   },
   {
    "duration": 306,
    "start_time": "2024-05-11T13:30:07.891Z"
   },
   {
    "duration": 268,
    "start_time": "2024-05-11T13:30:14.700Z"
   },
   {
    "duration": 296,
    "start_time": "2024-05-11T13:30:52.252Z"
   },
   {
    "duration": 126,
    "start_time": "2024-05-11T13:31:44.817Z"
   },
   {
    "duration": 2270,
    "start_time": "2024-05-11T13:35:20.114Z"
   },
   {
    "duration": 2184,
    "start_time": "2024-05-11T13:36:26.704Z"
   },
   {
    "duration": 1276,
    "start_time": "2024-05-11T13:38:13.430Z"
   },
   {
    "duration": 69,
    "start_time": "2024-05-11T13:38:14.708Z"
   },
   {
    "duration": 22,
    "start_time": "2024-05-11T13:38:14.779Z"
   },
   {
    "duration": 27,
    "start_time": "2024-05-11T13:38:14.803Z"
   },
   {
    "duration": 6,
    "start_time": "2024-05-11T13:38:14.832Z"
   },
   {
    "duration": 45,
    "start_time": "2024-05-11T13:38:14.840Z"
   },
   {
    "duration": 39,
    "start_time": "2024-05-11T13:38:14.887Z"
   },
   {
    "duration": 9,
    "start_time": "2024-05-11T13:38:14.927Z"
   },
   {
    "duration": 21,
    "start_time": "2024-05-11T13:38:14.937Z"
   },
   {
    "duration": 17,
    "start_time": "2024-05-11T13:38:14.960Z"
   },
   {
    "duration": 12,
    "start_time": "2024-05-11T13:38:14.979Z"
   },
   {
    "duration": 207,
    "start_time": "2024-05-11T13:38:14.993Z"
   },
   {
    "duration": 121,
    "start_time": "2024-05-11T13:38:15.202Z"
   },
   {
    "duration": 8,
    "start_time": "2024-05-11T13:38:15.326Z"
   },
   {
    "duration": 146,
    "start_time": "2024-05-11T13:38:15.336Z"
   },
   {
    "duration": 116,
    "start_time": "2024-05-11T13:38:15.484Z"
   },
   {
    "duration": 0,
    "start_time": "2024-05-11T13:38:15.602Z"
   },
   {
    "duration": 16,
    "start_time": "2024-05-11T13:38:23.994Z"
   },
   {
    "duration": 300,
    "start_time": "2024-05-11T13:38:30.735Z"
   },
   {
    "duration": 12,
    "start_time": "2024-05-11T13:38:56.940Z"
   },
   {
    "duration": 288,
    "start_time": "2024-05-11T13:39:17.175Z"
   },
   {
    "duration": 283,
    "start_time": "2024-05-11T13:39:41.292Z"
   },
   {
    "duration": 225,
    "start_time": "2024-05-11T13:39:58.571Z"
   },
   {
    "duration": 266,
    "start_time": "2024-05-11T13:40:30.493Z"
   },
   {
    "duration": 122,
    "start_time": "2024-05-11T13:43:40.683Z"
   },
   {
    "duration": 294,
    "start_time": "2024-05-11T13:48:28.893Z"
   },
   {
    "duration": 256,
    "start_time": "2024-05-11T13:48:55.704Z"
   },
   {
    "duration": 290,
    "start_time": "2024-05-11T13:50:12.308Z"
   },
   {
    "duration": 251,
    "start_time": "2024-05-11T13:50:26.397Z"
   },
   {
    "duration": 1048,
    "start_time": "2024-05-11T13:51:01.936Z"
   },
   {
    "duration": 264,
    "start_time": "2024-05-11T13:52:23.583Z"
   },
   {
    "duration": 5,
    "start_time": "2024-05-11T13:52:38.786Z"
   },
   {
    "duration": 223,
    "start_time": "2024-05-11T13:52:45.443Z"
   },
   {
    "duration": 203,
    "start_time": "2024-05-11T13:53:04.138Z"
   },
   {
    "duration": 187,
    "start_time": "2024-05-11T13:53:50.490Z"
   },
   {
    "duration": 195,
    "start_time": "2024-05-11T13:54:35.245Z"
   },
   {
    "duration": 211,
    "start_time": "2024-05-11T13:54:56.164Z"
   },
   {
    "duration": 298,
    "start_time": "2024-05-11T13:55:43.687Z"
   },
   {
    "duration": 5,
    "start_time": "2024-05-11T13:56:03.945Z"
   },
   {
    "duration": 187,
    "start_time": "2024-05-11T13:56:10.870Z"
   },
   {
    "duration": 1322,
    "start_time": "2024-05-11T13:56:34.952Z"
   },
   {
    "duration": 70,
    "start_time": "2024-05-11T13:56:36.276Z"
   },
   {
    "duration": 21,
    "start_time": "2024-05-11T13:56:36.347Z"
   },
   {
    "duration": 27,
    "start_time": "2024-05-11T13:56:36.370Z"
   },
   {
    "duration": 6,
    "start_time": "2024-05-11T13:56:36.399Z"
   },
   {
    "duration": 22,
    "start_time": "2024-05-11T13:56:36.406Z"
   },
   {
    "duration": 14,
    "start_time": "2024-05-11T13:56:36.429Z"
   },
   {
    "duration": 32,
    "start_time": "2024-05-11T13:56:36.444Z"
   },
   {
    "duration": 29,
    "start_time": "2024-05-11T13:56:36.477Z"
   },
   {
    "duration": 8,
    "start_time": "2024-05-11T13:56:36.508Z"
   },
   {
    "duration": 12,
    "start_time": "2024-05-11T13:56:36.517Z"
   },
   {
    "duration": 204,
    "start_time": "2024-05-11T13:56:36.531Z"
   },
   {
    "duration": 122,
    "start_time": "2024-05-11T13:56:36.737Z"
   },
   {
    "duration": 13,
    "start_time": "2024-05-11T13:56:36.861Z"
   },
   {
    "duration": 126,
    "start_time": "2024-05-11T13:56:36.875Z"
   },
   {
    "duration": 277,
    "start_time": "2024-05-11T13:56:37.002Z"
   },
   {
    "duration": 249,
    "start_time": "2024-05-11T13:56:37.281Z"
   },
   {
    "duration": 279,
    "start_time": "2024-05-11T13:56:37.531Z"
   },
   {
    "duration": 2129,
    "start_time": "2024-05-11T13:56:37.811Z"
   },
   {
    "duration": 4,
    "start_time": "2024-05-11T13:58:42.041Z"
   },
   {
    "duration": 6,
    "start_time": "2024-05-11T13:58:46.812Z"
   },
   {
    "duration": 9,
    "start_time": "2024-05-11T14:00:32.349Z"
   },
   {
    "duration": 17,
    "start_time": "2024-05-11T14:00:41.699Z"
   },
   {
    "duration": 16,
    "start_time": "2024-05-11T14:00:52.310Z"
   },
   {
    "duration": 13,
    "start_time": "2024-05-11T14:01:46.494Z"
   },
   {
    "duration": 972,
    "start_time": "2024-05-11T14:02:11.145Z"
   },
   {
    "duration": 13,
    "start_time": "2024-05-11T14:02:23.962Z"
   },
   {
    "duration": 16,
    "start_time": "2024-05-11T14:02:27.899Z"
   },
   {
    "duration": 17,
    "start_time": "2024-05-11T14:02:59.814Z"
   },
   {
    "duration": 355,
    "start_time": "2024-05-11T14:03:28.183Z"
   },
   {
    "duration": 320,
    "start_time": "2024-05-11T14:04:05.528Z"
   },
   {
    "duration": 1313,
    "start_time": "2024-05-11T14:05:00.513Z"
   },
   {
    "duration": 74,
    "start_time": "2024-05-11T14:05:01.828Z"
   },
   {
    "duration": 23,
    "start_time": "2024-05-11T14:05:01.904Z"
   },
   {
    "duration": 69,
    "start_time": "2024-05-11T14:05:01.930Z"
   },
   {
    "duration": 12,
    "start_time": "2024-05-11T14:05:02.001Z"
   },
   {
    "duration": 69,
    "start_time": "2024-05-11T14:05:02.015Z"
   },
   {
    "duration": 23,
    "start_time": "2024-05-11T14:05:02.085Z"
   },
   {
    "duration": 19,
    "start_time": "2024-05-11T14:05:02.110Z"
   },
   {
    "duration": 46,
    "start_time": "2024-05-11T14:05:02.132Z"
   },
   {
    "duration": 9,
    "start_time": "2024-05-11T14:05:02.181Z"
   },
   {
    "duration": 15,
    "start_time": "2024-05-11T14:05:02.192Z"
   },
   {
    "duration": 203,
    "start_time": "2024-05-11T14:05:02.209Z"
   },
   {
    "duration": 130,
    "start_time": "2024-05-11T14:05:02.414Z"
   },
   {
    "duration": 8,
    "start_time": "2024-05-11T14:05:02.546Z"
   },
   {
    "duration": 134,
    "start_time": "2024-05-11T14:05:02.556Z"
   },
   {
    "duration": 5,
    "start_time": "2024-05-11T14:05:02.691Z"
   },
   {
    "duration": 23,
    "start_time": "2024-05-11T14:05:02.697Z"
   },
   {
    "duration": 318,
    "start_time": "2024-05-11T14:05:02.722Z"
   },
   {
    "duration": 338,
    "start_time": "2024-05-11T14:05:50.189Z"
   },
   {
    "duration": 413,
    "start_time": "2024-05-11T14:06:34.069Z"
   },
   {
    "duration": 108,
    "start_time": "2024-05-11T14:18:08.848Z"
   },
   {
    "duration": 8,
    "start_time": "2024-05-11T14:18:31.222Z"
   },
   {
    "duration": 8,
    "start_time": "2024-05-11T14:18:53.943Z"
   },
   {
    "duration": 9,
    "start_time": "2024-05-11T14:19:38.136Z"
   },
   {
    "duration": 5,
    "start_time": "2024-05-11T14:20:09.350Z"
   },
   {
    "duration": 24,
    "start_time": "2024-05-11T14:20:21.707Z"
   },
   {
    "duration": 128,
    "start_time": "2024-05-11T14:20:52.539Z"
   },
   {
    "duration": 134,
    "start_time": "2024-05-11T14:21:10.231Z"
   },
   {
    "duration": 62,
    "start_time": "2024-05-11T14:21:34.830Z"
   },
   {
    "duration": 65,
    "start_time": "2024-05-11T14:21:46.761Z"
   },
   {
    "duration": 10,
    "start_time": "2024-05-11T14:22:06.174Z"
   },
   {
    "duration": 17,
    "start_time": "2024-05-11T14:22:20.846Z"
   },
   {
    "duration": 64,
    "start_time": "2024-05-11T14:23:15.071Z"
   },
   {
    "duration": 183,
    "start_time": "2024-05-11T14:23:19.849Z"
   },
   {
    "duration": 14,
    "start_time": "2024-05-11T14:25:47.756Z"
   },
   {
    "duration": 6,
    "start_time": "2024-05-11T14:29:48.062Z"
   },
   {
    "duration": 145,
    "start_time": "2024-05-11T14:29:57.033Z"
   },
   {
    "duration": 138,
    "start_time": "2024-05-11T14:30:28.885Z"
   },
   {
    "duration": 156,
    "start_time": "2024-05-11T14:32:57.420Z"
   },
   {
    "duration": 157,
    "start_time": "2024-05-11T14:34:12.416Z"
   },
   {
    "duration": 7,
    "start_time": "2024-05-11T14:35:55.768Z"
   },
   {
    "duration": 150,
    "start_time": "2024-05-11T14:36:12.238Z"
   },
   {
    "duration": 171,
    "start_time": "2024-05-11T14:36:43.338Z"
   },
   {
    "duration": 10,
    "start_time": "2024-05-11T14:38:05.943Z"
   },
   {
    "duration": 218,
    "start_time": "2024-05-11T14:38:20.401Z"
   },
   {
    "duration": 12,
    "start_time": "2024-05-11T14:40:42.184Z"
   },
   {
    "duration": 1003,
    "start_time": "2024-05-11T14:41:09.111Z"
   },
   {
    "duration": 240,
    "start_time": "2024-05-11T14:44:51.863Z"
   },
   {
    "duration": 312,
    "start_time": "2024-05-11T14:45:03.607Z"
   },
   {
    "duration": 132,
    "start_time": "2024-05-11T14:45:51.176Z"
   },
   {
    "duration": 171,
    "start_time": "2024-05-11T14:46:01.971Z"
   },
   {
    "duration": 181,
    "start_time": "2024-05-11T14:46:34.332Z"
   },
   {
    "duration": 9,
    "start_time": "2024-05-11T14:46:53.692Z"
   },
   {
    "duration": 189,
    "start_time": "2024-05-11T14:47:49.200Z"
   },
   {
    "duration": 204,
    "start_time": "2024-05-11T14:48:01.051Z"
   },
   {
    "duration": 244,
    "start_time": "2024-05-11T14:49:55.550Z"
   },
   {
    "duration": 267,
    "start_time": "2024-05-11T14:50:11.505Z"
   },
   {
    "duration": 168,
    "start_time": "2024-05-11T14:52:21.065Z"
   },
   {
    "duration": 14,
    "start_time": "2024-05-11T14:54:08.180Z"
   },
   {
    "duration": 26,
    "start_time": "2024-05-11T14:55:56.063Z"
   },
   {
    "duration": 1045,
    "start_time": "2024-05-11T14:56:16.669Z"
   },
   {
    "duration": 24,
    "start_time": "2024-05-11T14:56:30.574Z"
   },
   {
    "duration": 159,
    "start_time": "2024-05-11T15:04:07.901Z"
   },
   {
    "duration": 156,
    "start_time": "2024-05-11T15:04:24.028Z"
   },
   {
    "duration": 132,
    "start_time": "2024-05-11T15:04:29.708Z"
   },
   {
    "duration": 118,
    "start_time": "2024-05-11T15:04:54.534Z"
   },
   {
    "duration": 128,
    "start_time": "2024-05-11T15:05:14.046Z"
   },
   {
    "duration": 119,
    "start_time": "2024-05-11T15:05:26.304Z"
   },
   {
    "duration": 124,
    "start_time": "2024-05-11T15:05:35.522Z"
   },
   {
    "duration": 140,
    "start_time": "2024-05-11T15:05:46.110Z"
   },
   {
    "duration": 141,
    "start_time": "2024-05-11T15:06:02.105Z"
   },
   {
    "duration": 130,
    "start_time": "2024-05-11T15:06:08.136Z"
   },
   {
    "duration": 147,
    "start_time": "2024-05-11T15:07:46.340Z"
   },
   {
    "duration": 186,
    "start_time": "2024-05-11T15:08:35.502Z"
   },
   {
    "duration": 195,
    "start_time": "2024-05-11T15:08:56.429Z"
   },
   {
    "duration": 209,
    "start_time": "2024-05-11T15:09:51.594Z"
   },
   {
    "duration": 10,
    "start_time": "2024-05-11T15:12:34.747Z"
   },
   {
    "duration": 145,
    "start_time": "2024-05-11T15:13:25.541Z"
   },
   {
    "duration": 262,
    "start_time": "2024-05-11T15:14:11.573Z"
   },
   {
    "duration": 191,
    "start_time": "2024-05-11T15:15:07.444Z"
   },
   {
    "duration": 205,
    "start_time": "2024-05-11T15:15:18.450Z"
   },
   {
    "duration": 260,
    "start_time": "2024-05-11T15:18:09.580Z"
   },
   {
    "duration": 194,
    "start_time": "2024-05-11T15:18:45.091Z"
   },
   {
    "duration": 194,
    "start_time": "2024-05-11T15:19:16.807Z"
   },
   {
    "duration": 195,
    "start_time": "2024-05-11T15:19:57.052Z"
   },
   {
    "duration": 210,
    "start_time": "2024-05-11T15:20:22.820Z"
   },
   {
    "duration": 148,
    "start_time": "2024-05-11T15:20:57.748Z"
   },
   {
    "duration": 134,
    "start_time": "2024-05-11T15:21:09.991Z"
   },
   {
    "duration": 1339,
    "start_time": "2024-05-11T15:21:38.643Z"
   },
   {
    "duration": 83,
    "start_time": "2024-05-11T15:21:39.984Z"
   },
   {
    "duration": 22,
    "start_time": "2024-05-11T15:21:40.068Z"
   },
   {
    "duration": 67,
    "start_time": "2024-05-11T15:21:40.092Z"
   },
   {
    "duration": 9,
    "start_time": "2024-05-11T15:21:40.161Z"
   },
   {
    "duration": 23,
    "start_time": "2024-05-11T15:21:40.171Z"
   },
   {
    "duration": 29,
    "start_time": "2024-05-11T15:21:40.196Z"
   },
   {
    "duration": 10,
    "start_time": "2024-05-11T15:21:40.227Z"
   },
   {
    "duration": 57,
    "start_time": "2024-05-11T15:21:40.238Z"
   },
   {
    "duration": 14,
    "start_time": "2024-05-11T15:21:40.297Z"
   },
   {
    "duration": 19,
    "start_time": "2024-05-11T15:21:40.312Z"
   },
   {
    "duration": 196,
    "start_time": "2024-05-11T15:21:40.333Z"
   },
   {
    "duration": 124,
    "start_time": "2024-05-11T15:21:40.531Z"
   },
   {
    "duration": 17,
    "start_time": "2024-05-11T15:21:40.658Z"
   },
   {
    "duration": 142,
    "start_time": "2024-05-11T15:21:40.677Z"
   },
   {
    "duration": 5,
    "start_time": "2024-05-11T15:21:40.821Z"
   },
   {
    "duration": 23,
    "start_time": "2024-05-11T15:21:40.827Z"
   },
   {
    "duration": 300,
    "start_time": "2024-05-11T15:21:40.852Z"
   },
   {
    "duration": 8,
    "start_time": "2024-05-11T15:21:41.154Z"
   },
   {
    "duration": 147,
    "start_time": "2024-05-11T15:21:41.173Z"
   },
   {
    "duration": 222,
    "start_time": "2024-05-11T15:21:41.322Z"
   },
   {
    "duration": 18,
    "start_time": "2024-05-11T15:21:41.546Z"
   },
   {
    "duration": 223,
    "start_time": "2024-05-11T15:21:41.565Z"
   },
   {
    "duration": 266,
    "start_time": "2024-05-11T15:21:41.790Z"
   },
   {
    "duration": 17,
    "start_time": "2024-05-11T15:21:42.057Z"
   },
   {
    "duration": 147,
    "start_time": "2024-05-11T15:21:42.076Z"
   },
   {
    "duration": 205,
    "start_time": "2024-05-11T15:21:42.225Z"
   },
   {
    "duration": 71,
    "start_time": "2024-05-11T15:54:38.332Z"
   },
   {
    "duration": 112,
    "start_time": "2024-05-11T15:57:26.433Z"
   },
   {
    "duration": 1293,
    "start_time": "2024-05-11T15:57:41.300Z"
   },
   {
    "duration": 70,
    "start_time": "2024-05-11T15:57:42.595Z"
   },
   {
    "duration": 22,
    "start_time": "2024-05-11T15:57:42.666Z"
   },
   {
    "duration": 46,
    "start_time": "2024-05-11T15:57:42.690Z"
   },
   {
    "duration": 33,
    "start_time": "2024-05-11T15:57:42.739Z"
   },
   {
    "duration": 24,
    "start_time": "2024-05-11T15:57:42.773Z"
   },
   {
    "duration": 51,
    "start_time": "2024-05-11T15:57:42.798Z"
   },
   {
    "duration": 48,
    "start_time": "2024-05-11T15:57:42.851Z"
   },
   {
    "duration": 37,
    "start_time": "2024-05-11T15:57:42.901Z"
   },
   {
    "duration": 35,
    "start_time": "2024-05-11T15:57:42.940Z"
   },
   {
    "duration": 40,
    "start_time": "2024-05-11T15:57:42.977Z"
   },
   {
    "duration": 202,
    "start_time": "2024-05-11T15:57:43.019Z"
   },
   {
    "duration": 148,
    "start_time": "2024-05-11T15:57:43.223Z"
   },
   {
    "duration": 11,
    "start_time": "2024-05-11T15:57:43.376Z"
   },
   {
    "duration": 175,
    "start_time": "2024-05-11T15:57:43.389Z"
   },
   {
    "duration": 9,
    "start_time": "2024-05-11T15:57:43.566Z"
   },
   {
    "duration": 18,
    "start_time": "2024-05-11T15:57:43.576Z"
   },
   {
    "duration": 312,
    "start_time": "2024-05-11T15:57:43.596Z"
   },
   {
    "duration": 8,
    "start_time": "2024-05-11T15:57:43.909Z"
   },
   {
    "duration": 150,
    "start_time": "2024-05-11T15:57:43.919Z"
   },
   {
    "duration": 214,
    "start_time": "2024-05-11T15:57:44.071Z"
   },
   {
    "duration": 18,
    "start_time": "2024-05-11T15:57:44.287Z"
   },
   {
    "duration": 239,
    "start_time": "2024-05-11T15:57:44.307Z"
   },
   {
    "duration": 263,
    "start_time": "2024-05-11T15:57:44.547Z"
   },
   {
    "duration": 10,
    "start_time": "2024-05-11T15:57:44.812Z"
   },
   {
    "duration": 167,
    "start_time": "2024-05-11T15:57:44.824Z"
   },
   {
    "duration": 209,
    "start_time": "2024-05-11T15:57:44.992Z"
   },
   {
    "duration": 1207,
    "start_time": "2024-05-11T16:01:48.609Z"
   },
   {
    "duration": 70,
    "start_time": "2024-05-11T16:01:49.818Z"
   },
   {
    "duration": 20,
    "start_time": "2024-05-11T16:01:49.890Z"
   },
   {
    "duration": 31,
    "start_time": "2024-05-11T16:01:49.912Z"
   },
   {
    "duration": 8,
    "start_time": "2024-05-11T16:01:49.945Z"
   },
   {
    "duration": 26,
    "start_time": "2024-05-11T16:01:49.954Z"
   },
   {
    "duration": 14,
    "start_time": "2024-05-11T16:01:49.982Z"
   },
   {
    "duration": 23,
    "start_time": "2024-05-11T16:01:49.997Z"
   },
   {
    "duration": 28,
    "start_time": "2024-05-11T16:01:50.022Z"
   },
   {
    "duration": 11,
    "start_time": "2024-05-11T16:01:50.052Z"
   },
   {
    "duration": 11,
    "start_time": "2024-05-11T16:01:50.072Z"
   },
   {
    "duration": 204,
    "start_time": "2024-05-11T16:01:50.084Z"
   },
   {
    "duration": 117,
    "start_time": "2024-05-11T16:01:50.290Z"
   },
   {
    "duration": 8,
    "start_time": "2024-05-11T16:01:50.409Z"
   },
   {
    "duration": 128,
    "start_time": "2024-05-11T16:01:50.419Z"
   },
   {
    "duration": 4,
    "start_time": "2024-05-11T16:01:50.549Z"
   },
   {
    "duration": 24,
    "start_time": "2024-05-11T16:01:50.555Z"
   },
   {
    "duration": 304,
    "start_time": "2024-05-11T16:01:50.581Z"
   },
   {
    "duration": 9,
    "start_time": "2024-05-11T16:01:50.887Z"
   },
   {
    "duration": 156,
    "start_time": "2024-05-11T16:01:50.898Z"
   },
   {
    "duration": 215,
    "start_time": "2024-05-11T16:01:51.056Z"
   },
   {
    "duration": 19,
    "start_time": "2024-05-11T16:01:51.272Z"
   },
   {
    "duration": 222,
    "start_time": "2024-05-11T16:01:51.292Z"
   },
   {
    "duration": 259,
    "start_time": "2024-05-11T16:01:51.515Z"
   },
   {
    "duration": 9,
    "start_time": "2024-05-11T16:01:51.776Z"
   },
   {
    "duration": 157,
    "start_time": "2024-05-11T16:01:51.786Z"
   },
   {
    "duration": 215,
    "start_time": "2024-05-11T16:01:51.945Z"
   },
   {
    "duration": 1287,
    "start_time": "2024-05-11T16:04:33.597Z"
   },
   {
    "duration": 67,
    "start_time": "2024-05-11T16:04:34.886Z"
   },
   {
    "duration": 21,
    "start_time": "2024-05-11T16:04:34.955Z"
   },
   {
    "duration": 27,
    "start_time": "2024-05-11T16:04:34.977Z"
   },
   {
    "duration": 6,
    "start_time": "2024-05-11T16:04:35.005Z"
   },
   {
    "duration": 12,
    "start_time": "2024-05-11T16:04:35.013Z"
   },
   {
    "duration": 44,
    "start_time": "2024-05-11T16:04:35.027Z"
   },
   {
    "duration": 24,
    "start_time": "2024-05-11T16:04:35.073Z"
   },
   {
    "duration": 38,
    "start_time": "2024-05-11T16:04:35.098Z"
   },
   {
    "duration": 28,
    "start_time": "2024-05-11T16:04:35.138Z"
   },
   {
    "duration": 22,
    "start_time": "2024-05-11T16:04:35.168Z"
   },
   {
    "duration": 189,
    "start_time": "2024-05-11T16:04:35.192Z"
   },
   {
    "duration": 120,
    "start_time": "2024-05-11T16:04:35.382Z"
   },
   {
    "duration": 8,
    "start_time": "2024-05-11T16:04:35.504Z"
   },
   {
    "duration": 123,
    "start_time": "2024-05-11T16:04:35.514Z"
   },
   {
    "duration": 4,
    "start_time": "2024-05-11T16:04:35.639Z"
   },
   {
    "duration": 22,
    "start_time": "2024-05-11T16:04:35.645Z"
   },
   {
    "duration": 287,
    "start_time": "2024-05-11T16:04:35.669Z"
   },
   {
    "duration": 14,
    "start_time": "2024-05-11T16:04:35.958Z"
   },
   {
    "duration": 153,
    "start_time": "2024-05-11T16:04:35.974Z"
   },
   {
    "duration": 210,
    "start_time": "2024-05-11T16:04:36.129Z"
   },
   {
    "duration": 19,
    "start_time": "2024-05-11T16:04:36.341Z"
   },
   {
    "duration": 218,
    "start_time": "2024-05-11T16:04:36.361Z"
   },
   {
    "duration": 259,
    "start_time": "2024-05-11T16:04:36.581Z"
   },
   {
    "duration": 8,
    "start_time": "2024-05-11T16:04:36.842Z"
   },
   {
    "duration": 156,
    "start_time": "2024-05-11T16:04:36.852Z"
   },
   {
    "duration": 216,
    "start_time": "2024-05-11T16:04:37.009Z"
   },
   {
    "duration": 1396,
    "start_time": "2024-05-13T14:12:40.770Z"
   },
   {
    "duration": 214,
    "start_time": "2024-05-13T14:12:42.168Z"
   },
   {
    "duration": 21,
    "start_time": "2024-05-13T14:12:42.384Z"
   },
   {
    "duration": 37,
    "start_time": "2024-05-13T14:12:42.408Z"
   },
   {
    "duration": 15,
    "start_time": "2024-05-13T14:12:42.446Z"
   },
   {
    "duration": 12,
    "start_time": "2024-05-13T14:12:42.463Z"
   },
   {
    "duration": 13,
    "start_time": "2024-05-13T14:12:42.477Z"
   },
   {
    "duration": 8,
    "start_time": "2024-05-13T14:12:42.492Z"
   },
   {
    "duration": 25,
    "start_time": "2024-05-13T14:12:42.502Z"
   },
   {
    "duration": 8,
    "start_time": "2024-05-13T14:12:42.560Z"
   },
   {
    "duration": 12,
    "start_time": "2024-05-13T14:12:42.570Z"
   },
   {
    "duration": 210,
    "start_time": "2024-05-13T14:12:42.584Z"
   },
   {
    "duration": 129,
    "start_time": "2024-05-13T14:12:42.795Z"
   },
   {
    "duration": 8,
    "start_time": "2024-05-13T14:12:42.926Z"
   },
   {
    "duration": 126,
    "start_time": "2024-05-13T14:12:42.935Z"
   },
   {
    "duration": 5,
    "start_time": "2024-05-13T14:12:43.062Z"
   },
   {
    "duration": 20,
    "start_time": "2024-05-13T14:12:43.068Z"
   },
   {
    "duration": 273,
    "start_time": "2024-05-13T14:12:43.089Z"
   },
   {
    "duration": 9,
    "start_time": "2024-05-13T14:12:43.363Z"
   },
   {
    "duration": 138,
    "start_time": "2024-05-13T14:12:43.374Z"
   },
   {
    "duration": 185,
    "start_time": "2024-05-13T14:12:43.514Z"
   },
   {
    "duration": 17,
    "start_time": "2024-05-13T14:12:43.700Z"
   },
   {
    "duration": 232,
    "start_time": "2024-05-13T14:12:43.718Z"
   },
   {
    "duration": 260,
    "start_time": "2024-05-13T14:12:43.951Z"
   },
   {
    "duration": 8,
    "start_time": "2024-05-13T14:12:44.213Z"
   },
   {
    "duration": 157,
    "start_time": "2024-05-13T14:12:44.223Z"
   },
   {
    "duration": 219,
    "start_time": "2024-05-13T14:12:44.382Z"
   },
   {
    "duration": 11,
    "start_time": "2024-05-13T14:17:52.297Z"
   },
   {
    "duration": 3397,
    "start_time": "2024-05-13T14:18:04.001Z"
   },
   {
    "duration": 3243,
    "start_time": "2024-05-13T14:18:10.533Z"
   },
   {
    "duration": 3304,
    "start_time": "2024-05-13T14:20:54.383Z"
   },
   {
    "duration": 3864,
    "start_time": "2024-05-13T14:21:06.030Z"
   },
   {
    "duration": 1292,
    "start_time": "2024-05-13T14:23:45.280Z"
   },
   {
    "duration": 70,
    "start_time": "2024-05-13T14:23:46.574Z"
   },
   {
    "duration": 21,
    "start_time": "2024-05-13T14:23:46.646Z"
   },
   {
    "duration": 41,
    "start_time": "2024-05-13T14:23:46.668Z"
   },
   {
    "duration": 11,
    "start_time": "2024-05-13T14:23:46.711Z"
   },
   {
    "duration": 34,
    "start_time": "2024-05-13T14:23:46.723Z"
   },
   {
    "duration": 19,
    "start_time": "2024-05-13T14:23:46.759Z"
   },
   {
    "duration": 8,
    "start_time": "2024-05-13T14:23:46.780Z"
   },
   {
    "duration": 31,
    "start_time": "2024-05-13T14:23:46.789Z"
   },
   {
    "duration": 8,
    "start_time": "2024-05-13T14:23:46.823Z"
   },
   {
    "duration": 36,
    "start_time": "2024-05-13T14:23:46.833Z"
   },
   {
    "duration": 210,
    "start_time": "2024-05-13T14:23:46.870Z"
   },
   {
    "duration": 147,
    "start_time": "2024-05-13T14:23:47.082Z"
   },
   {
    "duration": 8,
    "start_time": "2024-05-13T14:23:47.230Z"
   },
   {
    "duration": 141,
    "start_time": "2024-05-13T14:23:47.239Z"
   },
   {
    "duration": 6,
    "start_time": "2024-05-13T14:23:47.381Z"
   },
   {
    "duration": 31,
    "start_time": "2024-05-13T14:23:47.389Z"
   },
   {
    "duration": 292,
    "start_time": "2024-05-13T14:23:47.421Z"
   },
   {
    "duration": 4,
    "start_time": "2024-05-13T14:23:47.714Z"
   },
   {
    "duration": 30,
    "start_time": "2024-05-13T14:23:47.719Z"
   },
   {
    "duration": 144,
    "start_time": "2024-05-13T14:23:47.751Z"
   },
   {
    "duration": 207,
    "start_time": "2024-05-13T14:23:47.897Z"
   },
   {
    "duration": 19,
    "start_time": "2024-05-13T14:23:48.106Z"
   },
   {
    "duration": 221,
    "start_time": "2024-05-13T14:23:48.127Z"
   },
   {
    "duration": 245,
    "start_time": "2024-05-13T14:23:48.349Z"
   },
   {
    "duration": 10,
    "start_time": "2024-05-13T14:23:48.595Z"
   },
   {
    "duration": 155,
    "start_time": "2024-05-13T14:23:48.607Z"
   },
   {
    "duration": 222,
    "start_time": "2024-05-13T14:23:48.766Z"
   },
   {
    "duration": 3632,
    "start_time": "2024-05-13T14:23:48.990Z"
   },
   {
    "duration": 24,
    "start_time": "2024-05-13T14:24:29.244Z"
   },
   {
    "duration": 11,
    "start_time": "2024-05-13T14:29:12.323Z"
   },
   {
    "duration": 30,
    "start_time": "2024-05-13T14:30:07.605Z"
   },
   {
    "duration": 28,
    "start_time": "2024-05-13T14:30:19.812Z"
   },
   {
    "duration": 28,
    "start_time": "2024-05-13T14:30:30.288Z"
   },
   {
    "duration": 26,
    "start_time": "2024-05-13T14:35:00.460Z"
   },
   {
    "duration": 9,
    "start_time": "2024-05-13T14:36:10.387Z"
   },
   {
    "duration": 12,
    "start_time": "2024-05-13T14:36:33.202Z"
   },
   {
    "duration": 12,
    "start_time": "2024-05-13T14:36:43.331Z"
   },
   {
    "duration": 121,
    "start_time": "2024-05-13T14:38:15.571Z"
   },
   {
    "duration": 129,
    "start_time": "2024-05-13T14:38:18.135Z"
   },
   {
    "duration": 125,
    "start_time": "2024-05-13T14:39:39.526Z"
   },
   {
    "duration": 132,
    "start_time": "2024-05-13T14:40:24.873Z"
   },
   {
    "duration": 310,
    "start_time": "2024-05-13T14:43:10.521Z"
   },
   {
    "duration": 263,
    "start_time": "2024-05-13T14:45:43.503Z"
   },
   {
    "duration": 315,
    "start_time": "2024-05-13T14:45:53.146Z"
   },
   {
    "duration": 261,
    "start_time": "2024-05-13T14:46:30.536Z"
   },
   {
    "duration": 290,
    "start_time": "2024-05-13T14:49:39.324Z"
   },
   {
    "duration": 206,
    "start_time": "2024-05-13T14:52:02.810Z"
   },
   {
    "duration": 13,
    "start_time": "2024-05-13T14:57:17.942Z"
   },
   {
    "duration": 109,
    "start_time": "2024-05-13T14:57:37.087Z"
   },
   {
    "duration": 124,
    "start_time": "2024-05-13T15:04:59.946Z"
   },
   {
    "duration": 248,
    "start_time": "2024-05-13T15:06:24.940Z"
   },
   {
    "duration": 357,
    "start_time": "2024-05-13T15:07:33.280Z"
   },
   {
    "duration": 502,
    "start_time": "2024-05-13T15:08:11.260Z"
   },
   {
    "duration": 531,
    "start_time": "2024-05-13T15:09:02.997Z"
   },
   {
    "duration": 525,
    "start_time": "2024-05-13T15:09:19.324Z"
   },
   {
    "duration": 520,
    "start_time": "2024-05-13T15:09:44.835Z"
   },
   {
    "duration": 276,
    "start_time": "2024-05-13T15:10:49.823Z"
   },
   {
    "duration": 631,
    "start_time": "2024-05-13T15:10:58.654Z"
   },
   {
    "duration": 209,
    "start_time": "2024-05-13T15:12:18.140Z"
   },
   {
    "duration": 249,
    "start_time": "2024-05-13T15:12:28.437Z"
   },
   {
    "duration": 127,
    "start_time": "2024-05-13T15:12:48.285Z"
   },
   {
    "duration": 191,
    "start_time": "2024-05-13T15:12:58.052Z"
   },
   {
    "duration": 535,
    "start_time": "2024-05-13T15:13:21.814Z"
   },
   {
    "duration": 118,
    "start_time": "2024-05-13T15:13:58.946Z"
   },
   {
    "duration": 134,
    "start_time": "2024-05-13T15:14:05.182Z"
   },
   {
    "duration": 15,
    "start_time": "2024-05-13T15:14:10.122Z"
   },
   {
    "duration": 137,
    "start_time": "2024-05-13T15:14:16.557Z"
   },
   {
    "duration": 214,
    "start_time": "2024-05-13T15:14:22.662Z"
   },
   {
    "duration": 325,
    "start_time": "2024-05-13T15:14:40.221Z"
   },
   {
    "duration": 112,
    "start_time": "2024-05-13T15:15:16.072Z"
   },
   {
    "duration": 114,
    "start_time": "2024-05-13T15:15:32.305Z"
   },
   {
    "duration": 106,
    "start_time": "2024-05-13T15:15:47.408Z"
   },
   {
    "duration": 130,
    "start_time": "2024-05-13T15:16:47.942Z"
   },
   {
    "duration": 185,
    "start_time": "2024-05-13T15:17:10.343Z"
   },
   {
    "duration": 192,
    "start_time": "2024-05-13T15:17:38.755Z"
   },
   {
    "duration": 194,
    "start_time": "2024-05-13T15:17:45.468Z"
   },
   {
    "duration": 144,
    "start_time": "2024-05-13T15:19:49.370Z"
   },
   {
    "duration": 279,
    "start_time": "2024-05-13T15:20:19.713Z"
   },
   {
    "duration": 127,
    "start_time": "2024-05-13T15:20:52.420Z"
   },
   {
    "duration": 202,
    "start_time": "2024-05-13T15:21:06.173Z"
   },
   {
    "duration": 149,
    "start_time": "2024-05-13T15:21:50.970Z"
   },
   {
    "duration": 536,
    "start_time": "2024-05-13T15:22:03.636Z"
   },
   {
    "duration": 664,
    "start_time": "2024-05-13T15:22:22.916Z"
   },
   {
    "duration": 539,
    "start_time": "2024-05-13T15:22:32.632Z"
   },
   {
    "duration": 537,
    "start_time": "2024-05-13T15:23:10.759Z"
   },
   {
    "duration": 514,
    "start_time": "2024-05-13T15:23:28.823Z"
   },
   {
    "duration": 547,
    "start_time": "2024-05-13T15:23:36.068Z"
   },
   {
    "duration": 52,
    "start_time": "2024-05-13T15:23:42.205Z"
   },
   {
    "duration": 668,
    "start_time": "2024-05-13T15:23:49.997Z"
   },
   {
    "duration": 533,
    "start_time": "2024-05-13T15:24:00.848Z"
   },
   {
    "duration": 547,
    "start_time": "2024-05-13T15:24:07.932Z"
   },
   {
    "duration": 532,
    "start_time": "2024-05-13T15:24:13.010Z"
   },
   {
    "duration": 495,
    "start_time": "2024-05-13T15:24:25.245Z"
   },
   {
    "duration": 682,
    "start_time": "2024-05-13T15:24:32.629Z"
   },
   {
    "duration": 526,
    "start_time": "2024-05-13T15:24:39.587Z"
   },
   {
    "duration": 516,
    "start_time": "2024-05-13T15:24:43.230Z"
   },
   {
    "duration": 553,
    "start_time": "2024-05-13T15:24:50.431Z"
   },
   {
    "duration": 516,
    "start_time": "2024-05-13T15:25:00.250Z"
   },
   {
    "duration": 672,
    "start_time": "2024-05-13T15:25:08.977Z"
   },
   {
    "duration": 548,
    "start_time": "2024-05-13T15:25:43.218Z"
   },
   {
    "duration": 18,
    "start_time": "2024-05-13T15:29:04.129Z"
   },
   {
    "duration": 17,
    "start_time": "2024-05-13T15:29:18.397Z"
   },
   {
    "duration": 535,
    "start_time": "2024-05-13T15:31:05.328Z"
   },
   {
    "duration": 575,
    "start_time": "2024-05-13T15:31:26.777Z"
   },
   {
    "duration": 555,
    "start_time": "2024-05-13T15:31:53.650Z"
   },
   {
    "duration": 682,
    "start_time": "2024-05-13T15:32:09.702Z"
   },
   {
    "duration": 57,
    "start_time": "2024-05-13T15:33:00.019Z"
   },
   {
    "duration": 303,
    "start_time": "2024-05-13T15:33:05.339Z"
   },
   {
    "duration": 463,
    "start_time": "2024-05-13T15:33:18.657Z"
   },
   {
    "duration": 512,
    "start_time": "2024-05-13T15:33:25.066Z"
   },
   {
    "duration": 539,
    "start_time": "2024-05-13T15:34:42.018Z"
   },
   {
    "duration": 510,
    "start_time": "2024-05-13T15:34:59.195Z"
   },
   {
    "duration": 670,
    "start_time": "2024-05-13T15:35:12.849Z"
   },
   {
    "duration": 568,
    "start_time": "2024-05-13T15:36:45.796Z"
   },
   {
    "duration": 558,
    "start_time": "2024-05-13T15:37:43.744Z"
   },
   {
    "duration": 12,
    "start_time": "2024-05-13T15:39:10.926Z"
   },
   {
    "duration": 14,
    "start_time": "2024-05-13T15:39:17.810Z"
   },
   {
    "duration": 41,
    "start_time": "2024-05-13T15:47:52.935Z"
   },
   {
    "duration": 1270,
    "start_time": "2024-05-13T15:54:32.504Z"
   },
   {
    "duration": 72,
    "start_time": "2024-05-13T15:54:33.776Z"
   },
   {
    "duration": 21,
    "start_time": "2024-05-13T15:54:33.849Z"
   },
   {
    "duration": 28,
    "start_time": "2024-05-13T15:54:33.872Z"
   },
   {
    "duration": 7,
    "start_time": "2024-05-13T15:54:33.901Z"
   },
   {
    "duration": 19,
    "start_time": "2024-05-13T15:54:33.909Z"
   },
   {
    "duration": 40,
    "start_time": "2024-05-13T15:54:33.930Z"
   },
   {
    "duration": 9,
    "start_time": "2024-05-13T15:54:33.972Z"
   },
   {
    "duration": 15,
    "start_time": "2024-05-13T15:54:33.983Z"
   },
   {
    "duration": 8,
    "start_time": "2024-05-13T15:54:34.001Z"
   },
   {
    "duration": 13,
    "start_time": "2024-05-13T15:54:34.011Z"
   },
   {
    "duration": 207,
    "start_time": "2024-05-13T15:54:34.026Z"
   },
   {
    "duration": 118,
    "start_time": "2024-05-13T15:54:34.235Z"
   },
   {
    "duration": 15,
    "start_time": "2024-05-13T15:54:34.355Z"
   },
   {
    "duration": 128,
    "start_time": "2024-05-13T15:54:34.371Z"
   },
   {
    "duration": 5,
    "start_time": "2024-05-13T15:54:34.501Z"
   },
   {
    "duration": 13,
    "start_time": "2024-05-13T15:54:34.508Z"
   },
   {
    "duration": 286,
    "start_time": "2024-05-13T15:54:34.522Z"
   },
   {
    "duration": 3,
    "start_time": "2024-05-13T15:54:34.809Z"
   },
   {
    "duration": 21,
    "start_time": "2024-05-13T15:54:34.814Z"
   },
   {
    "duration": 162,
    "start_time": "2024-05-13T15:54:34.838Z"
   },
   {
    "duration": 219,
    "start_time": "2024-05-13T15:54:35.002Z"
   },
   {
    "duration": 19,
    "start_time": "2024-05-13T15:54:35.222Z"
   },
   {
    "duration": 238,
    "start_time": "2024-05-13T15:54:35.242Z"
   },
   {
    "duration": 252,
    "start_time": "2024-05-13T15:54:35.482Z"
   },
   {
    "duration": 8,
    "start_time": "2024-05-13T15:54:35.736Z"
   },
   {
    "duration": 153,
    "start_time": "2024-05-13T15:54:35.745Z"
   },
   {
    "duration": 212,
    "start_time": "2024-05-13T15:54:35.901Z"
   },
   {
    "duration": 21,
    "start_time": "2024-05-13T15:54:36.114Z"
   },
   {
    "duration": 120,
    "start_time": "2024-05-13T15:54:36.136Z"
   },
   {
    "duration": 0,
    "start_time": "2024-05-13T15:54:36.257Z"
   },
   {
    "duration": 0,
    "start_time": "2024-05-13T15:54:36.261Z"
   },
   {
    "duration": 1318,
    "start_time": "2024-05-13T15:59:16.736Z"
   },
   {
    "duration": 71,
    "start_time": "2024-05-13T15:59:18.056Z"
   },
   {
    "duration": 20,
    "start_time": "2024-05-13T15:59:18.129Z"
   },
   {
    "duration": 25,
    "start_time": "2024-05-13T15:59:18.151Z"
   },
   {
    "duration": 6,
    "start_time": "2024-05-13T15:59:18.177Z"
   },
   {
    "duration": 11,
    "start_time": "2024-05-13T15:59:18.184Z"
   },
   {
    "duration": 12,
    "start_time": "2024-05-13T15:59:18.196Z"
   },
   {
    "duration": 8,
    "start_time": "2024-05-13T15:59:18.209Z"
   },
   {
    "duration": 57,
    "start_time": "2024-05-13T15:59:18.219Z"
   },
   {
    "duration": 9,
    "start_time": "2024-05-13T15:59:18.279Z"
   },
   {
    "duration": 12,
    "start_time": "2024-05-13T15:59:18.289Z"
   },
   {
    "duration": 210,
    "start_time": "2024-05-13T15:59:18.302Z"
   },
   {
    "duration": 117,
    "start_time": "2024-05-13T15:59:18.513Z"
   },
   {
    "duration": 8,
    "start_time": "2024-05-13T15:59:18.632Z"
   },
   {
    "duration": 128,
    "start_time": "2024-05-13T15:59:18.642Z"
   },
   {
    "duration": 5,
    "start_time": "2024-05-13T15:59:18.771Z"
   },
   {
    "duration": 12,
    "start_time": "2024-05-13T15:59:18.778Z"
   },
   {
    "duration": 296,
    "start_time": "2024-05-13T15:59:18.792Z"
   },
   {
    "duration": 3,
    "start_time": "2024-05-13T15:59:19.090Z"
   },
   {
    "duration": 18,
    "start_time": "2024-05-13T15:59:19.094Z"
   },
   {
    "duration": 148,
    "start_time": "2024-05-13T15:59:19.113Z"
   },
   {
    "duration": 193,
    "start_time": "2024-05-13T15:59:19.263Z"
   },
   {
    "duration": 18,
    "start_time": "2024-05-13T15:59:19.460Z"
   },
   {
    "duration": 213,
    "start_time": "2024-05-13T15:59:19.480Z"
   },
   {
    "duration": 282,
    "start_time": "2024-05-13T15:59:19.695Z"
   },
   {
    "duration": 9,
    "start_time": "2024-05-13T15:59:19.978Z"
   },
   {
    "duration": 144,
    "start_time": "2024-05-13T15:59:19.988Z"
   },
   {
    "duration": 194,
    "start_time": "2024-05-13T15:59:20.135Z"
   },
   {
    "duration": 30,
    "start_time": "2024-05-13T15:59:20.331Z"
   },
   {
    "duration": 29,
    "start_time": "2024-05-13T15:59:20.363Z"
   },
   {
    "duration": 568,
    "start_time": "2024-05-13T15:59:20.394Z"
   },
   {
    "duration": 558,
    "start_time": "2024-05-13T15:59:20.964Z"
   },
   {
    "duration": 529,
    "start_time": "2024-05-13T15:59:21.524Z"
   },
   {
    "duration": 468,
    "start_time": "2024-05-13T16:02:26.826Z"
   },
   {
    "duration": 457,
    "start_time": "2024-05-13T16:02:45.552Z"
   },
   {
    "duration": 10,
    "start_time": "2024-05-13T16:03:56.337Z"
   },
   {
    "duration": 12,
    "start_time": "2024-05-13T16:04:05.730Z"
   },
   {
    "duration": 183,
    "start_time": "2024-05-13T16:04:12.511Z"
   },
   {
    "duration": 189,
    "start_time": "2024-05-13T16:04:24.157Z"
   },
   {
    "duration": 1370,
    "start_time": "2024-05-13T16:05:51.803Z"
   },
   {
    "duration": 45,
    "start_time": "2024-05-13T16:11:55.094Z"
   },
   {
    "duration": 8799,
    "start_time": "2024-05-13T16:12:01.464Z"
   },
   {
    "duration": 7196,
    "start_time": "2024-05-13T16:13:18.341Z"
   },
   {
    "duration": 8791,
    "start_time": "2024-05-13T16:13:31.410Z"
   },
   {
    "duration": 2,
    "start_time": "2024-05-13T16:14:34.038Z"
   },
   {
    "duration": 7159,
    "start_time": "2024-05-13T16:16:43.797Z"
   },
   {
    "duration": 7686,
    "start_time": "2024-05-13T16:25:06.053Z"
   },
   {
    "duration": 4,
    "start_time": "2024-05-13T16:29:41.027Z"
   },
   {
    "duration": 5,
    "start_time": "2024-05-13T16:31:35.207Z"
   },
   {
    "duration": 23,
    "start_time": "2024-05-13T16:42:48.913Z"
   },
   {
    "duration": 18,
    "start_time": "2024-05-13T16:50:25.224Z"
   },
   {
    "duration": 2,
    "start_time": "2024-05-13T16:54:21.714Z"
   },
   {
    "duration": 22,
    "start_time": "2024-05-13T16:59:18.865Z"
   },
   {
    "duration": 11,
    "start_time": "2024-05-13T17:00:00.487Z"
   },
   {
    "duration": 18,
    "start_time": "2024-05-13T17:00:10.550Z"
   },
   {
    "duration": 19,
    "start_time": "2024-05-13T17:00:36.063Z"
   },
   {
    "duration": 11,
    "start_time": "2024-05-13T17:01:15.029Z"
   },
   {
    "duration": 11,
    "start_time": "2024-05-13T17:02:07.370Z"
   },
   {
    "duration": 47,
    "start_time": "2024-05-13T17:02:45.289Z"
   },
   {
    "duration": 43,
    "start_time": "2024-05-13T17:03:54.948Z"
   },
   {
    "duration": 15,
    "start_time": "2024-05-13T17:04:04.537Z"
   },
   {
    "duration": 20,
    "start_time": "2024-05-13T17:09:00.900Z"
   },
   {
    "duration": 10,
    "start_time": "2024-05-13T17:09:20.824Z"
   },
   {
    "duration": 9,
    "start_time": "2024-05-13T17:09:27.695Z"
   },
   {
    "duration": 14,
    "start_time": "2024-05-13T17:09:49.604Z"
   },
   {
    "duration": 9,
    "start_time": "2024-05-13T17:10:47.346Z"
   },
   {
    "duration": 10,
    "start_time": "2024-05-13T17:11:00.712Z"
   },
   {
    "duration": 9,
    "start_time": "2024-05-13T17:11:06.048Z"
   },
   {
    "duration": 15,
    "start_time": "2024-05-13T17:15:00.362Z"
   },
   {
    "duration": 14,
    "start_time": "2024-05-13T17:15:44.015Z"
   },
   {
    "duration": 22,
    "start_time": "2024-05-13T17:21:17.112Z"
   },
   {
    "duration": 9,
    "start_time": "2024-05-13T17:21:28.279Z"
   },
   {
    "duration": 40,
    "start_time": "2024-05-13T17:22:15.593Z"
   },
   {
    "duration": 38,
    "start_time": "2024-05-13T17:22:56.832Z"
   },
   {
    "duration": 10,
    "start_time": "2024-05-13T17:23:06.039Z"
   },
   {
    "duration": 10,
    "start_time": "2024-05-13T17:23:59.471Z"
   },
   {
    "duration": 12,
    "start_time": "2024-05-13T17:24:31.397Z"
   },
   {
    "duration": 12,
    "start_time": "2024-05-13T17:26:21.311Z"
   },
   {
    "duration": 41,
    "start_time": "2024-05-13T17:27:22.186Z"
   },
   {
    "duration": 11,
    "start_time": "2024-05-13T17:27:32.661Z"
   },
   {
    "duration": 15,
    "start_time": "2024-05-13T17:28:24.556Z"
   },
   {
    "duration": 603,
    "start_time": "2024-05-13T17:29:07.260Z"
   },
   {
    "duration": 618,
    "start_time": "2024-05-13T17:29:22.685Z"
   },
   {
    "duration": 13,
    "start_time": "2024-05-13T17:30:43.835Z"
   },
   {
    "duration": 11,
    "start_time": "2024-05-13T17:30:52.384Z"
   },
   {
    "duration": 642,
    "start_time": "2024-05-13T17:31:04.905Z"
   },
   {
    "duration": 620,
    "start_time": "2024-05-13T17:31:36.081Z"
   },
   {
    "duration": 22,
    "start_time": "2024-05-13T17:31:44.824Z"
   },
   {
    "duration": 14,
    "start_time": "2024-05-13T17:32:24.187Z"
   },
   {
    "duration": 19,
    "start_time": "2024-05-13T17:33:05.892Z"
   },
   {
    "duration": 15,
    "start_time": "2024-05-13T17:35:25.373Z"
   },
   {
    "duration": 42,
    "start_time": "2024-05-13T17:43:08.551Z"
   },
   {
    "duration": 9,
    "start_time": "2024-05-13T17:43:21.523Z"
   },
   {
    "duration": 9,
    "start_time": "2024-05-13T17:43:29.741Z"
   },
   {
    "duration": 40,
    "start_time": "2024-05-13T17:45:26.411Z"
   },
   {
    "duration": 41,
    "start_time": "2024-05-13T17:45:37.737Z"
   },
   {
    "duration": 42,
    "start_time": "2024-05-13T17:45:52.274Z"
   },
   {
    "duration": 9,
    "start_time": "2024-05-13T17:46:19.417Z"
   },
   {
    "duration": 10,
    "start_time": "2024-05-13T17:46:46.109Z"
   },
   {
    "duration": 16,
    "start_time": "2024-05-13T17:47:04.806Z"
   },
   {
    "duration": 42,
    "start_time": "2024-05-13T17:49:18.792Z"
   },
   {
    "duration": 38,
    "start_time": "2024-05-13T17:49:28.497Z"
   },
   {
    "duration": 10,
    "start_time": "2024-05-13T17:49:35.354Z"
   },
   {
    "duration": 9,
    "start_time": "2024-05-13T17:49:48.942Z"
   },
   {
    "duration": 9,
    "start_time": "2024-05-13T17:50:03.427Z"
   },
   {
    "duration": 15,
    "start_time": "2024-05-13T17:50:17.293Z"
   },
   {
    "duration": 18,
    "start_time": "2024-05-13T17:50:35.877Z"
   },
   {
    "duration": 3715,
    "start_time": "2024-05-13T17:51:46.427Z"
   },
   {
    "duration": 15,
    "start_time": "2024-05-13T17:54:20.896Z"
   },
   {
    "duration": 9,
    "start_time": "2024-05-13T17:54:37.505Z"
   },
   {
    "duration": 14,
    "start_time": "2024-05-13T17:54:50.680Z"
   },
   {
    "duration": 18,
    "start_time": "2024-05-13T17:58:45.223Z"
   },
   {
    "duration": 40,
    "start_time": "2024-05-13T17:59:39.572Z"
   },
   {
    "duration": 2,
    "start_time": "2024-05-13T17:59:59.679Z"
   },
   {
    "duration": 45,
    "start_time": "2024-05-13T18:00:08.858Z"
   },
   {
    "duration": 45,
    "start_time": "2024-05-13T18:00:22.381Z"
   },
   {
    "duration": 13,
    "start_time": "2024-05-13T18:00:40.089Z"
   },
   {
    "duration": 17,
    "start_time": "2024-05-13T18:01:32.997Z"
   },
   {
    "duration": 10,
    "start_time": "2024-05-13T18:01:56.163Z"
   },
   {
    "duration": 11,
    "start_time": "2024-05-13T18:02:07.913Z"
   },
   {
    "duration": 54,
    "start_time": "2024-05-13T18:02:30.502Z"
   },
   {
    "duration": 47,
    "start_time": "2024-05-13T18:02:48.850Z"
   },
   {
    "duration": 14715,
    "start_time": "2024-05-13T18:03:12.006Z"
   },
   {
    "duration": 5,
    "start_time": "2024-05-13T18:04:30.200Z"
   },
   {
    "duration": 3,
    "start_time": "2024-05-13T18:04:34.421Z"
   },
   {
    "duration": 52,
    "start_time": "2024-05-13T18:07:06.916Z"
   },
   {
    "duration": 1945,
    "start_time": "2024-05-13T18:07:18.353Z"
   },
   {
    "duration": 44,
    "start_time": "2024-05-13T18:07:48.527Z"
   },
   {
    "duration": 6352,
    "start_time": "2024-05-13T18:07:53.924Z"
   },
   {
    "duration": 8883,
    "start_time": "2024-05-13T18:08:10.085Z"
   },
   {
    "duration": 9078,
    "start_time": "2024-05-13T18:11:54.039Z"
   },
   {
    "duration": 9457,
    "start_time": "2024-05-13T18:13:07.104Z"
   },
   {
    "duration": 1264,
    "start_time": "2024-05-13T18:14:33.703Z"
   },
   {
    "duration": 71,
    "start_time": "2024-05-13T18:14:34.969Z"
   },
   {
    "duration": 23,
    "start_time": "2024-05-13T18:14:35.042Z"
   },
   {
    "duration": 40,
    "start_time": "2024-05-13T18:14:35.067Z"
   },
   {
    "duration": 10,
    "start_time": "2024-05-13T18:14:35.110Z"
   },
   {
    "duration": 42,
    "start_time": "2024-05-13T18:14:35.122Z"
   },
   {
    "duration": 24,
    "start_time": "2024-05-13T18:14:35.166Z"
   },
   {
    "duration": 9,
    "start_time": "2024-05-13T18:14:35.191Z"
   },
   {
    "duration": 41,
    "start_time": "2024-05-13T18:14:35.201Z"
   },
   {
    "duration": 20,
    "start_time": "2024-05-13T18:14:35.246Z"
   },
   {
    "duration": 14,
    "start_time": "2024-05-13T18:14:35.268Z"
   },
   {
    "duration": 204,
    "start_time": "2024-05-13T18:14:35.284Z"
   },
   {
    "duration": 139,
    "start_time": "2024-05-13T18:14:35.490Z"
   },
   {
    "duration": 9,
    "start_time": "2024-05-13T18:14:35.632Z"
   },
   {
    "duration": 134,
    "start_time": "2024-05-13T18:14:35.642Z"
   },
   {
    "duration": 9,
    "start_time": "2024-05-13T18:14:35.778Z"
   },
   {
    "duration": 23,
    "start_time": "2024-05-13T18:14:35.788Z"
   },
   {
    "duration": 371,
    "start_time": "2024-05-13T18:14:35.813Z"
   },
   {
    "duration": 5,
    "start_time": "2024-05-13T18:14:36.186Z"
   },
   {
    "duration": 15,
    "start_time": "2024-05-13T18:14:36.193Z"
   },
   {
    "duration": 194,
    "start_time": "2024-05-13T18:14:36.210Z"
   },
   {
    "duration": 310,
    "start_time": "2024-05-13T18:14:36.406Z"
   },
   {
    "duration": 21,
    "start_time": "2024-05-13T18:14:36.718Z"
   },
   {
    "duration": 250,
    "start_time": "2024-05-13T18:14:36.741Z"
   },
   {
    "duration": 366,
    "start_time": "2024-05-13T18:14:36.994Z"
   },
   {
    "duration": 12,
    "start_time": "2024-05-13T18:14:37.362Z"
   },
   {
    "duration": 141,
    "start_time": "2024-05-13T18:14:37.376Z"
   },
   {
    "duration": 203,
    "start_time": "2024-05-13T18:14:37.521Z"
   },
   {
    "duration": 37,
    "start_time": "2024-05-13T18:14:37.725Z"
   },
   {
    "duration": 29,
    "start_time": "2024-05-13T18:14:37.763Z"
   },
   {
    "duration": 586,
    "start_time": "2024-05-13T18:14:37.793Z"
   },
   {
    "duration": 588,
    "start_time": "2024-05-13T18:14:38.381Z"
   },
   {
    "duration": 2,
    "start_time": "2024-05-13T18:14:38.971Z"
   },
   {
    "duration": 7911,
    "start_time": "2024-05-13T18:14:38.975Z"
   },
   {
    "duration": 4,
    "start_time": "2024-05-13T18:14:46.888Z"
   },
   {
    "duration": 9145,
    "start_time": "2024-05-13T18:14:46.893Z"
   },
   {
    "duration": 3,
    "start_time": "2024-05-13T18:14:56.041Z"
   },
   {
    "duration": 14,
    "start_time": "2024-05-13T18:14:56.047Z"
   },
   {
    "duration": 4,
    "start_time": "2024-05-13T18:14:56.063Z"
   },
   {
    "duration": 6,
    "start_time": "2024-05-13T18:17:38.720Z"
   },
   {
    "duration": 8871,
    "start_time": "2024-05-13T18:17:39.754Z"
   },
   {
    "duration": 12132,
    "start_time": "2024-05-13T18:22:49.162Z"
   },
   {
    "duration": 1285,
    "start_time": "2024-05-13T18:26:40.890Z"
   },
   {
    "duration": 68,
    "start_time": "2024-05-13T18:26:42.178Z"
   },
   {
    "duration": 21,
    "start_time": "2024-05-13T18:26:42.248Z"
   },
   {
    "duration": 29,
    "start_time": "2024-05-13T18:26:42.271Z"
   },
   {
    "duration": 6,
    "start_time": "2024-05-13T18:26:42.302Z"
   },
   {
    "duration": 13,
    "start_time": "2024-05-13T18:26:42.310Z"
   },
   {
    "duration": 47,
    "start_time": "2024-05-13T18:26:42.325Z"
   },
   {
    "duration": 8,
    "start_time": "2024-05-13T18:26:42.373Z"
   },
   {
    "duration": 19,
    "start_time": "2024-05-13T18:26:42.382Z"
   },
   {
    "duration": 8,
    "start_time": "2024-05-13T18:26:42.403Z"
   },
   {
    "duration": 10,
    "start_time": "2024-05-13T18:26:42.413Z"
   },
   {
    "duration": 241,
    "start_time": "2024-05-13T18:26:42.425Z"
   },
   {
    "duration": 134,
    "start_time": "2024-05-13T18:26:42.668Z"
   },
   {
    "duration": 8,
    "start_time": "2024-05-13T18:26:42.804Z"
   },
   {
    "duration": 149,
    "start_time": "2024-05-13T18:26:42.814Z"
   },
   {
    "duration": 5,
    "start_time": "2024-05-13T18:26:42.965Z"
   },
   {
    "duration": 17,
    "start_time": "2024-05-13T18:26:42.972Z"
   },
   {
    "duration": 303,
    "start_time": "2024-05-13T18:26:42.990Z"
   },
   {
    "duration": 4,
    "start_time": "2024-05-13T18:26:43.295Z"
   },
   {
    "duration": 10,
    "start_time": "2024-05-13T18:26:43.301Z"
   },
   {
    "duration": 153,
    "start_time": "2024-05-13T18:26:43.312Z"
   },
   {
    "duration": 190,
    "start_time": "2024-05-13T18:26:43.467Z"
   },
   {
    "duration": 18,
    "start_time": "2024-05-13T18:26:43.660Z"
   },
   {
    "duration": 238,
    "start_time": "2024-05-13T18:26:43.679Z"
   },
   {
    "duration": 280,
    "start_time": "2024-05-13T18:26:43.919Z"
   },
   {
    "duration": 12,
    "start_time": "2024-05-13T18:26:44.201Z"
   },
   {
    "duration": 164,
    "start_time": "2024-05-13T18:26:44.214Z"
   },
   {
    "duration": 242,
    "start_time": "2024-05-13T18:26:44.382Z"
   },
   {
    "duration": 22,
    "start_time": "2024-05-13T18:26:44.626Z"
   },
   {
    "duration": 31,
    "start_time": "2024-05-13T18:26:44.660Z"
   },
   {
    "duration": 627,
    "start_time": "2024-05-13T18:26:44.693Z"
   },
   {
    "duration": 541,
    "start_time": "2024-05-13T18:26:45.322Z"
   },
   {
    "duration": 3,
    "start_time": "2024-05-13T18:26:45.865Z"
   },
   {
    "duration": 7627,
    "start_time": "2024-05-13T18:26:45.870Z"
   },
   {
    "duration": 4,
    "start_time": "2024-05-13T18:26:53.499Z"
   },
   {
    "duration": 11405,
    "start_time": "2024-05-13T18:26:53.505Z"
   },
   {
    "duration": 3,
    "start_time": "2024-05-13T18:27:04.913Z"
   },
   {
    "duration": 22,
    "start_time": "2024-05-13T18:27:04.917Z"
   },
   {
    "duration": 10,
    "start_time": "2024-05-13T18:27:04.941Z"
   },
   {
    "duration": 8294,
    "start_time": "2024-05-13T18:28:34.477Z"
   },
   {
    "duration": 8626,
    "start_time": "2024-05-13T18:29:03.622Z"
   },
   {
    "duration": 11551,
    "start_time": "2024-05-13T18:29:51.631Z"
   },
   {
    "duration": 38,
    "start_time": "2024-05-13T18:31:11.168Z"
   },
   {
    "duration": 120,
    "start_time": "2024-05-13T18:31:22.215Z"
   },
   {
    "duration": 40,
    "start_time": "2024-05-13T18:31:36.348Z"
   },
   {
    "duration": 50,
    "start_time": "2024-05-13T18:31:44.681Z"
   },
   {
    "duration": 18,
    "start_time": "2024-05-13T18:31:51.775Z"
   },
   {
    "duration": 1245,
    "start_time": "2024-05-13T18:32:03.809Z"
   },
   {
    "duration": 71,
    "start_time": "2024-05-13T18:32:05.056Z"
   },
   {
    "duration": 22,
    "start_time": "2024-05-13T18:32:05.128Z"
   },
   {
    "duration": 61,
    "start_time": "2024-05-13T18:32:05.152Z"
   },
   {
    "duration": 26,
    "start_time": "2024-05-13T18:32:05.215Z"
   },
   {
    "duration": 27,
    "start_time": "2024-05-13T18:32:05.243Z"
   },
   {
    "duration": 44,
    "start_time": "2024-05-13T18:32:05.272Z"
   },
   {
    "duration": 30,
    "start_time": "2024-05-13T18:32:05.318Z"
   },
   {
    "duration": 18,
    "start_time": "2024-05-13T18:32:05.350Z"
   },
   {
    "duration": 38,
    "start_time": "2024-05-13T18:32:05.371Z"
   },
   {
    "duration": 54,
    "start_time": "2024-05-13T18:32:05.411Z"
   },
   {
    "duration": 223,
    "start_time": "2024-05-13T18:32:05.467Z"
   },
   {
    "duration": 194,
    "start_time": "2024-05-13T18:32:05.691Z"
   },
   {
    "duration": 10,
    "start_time": "2024-05-13T18:32:05.887Z"
   },
   {
    "duration": 165,
    "start_time": "2024-05-13T18:32:05.899Z"
   },
   {
    "duration": 6,
    "start_time": "2024-05-13T18:32:06.066Z"
   },
   {
    "duration": 39,
    "start_time": "2024-05-13T18:32:06.074Z"
   },
   {
    "duration": 304,
    "start_time": "2024-05-13T18:32:06.114Z"
   },
   {
    "duration": 3,
    "start_time": "2024-05-13T18:32:06.420Z"
   },
   {
    "duration": 15,
    "start_time": "2024-05-13T18:32:06.425Z"
   },
   {
    "duration": 143,
    "start_time": "2024-05-13T18:32:06.441Z"
   },
   {
    "duration": 208,
    "start_time": "2024-05-13T18:32:06.586Z"
   },
   {
    "duration": 18,
    "start_time": "2024-05-13T18:32:06.795Z"
   },
   {
    "duration": 229,
    "start_time": "2024-05-13T18:32:06.816Z"
   },
   {
    "duration": 302,
    "start_time": "2024-05-13T18:32:07.047Z"
   },
   {
    "duration": 16,
    "start_time": "2024-05-13T18:32:07.351Z"
   },
   {
    "duration": 228,
    "start_time": "2024-05-13T18:32:07.369Z"
   },
   {
    "duration": 299,
    "start_time": "2024-05-13T18:32:07.602Z"
   },
   {
    "duration": 25,
    "start_time": "2024-05-13T18:32:07.903Z"
   },
   {
    "duration": 59,
    "start_time": "2024-05-13T18:32:07.931Z"
   },
   {
    "duration": 561,
    "start_time": "2024-05-13T18:32:07.992Z"
   },
   {
    "duration": 570,
    "start_time": "2024-05-13T18:32:08.554Z"
   },
   {
    "duration": 3,
    "start_time": "2024-05-13T18:32:09.125Z"
   },
   {
    "duration": 7660,
    "start_time": "2024-05-13T18:32:09.130Z"
   },
   {
    "duration": 5,
    "start_time": "2024-05-13T18:32:16.792Z"
   },
   {
    "duration": 126,
    "start_time": "2024-05-13T18:32:16.799Z"
   },
   {
    "duration": 0,
    "start_time": "2024-05-13T18:32:16.926Z"
   },
   {
    "duration": 0,
    "start_time": "2024-05-13T18:32:16.928Z"
   },
   {
    "duration": 11531,
    "start_time": "2024-05-13T18:32:28.615Z"
   },
   {
    "duration": 11641,
    "start_time": "2024-05-13T18:33:21.520Z"
   },
   {
    "duration": 12169,
    "start_time": "2024-05-13T18:35:56.145Z"
   },
   {
    "duration": 11440,
    "start_time": "2024-05-13T18:37:22.710Z"
   },
   {
    "duration": 1333,
    "start_time": "2024-05-13T18:38:06.098Z"
   },
   {
    "duration": 70,
    "start_time": "2024-05-13T18:38:07.433Z"
   },
   {
    "duration": 31,
    "start_time": "2024-05-13T18:38:07.506Z"
   },
   {
    "duration": 29,
    "start_time": "2024-05-13T18:38:07.539Z"
   },
   {
    "duration": 8,
    "start_time": "2024-05-13T18:38:07.570Z"
   },
   {
    "duration": 16,
    "start_time": "2024-05-13T18:38:07.580Z"
   },
   {
    "duration": 24,
    "start_time": "2024-05-13T18:38:07.598Z"
   },
   {
    "duration": 42,
    "start_time": "2024-05-13T18:38:07.624Z"
   },
   {
    "duration": 16,
    "start_time": "2024-05-13T18:38:07.668Z"
   },
   {
    "duration": 8,
    "start_time": "2024-05-13T18:38:07.688Z"
   },
   {
    "duration": 13,
    "start_time": "2024-05-13T18:38:07.697Z"
   },
   {
    "duration": 222,
    "start_time": "2024-05-13T18:38:07.712Z"
   },
   {
    "duration": 119,
    "start_time": "2024-05-13T18:38:07.935Z"
   },
   {
    "duration": 14,
    "start_time": "2024-05-13T18:38:08.056Z"
   },
   {
    "duration": 134,
    "start_time": "2024-05-13T18:38:08.072Z"
   },
   {
    "duration": 5,
    "start_time": "2024-05-13T18:38:08.207Z"
   },
   {
    "duration": 16,
    "start_time": "2024-05-13T18:38:08.214Z"
   },
   {
    "duration": 291,
    "start_time": "2024-05-13T18:38:08.231Z"
   },
   {
    "duration": 3,
    "start_time": "2024-05-13T18:38:08.524Z"
   },
   {
    "duration": 11,
    "start_time": "2024-05-13T18:38:08.529Z"
   },
   {
    "duration": 153,
    "start_time": "2024-05-13T18:38:08.542Z"
   },
   {
    "duration": 213,
    "start_time": "2024-05-13T18:38:08.697Z"
   },
   {
    "duration": 20,
    "start_time": "2024-05-13T18:38:08.912Z"
   },
   {
    "duration": 239,
    "start_time": "2024-05-13T18:38:08.935Z"
   },
   {
    "duration": 302,
    "start_time": "2024-05-13T18:38:09.176Z"
   },
   {
    "duration": 10,
    "start_time": "2024-05-13T18:38:09.480Z"
   },
   {
    "duration": 161,
    "start_time": "2024-05-13T18:38:09.492Z"
   },
   {
    "duration": 203,
    "start_time": "2024-05-13T18:38:09.660Z"
   },
   {
    "duration": 25,
    "start_time": "2024-05-13T18:38:09.865Z"
   },
   {
    "duration": 44,
    "start_time": "2024-05-13T18:38:09.892Z"
   },
   {
    "duration": 570,
    "start_time": "2024-05-13T18:38:09.960Z"
   },
   {
    "duration": 605,
    "start_time": "2024-05-13T18:38:10.531Z"
   },
   {
    "duration": 3,
    "start_time": "2024-05-13T18:38:11.137Z"
   },
   {
    "duration": 7954,
    "start_time": "2024-05-13T18:38:11.141Z"
   },
   {
    "duration": 5,
    "start_time": "2024-05-13T18:38:19.097Z"
   },
   {
    "duration": 11802,
    "start_time": "2024-05-13T18:38:19.104Z"
   },
   {
    "duration": 4,
    "start_time": "2024-05-13T18:38:30.908Z"
   },
   {
    "duration": 57,
    "start_time": "2024-05-13T18:38:30.914Z"
   },
   {
    "duration": 277,
    "start_time": "2024-05-13T18:39:04.097Z"
   },
   {
    "duration": 1357,
    "start_time": "2024-05-13T18:40:17.524Z"
   },
   {
    "duration": 70,
    "start_time": "2024-05-13T18:40:18.883Z"
   },
   {
    "duration": 22,
    "start_time": "2024-05-13T18:40:18.954Z"
   },
   {
    "duration": 30,
    "start_time": "2024-05-13T18:40:18.979Z"
   },
   {
    "duration": 8,
    "start_time": "2024-05-13T18:40:19.011Z"
   },
   {
    "duration": 48,
    "start_time": "2024-05-13T18:40:19.021Z"
   },
   {
    "duration": 16,
    "start_time": "2024-05-13T18:40:19.071Z"
   },
   {
    "duration": 10,
    "start_time": "2024-05-13T18:40:19.089Z"
   },
   {
    "duration": 58,
    "start_time": "2024-05-13T18:40:19.102Z"
   },
   {
    "duration": 8,
    "start_time": "2024-05-13T18:40:19.162Z"
   },
   {
    "duration": 11,
    "start_time": "2024-05-13T18:40:19.171Z"
   },
   {
    "duration": 207,
    "start_time": "2024-05-13T18:40:19.184Z"
   },
   {
    "duration": 127,
    "start_time": "2024-05-13T18:40:19.392Z"
   },
   {
    "duration": 10,
    "start_time": "2024-05-13T18:40:19.521Z"
   },
   {
    "duration": 140,
    "start_time": "2024-05-13T18:40:19.533Z"
   },
   {
    "duration": 5,
    "start_time": "2024-05-13T18:40:19.674Z"
   },
   {
    "duration": 29,
    "start_time": "2024-05-13T18:40:19.680Z"
   },
   {
    "duration": 377,
    "start_time": "2024-05-13T18:40:19.711Z"
   },
   {
    "duration": 6,
    "start_time": "2024-05-13T18:40:20.090Z"
   },
   {
    "duration": 44,
    "start_time": "2024-05-13T18:40:20.097Z"
   },
   {
    "duration": 178,
    "start_time": "2024-05-13T18:40:20.143Z"
   },
   {
    "duration": 229,
    "start_time": "2024-05-13T18:40:20.323Z"
   },
   {
    "duration": 24,
    "start_time": "2024-05-13T18:40:20.555Z"
   },
   {
    "duration": 265,
    "start_time": "2024-05-13T18:40:20.582Z"
   },
   {
    "duration": 312,
    "start_time": "2024-05-13T18:40:20.849Z"
   },
   {
    "duration": 9,
    "start_time": "2024-05-13T18:40:21.163Z"
   },
   {
    "duration": 167,
    "start_time": "2024-05-13T18:40:21.174Z"
   },
   {
    "duration": 292,
    "start_time": "2024-05-13T18:40:21.345Z"
   },
   {
    "duration": 44,
    "start_time": "2024-05-13T18:40:21.639Z"
   },
   {
    "duration": 34,
    "start_time": "2024-05-13T18:40:21.686Z"
   },
   {
    "duration": 801,
    "start_time": "2024-05-13T18:40:21.722Z"
   },
   {
    "duration": 556,
    "start_time": "2024-05-13T18:40:22.526Z"
   },
   {
    "duration": 3,
    "start_time": "2024-05-13T18:40:23.084Z"
   },
   {
    "duration": 8604,
    "start_time": "2024-05-13T18:40:23.089Z"
   },
   {
    "duration": 4,
    "start_time": "2024-05-13T18:40:31.695Z"
   },
   {
    "duration": 333,
    "start_time": "2024-05-13T18:40:31.701Z"
   },
   {
    "duration": 11271,
    "start_time": "2024-05-13T18:40:32.035Z"
   },
   {
    "duration": 2,
    "start_time": "2024-05-13T18:40:43.309Z"
   },
   {
    "duration": 48,
    "start_time": "2024-05-13T18:40:43.313Z"
   },
   {
    "duration": 45,
    "start_time": "2024-05-13T18:41:20.195Z"
   },
   {
    "duration": 41,
    "start_time": "2024-05-13T18:41:44.075Z"
   },
   {
    "duration": 8,
    "start_time": "2024-05-13T18:45:07.883Z"
   },
   {
    "duration": 1302,
    "start_time": "2024-05-13T18:46:03.369Z"
   },
   {
    "duration": 70,
    "start_time": "2024-05-13T18:46:04.672Z"
   },
   {
    "duration": 19,
    "start_time": "2024-05-13T18:46:04.744Z"
   },
   {
    "duration": 27,
    "start_time": "2024-05-13T18:46:04.765Z"
   },
   {
    "duration": 6,
    "start_time": "2024-05-13T18:46:04.793Z"
   },
   {
    "duration": 12,
    "start_time": "2024-05-13T18:46:04.801Z"
   },
   {
    "duration": 53,
    "start_time": "2024-05-13T18:46:04.814Z"
   },
   {
    "duration": 9,
    "start_time": "2024-05-13T18:46:04.869Z"
   },
   {
    "duration": 21,
    "start_time": "2024-05-13T18:46:04.879Z"
   },
   {
    "duration": 8,
    "start_time": "2024-05-13T18:46:04.901Z"
   },
   {
    "duration": 11,
    "start_time": "2024-05-13T18:46:04.911Z"
   },
   {
    "duration": 234,
    "start_time": "2024-05-13T18:46:04.923Z"
   },
   {
    "duration": 114,
    "start_time": "2024-05-13T18:46:05.159Z"
   },
   {
    "duration": 8,
    "start_time": "2024-05-13T18:46:05.276Z"
   },
   {
    "duration": 150,
    "start_time": "2024-05-13T18:46:05.286Z"
   },
   {
    "duration": 5,
    "start_time": "2024-05-13T18:46:05.438Z"
   },
   {
    "duration": 24,
    "start_time": "2024-05-13T18:46:05.445Z"
   },
   {
    "duration": 267,
    "start_time": "2024-05-13T18:46:05.470Z"
   },
   {
    "duration": 3,
    "start_time": "2024-05-13T18:46:05.739Z"
   },
   {
    "duration": 19,
    "start_time": "2024-05-13T18:46:05.744Z"
   },
   {
    "duration": 137,
    "start_time": "2024-05-13T18:46:05.764Z"
   },
   {
    "duration": 237,
    "start_time": "2024-05-13T18:46:05.903Z"
   },
   {
    "duration": 27,
    "start_time": "2024-05-13T18:46:06.142Z"
   },
   {
    "duration": 220,
    "start_time": "2024-05-13T18:46:06.171Z"
   },
   {
    "duration": 279,
    "start_time": "2024-05-13T18:46:06.392Z"
   },
   {
    "duration": 11,
    "start_time": "2024-05-13T18:46:06.673Z"
   },
   {
    "duration": 151,
    "start_time": "2024-05-13T18:46:06.686Z"
   },
   {
    "duration": 234,
    "start_time": "2024-05-13T18:46:06.838Z"
   },
   {
    "duration": 30,
    "start_time": "2024-05-13T18:46:07.073Z"
   },
   {
    "duration": 57,
    "start_time": "2024-05-13T18:46:07.105Z"
   },
   {
    "duration": 532,
    "start_time": "2024-05-13T18:46:07.164Z"
   },
   {
    "duration": 542,
    "start_time": "2024-05-13T18:46:07.697Z"
   },
   {
    "duration": 2,
    "start_time": "2024-05-13T18:46:08.241Z"
   },
   {
    "duration": 7624,
    "start_time": "2024-05-13T18:46:08.245Z"
   },
   {
    "duration": 5,
    "start_time": "2024-05-13T18:46:15.871Z"
   },
   {
    "duration": 281,
    "start_time": "2024-05-13T18:46:15.877Z"
   },
   {
    "duration": 3,
    "start_time": "2024-05-13T18:46:16.160Z"
   },
   {
    "duration": 16,
    "start_time": "2024-05-13T18:46:16.164Z"
   },
   {
    "duration": 2212,
    "start_time": "2024-05-13T18:46:16.184Z"
   },
   {
    "duration": 3,
    "start_time": "2024-05-13T18:46:18.399Z"
   },
   {
    "duration": 13,
    "start_time": "2024-05-13T18:46:18.405Z"
   },
   {
    "duration": 8,
    "start_time": "2024-05-13T18:46:42.694Z"
   },
   {
    "duration": 2208,
    "start_time": "2024-05-13T18:46:43.700Z"
   },
   {
    "duration": 17,
    "start_time": "2024-05-13T18:48:24.146Z"
   },
   {
    "duration": 1304,
    "start_time": "2024-05-13T18:49:42.563Z"
   },
   {
    "duration": 69,
    "start_time": "2024-05-13T18:49:43.869Z"
   },
   {
    "duration": 21,
    "start_time": "2024-05-13T18:49:43.940Z"
   },
   {
    "duration": 27,
    "start_time": "2024-05-13T18:49:43.963Z"
   },
   {
    "duration": 15,
    "start_time": "2024-05-13T18:49:43.992Z"
   },
   {
    "duration": 19,
    "start_time": "2024-05-13T18:49:44.008Z"
   },
   {
    "duration": 35,
    "start_time": "2024-05-13T18:49:44.029Z"
   },
   {
    "duration": 10,
    "start_time": "2024-05-13T18:49:44.066Z"
   },
   {
    "duration": 35,
    "start_time": "2024-05-13T18:49:44.077Z"
   },
   {
    "duration": 25,
    "start_time": "2024-05-13T18:49:44.115Z"
   },
   {
    "duration": 17,
    "start_time": "2024-05-13T18:49:44.142Z"
   },
   {
    "duration": 197,
    "start_time": "2024-05-13T18:49:44.160Z"
   },
   {
    "duration": 116,
    "start_time": "2024-05-13T18:49:44.361Z"
   },
   {
    "duration": 8,
    "start_time": "2024-05-13T18:49:44.479Z"
   },
   {
    "duration": 127,
    "start_time": "2024-05-13T18:49:44.489Z"
   },
   {
    "duration": 5,
    "start_time": "2024-05-13T18:49:44.618Z"
   },
   {
    "duration": 29,
    "start_time": "2024-05-13T18:49:44.624Z"
   },
   {
    "duration": 271,
    "start_time": "2024-05-13T18:49:44.655Z"
   },
   {
    "duration": 4,
    "start_time": "2024-05-13T18:49:44.927Z"
   },
   {
    "duration": 17,
    "start_time": "2024-05-13T18:49:44.932Z"
   },
   {
    "duration": 151,
    "start_time": "2024-05-13T18:49:44.951Z"
   },
   {
    "duration": 199,
    "start_time": "2024-05-13T18:49:45.105Z"
   },
   {
    "duration": 21,
    "start_time": "2024-05-13T18:49:45.307Z"
   },
   {
    "duration": 227,
    "start_time": "2024-05-13T18:49:45.330Z"
   },
   {
    "duration": 274,
    "start_time": "2024-05-13T18:49:45.560Z"
   },
   {
    "duration": 9,
    "start_time": "2024-05-13T18:49:45.836Z"
   },
   {
    "duration": 160,
    "start_time": "2024-05-13T18:49:45.847Z"
   },
   {
    "duration": 213,
    "start_time": "2024-05-13T18:49:46.010Z"
   },
   {
    "duration": 24,
    "start_time": "2024-05-13T18:49:46.225Z"
   },
   {
    "duration": 30,
    "start_time": "2024-05-13T18:49:46.260Z"
   },
   {
    "duration": 557,
    "start_time": "2024-05-13T18:49:46.292Z"
   },
   {
    "duration": 561,
    "start_time": "2024-05-13T18:49:46.850Z"
   },
   {
    "duration": 2,
    "start_time": "2024-05-13T18:49:47.413Z"
   },
   {
    "duration": 7520,
    "start_time": "2024-05-13T18:49:47.417Z"
   },
   {
    "duration": 4,
    "start_time": "2024-05-13T18:49:54.939Z"
   },
   {
    "duration": 9293,
    "start_time": "2024-05-13T18:49:54.944Z"
   },
   {
    "duration": 6,
    "start_time": "2024-05-13T18:50:04.238Z"
   },
   {
    "duration": 36,
    "start_time": "2024-05-13T18:50:04.246Z"
   },
   {
    "duration": 1191,
    "start_time": "2024-05-13T18:50:33.114Z"
   },
   {
    "duration": 69,
    "start_time": "2024-05-13T18:50:34.307Z"
   },
   {
    "duration": 22,
    "start_time": "2024-05-13T18:50:34.377Z"
   },
   {
    "duration": 27,
    "start_time": "2024-05-13T18:50:34.401Z"
   },
   {
    "duration": 7,
    "start_time": "2024-05-13T18:50:34.429Z"
   },
   {
    "duration": 31,
    "start_time": "2024-05-13T18:50:34.438Z"
   },
   {
    "duration": 22,
    "start_time": "2024-05-13T18:50:34.471Z"
   },
   {
    "duration": 21,
    "start_time": "2024-05-13T18:50:34.495Z"
   },
   {
    "duration": 31,
    "start_time": "2024-05-13T18:50:34.517Z"
   },
   {
    "duration": 15,
    "start_time": "2024-05-13T18:50:34.551Z"
   },
   {
    "duration": 34,
    "start_time": "2024-05-13T18:50:34.568Z"
   },
   {
    "duration": 208,
    "start_time": "2024-05-13T18:50:34.605Z"
   },
   {
    "duration": 116,
    "start_time": "2024-05-13T18:50:34.814Z"
   },
   {
    "duration": 8,
    "start_time": "2024-05-13T18:50:34.932Z"
   },
   {
    "duration": 151,
    "start_time": "2024-05-13T18:50:34.942Z"
   },
   {
    "duration": 5,
    "start_time": "2024-05-13T18:50:35.095Z"
   },
   {
    "duration": 37,
    "start_time": "2024-05-13T18:50:35.102Z"
   },
   {
    "duration": 280,
    "start_time": "2024-05-13T18:50:35.140Z"
   },
   {
    "duration": 3,
    "start_time": "2024-05-13T18:50:35.421Z"
   },
   {
    "duration": 20,
    "start_time": "2024-05-13T18:50:35.426Z"
   },
   {
    "duration": 153,
    "start_time": "2024-05-13T18:50:35.447Z"
   },
   {
    "duration": 194,
    "start_time": "2024-05-13T18:50:35.602Z"
   },
   {
    "duration": 17,
    "start_time": "2024-05-13T18:50:35.797Z"
   },
   {
    "duration": 241,
    "start_time": "2024-05-13T18:50:35.816Z"
   },
   {
    "duration": 291,
    "start_time": "2024-05-13T18:50:36.059Z"
   },
   {
    "duration": 16,
    "start_time": "2024-05-13T18:50:36.352Z"
   },
   {
    "duration": 138,
    "start_time": "2024-05-13T18:50:36.370Z"
   },
   {
    "duration": 205,
    "start_time": "2024-05-13T18:50:36.511Z"
   },
   {
    "duration": 23,
    "start_time": "2024-05-13T18:50:36.717Z"
   },
   {
    "duration": 42,
    "start_time": "2024-05-13T18:50:36.741Z"
   },
   {
    "duration": 570,
    "start_time": "2024-05-13T18:50:36.784Z"
   },
   {
    "duration": 521,
    "start_time": "2024-05-13T18:50:37.355Z"
   },
   {
    "duration": 2,
    "start_time": "2024-05-13T18:50:37.879Z"
   },
   {
    "duration": 7607,
    "start_time": "2024-05-13T18:50:37.883Z"
   },
   {
    "duration": 4,
    "start_time": "2024-05-13T18:50:45.492Z"
   },
   {
    "duration": 117,
    "start_time": "2024-05-13T18:50:45.497Z"
   },
   {
    "duration": 0,
    "start_time": "2024-05-13T18:50:45.616Z"
   },
   {
    "duration": 0,
    "start_time": "2024-05-13T18:50:45.618Z"
   },
   {
    "duration": 9991,
    "start_time": "2024-05-13T18:51:05.773Z"
   },
   {
    "duration": 9597,
    "start_time": "2024-05-13T18:51:30.296Z"
   },
   {
    "duration": 9283,
    "start_time": "2024-05-13T18:52:02.416Z"
   },
   {
    "duration": 9401,
    "start_time": "2024-05-13T18:52:45.712Z"
   },
   {
    "duration": 1260,
    "start_time": "2024-05-13T18:53:13.356Z"
   },
   {
    "duration": 71,
    "start_time": "2024-05-13T18:53:14.626Z"
   },
   {
    "duration": 22,
    "start_time": "2024-05-13T18:53:14.701Z"
   },
   {
    "duration": 28,
    "start_time": "2024-05-13T18:53:14.724Z"
   },
   {
    "duration": 12,
    "start_time": "2024-05-13T18:53:14.754Z"
   },
   {
    "duration": 12,
    "start_time": "2024-05-13T18:53:14.767Z"
   },
   {
    "duration": 12,
    "start_time": "2024-05-13T18:53:14.780Z"
   },
   {
    "duration": 8,
    "start_time": "2024-05-13T18:53:14.794Z"
   },
   {
    "duration": 15,
    "start_time": "2024-05-13T18:53:14.804Z"
   },
   {
    "duration": 8,
    "start_time": "2024-05-13T18:53:14.861Z"
   },
   {
    "duration": 11,
    "start_time": "2024-05-13T18:53:14.870Z"
   },
   {
    "duration": 200,
    "start_time": "2024-05-13T18:53:14.882Z"
   },
   {
    "duration": 118,
    "start_time": "2024-05-13T18:53:15.084Z"
   },
   {
    "duration": 7,
    "start_time": "2024-05-13T18:53:15.203Z"
   },
   {
    "duration": 123,
    "start_time": "2024-05-13T18:53:15.212Z"
   },
   {
    "duration": 4,
    "start_time": "2024-05-13T18:53:15.337Z"
   },
   {
    "duration": 52,
    "start_time": "2024-05-13T18:53:15.343Z"
   },
   {
    "duration": 280,
    "start_time": "2024-05-13T18:53:15.397Z"
   },
   {
    "duration": 3,
    "start_time": "2024-05-13T18:53:15.678Z"
   },
   {
    "duration": 18,
    "start_time": "2024-05-13T18:53:15.683Z"
   },
   {
    "duration": 161,
    "start_time": "2024-05-13T18:53:15.703Z"
   },
   {
    "duration": 228,
    "start_time": "2024-05-13T18:53:15.866Z"
   },
   {
    "duration": 17,
    "start_time": "2024-05-13T18:53:16.096Z"
   },
   {
    "duration": 240,
    "start_time": "2024-05-13T18:53:16.115Z"
   },
   {
    "duration": 297,
    "start_time": "2024-05-13T18:53:16.360Z"
   },
   {
    "duration": 11,
    "start_time": "2024-05-13T18:53:16.661Z"
   },
   {
    "duration": 161,
    "start_time": "2024-05-13T18:53:16.677Z"
   },
   {
    "duration": 244,
    "start_time": "2024-05-13T18:53:16.840Z"
   },
   {
    "duration": 39,
    "start_time": "2024-05-13T18:53:17.086Z"
   },
   {
    "duration": 56,
    "start_time": "2024-05-13T18:53:17.128Z"
   },
   {
    "duration": 578,
    "start_time": "2024-05-13T18:53:17.186Z"
   },
   {
    "duration": 566,
    "start_time": "2024-05-13T18:53:17.766Z"
   },
   {
    "duration": 2,
    "start_time": "2024-05-13T18:53:18.334Z"
   },
   {
    "duration": 7396,
    "start_time": "2024-05-13T18:53:18.337Z"
   },
   {
    "duration": 4,
    "start_time": "2024-05-13T18:53:25.735Z"
   },
   {
    "duration": 5,
    "start_time": "2024-05-13T18:53:25.740Z"
   },
   {
    "duration": 7,
    "start_time": "2024-05-13T18:53:25.760Z"
   },
   {
    "duration": 23,
    "start_time": "2024-05-13T18:53:25.769Z"
   },
   {
    "duration": 6,
    "start_time": "2024-05-13T19:01:26.368Z"
   },
   {
    "duration": 1272,
    "start_time": "2024-05-14T10:18:16.592Z"
   },
   {
    "duration": 75,
    "start_time": "2024-05-14T10:18:17.866Z"
   },
   {
    "duration": 27,
    "start_time": "2024-05-14T10:18:17.943Z"
   },
   {
    "duration": 28,
    "start_time": "2024-05-14T10:18:17.972Z"
   },
   {
    "duration": 7,
    "start_time": "2024-05-14T10:18:18.002Z"
   },
   {
    "duration": 13,
    "start_time": "2024-05-14T10:18:18.010Z"
   },
   {
    "duration": 47,
    "start_time": "2024-05-14T10:18:18.025Z"
   },
   {
    "duration": 8,
    "start_time": "2024-05-14T10:18:18.074Z"
   },
   {
    "duration": 23,
    "start_time": "2024-05-14T10:18:18.084Z"
   },
   {
    "duration": 9,
    "start_time": "2024-05-14T10:18:18.110Z"
   },
   {
    "duration": 42,
    "start_time": "2024-05-14T10:18:18.120Z"
   },
   {
    "duration": 182,
    "start_time": "2024-05-14T10:18:18.164Z"
   },
   {
    "duration": 122,
    "start_time": "2024-05-14T10:18:18.347Z"
   },
   {
    "duration": 7,
    "start_time": "2024-05-14T10:18:18.471Z"
   },
   {
    "duration": 124,
    "start_time": "2024-05-14T10:18:18.479Z"
   },
   {
    "duration": 5,
    "start_time": "2024-05-14T10:18:18.604Z"
   },
   {
    "duration": 24,
    "start_time": "2024-05-14T10:18:18.610Z"
   },
   {
    "duration": 313,
    "start_time": "2024-05-14T10:18:18.636Z"
   },
   {
    "duration": 8,
    "start_time": "2024-05-14T10:18:18.954Z"
   },
   {
    "duration": 16,
    "start_time": "2024-05-14T10:18:18.964Z"
   },
   {
    "duration": 146,
    "start_time": "2024-05-14T10:18:18.982Z"
   },
   {
    "duration": 193,
    "start_time": "2024-05-14T10:18:19.129Z"
   },
   {
    "duration": 17,
    "start_time": "2024-05-14T10:18:19.324Z"
   },
   {
    "duration": 227,
    "start_time": "2024-05-14T10:18:19.343Z"
   },
   {
    "duration": 266,
    "start_time": "2024-05-14T10:18:19.572Z"
   },
   {
    "duration": 9,
    "start_time": "2024-05-14T10:18:19.839Z"
   },
   {
    "duration": 162,
    "start_time": "2024-05-14T10:18:19.850Z"
   },
   {
    "duration": 226,
    "start_time": "2024-05-14T10:18:20.015Z"
   },
   {
    "duration": 31,
    "start_time": "2024-05-14T10:18:20.243Z"
   },
   {
    "duration": 31,
    "start_time": "2024-05-14T10:18:20.276Z"
   },
   {
    "duration": 569,
    "start_time": "2024-05-14T10:18:20.309Z"
   },
   {
    "duration": 523,
    "start_time": "2024-05-14T10:18:20.879Z"
   },
   {
    "duration": 7711,
    "start_time": "2024-05-14T10:18:21.404Z"
   },
   {
    "duration": 4,
    "start_time": "2024-05-14T10:18:29.116Z"
   },
   {
    "duration": 15,
    "start_time": "2024-05-14T10:18:29.122Z"
   },
   {
    "duration": 11,
    "start_time": "2024-05-14T10:18:29.139Z"
   },
   {
    "duration": 23,
    "start_time": "2024-05-14T10:18:29.151Z"
   },
   {
    "duration": 540,
    "start_time": "2024-05-14T10:23:20.896Z"
   },
   {
    "duration": 25,
    "start_time": "2024-05-14T10:28:53.381Z"
   },
   {
    "duration": 17,
    "start_time": "2024-05-14T10:29:10.867Z"
   },
   {
    "duration": 6,
    "start_time": "2024-05-14T10:37:31.610Z"
   },
   {
    "duration": 11,
    "start_time": "2024-05-14T10:37:41.177Z"
   },
   {
    "duration": 43,
    "start_time": "2024-05-14T10:40:22.553Z"
   },
   {
    "duration": 8,
    "start_time": "2024-05-14T10:40:28.580Z"
   },
   {
    "duration": 211,
    "start_time": "2024-05-14T10:41:33.563Z"
   },
   {
    "duration": 124,
    "start_time": "2024-05-14T10:42:14.491Z"
   },
   {
    "duration": 4,
    "start_time": "2024-05-14T10:45:18.604Z"
   },
   {
    "duration": 6,
    "start_time": "2024-05-14T10:46:54.178Z"
   },
   {
    "duration": 13,
    "start_time": "2024-05-14T11:10:56.234Z"
   },
   {
    "duration": 6,
    "start_time": "2024-05-14T11:11:05.126Z"
   },
   {
    "duration": 8,
    "start_time": "2024-05-14T11:11:30.462Z"
   },
   {
    "duration": 5,
    "start_time": "2024-05-14T11:12:02.771Z"
   },
   {
    "duration": 5,
    "start_time": "2024-05-14T11:12:17.617Z"
   },
   {
    "duration": 5,
    "start_time": "2024-05-14T11:12:22.608Z"
   },
   {
    "duration": 144,
    "start_time": "2024-05-14T11:16:06.118Z"
   },
   {
    "duration": 10,
    "start_time": "2024-05-14T11:16:31.784Z"
   },
   {
    "duration": 607,
    "start_time": "2024-05-14T11:19:23.703Z"
   },
   {
    "duration": 11,
    "start_time": "2024-05-14T11:20:00.850Z"
   },
   {
    "duration": 7,
    "start_time": "2024-05-14T11:33:25.652Z"
   },
   {
    "duration": 9,
    "start_time": "2024-05-14T11:33:49.110Z"
   },
   {
    "duration": 12,
    "start_time": "2024-05-14T11:33:56.337Z"
   },
   {
    "duration": 10,
    "start_time": "2024-05-14T11:34:06.068Z"
   },
   {
    "duration": 32,
    "start_time": "2024-05-14T11:36:37.346Z"
   },
   {
    "duration": 28,
    "start_time": "2024-05-14T11:37:12.838Z"
   },
   {
    "duration": 123,
    "start_time": "2024-05-14T11:37:55.023Z"
   },
   {
    "duration": 6,
    "start_time": "2024-05-14T11:38:11.292Z"
   },
   {
    "duration": 11,
    "start_time": "2024-05-14T11:38:21.462Z"
   },
   {
    "duration": 7,
    "start_time": "2024-05-14T11:38:26.127Z"
   },
   {
    "duration": 6,
    "start_time": "2024-05-14T11:38:38.761Z"
   },
   {
    "duration": 1203,
    "start_time": "2024-05-14T11:42:19.184Z"
   },
   {
    "duration": 70,
    "start_time": "2024-05-14T11:42:20.389Z"
   },
   {
    "duration": 20,
    "start_time": "2024-05-14T11:42:20.460Z"
   },
   {
    "duration": 25,
    "start_time": "2024-05-14T11:42:20.482Z"
   },
   {
    "duration": 10,
    "start_time": "2024-05-14T11:42:20.509Z"
   },
   {
    "duration": 41,
    "start_time": "2024-05-14T11:42:20.521Z"
   },
   {
    "duration": 13,
    "start_time": "2024-05-14T11:42:20.563Z"
   },
   {
    "duration": 9,
    "start_time": "2024-05-14T11:42:20.578Z"
   },
   {
    "duration": 29,
    "start_time": "2024-05-14T11:42:20.589Z"
   },
   {
    "duration": 8,
    "start_time": "2024-05-14T11:42:20.620Z"
   },
   {
    "duration": 35,
    "start_time": "2024-05-14T11:42:20.629Z"
   },
   {
    "duration": 194,
    "start_time": "2024-05-14T11:42:20.665Z"
   },
   {
    "duration": 149,
    "start_time": "2024-05-14T11:42:20.861Z"
   },
   {
    "duration": 8,
    "start_time": "2024-05-14T11:42:21.012Z"
   },
   {
    "duration": 132,
    "start_time": "2024-05-14T11:42:21.021Z"
   },
   {
    "duration": 8,
    "start_time": "2024-05-14T11:42:21.155Z"
   },
   {
    "duration": 33,
    "start_time": "2024-05-14T11:42:21.166Z"
   },
   {
    "duration": 343,
    "start_time": "2024-05-14T11:42:21.201Z"
   },
   {
    "duration": 3,
    "start_time": "2024-05-14T11:42:21.546Z"
   },
   {
    "duration": 18,
    "start_time": "2024-05-14T11:42:21.550Z"
   },
   {
    "duration": 139,
    "start_time": "2024-05-14T11:42:21.569Z"
   },
   {
    "duration": 190,
    "start_time": "2024-05-14T11:42:21.710Z"
   },
   {
    "duration": 3,
    "start_time": "2024-05-14T11:42:21.901Z"
   },
   {
    "duration": 31,
    "start_time": "2024-05-14T11:42:21.906Z"
   },
   {
    "duration": 22,
    "start_time": "2024-05-14T11:42:21.939Z"
   },
   {
    "duration": 64,
    "start_time": "2024-05-14T11:42:21.963Z"
   },
   {
    "duration": 146,
    "start_time": "2024-05-14T11:42:22.028Z"
   },
   {
    "duration": 273,
    "start_time": "2024-05-14T11:42:22.177Z"
   },
   {
    "duration": 26,
    "start_time": "2024-05-14T11:42:22.452Z"
   },
   {
    "duration": 26,
    "start_time": "2024-05-14T11:42:22.480Z"
   },
   {
    "duration": 587,
    "start_time": "2024-05-14T11:42:22.508Z"
   },
   {
    "duration": 509,
    "start_time": "2024-05-14T11:42:23.097Z"
   },
   {
    "duration": 7665,
    "start_time": "2024-05-14T11:42:23.607Z"
   },
   {
    "duration": 5,
    "start_time": "2024-05-14T11:42:31.273Z"
   },
   {
    "duration": 52,
    "start_time": "2024-05-14T11:42:31.279Z"
   },
   {
    "duration": 30,
    "start_time": "2024-05-14T11:42:31.333Z"
   },
   {
    "duration": 20,
    "start_time": "2024-05-14T11:42:31.365Z"
   },
   {
    "duration": 6,
    "start_time": "2024-05-14T11:42:31.387Z"
   },
   {
    "duration": 18,
    "start_time": "2024-05-14T11:42:31.395Z"
   },
   {
    "duration": 37,
    "start_time": "2024-05-14T11:42:31.415Z"
   },
   {
    "duration": 156,
    "start_time": "2024-05-14T11:54:47.474Z"
   },
   {
    "duration": 305,
    "start_time": "2024-05-14T12:06:05.281Z"
   },
   {
    "duration": 237,
    "start_time": "2024-05-14T12:08:05.026Z"
   },
   {
    "duration": 7,
    "start_time": "2024-05-14T12:21:04.268Z"
   },
   {
    "duration": 5,
    "start_time": "2024-05-14T12:22:33.870Z"
   },
   {
    "duration": 6,
    "start_time": "2024-05-14T12:23:55.811Z"
   },
   {
    "duration": 7,
    "start_time": "2024-05-14T12:24:10.078Z"
   },
   {
    "duration": 25,
    "start_time": "2024-05-14T12:25:55.235Z"
   },
   {
    "duration": 1230,
    "start_time": "2024-05-14T12:30:13.292Z"
   },
   {
    "duration": 71,
    "start_time": "2024-05-14T12:30:14.524Z"
   },
   {
    "duration": 21,
    "start_time": "2024-05-14T12:30:14.597Z"
   },
   {
    "duration": 27,
    "start_time": "2024-05-14T12:30:14.620Z"
   },
   {
    "duration": 15,
    "start_time": "2024-05-14T12:30:14.649Z"
   },
   {
    "duration": 13,
    "start_time": "2024-05-14T12:30:14.665Z"
   },
   {
    "duration": 14,
    "start_time": "2024-05-14T12:30:14.680Z"
   },
   {
    "duration": 12,
    "start_time": "2024-05-14T12:30:14.696Z"
   },
   {
    "duration": 55,
    "start_time": "2024-05-14T12:30:14.710Z"
   },
   {
    "duration": 8,
    "start_time": "2024-05-14T12:30:14.768Z"
   },
   {
    "duration": 25,
    "start_time": "2024-05-14T12:30:14.777Z"
   },
   {
    "duration": 195,
    "start_time": "2024-05-14T12:30:14.804Z"
   },
   {
    "duration": 121,
    "start_time": "2024-05-14T12:30:15.001Z"
   },
   {
    "duration": 9,
    "start_time": "2024-05-14T12:30:15.124Z"
   },
   {
    "duration": 145,
    "start_time": "2024-05-14T12:30:15.134Z"
   },
   {
    "duration": 4,
    "start_time": "2024-05-14T12:30:15.281Z"
   },
   {
    "duration": 24,
    "start_time": "2024-05-14T12:30:15.287Z"
   },
   {
    "duration": 290,
    "start_time": "2024-05-14T12:30:15.312Z"
   },
   {
    "duration": 3,
    "start_time": "2024-05-14T12:30:15.604Z"
   },
   {
    "duration": 18,
    "start_time": "2024-05-14T12:30:15.609Z"
   },
   {
    "duration": 142,
    "start_time": "2024-05-14T12:30:15.628Z"
   },
   {
    "duration": 207,
    "start_time": "2024-05-14T12:30:15.771Z"
   },
   {
    "duration": 2,
    "start_time": "2024-05-14T12:30:15.980Z"
   },
   {
    "duration": 8,
    "start_time": "2024-05-14T12:30:15.983Z"
   },
   {
    "duration": 5,
    "start_time": "2024-05-14T12:30:15.993Z"
   },
   {
    "duration": 22,
    "start_time": "2024-05-14T12:30:15.999Z"
   },
   {
    "duration": 162,
    "start_time": "2024-05-14T12:30:16.023Z"
   },
   {
    "duration": 299,
    "start_time": "2024-05-14T12:30:16.188Z"
   },
   {
    "duration": 21,
    "start_time": "2024-05-14T12:30:16.489Z"
   },
   {
    "duration": 26,
    "start_time": "2024-05-14T12:30:16.512Z"
   },
   {
    "duration": 566,
    "start_time": "2024-05-14T12:30:16.540Z"
   },
   {
    "duration": 521,
    "start_time": "2024-05-14T12:30:17.108Z"
   },
   {
    "duration": 7370,
    "start_time": "2024-05-14T12:30:17.631Z"
   },
   {
    "duration": 4,
    "start_time": "2024-05-14T12:30:25.003Z"
   },
   {
    "duration": 25,
    "start_time": "2024-05-14T12:30:25.009Z"
   },
   {
    "duration": 51,
    "start_time": "2024-05-14T12:30:25.036Z"
   },
   {
    "duration": 59,
    "start_time": "2024-05-14T12:30:25.089Z"
   },
   {
    "duration": 6,
    "start_time": "2024-05-14T12:30:25.150Z"
   },
   {
    "duration": 21,
    "start_time": "2024-05-14T12:30:25.157Z"
   },
   {
    "duration": 39,
    "start_time": "2024-05-14T12:30:25.180Z"
   },
   {
    "duration": 239,
    "start_time": "2024-05-14T12:30:25.221Z"
   },
   {
    "duration": 3,
    "start_time": "2024-05-14T13:09:52.017Z"
   },
   {
    "duration": 432,
    "start_time": "2024-05-14T15:36:48.021Z"
   },
   {
    "duration": 322,
    "start_time": "2024-05-14T15:39:39.090Z"
   },
   {
    "duration": 113,
    "start_time": "2024-05-14T15:59:38.892Z"
   },
   {
    "duration": 348,
    "start_time": "2024-05-14T15:59:47.064Z"
   },
   {
    "duration": 8,
    "start_time": "2024-05-14T16:00:06.965Z"
   },
   {
    "duration": 9,
    "start_time": "2024-05-14T16:01:30.245Z"
   },
   {
    "duration": 14,
    "start_time": "2024-05-14T16:01:43.595Z"
   },
   {
    "duration": 16,
    "start_time": "2024-05-14T16:01:55.828Z"
   },
   {
    "duration": 18,
    "start_time": "2024-05-14T16:02:25.657Z"
   },
   {
    "duration": 229,
    "start_time": "2024-05-14T16:02:39.431Z"
   },
   {
    "duration": 15,
    "start_time": "2024-05-14T16:02:57.527Z"
   },
   {
    "duration": 304,
    "start_time": "2024-05-14T16:07:22.977Z"
   },
   {
    "duration": 224,
    "start_time": "2024-05-14T16:09:36.112Z"
   },
   {
    "duration": 48,
    "start_time": "2024-05-14T16:16:40.359Z"
   },
   {
    "duration": 16,
    "start_time": "2024-05-14T16:17:59.443Z"
   },
   {
    "duration": 290,
    "start_time": "2024-05-14T16:18:36.527Z"
   },
   {
    "duration": 11,
    "start_time": "2024-05-14T16:21:36.535Z"
   },
   {
    "duration": 12,
    "start_time": "2024-05-14T16:22:09.538Z"
   },
   {
    "duration": 11,
    "start_time": "2024-05-14T16:22:29.689Z"
   },
   {
    "duration": 4,
    "start_time": "2024-05-14T16:25:45.277Z"
   },
   {
    "duration": 96,
    "start_time": "2024-05-14T16:25:51.258Z"
   },
   {
    "duration": 13,
    "start_time": "2024-05-14T16:26:20.744Z"
   },
   {
    "duration": 76,
    "start_time": "2024-05-14T16:26:33.053Z"
   },
   {
    "duration": 6,
    "start_time": "2024-05-14T16:26:51.655Z"
   },
   {
    "duration": 11,
    "start_time": "2024-05-14T16:27:06.874Z"
   },
   {
    "duration": 26,
    "start_time": "2024-05-14T16:27:22.525Z"
   },
   {
    "duration": 7,
    "start_time": "2024-05-14T16:27:37.140Z"
   },
   {
    "duration": 7,
    "start_time": "2024-05-14T16:27:54.719Z"
   },
   {
    "duration": 8,
    "start_time": "2024-05-14T16:28:12.588Z"
   },
   {
    "duration": 9,
    "start_time": "2024-05-14T16:28:32.033Z"
   },
   {
    "duration": 8,
    "start_time": "2024-05-14T16:29:18.223Z"
   },
   {
    "duration": 43,
    "start_time": "2024-05-14T16:29:49.384Z"
   },
   {
    "duration": 9,
    "start_time": "2024-05-14T16:29:54.465Z"
   },
   {
    "duration": 151,
    "start_time": "2024-05-14T16:30:29.242Z"
   },
   {
    "duration": 174,
    "start_time": "2024-05-14T16:30:40.874Z"
   },
   {
    "duration": 6,
    "start_time": "2024-05-14T16:31:32.298Z"
   },
   {
    "duration": 9,
    "start_time": "2024-05-14T16:32:40.966Z"
   },
   {
    "duration": 9,
    "start_time": "2024-05-14T16:33:16.494Z"
   },
   {
    "duration": 9,
    "start_time": "2024-05-14T16:34:13.264Z"
   },
   {
    "duration": 11,
    "start_time": "2024-05-14T16:34:28.349Z"
   },
   {
    "duration": 14,
    "start_time": "2024-05-14T16:34:51.614Z"
   },
   {
    "duration": 10,
    "start_time": "2024-05-14T16:35:11.506Z"
   },
   {
    "duration": 9,
    "start_time": "2024-05-14T16:35:34.422Z"
   },
   {
    "duration": 138,
    "start_time": "2024-05-14T16:36:30.657Z"
   },
   {
    "duration": 265,
    "start_time": "2024-05-14T16:36:42.258Z"
   },
   {
    "duration": 366,
    "start_time": "2024-05-14T16:36:52.202Z"
   },
   {
    "duration": 253,
    "start_time": "2024-05-14T16:36:59.679Z"
   },
   {
    "duration": 10,
    "start_time": "2024-05-14T16:37:31.629Z"
   },
   {
    "duration": 171,
    "start_time": "2024-05-14T16:37:52.217Z"
   },
   {
    "duration": 26,
    "start_time": "2024-05-14T16:38:06.700Z"
   },
   {
    "duration": 20,
    "start_time": "2024-05-14T16:39:18.963Z"
   },
   {
    "duration": 140,
    "start_time": "2024-05-14T16:39:26.402Z"
   },
   {
    "duration": 13,
    "start_time": "2024-05-14T16:39:45.743Z"
   },
   {
    "duration": 13,
    "start_time": "2024-05-14T16:41:20.891Z"
   },
   {
    "duration": 20,
    "start_time": "2024-05-14T16:41:29.555Z"
   },
   {
    "duration": 9,
    "start_time": "2024-05-14T16:41:48.760Z"
   },
   {
    "duration": 10,
    "start_time": "2024-05-14T16:42:10.423Z"
   },
   {
    "duration": 198,
    "start_time": "2024-05-14T16:42:42.991Z"
   },
   {
    "duration": 212,
    "start_time": "2024-05-14T16:43:28.585Z"
   },
   {
    "duration": 180,
    "start_time": "2024-05-14T16:44:11.467Z"
   },
   {
    "duration": 7,
    "start_time": "2024-05-14T16:44:33.167Z"
   },
   {
    "duration": 9,
    "start_time": "2024-05-14T16:44:50.728Z"
   },
   {
    "duration": 7,
    "start_time": "2024-05-14T16:45:58.216Z"
   },
   {
    "duration": 3,
    "start_time": "2024-05-14T16:47:00.283Z"
   },
   {
    "duration": 10,
    "start_time": "2024-05-14T16:47:06.020Z"
   },
   {
    "duration": 191,
    "start_time": "2024-05-14T16:47:29.528Z"
   },
   {
    "duration": 8,
    "start_time": "2024-05-14T16:47:32.251Z"
   },
   {
    "duration": 213,
    "start_time": "2024-05-14T16:47:46.259Z"
   },
   {
    "duration": 195,
    "start_time": "2024-05-14T16:48:27.748Z"
   },
   {
    "duration": 211,
    "start_time": "2024-05-14T16:48:54.328Z"
   },
   {
    "duration": 22,
    "start_time": "2024-05-14T16:49:02.322Z"
   },
   {
    "duration": 129,
    "start_time": "2024-05-14T16:49:07.486Z"
   },
   {
    "duration": 199,
    "start_time": "2024-05-14T16:49:33.659Z"
   },
   {
    "duration": 214,
    "start_time": "2024-05-14T16:49:49.153Z"
   },
   {
    "duration": 217,
    "start_time": "2024-05-14T16:50:44.266Z"
   },
   {
    "duration": 218,
    "start_time": "2024-05-14T16:51:12.537Z"
   },
   {
    "duration": 218,
    "start_time": "2024-05-14T16:51:53.266Z"
   },
   {
    "duration": 273,
    "start_time": "2024-05-14T16:53:29.763Z"
   },
   {
    "duration": 225,
    "start_time": "2024-05-14T16:54:15.272Z"
   },
   {
    "duration": 4,
    "start_time": "2024-05-14T17:04:40.485Z"
   },
   {
    "duration": 9,
    "start_time": "2024-05-14T17:04:47.795Z"
   },
   {
    "duration": 10,
    "start_time": "2024-05-14T17:05:44.311Z"
   },
   {
    "duration": 10,
    "start_time": "2024-05-14T17:05:55.992Z"
   },
   {
    "duration": 11,
    "start_time": "2024-05-14T17:06:18.724Z"
   },
   {
    "duration": 13,
    "start_time": "2024-05-14T17:06:53.111Z"
   },
   {
    "duration": 12,
    "start_time": "2024-05-14T17:07:05.195Z"
   },
   {
    "duration": 268,
    "start_time": "2024-05-14T17:07:46.704Z"
   },
   {
    "duration": 31,
    "start_time": "2024-05-14T17:09:08.861Z"
   },
   {
    "duration": 252,
    "start_time": "2024-05-14T17:09:24.911Z"
   },
   {
    "duration": 1171,
    "start_time": "2024-05-14T18:04:43.214Z"
   },
   {
    "duration": 70,
    "start_time": "2024-05-14T18:04:44.387Z"
   },
   {
    "duration": 18,
    "start_time": "2024-05-14T18:04:44.459Z"
   },
   {
    "duration": 26,
    "start_time": "2024-05-14T18:04:44.479Z"
   },
   {
    "duration": 6,
    "start_time": "2024-05-14T18:04:44.507Z"
   },
   {
    "duration": 29,
    "start_time": "2024-05-14T18:04:44.514Z"
   },
   {
    "duration": 14,
    "start_time": "2024-05-14T18:04:44.561Z"
   },
   {
    "duration": 26,
    "start_time": "2024-05-14T18:04:44.577Z"
   },
   {
    "duration": 24,
    "start_time": "2024-05-14T18:04:44.604Z"
   },
   {
    "duration": 24,
    "start_time": "2024-05-14T18:04:44.630Z"
   },
   {
    "duration": 13,
    "start_time": "2024-05-14T18:04:44.655Z"
   },
   {
    "duration": 193,
    "start_time": "2024-05-14T18:04:44.670Z"
   },
   {
    "duration": 118,
    "start_time": "2024-05-14T18:04:44.865Z"
   },
   {
    "duration": 242,
    "start_time": "2024-05-14T18:04:44.986Z"
   },
   {
    "duration": 8,
    "start_time": "2024-05-14T18:04:45.230Z"
   },
   {
    "duration": 121,
    "start_time": "2024-05-14T18:04:45.239Z"
   },
   {
    "duration": 4,
    "start_time": "2024-05-14T18:04:45.362Z"
   },
   {
    "duration": 15,
    "start_time": "2024-05-14T18:04:45.367Z"
   },
   {
    "duration": 283,
    "start_time": "2024-05-14T18:04:45.383Z"
   },
   {
    "duration": 3,
    "start_time": "2024-05-14T18:04:45.668Z"
   },
   {
    "duration": 11,
    "start_time": "2024-05-14T18:04:45.673Z"
   },
   {
    "duration": 162,
    "start_time": "2024-05-14T18:04:45.686Z"
   },
   {
    "duration": 219,
    "start_time": "2024-05-14T18:04:45.849Z"
   },
   {
    "duration": 2,
    "start_time": "2024-05-14T18:04:46.070Z"
   },
   {
    "duration": 5,
    "start_time": "2024-05-14T18:04:46.073Z"
   },
   {
    "duration": 3,
    "start_time": "2024-05-14T18:04:46.079Z"
   },
   {
    "duration": 17,
    "start_time": "2024-05-14T18:04:46.084Z"
   },
   {
    "duration": 278,
    "start_time": "2024-05-14T18:04:46.103Z"
   },
   {
    "duration": 301,
    "start_time": "2024-05-14T18:04:46.383Z"
   },
   {
    "duration": 21,
    "start_time": "2024-05-14T18:04:46.686Z"
   },
   {
    "duration": 29,
    "start_time": "2024-05-14T18:04:46.708Z"
   },
   {
    "duration": 579,
    "start_time": "2024-05-14T18:04:46.738Z"
   },
   {
    "duration": 523,
    "start_time": "2024-05-14T18:04:47.318Z"
   },
   {
    "duration": 7486,
    "start_time": "2024-05-14T18:04:47.843Z"
   },
   {
    "duration": 4,
    "start_time": "2024-05-14T18:04:55.331Z"
   },
   {
    "duration": 18,
    "start_time": "2024-05-14T18:04:55.336Z"
   },
   {
    "duration": 10,
    "start_time": "2024-05-14T18:04:55.356Z"
   },
   {
    "duration": 18,
    "start_time": "2024-05-14T18:04:55.367Z"
   },
   {
    "duration": 6,
    "start_time": "2024-05-14T18:04:55.386Z"
   },
   {
    "duration": 8,
    "start_time": "2024-05-14T18:04:55.394Z"
   },
   {
    "duration": 17,
    "start_time": "2024-05-14T18:04:55.406Z"
   },
   {
    "duration": 34,
    "start_time": "2024-05-14T18:04:55.424Z"
   },
   {
    "duration": 7,
    "start_time": "2024-05-15T00:28:10.768Z"
   },
   {
    "duration": 72,
    "start_time": "2024-05-15T00:28:10.776Z"
   },
   {
    "duration": 19,
    "start_time": "2024-05-15T00:28:10.849Z"
   },
   {
    "duration": 34,
    "start_time": "2024-05-15T00:28:10.869Z"
   },
   {
    "duration": 6,
    "start_time": "2024-05-15T00:28:10.904Z"
   },
   {
    "duration": 12,
    "start_time": "2024-05-15T00:28:10.912Z"
   },
   {
    "duration": 12,
    "start_time": "2024-05-15T00:28:10.925Z"
   },
   {
    "duration": 48,
    "start_time": "2024-05-15T00:28:10.939Z"
   },
   {
    "duration": 26,
    "start_time": "2024-05-15T00:28:10.989Z"
   },
   {
    "duration": 11,
    "start_time": "2024-05-15T00:28:11.017Z"
   },
   {
    "duration": 17,
    "start_time": "2024-05-15T00:28:11.030Z"
   },
   {
    "duration": 212,
    "start_time": "2024-05-15T00:28:11.049Z"
   },
   {
    "duration": 201,
    "start_time": "2024-05-15T00:28:11.263Z"
   },
   {
    "duration": 271,
    "start_time": "2024-05-15T00:28:11.467Z"
   },
   {
    "duration": 7,
    "start_time": "2024-05-15T00:28:11.740Z"
   },
   {
    "duration": 151,
    "start_time": "2024-05-15T00:28:11.748Z"
   },
   {
    "duration": 5,
    "start_time": "2024-05-15T00:28:11.901Z"
   },
   {
    "duration": 12,
    "start_time": "2024-05-15T00:28:11.908Z"
   },
   {
    "duration": 307,
    "start_time": "2024-05-15T00:28:11.921Z"
   },
   {
    "duration": 4,
    "start_time": "2024-05-15T00:28:12.229Z"
   },
   {
    "duration": 11,
    "start_time": "2024-05-15T00:28:12.235Z"
   },
   {
    "duration": 165,
    "start_time": "2024-05-15T00:28:12.248Z"
   },
   {
    "duration": 228,
    "start_time": "2024-05-15T00:28:12.415Z"
   },
   {
    "duration": 3,
    "start_time": "2024-05-15T00:28:12.645Z"
   },
   {
    "duration": 13,
    "start_time": "2024-05-15T00:28:12.649Z"
   },
   {
    "duration": 7,
    "start_time": "2024-05-15T00:28:12.664Z"
   },
   {
    "duration": 17,
    "start_time": "2024-05-15T00:28:12.673Z"
   },
   {
    "duration": 148,
    "start_time": "2024-05-15T00:28:12.696Z"
   },
   {
    "duration": 224,
    "start_time": "2024-05-15T00:28:12.846Z"
   },
   {
    "duration": 40,
    "start_time": "2024-05-15T00:28:13.072Z"
   },
   {
    "duration": 39,
    "start_time": "2024-05-15T00:28:13.114Z"
   },
   {
    "duration": 620,
    "start_time": "2024-05-15T00:28:13.155Z"
   },
   {
    "duration": 694,
    "start_time": "2024-05-15T00:28:13.777Z"
   },
   {
    "duration": 7991,
    "start_time": "2024-05-15T00:28:14.473Z"
   },
   {
    "duration": 5,
    "start_time": "2024-05-15T00:28:22.465Z"
   },
   {
    "duration": 14,
    "start_time": "2024-05-15T00:28:22.471Z"
   },
   {
    "duration": 15,
    "start_time": "2024-05-15T00:28:22.487Z"
   },
   {
    "duration": 21,
    "start_time": "2024-05-15T00:28:22.504Z"
   },
   {
    "duration": 7,
    "start_time": "2024-05-15T00:28:22.527Z"
   },
   {
    "duration": 6,
    "start_time": "2024-05-15T00:28:22.540Z"
   },
   {
    "duration": 38,
    "start_time": "2024-05-15T00:28:22.548Z"
   },
   {
    "duration": 5,
    "start_time": "2024-05-15T00:28:22.594Z"
   },
   {
    "duration": 4219,
    "start_time": "2024-05-15T00:34:40.250Z"
   },
   {
    "duration": 7,
    "start_time": "2024-05-15T00:42:29.524Z"
   },
   {
    "duration": 1363,
    "start_time": "2024-05-15T00:47:41.674Z"
   },
   {
    "duration": 78,
    "start_time": "2024-05-15T00:47:43.039Z"
   },
   {
    "duration": 22,
    "start_time": "2024-05-15T00:47:43.119Z"
   },
   {
    "duration": 39,
    "start_time": "2024-05-15T00:47:43.143Z"
   },
   {
    "duration": 14,
    "start_time": "2024-05-15T00:47:43.185Z"
   },
   {
    "duration": 13,
    "start_time": "2024-05-15T00:47:43.201Z"
   },
   {
    "duration": 13,
    "start_time": "2024-05-15T00:47:43.216Z"
   },
   {
    "duration": 14,
    "start_time": "2024-05-15T00:47:43.230Z"
   },
   {
    "duration": 61,
    "start_time": "2024-05-15T00:47:43.246Z"
   },
   {
    "duration": 9,
    "start_time": "2024-05-15T00:47:43.308Z"
   },
   {
    "duration": 13,
    "start_time": "2024-05-15T00:47:43.319Z"
   },
   {
    "duration": 208,
    "start_time": "2024-05-15T00:47:43.334Z"
   },
   {
    "duration": 126,
    "start_time": "2024-05-15T00:47:43.544Z"
   },
   {
    "duration": 267,
    "start_time": "2024-05-15T00:47:43.683Z"
   },
   {
    "duration": 9,
    "start_time": "2024-05-15T00:47:43.951Z"
   },
   {
    "duration": 141,
    "start_time": "2024-05-15T00:47:43.962Z"
   },
   {
    "duration": 5,
    "start_time": "2024-05-15T00:47:44.105Z"
   },
   {
    "duration": 23,
    "start_time": "2024-05-15T00:47:44.111Z"
   },
   {
    "duration": 325,
    "start_time": "2024-05-15T00:47:44.136Z"
   },
   {
    "duration": 3,
    "start_time": "2024-05-15T00:47:44.463Z"
   },
   {
    "duration": 32,
    "start_time": "2024-05-15T00:47:44.468Z"
   },
   {
    "duration": 173,
    "start_time": "2024-05-15T00:47:44.502Z"
   },
   {
    "duration": 221,
    "start_time": "2024-05-15T00:47:44.677Z"
   },
   {
    "duration": 2,
    "start_time": "2024-05-15T00:47:44.900Z"
   },
   {
    "duration": 7,
    "start_time": "2024-05-15T00:47:44.903Z"
   },
   {
    "duration": 13,
    "start_time": "2024-05-15T00:47:44.912Z"
   },
   {
    "duration": 15,
    "start_time": "2024-05-15T00:47:44.927Z"
   },
   {
    "duration": 229,
    "start_time": "2024-05-15T00:47:44.944Z"
   },
   {
    "duration": 223,
    "start_time": "2024-05-15T00:47:45.175Z"
   },
   {
    "duration": 23,
    "start_time": "2024-05-15T00:47:45.400Z"
   },
   {
    "duration": 30,
    "start_time": "2024-05-15T00:47:45.424Z"
   },
   {
    "duration": 674,
    "start_time": "2024-05-15T00:47:45.455Z"
   },
   {
    "duration": 596,
    "start_time": "2024-05-15T00:47:46.131Z"
   },
   {
    "duration": 8099,
    "start_time": "2024-05-15T00:47:46.728Z"
   },
   {
    "duration": 4,
    "start_time": "2024-05-15T00:47:54.829Z"
   },
   {
    "duration": 5,
    "start_time": "2024-05-15T00:47:54.835Z"
   },
   {
    "duration": 9,
    "start_time": "2024-05-15T00:47:54.841Z"
   },
   {
    "duration": 43,
    "start_time": "2024-05-15T00:47:54.852Z"
   },
   {
    "duration": 6,
    "start_time": "2024-05-15T00:47:54.896Z"
   },
   {
    "duration": 5,
    "start_time": "2024-05-15T00:47:54.904Z"
   },
   {
    "duration": 10,
    "start_time": "2024-05-15T00:47:54.913Z"
   },
   {
    "duration": 3,
    "start_time": "2024-05-15T00:47:54.925Z"
   },
   {
    "duration": 61,
    "start_time": "2024-05-15T11:03:13.758Z"
   },
   {
    "duration": 1507,
    "start_time": "2024-05-15T11:03:21.341Z"
   },
   {
    "duration": 310,
    "start_time": "2024-05-15T11:03:22.850Z"
   },
   {
    "duration": 22,
    "start_time": "2024-05-15T11:03:23.162Z"
   },
   {
    "duration": 33,
    "start_time": "2024-05-15T11:03:23.186Z"
   },
   {
    "duration": 26,
    "start_time": "2024-05-15T11:03:23.221Z"
   },
   {
    "duration": 34,
    "start_time": "2024-05-15T11:03:23.248Z"
   },
   {
    "duration": 22,
    "start_time": "2024-05-15T11:03:23.283Z"
   },
   {
    "duration": 27,
    "start_time": "2024-05-15T11:03:23.306Z"
   },
   {
    "duration": 44,
    "start_time": "2024-05-15T11:03:23.335Z"
   },
   {
    "duration": 40,
    "start_time": "2024-05-15T11:03:23.382Z"
   },
   {
    "duration": 42,
    "start_time": "2024-05-15T11:03:23.424Z"
   },
   {
    "duration": 191,
    "start_time": "2024-05-15T11:03:23.467Z"
   },
   {
    "duration": 124,
    "start_time": "2024-05-15T11:03:23.660Z"
   },
   {
    "duration": 258,
    "start_time": "2024-05-15T11:03:23.786Z"
   },
   {
    "duration": 9,
    "start_time": "2024-05-15T11:03:24.046Z"
   },
   {
    "duration": 164,
    "start_time": "2024-05-15T11:03:24.070Z"
   },
   {
    "duration": 5,
    "start_time": "2024-05-15T11:03:24.235Z"
   },
   {
    "duration": 33,
    "start_time": "2024-05-15T11:03:24.241Z"
   },
   {
    "duration": 328,
    "start_time": "2024-05-15T11:03:24.276Z"
   },
   {
    "duration": 3,
    "start_time": "2024-05-15T11:03:24.606Z"
   },
   {
    "duration": 64,
    "start_time": "2024-05-15T11:03:24.610Z"
   },
   {
    "duration": 149,
    "start_time": "2024-05-15T11:03:24.676Z"
   },
   {
    "duration": 210,
    "start_time": "2024-05-15T11:03:24.827Z"
   },
   {
    "duration": 2,
    "start_time": "2024-05-15T11:03:25.039Z"
   },
   {
    "duration": 33,
    "start_time": "2024-05-15T11:03:25.042Z"
   },
   {
    "duration": 17,
    "start_time": "2024-05-15T11:03:25.077Z"
   },
   {
    "duration": 16,
    "start_time": "2024-05-15T11:03:25.096Z"
   },
   {
    "duration": 207,
    "start_time": "2024-05-15T11:03:25.115Z"
   },
   {
    "duration": 216,
    "start_time": "2024-05-15T11:03:25.323Z"
   },
   {
    "duration": 34,
    "start_time": "2024-05-15T11:03:25.541Z"
   },
   {
    "duration": 32,
    "start_time": "2024-05-15T11:03:25.577Z"
   },
   {
    "duration": 501,
    "start_time": "2024-05-15T11:03:25.611Z"
   },
   {
    "duration": 452,
    "start_time": "2024-05-15T11:03:26.114Z"
   },
   {
    "duration": 7622,
    "start_time": "2024-05-15T11:03:26.569Z"
   },
   {
    "duration": 5,
    "start_time": "2024-05-15T11:03:34.193Z"
   },
   {
    "duration": 9,
    "start_time": "2024-05-15T11:03:34.200Z"
   },
   {
    "duration": 27,
    "start_time": "2024-05-15T11:03:34.210Z"
   },
   {
    "duration": 29,
    "start_time": "2024-05-15T11:03:34.239Z"
   },
   {
    "duration": 6,
    "start_time": "2024-05-15T11:03:34.270Z"
   },
   {
    "duration": 14,
    "start_time": "2024-05-15T11:03:34.277Z"
   },
   {
    "duration": 23,
    "start_time": "2024-05-15T11:03:34.292Z"
   },
   {
    "duration": 14,
    "start_time": "2024-05-15T11:03:34.317Z"
   },
   {
    "duration": 4,
    "start_time": "2024-05-15T11:03:48.149Z"
   },
   {
    "duration": 31,
    "start_time": "2024-05-15T11:04:41.238Z"
   },
   {
    "duration": 32,
    "start_time": "2024-05-15T11:05:34.436Z"
   },
   {
    "duration": 30,
    "start_time": "2024-05-15T11:05:53.885Z"
   },
   {
    "duration": 13,
    "start_time": "2024-05-15T11:21:10.734Z"
   },
   {
    "duration": 9,
    "start_time": "2024-05-15T11:21:19.079Z"
   },
   {
    "duration": 10,
    "start_time": "2024-05-15T11:21:29.875Z"
   },
   {
    "duration": 4,
    "start_time": "2024-05-15T11:21:52.543Z"
   },
   {
    "duration": 12,
    "start_time": "2024-05-15T11:22:03.356Z"
   },
   {
    "duration": 11,
    "start_time": "2024-05-15T11:22:19.012Z"
   },
   {
    "duration": 8,
    "start_time": "2024-05-15T11:22:26.657Z"
   },
   {
    "duration": 11,
    "start_time": "2024-05-15T11:22:32.361Z"
   },
   {
    "duration": 17,
    "start_time": "2024-05-15T11:23:09.600Z"
   },
   {
    "duration": 15,
    "start_time": "2024-05-15T11:23:12.896Z"
   },
   {
    "duration": 7,
    "start_time": "2024-05-15T11:25:20.456Z"
   },
   {
    "duration": 8,
    "start_time": "2024-05-15T11:25:32.712Z"
   },
   {
    "duration": 1363,
    "start_time": "2024-05-15T11:31:08.887Z"
   },
   {
    "duration": 68,
    "start_time": "2024-05-15T11:31:10.252Z"
   },
   {
    "duration": 29,
    "start_time": "2024-05-15T11:31:10.322Z"
   },
   {
    "duration": 23,
    "start_time": "2024-05-15T11:31:10.353Z"
   },
   {
    "duration": 15,
    "start_time": "2024-05-15T11:31:10.378Z"
   },
   {
    "duration": 13,
    "start_time": "2024-05-15T11:31:10.395Z"
   },
   {
    "duration": 12,
    "start_time": "2024-05-15T11:31:10.409Z"
   },
   {
    "duration": 12,
    "start_time": "2024-05-15T11:31:10.422Z"
   },
   {
    "duration": 46,
    "start_time": "2024-05-15T11:31:10.436Z"
   },
   {
    "duration": 24,
    "start_time": "2024-05-15T11:31:10.486Z"
   },
   {
    "duration": 15,
    "start_time": "2024-05-15T11:31:10.512Z"
   },
   {
    "duration": 10,
    "start_time": "2024-05-15T11:31:10.529Z"
   },
   {
    "duration": 35,
    "start_time": "2024-05-15T11:31:10.541Z"
   },
   {
    "duration": 11,
    "start_time": "2024-05-15T11:31:10.578Z"
   },
   {
    "duration": 257,
    "start_time": "2024-05-15T11:31:10.591Z"
   },
   {
    "duration": 129,
    "start_time": "2024-05-15T11:31:10.849Z"
   },
   {
    "duration": 255,
    "start_time": "2024-05-15T11:31:10.980Z"
   },
   {
    "duration": 11,
    "start_time": "2024-05-15T11:31:11.237Z"
   },
   {
    "duration": 148,
    "start_time": "2024-05-15T11:31:11.250Z"
   },
   {
    "duration": 5,
    "start_time": "2024-05-15T11:31:11.401Z"
   },
   {
    "duration": 22,
    "start_time": "2024-05-15T11:31:11.409Z"
   },
   {
    "duration": 318,
    "start_time": "2024-05-15T11:31:11.433Z"
   },
   {
    "duration": 3,
    "start_time": "2024-05-15T11:31:11.753Z"
   },
   {
    "duration": 36,
    "start_time": "2024-05-15T11:31:11.757Z"
   },
   {
    "duration": 157,
    "start_time": "2024-05-15T11:31:11.795Z"
   },
   {
    "duration": 229,
    "start_time": "2024-05-15T11:31:11.954Z"
   },
   {
    "duration": 4,
    "start_time": "2024-05-15T11:31:12.185Z"
   },
   {
    "duration": 9,
    "start_time": "2024-05-15T11:31:12.194Z"
   },
   {
    "duration": 29,
    "start_time": "2024-05-15T11:31:12.205Z"
   },
   {
    "duration": 37,
    "start_time": "2024-05-15T11:31:12.236Z"
   },
   {
    "duration": 218,
    "start_time": "2024-05-15T11:31:12.276Z"
   },
   {
    "duration": 216,
    "start_time": "2024-05-15T11:31:12.495Z"
   },
   {
    "duration": 23,
    "start_time": "2024-05-15T11:31:12.713Z"
   },
   {
    "duration": 49,
    "start_time": "2024-05-15T11:31:12.738Z"
   },
   {
    "duration": 500,
    "start_time": "2024-05-15T11:31:12.789Z"
   },
   {
    "duration": 489,
    "start_time": "2024-05-15T11:31:13.292Z"
   },
   {
    "duration": 8061,
    "start_time": "2024-05-15T11:31:13.783Z"
   },
   {
    "duration": 5,
    "start_time": "2024-05-15T11:31:21.846Z"
   },
   {
    "duration": 15,
    "start_time": "2024-05-15T11:31:21.853Z"
   },
   {
    "duration": 18,
    "start_time": "2024-05-15T11:31:21.870Z"
   },
   {
    "duration": 21,
    "start_time": "2024-05-15T11:31:21.889Z"
   },
   {
    "duration": 31,
    "start_time": "2024-05-15T11:31:21.912Z"
   },
   {
    "duration": 20,
    "start_time": "2024-05-15T11:31:21.945Z"
   },
   {
    "duration": 49,
    "start_time": "2024-05-15T11:31:21.967Z"
   },
   {
    "duration": 51,
    "start_time": "2024-05-15T11:31:22.017Z"
   },
   {
    "duration": 167,
    "start_time": "2024-05-15T11:39:43.616Z"
   },
   {
    "duration": 240,
    "start_time": "2024-05-15T11:39:58.164Z"
   },
   {
    "duration": 175,
    "start_time": "2024-05-15T11:40:22.049Z"
   },
   {
    "duration": 170,
    "start_time": "2024-05-15T11:42:49.379Z"
   },
   {
    "duration": 219,
    "start_time": "2024-05-15T11:43:00.072Z"
   },
   {
    "duration": 208,
    "start_time": "2024-05-15T11:44:50.432Z"
   },
   {
    "duration": 228,
    "start_time": "2024-05-15T11:45:28.612Z"
   },
   {
    "duration": 289,
    "start_time": "2024-05-15T11:46:13.498Z"
   },
   {
    "duration": 200,
    "start_time": "2024-05-15T11:46:39.305Z"
   },
   {
    "duration": 210,
    "start_time": "2024-05-15T11:46:52.851Z"
   },
   {
    "duration": 311,
    "start_time": "2024-05-15T11:47:03.298Z"
   },
   {
    "duration": 341,
    "start_time": "2024-05-15T11:47:12.867Z"
   },
   {
    "duration": 192,
    "start_time": "2024-05-15T11:47:24.112Z"
   },
   {
    "duration": 4,
    "start_time": "2024-05-15T11:49:10.065Z"
   },
   {
    "duration": 5,
    "start_time": "2024-05-15T11:49:20.290Z"
   },
   {
    "duration": 477,
    "start_time": "2024-05-15T11:55:40.097Z"
   },
   {
    "duration": 474,
    "start_time": "2024-05-15T12:06:50.137Z"
   },
   {
    "duration": 229,
    "start_time": "2024-05-15T12:17:14.562Z"
   },
   {
    "duration": 455,
    "start_time": "2024-05-15T12:17:25.612Z"
   },
   {
    "duration": 550,
    "start_time": "2024-05-15T12:17:33.137Z"
   },
   {
    "duration": 73,
    "start_time": "2024-05-15T12:23:56.810Z"
   },
   {
    "duration": 41,
    "start_time": "2024-05-15T12:24:17.810Z"
   },
   {
    "duration": 8,
    "start_time": "2024-05-15T12:30:17.751Z"
   },
   {
    "duration": 13,
    "start_time": "2024-05-15T12:30:23.410Z"
   },
   {
    "duration": 113,
    "start_time": "2024-05-15T12:30:43.634Z"
   },
   {
    "duration": 65,
    "start_time": "2024-05-15T12:31:02.534Z"
   },
   {
    "duration": 11,
    "start_time": "2024-05-15T12:31:20.475Z"
   },
   {
    "duration": 62,
    "start_time": "2024-05-15T12:40:55.656Z"
   },
   {
    "duration": 10,
    "start_time": "2024-05-15T12:41:00.256Z"
   },
   {
    "duration": 7,
    "start_time": "2024-05-15T12:41:08.185Z"
   },
   {
    "duration": 8,
    "start_time": "2024-05-15T12:41:18.253Z"
   },
   {
    "duration": 13,
    "start_time": "2024-05-15T12:44:51.571Z"
   },
   {
    "duration": 628,
    "start_time": "2024-05-15T12:45:04.304Z"
   },
   {
    "duration": 10,
    "start_time": "2024-05-15T12:45:09.325Z"
   },
   {
    "duration": 567,
    "start_time": "2024-05-15T12:45:15.567Z"
   },
   {
    "duration": 1394,
    "start_time": "2024-05-15T12:45:33.360Z"
   },
   {
    "duration": 69,
    "start_time": "2024-05-15T12:45:34.756Z"
   },
   {
    "duration": 22,
    "start_time": "2024-05-15T12:45:34.827Z"
   },
   {
    "duration": 12,
    "start_time": "2024-05-15T12:45:34.851Z"
   },
   {
    "duration": 13,
    "start_time": "2024-05-15T12:45:34.865Z"
   },
   {
    "duration": 10,
    "start_time": "2024-05-15T12:45:34.879Z"
   },
   {
    "duration": 12,
    "start_time": "2024-05-15T12:45:34.890Z"
   },
   {
    "duration": 17,
    "start_time": "2024-05-15T12:45:34.903Z"
   },
   {
    "duration": 12,
    "start_time": "2024-05-15T12:45:34.921Z"
   },
   {
    "duration": 15,
    "start_time": "2024-05-15T12:45:34.935Z"
   },
   {
    "duration": 13,
    "start_time": "2024-05-15T12:45:34.970Z"
   },
   {
    "duration": 7,
    "start_time": "2024-05-15T12:45:34.985Z"
   },
   {
    "duration": 28,
    "start_time": "2024-05-15T12:45:34.993Z"
   },
   {
    "duration": 32,
    "start_time": "2024-05-15T12:45:35.023Z"
   },
   {
    "duration": 196,
    "start_time": "2024-05-15T12:45:35.057Z"
   },
   {
    "duration": 123,
    "start_time": "2024-05-15T12:45:35.255Z"
   },
   {
    "duration": 264,
    "start_time": "2024-05-15T12:45:35.380Z"
   },
   {
    "duration": 8,
    "start_time": "2024-05-15T12:45:35.646Z"
   },
   {
    "duration": 133,
    "start_time": "2024-05-15T12:45:35.656Z"
   },
   {
    "duration": 5,
    "start_time": "2024-05-15T12:45:35.791Z"
   },
   {
    "duration": 17,
    "start_time": "2024-05-15T12:45:35.797Z"
   },
   {
    "duration": 318,
    "start_time": "2024-05-15T12:45:35.816Z"
   },
   {
    "duration": 3,
    "start_time": "2024-05-15T12:45:36.136Z"
   },
   {
    "duration": 29,
    "start_time": "2024-05-15T12:45:36.141Z"
   },
   {
    "duration": 158,
    "start_time": "2024-05-15T12:45:36.172Z"
   },
   {
    "duration": 216,
    "start_time": "2024-05-15T12:45:36.331Z"
   },
   {
    "duration": 2,
    "start_time": "2024-05-15T12:45:36.548Z"
   },
   {
    "duration": 14,
    "start_time": "2024-05-15T12:45:36.554Z"
   },
   {
    "duration": 14,
    "start_time": "2024-05-15T12:45:36.570Z"
   },
   {
    "duration": 22,
    "start_time": "2024-05-15T12:45:36.585Z"
   },
   {
    "duration": 214,
    "start_time": "2024-05-15T12:45:36.609Z"
   },
   {
    "duration": 220,
    "start_time": "2024-05-15T12:45:36.824Z"
   },
   {
    "duration": 29,
    "start_time": "2024-05-15T12:45:37.046Z"
   },
   {
    "duration": 5,
    "start_time": "2024-05-15T12:45:37.077Z"
   },
   {
    "duration": 30,
    "start_time": "2024-05-15T12:45:37.084Z"
   },
   {
    "duration": 504,
    "start_time": "2024-05-15T12:45:37.116Z"
   },
   {
    "duration": 447,
    "start_time": "2024-05-15T12:45:37.622Z"
   },
   {
    "duration": 7681,
    "start_time": "2024-05-15T12:45:38.071Z"
   },
   {
    "duration": 686,
    "start_time": "2024-05-15T12:45:45.754Z"
   },
   {
    "duration": 0,
    "start_time": "2024-05-15T12:45:46.442Z"
   },
   {
    "duration": 0,
    "start_time": "2024-05-15T12:45:46.444Z"
   },
   {
    "duration": 0,
    "start_time": "2024-05-15T12:45:46.445Z"
   },
   {
    "duration": 0,
    "start_time": "2024-05-15T12:45:46.446Z"
   },
   {
    "duration": 0,
    "start_time": "2024-05-15T12:45:46.447Z"
   },
   {
    "duration": 0,
    "start_time": "2024-05-15T12:45:46.448Z"
   },
   {
    "duration": 0,
    "start_time": "2024-05-15T12:45:46.449Z"
   },
   {
    "duration": 0,
    "start_time": "2024-05-15T12:45:46.450Z"
   },
   {
    "duration": 10,
    "start_time": "2024-05-15T12:46:33.238Z"
   },
   {
    "duration": 61,
    "start_time": "2024-05-15T12:48:40.332Z"
   },
   {
    "duration": 33,
    "start_time": "2024-05-15T12:49:09.035Z"
   },
   {
    "duration": 34,
    "start_time": "2024-05-15T12:49:33.416Z"
   },
   {
    "duration": 33,
    "start_time": "2024-05-15T12:52:50.661Z"
   },
   {
    "duration": 1243,
    "start_time": "2024-05-15T12:53:34.020Z"
   },
   {
    "duration": 70,
    "start_time": "2024-05-15T12:53:35.265Z"
   },
   {
    "duration": 21,
    "start_time": "2024-05-15T12:53:35.336Z"
   },
   {
    "duration": 61,
    "start_time": "2024-05-15T12:53:35.359Z"
   },
   {
    "duration": 37,
    "start_time": "2024-05-15T12:53:35.421Z"
   },
   {
    "duration": 12,
    "start_time": "2024-05-15T12:53:35.460Z"
   },
   {
    "duration": 38,
    "start_time": "2024-05-15T12:53:35.474Z"
   },
   {
    "duration": 37,
    "start_time": "2024-05-15T12:53:35.513Z"
   },
   {
    "duration": 62,
    "start_time": "2024-05-15T12:53:35.552Z"
   },
   {
    "duration": 39,
    "start_time": "2024-05-15T12:53:35.617Z"
   },
   {
    "duration": 49,
    "start_time": "2024-05-15T12:53:35.658Z"
   },
   {
    "duration": 46,
    "start_time": "2024-05-15T12:53:35.709Z"
   },
   {
    "duration": 13,
    "start_time": "2024-05-15T12:53:35.757Z"
   },
   {
    "duration": 16,
    "start_time": "2024-05-15T12:53:35.772Z"
   },
   {
    "duration": 209,
    "start_time": "2024-05-15T12:53:35.790Z"
   },
   {
    "duration": 133,
    "start_time": "2024-05-15T12:53:36.001Z"
   },
   {
    "duration": 285,
    "start_time": "2024-05-15T12:53:36.136Z"
   },
   {
    "duration": 10,
    "start_time": "2024-05-15T12:53:36.423Z"
   },
   {
    "duration": 138,
    "start_time": "2024-05-15T12:53:36.435Z"
   },
   {
    "duration": 4,
    "start_time": "2024-05-15T12:53:36.575Z"
   },
   {
    "duration": 13,
    "start_time": "2024-05-15T12:53:36.581Z"
   },
   {
    "duration": 333,
    "start_time": "2024-05-15T12:53:36.595Z"
   },
   {
    "duration": 3,
    "start_time": "2024-05-15T12:53:36.930Z"
   },
   {
    "duration": 13,
    "start_time": "2024-05-15T12:53:36.935Z"
   },
   {
    "duration": 158,
    "start_time": "2024-05-15T12:53:36.950Z"
   },
   {
    "duration": 217,
    "start_time": "2024-05-15T12:53:37.110Z"
   },
   {
    "duration": 2,
    "start_time": "2024-05-15T12:53:37.329Z"
   },
   {
    "duration": 17,
    "start_time": "2024-05-15T12:53:37.334Z"
   },
   {
    "duration": 32,
    "start_time": "2024-05-15T12:53:37.353Z"
   },
   {
    "duration": 66,
    "start_time": "2024-05-15T12:53:37.387Z"
   },
   {
    "duration": 222,
    "start_time": "2024-05-15T12:53:37.455Z"
   },
   {
    "duration": 226,
    "start_time": "2024-05-15T12:53:37.679Z"
   },
   {
    "duration": 30,
    "start_time": "2024-05-15T12:53:37.907Z"
   },
   {
    "duration": 6,
    "start_time": "2024-05-15T12:53:37.939Z"
   },
   {
    "duration": 48,
    "start_time": "2024-05-15T12:53:37.947Z"
   },
   {
    "duration": 485,
    "start_time": "2024-05-15T12:53:37.997Z"
   },
   {
    "duration": 439,
    "start_time": "2024-05-15T12:53:38.484Z"
   },
   {
    "duration": 7766,
    "start_time": "2024-05-15T12:53:38.925Z"
   },
   {
    "duration": 32,
    "start_time": "2024-05-15T12:53:46.692Z"
   },
   {
    "duration": 8,
    "start_time": "2024-05-15T12:53:46.726Z"
   },
   {
    "duration": 9,
    "start_time": "2024-05-15T12:53:46.736Z"
   },
   {
    "duration": 13,
    "start_time": "2024-05-15T12:53:46.746Z"
   },
   {
    "duration": 19,
    "start_time": "2024-05-15T12:53:46.769Z"
   },
   {
    "duration": 14,
    "start_time": "2024-05-15T12:53:46.790Z"
   },
   {
    "duration": 7,
    "start_time": "2024-05-15T12:53:46.805Z"
   },
   {
    "duration": 18,
    "start_time": "2024-05-15T12:53:46.813Z"
   },
   {
    "duration": 4,
    "start_time": "2024-05-15T12:53:46.833Z"
   },
   {
    "duration": 1339,
    "start_time": "2024-05-15T12:54:29.042Z"
   },
   {
    "duration": 72,
    "start_time": "2024-05-15T12:54:30.383Z"
   },
   {
    "duration": 33,
    "start_time": "2024-05-15T12:54:30.457Z"
   },
   {
    "duration": 27,
    "start_time": "2024-05-15T12:54:30.492Z"
   },
   {
    "duration": 77,
    "start_time": "2024-05-15T12:54:30.520Z"
   },
   {
    "duration": 92,
    "start_time": "2024-05-15T12:54:30.599Z"
   },
   {
    "duration": 89,
    "start_time": "2024-05-15T12:54:30.692Z"
   },
   {
    "duration": 168,
    "start_time": "2024-05-15T12:54:30.783Z"
   },
   {
    "duration": 217,
    "start_time": "2024-05-15T12:54:30.953Z"
   },
   {
    "duration": 82,
    "start_time": "2024-05-15T12:54:31.173Z"
   },
   {
    "duration": 241,
    "start_time": "2024-05-15T12:54:31.256Z"
   },
   {
    "duration": 234,
    "start_time": "2024-05-15T12:54:31.499Z"
   },
   {
    "duration": 46,
    "start_time": "2024-05-15T12:54:31.734Z"
   },
   {
    "duration": 24,
    "start_time": "2024-05-15T12:54:31.781Z"
   },
   {
    "duration": 236,
    "start_time": "2024-05-15T12:54:31.807Z"
   },
   {
    "duration": 129,
    "start_time": "2024-05-15T12:54:32.044Z"
   },
   {
    "duration": 269,
    "start_time": "2024-05-15T12:54:32.174Z"
   },
   {
    "duration": 8,
    "start_time": "2024-05-15T12:54:32.444Z"
   },
   {
    "duration": 154,
    "start_time": "2024-05-15T12:54:32.454Z"
   },
   {
    "duration": 4,
    "start_time": "2024-05-15T12:54:32.610Z"
   },
   {
    "duration": 16,
    "start_time": "2024-05-15T12:54:32.616Z"
   },
   {
    "duration": 299,
    "start_time": "2024-05-15T12:54:32.634Z"
   },
   {
    "duration": 3,
    "start_time": "2024-05-15T12:54:32.934Z"
   },
   {
    "duration": 36,
    "start_time": "2024-05-15T12:54:32.938Z"
   },
   {
    "duration": 155,
    "start_time": "2024-05-15T12:54:32.975Z"
   },
   {
    "duration": 211,
    "start_time": "2024-05-15T12:54:33.131Z"
   },
   {
    "duration": 2,
    "start_time": "2024-05-15T12:54:33.344Z"
   },
   {
    "duration": 18,
    "start_time": "2024-05-15T12:54:33.349Z"
   },
   {
    "duration": 23,
    "start_time": "2024-05-15T12:54:33.369Z"
   },
   {
    "duration": 30,
    "start_time": "2024-05-15T12:54:33.393Z"
   },
   {
    "duration": 213,
    "start_time": "2024-05-15T12:54:33.424Z"
   },
   {
    "duration": 227,
    "start_time": "2024-05-15T12:54:33.639Z"
   },
   {
    "duration": 24,
    "start_time": "2024-05-15T12:54:33.867Z"
   },
   {
    "duration": 5,
    "start_time": "2024-05-15T12:54:33.893Z"
   },
   {
    "duration": 40,
    "start_time": "2024-05-15T12:54:33.900Z"
   },
   {
    "duration": 494,
    "start_time": "2024-05-15T12:54:33.941Z"
   },
   {
    "duration": 440,
    "start_time": "2024-05-15T12:54:34.436Z"
   },
   {
    "duration": 2,
    "start_time": "2024-05-15T12:54:34.878Z"
   },
   {
    "duration": 63,
    "start_time": "2024-05-15T12:54:34.882Z"
   },
   {
    "duration": 4,
    "start_time": "2024-05-15T12:54:34.947Z"
   },
   {
    "duration": 7,
    "start_time": "2024-05-15T12:54:34.952Z"
   },
   {
    "duration": 16,
    "start_time": "2024-05-15T12:54:34.960Z"
   },
   {
    "duration": 21,
    "start_time": "2024-05-15T12:54:34.978Z"
   },
   {
    "duration": 40,
    "start_time": "2024-05-15T12:54:35.000Z"
   },
   {
    "duration": 29,
    "start_time": "2024-05-15T12:54:35.041Z"
   },
   {
    "duration": 31,
    "start_time": "2024-05-15T12:54:35.072Z"
   },
   {
    "duration": 42,
    "start_time": "2024-05-15T12:54:35.105Z"
   },
   {
    "duration": 1252,
    "start_time": "2024-05-15T13:04:16.085Z"
   },
   {
    "duration": 68,
    "start_time": "2024-05-15T13:04:17.339Z"
   },
   {
    "duration": 21,
    "start_time": "2024-05-15T13:04:17.409Z"
   },
   {
    "duration": 64,
    "start_time": "2024-05-15T13:04:17.432Z"
   },
   {
    "duration": 42,
    "start_time": "2024-05-15T13:04:17.498Z"
   },
   {
    "duration": 12,
    "start_time": "2024-05-15T13:04:17.542Z"
   },
   {
    "duration": 21,
    "start_time": "2024-05-15T13:04:17.556Z"
   },
   {
    "duration": 20,
    "start_time": "2024-05-15T13:04:17.579Z"
   },
   {
    "duration": 25,
    "start_time": "2024-05-15T13:04:17.600Z"
   },
   {
    "duration": 8,
    "start_time": "2024-05-15T13:04:17.628Z"
   },
   {
    "duration": 32,
    "start_time": "2024-05-15T13:04:17.638Z"
   },
   {
    "duration": 8,
    "start_time": "2024-05-15T13:04:17.672Z"
   },
   {
    "duration": 26,
    "start_time": "2024-05-15T13:04:17.682Z"
   },
   {
    "duration": 10,
    "start_time": "2024-05-15T13:04:17.710Z"
   },
   {
    "duration": 221,
    "start_time": "2024-05-15T13:04:17.722Z"
   },
   {
    "duration": 129,
    "start_time": "2024-05-15T13:04:17.945Z"
   },
   {
    "duration": 288,
    "start_time": "2024-05-15T13:04:18.077Z"
   },
   {
    "duration": 9,
    "start_time": "2024-05-15T13:04:18.367Z"
   },
   {
    "duration": 128,
    "start_time": "2024-05-15T13:04:18.378Z"
   },
   {
    "duration": 5,
    "start_time": "2024-05-15T13:04:18.508Z"
   },
   {
    "duration": 21,
    "start_time": "2024-05-15T13:04:18.515Z"
   },
   {
    "duration": 307,
    "start_time": "2024-05-15T13:04:18.538Z"
   },
   {
    "duration": 4,
    "start_time": "2024-05-15T13:04:18.847Z"
   },
   {
    "duration": 23,
    "start_time": "2024-05-15T13:04:18.853Z"
   },
   {
    "duration": 156,
    "start_time": "2024-05-15T13:04:18.878Z"
   },
   {
    "duration": 212,
    "start_time": "2024-05-15T13:04:19.036Z"
   },
   {
    "duration": 2,
    "start_time": "2024-05-15T13:04:19.250Z"
   },
   {
    "duration": 3,
    "start_time": "2024-05-15T13:04:19.270Z"
   },
   {
    "duration": 15,
    "start_time": "2024-05-15T13:04:19.275Z"
   },
   {
    "duration": 45,
    "start_time": "2024-05-15T13:04:19.291Z"
   },
   {
    "duration": 213,
    "start_time": "2024-05-15T13:04:19.338Z"
   },
   {
    "duration": 216,
    "start_time": "2024-05-15T13:04:19.553Z"
   },
   {
    "duration": 62,
    "start_time": "2024-05-15T13:04:19.771Z"
   },
   {
    "duration": 0,
    "start_time": "2024-05-15T13:04:19.835Z"
   },
   {
    "duration": 0,
    "start_time": "2024-05-15T13:04:19.836Z"
   },
   {
    "duration": 0,
    "start_time": "2024-05-15T13:04:19.838Z"
   },
   {
    "duration": 0,
    "start_time": "2024-05-15T13:04:19.839Z"
   },
   {
    "duration": 0,
    "start_time": "2024-05-15T13:04:19.840Z"
   },
   {
    "duration": 0,
    "start_time": "2024-05-15T13:04:19.841Z"
   },
   {
    "duration": 0,
    "start_time": "2024-05-15T13:04:19.842Z"
   },
   {
    "duration": 0,
    "start_time": "2024-05-15T13:04:19.844Z"
   },
   {
    "duration": 0,
    "start_time": "2024-05-15T13:04:19.845Z"
   },
   {
    "duration": 0,
    "start_time": "2024-05-15T13:04:19.846Z"
   },
   {
    "duration": 0,
    "start_time": "2024-05-15T13:04:19.847Z"
   },
   {
    "duration": 0,
    "start_time": "2024-05-15T13:04:19.848Z"
   },
   {
    "duration": 0,
    "start_time": "2024-05-15T13:04:19.849Z"
   },
   {
    "duration": 0,
    "start_time": "2024-05-15T13:04:19.850Z"
   },
   {
    "duration": 1266,
    "start_time": "2024-05-15T13:04:47.749Z"
   },
   {
    "duration": 68,
    "start_time": "2024-05-15T13:04:49.017Z"
   },
   {
    "duration": 23,
    "start_time": "2024-05-15T13:04:49.086Z"
   },
   {
    "duration": 13,
    "start_time": "2024-05-15T13:04:49.111Z"
   },
   {
    "duration": 41,
    "start_time": "2024-05-15T13:04:49.126Z"
   },
   {
    "duration": 12,
    "start_time": "2024-05-15T13:04:49.168Z"
   },
   {
    "duration": 18,
    "start_time": "2024-05-15T13:04:49.182Z"
   },
   {
    "duration": 15,
    "start_time": "2024-05-15T13:04:49.202Z"
   },
   {
    "duration": 12,
    "start_time": "2024-05-15T13:04:49.219Z"
   },
   {
    "duration": 38,
    "start_time": "2024-05-15T13:04:49.234Z"
   },
   {
    "duration": 35,
    "start_time": "2024-05-15T13:04:49.274Z"
   },
   {
    "duration": 8,
    "start_time": "2024-05-15T13:04:49.310Z"
   },
   {
    "duration": 11,
    "start_time": "2024-05-15T13:04:49.319Z"
   },
   {
    "duration": 13,
    "start_time": "2024-05-15T13:04:49.332Z"
   },
   {
    "duration": 199,
    "start_time": "2024-05-15T13:04:49.346Z"
   },
   {
    "duration": 125,
    "start_time": "2024-05-15T13:04:49.547Z"
   },
   {
    "duration": 264,
    "start_time": "2024-05-15T13:04:49.674Z"
   },
   {
    "duration": 8,
    "start_time": "2024-05-15T13:04:49.940Z"
   },
   {
    "duration": 132,
    "start_time": "2024-05-15T13:04:49.950Z"
   },
   {
    "duration": 4,
    "start_time": "2024-05-15T13:04:50.084Z"
   },
   {
    "duration": 32,
    "start_time": "2024-05-15T13:04:50.090Z"
   },
   {
    "duration": 347,
    "start_time": "2024-05-15T13:04:50.124Z"
   },
   {
    "duration": 3,
    "start_time": "2024-05-15T13:04:50.473Z"
   },
   {
    "duration": 22,
    "start_time": "2024-05-15T13:04:50.479Z"
   },
   {
    "duration": 153,
    "start_time": "2024-05-15T13:04:50.503Z"
   },
   {
    "duration": 206,
    "start_time": "2024-05-15T13:04:50.658Z"
   },
   {
    "duration": 2,
    "start_time": "2024-05-15T13:04:50.869Z"
   },
   {
    "duration": 45,
    "start_time": "2024-05-15T13:04:50.874Z"
   },
   {
    "duration": 31,
    "start_time": "2024-05-15T13:04:50.921Z"
   },
   {
    "duration": 26,
    "start_time": "2024-05-15T13:04:50.954Z"
   },
   {
    "duration": 229,
    "start_time": "2024-05-15T13:04:50.982Z"
   },
   {
    "duration": 227,
    "start_time": "2024-05-15T13:04:51.213Z"
   },
   {
    "duration": 69,
    "start_time": "2024-05-15T13:04:51.441Z"
   },
   {
    "duration": 0,
    "start_time": "2024-05-15T13:04:51.511Z"
   },
   {
    "duration": 0,
    "start_time": "2024-05-15T13:04:51.513Z"
   },
   {
    "duration": 0,
    "start_time": "2024-05-15T13:04:51.514Z"
   },
   {
    "duration": 0,
    "start_time": "2024-05-15T13:04:51.515Z"
   },
   {
    "duration": 0,
    "start_time": "2024-05-15T13:04:51.516Z"
   },
   {
    "duration": 0,
    "start_time": "2024-05-15T13:04:51.517Z"
   },
   {
    "duration": 0,
    "start_time": "2024-05-15T13:04:51.518Z"
   },
   {
    "duration": 0,
    "start_time": "2024-05-15T13:04:51.518Z"
   },
   {
    "duration": 0,
    "start_time": "2024-05-15T13:04:51.519Z"
   },
   {
    "duration": 0,
    "start_time": "2024-05-15T13:04:51.520Z"
   },
   {
    "duration": 0,
    "start_time": "2024-05-15T13:04:51.521Z"
   },
   {
    "duration": 0,
    "start_time": "2024-05-15T13:04:51.522Z"
   },
   {
    "duration": 0,
    "start_time": "2024-05-15T13:04:51.523Z"
   },
   {
    "duration": 0,
    "start_time": "2024-05-15T13:04:51.524Z"
   },
   {
    "duration": 1318,
    "start_time": "2024-05-15T13:05:49.244Z"
   },
   {
    "duration": 67,
    "start_time": "2024-05-15T13:05:50.564Z"
   },
   {
    "duration": 20,
    "start_time": "2024-05-15T13:05:50.633Z"
   },
   {
    "duration": 13,
    "start_time": "2024-05-15T13:05:50.655Z"
   },
   {
    "duration": 13,
    "start_time": "2024-05-15T13:05:50.670Z"
   },
   {
    "duration": 11,
    "start_time": "2024-05-15T13:05:50.685Z"
   },
   {
    "duration": 19,
    "start_time": "2024-05-15T13:05:50.698Z"
   },
   {
    "duration": 21,
    "start_time": "2024-05-15T13:05:50.719Z"
   },
   {
    "duration": 31,
    "start_time": "2024-05-15T13:05:50.742Z"
   },
   {
    "duration": 9,
    "start_time": "2024-05-15T13:05:50.776Z"
   },
   {
    "duration": 15,
    "start_time": "2024-05-15T13:05:50.787Z"
   },
   {
    "duration": 8,
    "start_time": "2024-05-15T13:05:50.804Z"
   },
   {
    "duration": 10,
    "start_time": "2024-05-15T13:05:50.814Z"
   },
   {
    "duration": 49,
    "start_time": "2024-05-15T13:05:50.826Z"
   },
   {
    "duration": 234,
    "start_time": "2024-05-15T13:05:50.876Z"
   },
   {
    "duration": 128,
    "start_time": "2024-05-15T13:05:51.112Z"
   },
   {
    "duration": 257,
    "start_time": "2024-05-15T13:05:51.241Z"
   },
   {
    "duration": 8,
    "start_time": "2024-05-15T13:05:51.499Z"
   },
   {
    "duration": 124,
    "start_time": "2024-05-15T13:05:51.508Z"
   },
   {
    "duration": 5,
    "start_time": "2024-05-15T13:05:51.634Z"
   },
   {
    "duration": 29,
    "start_time": "2024-05-15T13:05:51.640Z"
   },
   {
    "duration": 307,
    "start_time": "2024-05-15T13:05:51.670Z"
   },
   {
    "duration": 4,
    "start_time": "2024-05-15T13:05:51.979Z"
   },
   {
    "duration": 15,
    "start_time": "2024-05-15T13:05:51.985Z"
   },
   {
    "duration": 156,
    "start_time": "2024-05-15T13:05:52.001Z"
   },
   {
    "duration": 247,
    "start_time": "2024-05-15T13:05:52.158Z"
   },
   {
    "duration": 3,
    "start_time": "2024-05-15T13:05:52.407Z"
   },
   {
    "duration": 39,
    "start_time": "2024-05-15T13:05:52.414Z"
   },
   {
    "duration": 28,
    "start_time": "2024-05-15T13:05:52.455Z"
   },
   {
    "duration": 50,
    "start_time": "2024-05-15T13:05:52.484Z"
   },
   {
    "duration": 236,
    "start_time": "2024-05-15T13:05:52.536Z"
   },
   {
    "duration": 211,
    "start_time": "2024-05-15T13:05:52.774Z"
   },
   {
    "duration": 24,
    "start_time": "2024-05-15T13:05:52.987Z"
   },
   {
    "duration": 51,
    "start_time": "2024-05-15T13:05:53.013Z"
   },
   {
    "duration": 41,
    "start_time": "2024-05-15T13:05:53.066Z"
   },
   {
    "duration": 438,
    "start_time": "2024-05-15T13:05:53.109Z"
   },
   {
    "duration": 455,
    "start_time": "2024-05-15T13:05:53.549Z"
   },
   {
    "duration": 3,
    "start_time": "2024-05-15T13:05:54.005Z"
   },
   {
    "duration": 36,
    "start_time": "2024-05-15T13:05:54.009Z"
   },
   {
    "duration": 3,
    "start_time": "2024-05-15T13:05:54.046Z"
   },
   {
    "duration": 18,
    "start_time": "2024-05-15T13:05:54.051Z"
   },
   {
    "duration": 13,
    "start_time": "2024-05-15T13:05:54.071Z"
   },
   {
    "duration": 27,
    "start_time": "2024-05-15T13:05:54.086Z"
   },
   {
    "duration": 6,
    "start_time": "2024-05-15T13:05:54.115Z"
   },
   {
    "duration": 33,
    "start_time": "2024-05-15T13:05:54.123Z"
   },
   {
    "duration": 19,
    "start_time": "2024-05-15T13:05:54.158Z"
   },
   {
    "duration": 50,
    "start_time": "2024-05-15T13:05:54.179Z"
   },
   {
    "duration": 1328,
    "start_time": "2024-05-15T13:12:51.539Z"
   },
   {
    "duration": 68,
    "start_time": "2024-05-15T13:12:52.870Z"
   },
   {
    "duration": 20,
    "start_time": "2024-05-15T13:12:52.939Z"
   },
   {
    "duration": 12,
    "start_time": "2024-05-15T13:12:52.961Z"
   },
   {
    "duration": 13,
    "start_time": "2024-05-15T13:12:52.975Z"
   },
   {
    "duration": 13,
    "start_time": "2024-05-15T13:12:52.990Z"
   },
   {
    "duration": 6,
    "start_time": "2024-05-15T13:12:53.004Z"
   },
   {
    "duration": 11,
    "start_time": "2024-05-15T13:12:53.012Z"
   },
   {
    "duration": 46,
    "start_time": "2024-05-15T13:12:53.024Z"
   },
   {
    "duration": 9,
    "start_time": "2024-05-15T13:12:53.073Z"
   },
   {
    "duration": 14,
    "start_time": "2024-05-15T13:12:53.083Z"
   },
   {
    "duration": 12,
    "start_time": "2024-05-15T13:12:53.099Z"
   },
   {
    "duration": 10,
    "start_time": "2024-05-15T13:12:53.113Z"
   },
   {
    "duration": 7,
    "start_time": "2024-05-15T13:12:53.124Z"
   },
   {
    "duration": 223,
    "start_time": "2024-05-15T13:12:53.132Z"
   },
   {
    "duration": 133,
    "start_time": "2024-05-15T13:12:53.357Z"
   },
   {
    "duration": 273,
    "start_time": "2024-05-15T13:12:53.492Z"
   },
   {
    "duration": 9,
    "start_time": "2024-05-15T13:12:53.766Z"
   },
   {
    "duration": 130,
    "start_time": "2024-05-15T13:12:53.777Z"
   },
   {
    "duration": 5,
    "start_time": "2024-05-15T13:12:53.909Z"
   },
   {
    "duration": 13,
    "start_time": "2024-05-15T13:12:53.916Z"
   },
   {
    "duration": 320,
    "start_time": "2024-05-15T13:12:53.930Z"
   },
   {
    "duration": 3,
    "start_time": "2024-05-15T13:12:54.252Z"
   },
   {
    "duration": 13,
    "start_time": "2024-05-15T13:12:54.257Z"
   },
   {
    "duration": 149,
    "start_time": "2024-05-15T13:12:54.272Z"
   },
   {
    "duration": 217,
    "start_time": "2024-05-15T13:12:54.422Z"
   },
   {
    "duration": 2,
    "start_time": "2024-05-15T13:12:54.640Z"
   },
   {
    "duration": 7,
    "start_time": "2024-05-15T13:12:54.646Z"
   },
   {
    "duration": 17,
    "start_time": "2024-05-15T13:12:54.655Z"
   },
   {
    "duration": 58,
    "start_time": "2024-05-15T13:12:54.673Z"
   },
   {
    "duration": 262,
    "start_time": "2024-05-15T13:12:54.733Z"
   },
   {
    "duration": 233,
    "start_time": "2024-05-15T13:12:54.996Z"
   },
   {
    "duration": 48,
    "start_time": "2024-05-15T13:12:55.231Z"
   },
   {
    "duration": 34,
    "start_time": "2024-05-15T13:12:55.281Z"
   },
   {
    "duration": 81,
    "start_time": "2024-05-15T13:12:55.317Z"
   },
   {
    "duration": 611,
    "start_time": "2024-05-15T13:12:55.400Z"
   },
   {
    "duration": 442,
    "start_time": "2024-05-15T13:12:56.012Z"
   },
   {
    "duration": 3,
    "start_time": "2024-05-15T13:12:56.456Z"
   },
   {
    "duration": 32,
    "start_time": "2024-05-15T13:12:56.469Z"
   },
   {
    "duration": 27,
    "start_time": "2024-05-15T13:12:56.503Z"
   },
   {
    "duration": 40,
    "start_time": "2024-05-15T13:12:56.532Z"
   },
   {
    "duration": 42,
    "start_time": "2024-05-15T13:12:56.573Z"
   },
   {
    "duration": 31,
    "start_time": "2024-05-15T13:12:56.617Z"
   },
   {
    "duration": 7,
    "start_time": "2024-05-15T13:12:56.649Z"
   },
   {
    "duration": 14,
    "start_time": "2024-05-15T13:12:56.658Z"
   },
   {
    "duration": 13,
    "start_time": "2024-05-15T13:12:56.674Z"
   },
   {
    "duration": 13,
    "start_time": "2024-05-15T13:12:56.689Z"
   },
   {
    "duration": 1330,
    "start_time": "2024-05-15T13:16:30.259Z"
   },
   {
    "duration": 72,
    "start_time": "2024-05-15T13:16:31.591Z"
   },
   {
    "duration": 26,
    "start_time": "2024-05-15T13:16:31.664Z"
   },
   {
    "duration": 74,
    "start_time": "2024-05-15T13:16:31.692Z"
   },
   {
    "duration": 70,
    "start_time": "2024-05-15T13:16:31.768Z"
   },
   {
    "duration": 41,
    "start_time": "2024-05-15T13:16:31.840Z"
   },
   {
    "duration": 45,
    "start_time": "2024-05-15T13:16:31.883Z"
   },
   {
    "duration": 56,
    "start_time": "2024-05-15T13:16:31.929Z"
   },
   {
    "duration": 67,
    "start_time": "2024-05-15T13:16:31.986Z"
   },
   {
    "duration": 27,
    "start_time": "2024-05-15T13:16:32.056Z"
   },
   {
    "duration": 40,
    "start_time": "2024-05-15T13:16:32.085Z"
   },
   {
    "duration": 14,
    "start_time": "2024-05-15T13:16:32.127Z"
   },
   {
    "duration": 42,
    "start_time": "2024-05-15T13:16:32.143Z"
   },
   {
    "duration": 43,
    "start_time": "2024-05-15T13:16:32.186Z"
   },
   {
    "duration": 280,
    "start_time": "2024-05-15T13:16:32.230Z"
   },
   {
    "duration": 130,
    "start_time": "2024-05-15T13:16:32.512Z"
   },
   {
    "duration": 258,
    "start_time": "2024-05-15T13:16:32.644Z"
   },
   {
    "duration": 8,
    "start_time": "2024-05-15T13:16:32.904Z"
   },
   {
    "duration": 131,
    "start_time": "2024-05-15T13:16:32.914Z"
   },
   {
    "duration": 5,
    "start_time": "2024-05-15T13:16:33.046Z"
   },
   {
    "duration": 33,
    "start_time": "2024-05-15T13:16:33.052Z"
   },
   {
    "duration": 309,
    "start_time": "2024-05-15T13:16:33.086Z"
   },
   {
    "duration": 3,
    "start_time": "2024-05-15T13:16:33.397Z"
   },
   {
    "duration": 20,
    "start_time": "2024-05-15T13:16:33.401Z"
   },
   {
    "duration": 154,
    "start_time": "2024-05-15T13:16:33.423Z"
   },
   {
    "duration": 216,
    "start_time": "2024-05-15T13:16:33.579Z"
   },
   {
    "duration": 2,
    "start_time": "2024-05-15T13:16:33.796Z"
   },
   {
    "duration": 12,
    "start_time": "2024-05-15T13:16:33.802Z"
   },
   {
    "duration": 9,
    "start_time": "2024-05-15T13:16:33.816Z"
   },
   {
    "duration": 16,
    "start_time": "2024-05-15T13:16:33.827Z"
   },
   {
    "duration": 235,
    "start_time": "2024-05-15T13:16:33.845Z"
   },
   {
    "duration": 226,
    "start_time": "2024-05-15T13:16:34.082Z"
   },
   {
    "duration": 22,
    "start_time": "2024-05-15T13:16:34.310Z"
   },
   {
    "duration": 5,
    "start_time": "2024-05-15T13:16:34.334Z"
   },
   {
    "duration": 53,
    "start_time": "2024-05-15T13:16:34.341Z"
   },
   {
    "duration": 479,
    "start_time": "2024-05-15T13:16:34.395Z"
   },
   {
    "duration": 440,
    "start_time": "2024-05-15T13:16:34.876Z"
   },
   {
    "duration": 3,
    "start_time": "2024-05-15T13:16:35.318Z"
   },
   {
    "duration": 57,
    "start_time": "2024-05-15T13:16:35.322Z"
   },
   {
    "duration": 44,
    "start_time": "2024-05-15T13:16:35.380Z"
   },
   {
    "duration": 25,
    "start_time": "2024-05-15T13:16:35.426Z"
   },
   {
    "duration": 29,
    "start_time": "2024-05-15T13:16:35.453Z"
   },
   {
    "duration": 46,
    "start_time": "2024-05-15T13:16:35.483Z"
   },
   {
    "duration": 12,
    "start_time": "2024-05-15T13:16:35.531Z"
   },
   {
    "duration": 83,
    "start_time": "2024-05-15T13:16:35.544Z"
   },
   {
    "duration": 54,
    "start_time": "2024-05-15T13:16:35.629Z"
   },
   {
    "duration": 38,
    "start_time": "2024-05-15T13:16:35.684Z"
   },
   {
    "duration": 1335,
    "start_time": "2024-05-15T13:18:46.463Z"
   },
   {
    "duration": 69,
    "start_time": "2024-05-15T13:18:47.800Z"
   },
   {
    "duration": 20,
    "start_time": "2024-05-15T13:18:47.871Z"
   },
   {
    "duration": 25,
    "start_time": "2024-05-15T13:18:47.893Z"
   },
   {
    "duration": 33,
    "start_time": "2024-05-15T13:18:47.919Z"
   },
   {
    "duration": 39,
    "start_time": "2024-05-15T13:18:47.954Z"
   },
   {
    "duration": 33,
    "start_time": "2024-05-15T13:18:47.995Z"
   },
   {
    "duration": 20,
    "start_time": "2024-05-15T13:18:48.030Z"
   },
   {
    "duration": 12,
    "start_time": "2024-05-15T13:18:48.052Z"
   },
   {
    "duration": 9,
    "start_time": "2024-05-15T13:18:48.067Z"
   },
   {
    "duration": 21,
    "start_time": "2024-05-15T13:18:48.077Z"
   },
   {
    "duration": 8,
    "start_time": "2024-05-15T13:18:48.099Z"
   },
   {
    "duration": 12,
    "start_time": "2024-05-15T13:18:48.108Z"
   },
   {
    "duration": 11,
    "start_time": "2024-05-15T13:18:48.121Z"
   },
   {
    "duration": 239,
    "start_time": "2024-05-15T13:18:48.134Z"
   },
   {
    "duration": 127,
    "start_time": "2024-05-15T13:18:48.375Z"
   },
   {
    "duration": 260,
    "start_time": "2024-05-15T13:18:48.504Z"
   },
   {
    "duration": 9,
    "start_time": "2024-05-15T13:18:48.766Z"
   },
   {
    "duration": 142,
    "start_time": "2024-05-15T13:18:48.777Z"
   },
   {
    "duration": 5,
    "start_time": "2024-05-15T13:18:48.921Z"
   },
   {
    "duration": 16,
    "start_time": "2024-05-15T13:18:48.927Z"
   },
   {
    "duration": 351,
    "start_time": "2024-05-15T13:18:48.945Z"
   },
   {
    "duration": 4,
    "start_time": "2024-05-15T13:18:49.297Z"
   },
   {
    "duration": 31,
    "start_time": "2024-05-15T13:18:49.302Z"
   },
   {
    "duration": 161,
    "start_time": "2024-05-15T13:18:49.335Z"
   },
   {
    "duration": 215,
    "start_time": "2024-05-15T13:18:49.498Z"
   },
   {
    "duration": 2,
    "start_time": "2024-05-15T13:18:49.714Z"
   },
   {
    "duration": 19,
    "start_time": "2024-05-15T13:18:49.720Z"
   },
   {
    "duration": 10,
    "start_time": "2024-05-15T13:18:49.741Z"
   },
   {
    "duration": 48,
    "start_time": "2024-05-15T13:18:49.753Z"
   },
   {
    "duration": 246,
    "start_time": "2024-05-15T13:18:49.802Z"
   },
   {
    "duration": 245,
    "start_time": "2024-05-15T13:18:50.049Z"
   },
   {
    "duration": 25,
    "start_time": "2024-05-15T13:18:50.296Z"
   },
   {
    "duration": 5,
    "start_time": "2024-05-15T13:18:50.322Z"
   },
   {
    "duration": 55,
    "start_time": "2024-05-15T13:18:50.329Z"
   },
   {
    "duration": 503,
    "start_time": "2024-05-15T13:18:50.386Z"
   },
   {
    "duration": 471,
    "start_time": "2024-05-15T13:18:50.891Z"
   },
   {
    "duration": 2,
    "start_time": "2024-05-15T13:18:51.369Z"
   },
   {
    "duration": 42,
    "start_time": "2024-05-15T13:18:51.373Z"
   },
   {
    "duration": 3,
    "start_time": "2024-05-15T13:18:51.416Z"
   },
   {
    "duration": 47,
    "start_time": "2024-05-15T13:18:51.420Z"
   },
   {
    "duration": 23,
    "start_time": "2024-05-15T13:18:51.469Z"
   },
   {
    "duration": 57,
    "start_time": "2024-05-15T13:18:51.494Z"
   },
   {
    "duration": 30,
    "start_time": "2024-05-15T13:18:51.553Z"
   },
   {
    "duration": 47,
    "start_time": "2024-05-15T13:18:51.585Z"
   },
   {
    "duration": 33,
    "start_time": "2024-05-15T13:18:51.634Z"
   },
   {
    "duration": 4,
    "start_time": "2024-05-15T13:18:51.669Z"
   },
   {
    "duration": 285,
    "start_time": "2024-05-15T13:19:27.397Z"
   },
   {
    "duration": 537,
    "start_time": "2024-05-15T13:21:59.379Z"
   },
   {
    "duration": 617,
    "start_time": "2024-05-15T13:25:38.950Z"
   },
   {
    "duration": 578,
    "start_time": "2024-05-15T13:28:05.435Z"
   },
   {
    "duration": 287,
    "start_time": "2024-05-15T13:31:09.794Z"
   },
   {
    "duration": 185,
    "start_time": "2024-05-15T13:32:37.217Z"
   },
   {
    "duration": 193,
    "start_time": "2024-05-15T13:32:47.579Z"
   },
   {
    "duration": 181,
    "start_time": "2024-05-15T13:32:56.936Z"
   },
   {
    "duration": 75,
    "start_time": "2024-05-15T13:34:57.645Z"
   },
   {
    "duration": 1237,
    "start_time": "2024-05-15T13:37:48.103Z"
   },
   {
    "duration": 70,
    "start_time": "2024-05-15T13:37:49.342Z"
   },
   {
    "duration": 23,
    "start_time": "2024-05-15T13:37:49.413Z"
   },
   {
    "duration": 37,
    "start_time": "2024-05-15T13:37:49.438Z"
   },
   {
    "duration": 18,
    "start_time": "2024-05-15T13:37:49.477Z"
   },
   {
    "duration": 13,
    "start_time": "2024-05-15T13:37:49.497Z"
   },
   {
    "duration": 22,
    "start_time": "2024-05-15T13:37:49.512Z"
   },
   {
    "duration": 18,
    "start_time": "2024-05-15T13:37:49.535Z"
   },
   {
    "duration": 12,
    "start_time": "2024-05-15T13:37:49.570Z"
   },
   {
    "duration": 10,
    "start_time": "2024-05-15T13:37:49.584Z"
   },
   {
    "duration": 24,
    "start_time": "2024-05-15T13:37:49.595Z"
   },
   {
    "duration": 20,
    "start_time": "2024-05-15T13:37:49.620Z"
   },
   {
    "duration": 15,
    "start_time": "2024-05-15T13:37:49.642Z"
   },
   {
    "duration": 24,
    "start_time": "2024-05-15T13:37:49.658Z"
   },
   {
    "duration": 208,
    "start_time": "2024-05-15T13:37:49.684Z"
   },
   {
    "duration": 131,
    "start_time": "2024-05-15T13:37:49.894Z"
   },
   {
    "duration": 265,
    "start_time": "2024-05-15T13:37:50.027Z"
   },
   {
    "duration": 9,
    "start_time": "2024-05-15T13:37:50.293Z"
   },
   {
    "duration": 145,
    "start_time": "2024-05-15T13:37:50.304Z"
   },
   {
    "duration": 6,
    "start_time": "2024-05-15T13:37:50.452Z"
   },
   {
    "duration": 29,
    "start_time": "2024-05-15T13:37:50.460Z"
   },
   {
    "duration": 347,
    "start_time": "2024-05-15T13:37:50.492Z"
   },
   {
    "duration": 3,
    "start_time": "2024-05-15T13:37:50.841Z"
   },
   {
    "duration": 26,
    "start_time": "2024-05-15T13:37:50.846Z"
   },
   {
    "duration": 153,
    "start_time": "2024-05-15T13:37:50.874Z"
   },
   {
    "duration": 213,
    "start_time": "2024-05-15T13:37:51.029Z"
   },
   {
    "duration": 3,
    "start_time": "2024-05-15T13:37:51.244Z"
   },
   {
    "duration": 18,
    "start_time": "2024-05-15T13:37:51.251Z"
   },
   {
    "duration": 18,
    "start_time": "2024-05-15T13:37:51.271Z"
   },
   {
    "duration": 13,
    "start_time": "2024-05-15T13:37:51.291Z"
   },
   {
    "duration": 225,
    "start_time": "2024-05-15T13:37:51.306Z"
   },
   {
    "duration": 216,
    "start_time": "2024-05-15T13:37:51.532Z"
   },
   {
    "duration": 33,
    "start_time": "2024-05-15T13:37:51.749Z"
   },
   {
    "duration": 4,
    "start_time": "2024-05-15T13:37:51.784Z"
   },
   {
    "duration": 53,
    "start_time": "2024-05-15T13:37:51.790Z"
   },
   {
    "duration": 565,
    "start_time": "2024-05-15T13:37:51.844Z"
   },
   {
    "duration": 436,
    "start_time": "2024-05-15T13:37:52.410Z"
   },
   {
    "duration": 3,
    "start_time": "2024-05-15T13:37:52.848Z"
   },
   {
    "duration": 51,
    "start_time": "2024-05-15T13:37:52.852Z"
   },
   {
    "duration": 2,
    "start_time": "2024-05-15T13:37:52.905Z"
   },
   {
    "duration": 17,
    "start_time": "2024-05-15T13:37:52.908Z"
   },
   {
    "duration": 17,
    "start_time": "2024-05-15T13:37:52.926Z"
   },
   {
    "duration": 19,
    "start_time": "2024-05-15T13:37:52.945Z"
   },
   {
    "duration": 18,
    "start_time": "2024-05-15T13:37:52.966Z"
   },
   {
    "duration": 18,
    "start_time": "2024-05-15T13:37:52.985Z"
   },
   {
    "duration": 35,
    "start_time": "2024-05-15T13:37:53.004Z"
   },
   {
    "duration": 17,
    "start_time": "2024-05-15T13:37:53.040Z"
   },
   {
    "duration": 272,
    "start_time": "2024-05-15T13:56:42.895Z"
   },
   {
    "duration": 438,
    "start_time": "2024-05-15T13:56:56.165Z"
   },
   {
    "duration": 548,
    "start_time": "2024-05-15T13:57:39.848Z"
   },
   {
    "duration": 677,
    "start_time": "2024-05-15T14:00:44.719Z"
   },
   {
    "duration": 10447,
    "start_time": "2024-05-15T14:00:59.642Z"
   },
   {
    "duration": 11258,
    "start_time": "2024-05-15T14:01:38.393Z"
   },
   {
    "duration": 178,
    "start_time": "2024-05-15T14:02:28.511Z"
   },
   {
    "duration": 11618,
    "start_time": "2024-05-15T14:02:46.064Z"
   },
   {
    "duration": 64,
    "start_time": "2024-05-15T14:07:35.421Z"
   },
   {
    "duration": 441,
    "start_time": "2024-05-15T14:07:47.065Z"
   },
   {
    "duration": 157,
    "start_time": "2024-05-15T14:10:01.101Z"
   },
   {
    "duration": 155,
    "start_time": "2024-05-15T14:10:59.256Z"
   },
   {
    "duration": 459,
    "start_time": "2024-05-15T14:11:34.312Z"
   },
   {
    "duration": 1218,
    "start_time": "2024-05-15T14:12:19.233Z"
   },
   {
    "duration": 452,
    "start_time": "2024-05-15T14:12:45.272Z"
   },
   {
    "duration": 451,
    "start_time": "2024-05-15T14:14:37.396Z"
   },
   {
    "duration": 471,
    "start_time": "2024-05-15T14:16:02.164Z"
   },
   {
    "duration": 6,
    "start_time": "2024-05-15T14:27:40.096Z"
   },
   {
    "duration": 15,
    "start_time": "2024-05-15T14:27:46.439Z"
   },
   {
    "duration": 19,
    "start_time": "2024-05-15T14:28:21.890Z"
   },
   {
    "duration": 16,
    "start_time": "2024-05-15T14:28:38.874Z"
   },
   {
    "duration": 33,
    "start_time": "2024-05-15T14:30:29.455Z"
   },
   {
    "duration": 17,
    "start_time": "2024-05-15T14:31:11.279Z"
   },
   {
    "duration": 17,
    "start_time": "2024-05-15T14:31:37.700Z"
   },
   {
    "duration": 4,
    "start_time": "2024-05-15T14:32:13.445Z"
   },
   {
    "duration": 25,
    "start_time": "2024-05-15T14:34:02.129Z"
   },
   {
    "duration": 16,
    "start_time": "2024-05-15T14:34:10.675Z"
   },
   {
    "duration": 16,
    "start_time": "2024-05-15T14:34:33.279Z"
   },
   {
    "duration": 18,
    "start_time": "2024-05-15T14:34:44.958Z"
   },
   {
    "duration": 16,
    "start_time": "2024-05-15T14:35:28.227Z"
   },
   {
    "duration": 6,
    "start_time": "2024-05-15T14:36:03.224Z"
   },
   {
    "duration": 11,
    "start_time": "2024-05-15T14:37:35.159Z"
   },
   {
    "duration": 1308,
    "start_time": "2024-05-15T14:37:47.042Z"
   },
   {
    "duration": 69,
    "start_time": "2024-05-15T14:37:48.352Z"
   },
   {
    "duration": 24,
    "start_time": "2024-05-15T14:37:48.422Z"
   },
   {
    "duration": 27,
    "start_time": "2024-05-15T14:37:48.448Z"
   },
   {
    "duration": 20,
    "start_time": "2024-05-15T14:37:48.477Z"
   },
   {
    "duration": 16,
    "start_time": "2024-05-15T14:37:48.499Z"
   },
   {
    "duration": 11,
    "start_time": "2024-05-15T14:37:48.517Z"
   },
   {
    "duration": 24,
    "start_time": "2024-05-15T14:37:48.530Z"
   },
   {
    "duration": 26,
    "start_time": "2024-05-15T14:37:48.556Z"
   },
   {
    "duration": 20,
    "start_time": "2024-05-15T14:37:48.586Z"
   },
   {
    "duration": 16,
    "start_time": "2024-05-15T14:37:48.617Z"
   },
   {
    "duration": 8,
    "start_time": "2024-05-15T14:37:48.635Z"
   },
   {
    "duration": 39,
    "start_time": "2024-05-15T14:37:48.644Z"
   },
   {
    "duration": 8,
    "start_time": "2024-05-15T14:37:48.684Z"
   },
   {
    "duration": 208,
    "start_time": "2024-05-15T14:37:48.694Z"
   },
   {
    "duration": 117,
    "start_time": "2024-05-15T14:37:48.904Z"
   },
   {
    "duration": 249,
    "start_time": "2024-05-15T14:37:49.023Z"
   },
   {
    "duration": 7,
    "start_time": "2024-05-15T14:37:49.274Z"
   },
   {
    "duration": 127,
    "start_time": "2024-05-15T14:37:49.283Z"
   },
   {
    "duration": 4,
    "start_time": "2024-05-15T14:37:49.412Z"
   },
   {
    "duration": 49,
    "start_time": "2024-05-15T14:37:49.418Z"
   },
   {
    "duration": 313,
    "start_time": "2024-05-15T14:37:49.468Z"
   },
   {
    "duration": 3,
    "start_time": "2024-05-15T14:37:49.783Z"
   },
   {
    "duration": 33,
    "start_time": "2024-05-15T14:37:49.788Z"
   },
   {
    "duration": 161,
    "start_time": "2024-05-15T14:37:49.823Z"
   },
   {
    "duration": 220,
    "start_time": "2024-05-15T14:37:49.986Z"
   },
   {
    "duration": 2,
    "start_time": "2024-05-15T14:37:50.208Z"
   },
   {
    "duration": 17,
    "start_time": "2024-05-15T14:37:50.213Z"
   },
   {
    "duration": 20,
    "start_time": "2024-05-15T14:37:50.232Z"
   },
   {
    "duration": 40,
    "start_time": "2024-05-15T14:37:50.254Z"
   },
   {
    "duration": 226,
    "start_time": "2024-05-15T14:37:50.296Z"
   },
   {
    "duration": 226,
    "start_time": "2024-05-15T14:37:50.524Z"
   },
   {
    "duration": 24,
    "start_time": "2024-05-15T14:37:50.752Z"
   },
   {
    "duration": 11,
    "start_time": "2024-05-15T14:37:50.777Z"
   },
   {
    "duration": 42,
    "start_time": "2024-05-15T14:37:50.789Z"
   },
   {
    "duration": 5,
    "start_time": "2024-05-15T14:37:50.833Z"
   },
   {
    "duration": 44,
    "start_time": "2024-05-15T14:37:50.840Z"
   },
   {
    "duration": 466,
    "start_time": "2024-05-15T14:37:50.886Z"
   },
   {
    "duration": 459,
    "start_time": "2024-05-15T14:37:51.354Z"
   },
   {
    "duration": 3,
    "start_time": "2024-05-15T14:37:51.814Z"
   },
   {
    "duration": 35,
    "start_time": "2024-05-15T14:37:51.819Z"
   },
   {
    "duration": 31,
    "start_time": "2024-05-15T14:37:51.856Z"
   },
   {
    "duration": 29,
    "start_time": "2024-05-15T14:37:51.889Z"
   },
   {
    "duration": 24,
    "start_time": "2024-05-15T14:37:51.919Z"
   },
   {
    "duration": 26,
    "start_time": "2024-05-15T14:37:51.945Z"
   },
   {
    "duration": 19,
    "start_time": "2024-05-15T14:37:51.973Z"
   },
   {
    "duration": 31,
    "start_time": "2024-05-15T14:37:51.994Z"
   },
   {
    "duration": 29,
    "start_time": "2024-05-15T14:37:52.027Z"
   },
   {
    "duration": 20,
    "start_time": "2024-05-15T14:37:52.058Z"
   },
   {
    "duration": 10,
    "start_time": "2024-05-15T14:38:30.994Z"
   },
   {
    "duration": 1307,
    "start_time": "2024-05-15T14:38:37.112Z"
   },
   {
    "duration": 69,
    "start_time": "2024-05-15T14:38:38.421Z"
   },
   {
    "duration": 21,
    "start_time": "2024-05-15T14:38:38.495Z"
   },
   {
    "duration": 24,
    "start_time": "2024-05-15T14:38:38.518Z"
   },
   {
    "duration": 14,
    "start_time": "2024-05-15T14:38:38.543Z"
   },
   {
    "duration": 20,
    "start_time": "2024-05-15T14:38:38.559Z"
   },
   {
    "duration": 16,
    "start_time": "2024-05-15T14:38:38.580Z"
   },
   {
    "duration": 23,
    "start_time": "2024-05-15T14:38:38.597Z"
   },
   {
    "duration": 17,
    "start_time": "2024-05-15T14:38:38.622Z"
   },
   {
    "duration": 9,
    "start_time": "2024-05-15T14:38:38.641Z"
   },
   {
    "duration": 15,
    "start_time": "2024-05-15T14:38:38.669Z"
   },
   {
    "duration": 7,
    "start_time": "2024-05-15T14:38:38.685Z"
   },
   {
    "duration": 16,
    "start_time": "2024-05-15T14:38:38.693Z"
   },
   {
    "duration": 13,
    "start_time": "2024-05-15T14:38:38.710Z"
   },
   {
    "duration": 220,
    "start_time": "2024-05-15T14:38:38.725Z"
   },
   {
    "duration": 131,
    "start_time": "2024-05-15T14:38:38.947Z"
   },
   {
    "duration": 267,
    "start_time": "2024-05-15T14:38:39.080Z"
   },
   {
    "duration": 9,
    "start_time": "2024-05-15T14:38:39.348Z"
   },
   {
    "duration": 132,
    "start_time": "2024-05-15T14:38:39.358Z"
   },
   {
    "duration": 5,
    "start_time": "2024-05-15T14:38:39.492Z"
   },
   {
    "duration": 33,
    "start_time": "2024-05-15T14:38:39.499Z"
   },
   {
    "duration": 362,
    "start_time": "2024-05-15T14:38:39.533Z"
   },
   {
    "duration": 4,
    "start_time": "2024-05-15T14:38:39.897Z"
   },
   {
    "duration": 13,
    "start_time": "2024-05-15T14:38:39.902Z"
   },
   {
    "duration": 161,
    "start_time": "2024-05-15T14:38:39.917Z"
   },
   {
    "duration": 219,
    "start_time": "2024-05-15T14:38:40.079Z"
   },
   {
    "duration": 2,
    "start_time": "2024-05-15T14:38:40.301Z"
   },
   {
    "duration": 17,
    "start_time": "2024-05-15T14:38:40.305Z"
   },
   {
    "duration": 56,
    "start_time": "2024-05-15T14:38:40.324Z"
   },
   {
    "duration": 26,
    "start_time": "2024-05-15T14:38:40.381Z"
   },
   {
    "duration": 265,
    "start_time": "2024-05-15T14:38:40.409Z"
   },
   {
    "duration": 232,
    "start_time": "2024-05-15T14:38:40.676Z"
   },
   {
    "duration": 17,
    "start_time": "2024-05-15T14:38:40.910Z"
   },
   {
    "duration": 5,
    "start_time": "2024-05-15T14:38:40.929Z"
   },
   {
    "duration": 42,
    "start_time": "2024-05-15T14:38:40.936Z"
   },
   {
    "duration": 10,
    "start_time": "2024-05-15T14:38:40.980Z"
   },
   {
    "duration": 46,
    "start_time": "2024-05-15T14:38:40.992Z"
   },
   {
    "duration": 472,
    "start_time": "2024-05-15T14:38:41.040Z"
   },
   {
    "duration": 446,
    "start_time": "2024-05-15T14:38:41.514Z"
   },
   {
    "duration": 2,
    "start_time": "2024-05-15T14:38:41.962Z"
   },
   {
    "duration": 56,
    "start_time": "2024-05-15T14:38:41.970Z"
   },
   {
    "duration": 2,
    "start_time": "2024-05-15T14:38:42.028Z"
   },
   {
    "duration": 4,
    "start_time": "2024-05-15T14:38:42.032Z"
   },
   {
    "duration": 12,
    "start_time": "2024-05-15T14:38:42.037Z"
   },
   {
    "duration": 18,
    "start_time": "2024-05-15T14:38:42.050Z"
   },
   {
    "duration": 7,
    "start_time": "2024-05-15T14:38:42.069Z"
   },
   {
    "duration": 42,
    "start_time": "2024-05-15T14:38:42.077Z"
   },
   {
    "duration": 28,
    "start_time": "2024-05-15T14:38:42.121Z"
   },
   {
    "duration": 5,
    "start_time": "2024-05-15T14:38:42.151Z"
   },
   {
    "duration": 192,
    "start_time": "2024-05-15T14:45:25.490Z"
   },
   {
    "duration": 193,
    "start_time": "2024-05-15T14:45:43.548Z"
   },
   {
    "duration": 196,
    "start_time": "2024-05-15T14:46:02.925Z"
   },
   {
    "duration": 202,
    "start_time": "2024-05-15T14:46:25.524Z"
   },
   {
    "duration": 8,
    "start_time": "2024-05-15T14:59:25.438Z"
   },
   {
    "duration": 6,
    "start_time": "2024-05-15T15:03:48.542Z"
   },
   {
    "duration": 18,
    "start_time": "2024-05-15T15:04:19.857Z"
   },
   {
    "duration": 1310,
    "start_time": "2024-05-15T15:04:32.464Z"
   },
   {
    "duration": 69,
    "start_time": "2024-05-15T15:04:33.776Z"
   },
   {
    "duration": 22,
    "start_time": "2024-05-15T15:04:33.847Z"
   },
   {
    "duration": 21,
    "start_time": "2024-05-15T15:04:33.871Z"
   },
   {
    "duration": 16,
    "start_time": "2024-05-15T15:04:33.894Z"
   },
   {
    "duration": 11,
    "start_time": "2024-05-15T15:04:33.911Z"
   },
   {
    "duration": 22,
    "start_time": "2024-05-15T15:04:33.924Z"
   },
   {
    "duration": 32,
    "start_time": "2024-05-15T15:04:33.948Z"
   },
   {
    "duration": 14,
    "start_time": "2024-05-15T15:04:33.982Z"
   },
   {
    "duration": 10,
    "start_time": "2024-05-15T15:04:33.999Z"
   },
   {
    "duration": 31,
    "start_time": "2024-05-15T15:04:34.011Z"
   },
   {
    "duration": 27,
    "start_time": "2024-05-15T15:04:34.044Z"
   },
   {
    "duration": 14,
    "start_time": "2024-05-15T15:04:34.072Z"
   },
   {
    "duration": 16,
    "start_time": "2024-05-15T15:04:34.088Z"
   },
   {
    "duration": 253,
    "start_time": "2024-05-15T15:04:34.105Z"
   },
   {
    "duration": 129,
    "start_time": "2024-05-15T15:04:34.360Z"
   },
   {
    "duration": 261,
    "start_time": "2024-05-15T15:04:34.491Z"
   },
   {
    "duration": 15,
    "start_time": "2024-05-15T15:04:34.754Z"
   },
   {
    "duration": 130,
    "start_time": "2024-05-15T15:04:34.771Z"
   },
   {
    "duration": 5,
    "start_time": "2024-05-15T15:04:34.903Z"
   },
   {
    "duration": 17,
    "start_time": "2024-05-15T15:04:34.909Z"
   },
   {
    "duration": 318,
    "start_time": "2024-05-15T15:04:34.928Z"
   },
   {
    "duration": 4,
    "start_time": "2024-05-15T15:04:35.248Z"
   },
   {
    "duration": 32,
    "start_time": "2024-05-15T15:04:35.255Z"
   },
   {
    "duration": 188,
    "start_time": "2024-05-15T15:04:35.288Z"
   },
   {
    "duration": 208,
    "start_time": "2024-05-15T15:04:35.478Z"
   },
   {
    "duration": 2,
    "start_time": "2024-05-15T15:04:35.688Z"
   },
   {
    "duration": 16,
    "start_time": "2024-05-15T15:04:35.694Z"
   },
   {
    "duration": 23,
    "start_time": "2024-05-15T15:04:35.712Z"
   },
   {
    "duration": 61,
    "start_time": "2024-05-15T15:04:35.737Z"
   },
   {
    "duration": 240,
    "start_time": "2024-05-15T15:04:35.800Z"
   },
   {
    "duration": 219,
    "start_time": "2024-05-15T15:04:36.042Z"
   },
   {
    "duration": 17,
    "start_time": "2024-05-15T15:04:36.263Z"
   },
   {
    "duration": 19,
    "start_time": "2024-05-15T15:04:36.282Z"
   },
   {
    "duration": 38,
    "start_time": "2024-05-15T15:04:36.303Z"
   },
   {
    "duration": 9,
    "start_time": "2024-05-15T15:04:36.342Z"
   },
   {
    "duration": 43,
    "start_time": "2024-05-15T15:04:36.353Z"
   },
   {
    "duration": 469,
    "start_time": "2024-05-15T15:04:36.398Z"
   },
   {
    "duration": 442,
    "start_time": "2024-05-15T15:04:36.870Z"
   },
   {
    "duration": 2,
    "start_time": "2024-05-15T15:04:37.314Z"
   },
   {
    "duration": 41,
    "start_time": "2024-05-15T15:04:37.319Z"
   },
   {
    "duration": 3,
    "start_time": "2024-05-15T15:04:37.369Z"
   },
   {
    "duration": 7,
    "start_time": "2024-05-15T15:04:37.373Z"
   },
   {
    "duration": 21,
    "start_time": "2024-05-15T15:04:37.381Z"
   },
   {
    "duration": 34,
    "start_time": "2024-05-15T15:04:37.404Z"
   },
   {
    "duration": 17,
    "start_time": "2024-05-15T15:04:37.440Z"
   },
   {
    "duration": 23,
    "start_time": "2024-05-15T15:04:37.459Z"
   },
   {
    "duration": 33,
    "start_time": "2024-05-15T15:04:37.484Z"
   },
   {
    "duration": 16,
    "start_time": "2024-05-15T15:04:37.519Z"
   },
   {
    "duration": 36,
    "start_time": "2024-05-15T15:04:37.537Z"
   },
   {
    "duration": 1263,
    "start_time": "2024-05-15T15:04:59.702Z"
   },
   {
    "duration": 70,
    "start_time": "2024-05-15T15:05:00.966Z"
   },
   {
    "duration": 92,
    "start_time": "2024-05-15T15:05:01.038Z"
   },
   {
    "duration": 57,
    "start_time": "2024-05-15T15:05:01.133Z"
   },
   {
    "duration": 182,
    "start_time": "2024-05-15T15:05:01.191Z"
   },
   {
    "duration": 408,
    "start_time": "2024-05-15T15:05:01.375Z"
   },
   {
    "duration": 107,
    "start_time": "2024-05-15T15:05:01.784Z"
   },
   {
    "duration": 54,
    "start_time": "2024-05-15T15:05:01.893Z"
   },
   {
    "duration": 82,
    "start_time": "2024-05-15T15:05:01.948Z"
   },
   {
    "duration": 58,
    "start_time": "2024-05-15T15:05:02.032Z"
   },
   {
    "duration": 90,
    "start_time": "2024-05-15T15:05:02.092Z"
   },
   {
    "duration": 71,
    "start_time": "2024-05-15T15:05:02.183Z"
   },
   {
    "duration": 49,
    "start_time": "2024-05-15T15:05:02.256Z"
   },
   {
    "duration": 86,
    "start_time": "2024-05-15T15:05:02.306Z"
   },
   {
    "duration": 324,
    "start_time": "2024-05-15T15:05:02.393Z"
   },
   {
    "duration": 127,
    "start_time": "2024-05-15T15:05:02.719Z"
   },
   {
    "duration": 261,
    "start_time": "2024-05-15T15:05:02.847Z"
   },
   {
    "duration": 7,
    "start_time": "2024-05-15T15:05:03.110Z"
   },
   {
    "duration": 205,
    "start_time": "2024-05-15T15:05:03.119Z"
   },
   {
    "duration": 5,
    "start_time": "2024-05-15T15:05:03.326Z"
   },
   {
    "duration": 77,
    "start_time": "2024-05-15T15:05:03.332Z"
   },
   {
    "duration": 315,
    "start_time": "2024-05-15T15:05:03.411Z"
   },
   {
    "duration": 3,
    "start_time": "2024-05-15T15:05:03.727Z"
   },
   {
    "duration": 27,
    "start_time": "2024-05-15T15:05:03.731Z"
   },
   {
    "duration": 132,
    "start_time": "2024-05-15T15:05:03.760Z"
   },
   {
    "duration": 211,
    "start_time": "2024-05-15T15:05:03.894Z"
   },
   {
    "duration": 2,
    "start_time": "2024-05-15T15:05:04.107Z"
   },
   {
    "duration": 5,
    "start_time": "2024-05-15T15:05:04.114Z"
   },
   {
    "duration": 15,
    "start_time": "2024-05-15T15:05:04.121Z"
   },
   {
    "duration": 46,
    "start_time": "2024-05-15T15:05:04.138Z"
   },
   {
    "duration": 233,
    "start_time": "2024-05-15T15:05:04.185Z"
   },
   {
    "duration": 221,
    "start_time": "2024-05-15T15:05:04.420Z"
   },
   {
    "duration": 18,
    "start_time": "2024-05-15T15:05:04.642Z"
   },
   {
    "duration": 12,
    "start_time": "2024-05-15T15:05:04.661Z"
   },
   {
    "duration": 29,
    "start_time": "2024-05-15T15:05:04.675Z"
   },
   {
    "duration": 5,
    "start_time": "2024-05-15T15:05:04.706Z"
   },
   {
    "duration": 42,
    "start_time": "2024-05-15T15:05:04.712Z"
   },
   {
    "duration": 470,
    "start_time": "2024-05-15T15:05:04.770Z"
   },
   {
    "duration": 483,
    "start_time": "2024-05-15T15:05:05.241Z"
   },
   {
    "duration": 2,
    "start_time": "2024-05-15T15:05:05.727Z"
   },
   {
    "duration": 51,
    "start_time": "2024-05-15T15:05:05.731Z"
   },
   {
    "duration": 12,
    "start_time": "2024-05-15T15:05:05.784Z"
   },
   {
    "duration": 31,
    "start_time": "2024-05-15T15:05:05.797Z"
   },
   {
    "duration": 19,
    "start_time": "2024-05-15T15:05:05.830Z"
   },
   {
    "duration": 36,
    "start_time": "2024-05-15T15:05:05.851Z"
   },
   {
    "duration": 17,
    "start_time": "2024-05-15T15:05:05.889Z"
   },
   {
    "duration": 8,
    "start_time": "2024-05-15T15:05:05.908Z"
   },
   {
    "duration": 28,
    "start_time": "2024-05-15T15:05:05.918Z"
   },
   {
    "duration": 11,
    "start_time": "2024-05-15T15:05:05.948Z"
   },
   {
    "duration": 34,
    "start_time": "2024-05-15T15:05:05.961Z"
   },
   {
    "duration": 1248,
    "start_time": "2024-05-15T15:05:16.839Z"
   },
   {
    "duration": 68,
    "start_time": "2024-05-15T15:05:18.091Z"
   },
   {
    "duration": 21,
    "start_time": "2024-05-15T15:05:18.162Z"
   },
   {
    "duration": 14,
    "start_time": "2024-05-15T15:05:18.185Z"
   },
   {
    "duration": 22,
    "start_time": "2024-05-15T15:05:18.200Z"
   },
   {
    "duration": 24,
    "start_time": "2024-05-15T15:05:18.223Z"
   },
   {
    "duration": 9,
    "start_time": "2024-05-15T15:05:18.249Z"
   },
   {
    "duration": 20,
    "start_time": "2024-05-15T15:05:18.259Z"
   },
   {
    "duration": 21,
    "start_time": "2024-05-15T15:05:18.280Z"
   },
   {
    "duration": 15,
    "start_time": "2024-05-15T15:05:18.304Z"
   },
   {
    "duration": 38,
    "start_time": "2024-05-15T15:05:18.321Z"
   },
   {
    "duration": 8,
    "start_time": "2024-05-15T15:05:18.361Z"
   },
   {
    "duration": 17,
    "start_time": "2024-05-15T15:05:18.370Z"
   },
   {
    "duration": 11,
    "start_time": "2024-05-15T15:05:18.389Z"
   },
   {
    "duration": 214,
    "start_time": "2024-05-15T15:05:18.402Z"
   },
   {
    "duration": 126,
    "start_time": "2024-05-15T15:05:18.618Z"
   },
   {
    "duration": 271,
    "start_time": "2024-05-15T15:05:18.745Z"
   },
   {
    "duration": 7,
    "start_time": "2024-05-15T15:05:19.018Z"
   },
   {
    "duration": 134,
    "start_time": "2024-05-15T15:05:19.026Z"
   },
   {
    "duration": 4,
    "start_time": "2024-05-15T15:05:19.162Z"
   },
   {
    "duration": 20,
    "start_time": "2024-05-15T15:05:19.170Z"
   },
   {
    "duration": 288,
    "start_time": "2024-05-15T15:05:19.192Z"
   },
   {
    "duration": 3,
    "start_time": "2024-05-15T15:05:19.482Z"
   },
   {
    "duration": 13,
    "start_time": "2024-05-15T15:05:19.486Z"
   },
   {
    "duration": 145,
    "start_time": "2024-05-15T15:05:19.501Z"
   },
   {
    "duration": 214,
    "start_time": "2024-05-15T15:05:19.647Z"
   },
   {
    "duration": 7,
    "start_time": "2024-05-15T15:05:19.864Z"
   },
   {
    "duration": 32,
    "start_time": "2024-05-15T15:05:19.876Z"
   },
   {
    "duration": 53,
    "start_time": "2024-05-15T15:05:19.910Z"
   },
   {
    "duration": 64,
    "start_time": "2024-05-15T15:05:19.965Z"
   },
   {
    "duration": 277,
    "start_time": "2024-05-15T15:05:20.031Z"
   },
   {
    "duration": 229,
    "start_time": "2024-05-15T15:05:20.309Z"
   },
   {
    "duration": 17,
    "start_time": "2024-05-15T15:05:20.541Z"
   },
   {
    "duration": 6,
    "start_time": "2024-05-15T15:05:20.571Z"
   },
   {
    "duration": 52,
    "start_time": "2024-05-15T15:05:20.579Z"
   },
   {
    "duration": 5,
    "start_time": "2024-05-15T15:05:20.633Z"
   },
   {
    "duration": 40,
    "start_time": "2024-05-15T15:05:20.639Z"
   },
   {
    "duration": 453,
    "start_time": "2024-05-15T15:05:20.680Z"
   },
   {
    "duration": 460,
    "start_time": "2024-05-15T15:05:21.135Z"
   },
   {
    "duration": 3,
    "start_time": "2024-05-15T15:05:21.597Z"
   },
   {
    "duration": 41,
    "start_time": "2024-05-15T15:05:21.602Z"
   },
   {
    "duration": 3,
    "start_time": "2024-05-15T15:05:21.645Z"
   },
   {
    "duration": 35,
    "start_time": "2024-05-15T15:05:21.650Z"
   },
   {
    "duration": 9,
    "start_time": "2024-05-15T15:05:21.687Z"
   },
   {
    "duration": 25,
    "start_time": "2024-05-15T15:05:21.698Z"
   },
   {
    "duration": 18,
    "start_time": "2024-05-15T15:05:21.725Z"
   },
   {
    "duration": 6,
    "start_time": "2024-05-15T15:05:21.769Z"
   },
   {
    "duration": 10,
    "start_time": "2024-05-15T15:05:21.777Z"
   },
   {
    "duration": 14,
    "start_time": "2024-05-15T15:05:21.788Z"
   },
   {
    "duration": 5,
    "start_time": "2024-05-15T15:05:21.804Z"
   },
   {
    "duration": 1308,
    "start_time": "2024-05-15T15:05:47.837Z"
   },
   {
    "duration": 69,
    "start_time": "2024-05-15T15:05:49.147Z"
   },
   {
    "duration": 21,
    "start_time": "2024-05-15T15:05:49.217Z"
   },
   {
    "duration": 12,
    "start_time": "2024-05-15T15:05:49.241Z"
   },
   {
    "duration": 25,
    "start_time": "2024-05-15T15:05:49.254Z"
   },
   {
    "duration": 32,
    "start_time": "2024-05-15T15:05:49.280Z"
   },
   {
    "duration": 11,
    "start_time": "2024-05-15T15:05:49.313Z"
   },
   {
    "duration": 26,
    "start_time": "2024-05-15T15:05:49.326Z"
   },
   {
    "duration": 13,
    "start_time": "2024-05-15T15:05:49.354Z"
   },
   {
    "duration": 10,
    "start_time": "2024-05-15T15:05:49.370Z"
   },
   {
    "duration": 22,
    "start_time": "2024-05-15T15:05:49.381Z"
   },
   {
    "duration": 9,
    "start_time": "2024-05-15T15:05:49.405Z"
   },
   {
    "duration": 18,
    "start_time": "2024-05-15T15:05:49.415Z"
   },
   {
    "duration": 8,
    "start_time": "2024-05-15T15:05:49.435Z"
   },
   {
    "duration": 245,
    "start_time": "2024-05-15T15:05:49.445Z"
   },
   {
    "duration": 121,
    "start_time": "2024-05-15T15:05:49.692Z"
   },
   {
    "duration": 281,
    "start_time": "2024-05-15T15:05:49.815Z"
   },
   {
    "duration": 8,
    "start_time": "2024-05-15T15:05:50.097Z"
   },
   {
    "duration": 166,
    "start_time": "2024-05-15T15:05:50.106Z"
   },
   {
    "duration": 5,
    "start_time": "2024-05-15T15:05:50.274Z"
   },
   {
    "duration": 31,
    "start_time": "2024-05-15T15:05:50.280Z"
   },
   {
    "duration": 343,
    "start_time": "2024-05-15T15:05:50.313Z"
   },
   {
    "duration": 3,
    "start_time": "2024-05-15T15:05:50.658Z"
   },
   {
    "duration": 16,
    "start_time": "2024-05-15T15:05:50.663Z"
   },
   {
    "duration": 147,
    "start_time": "2024-05-15T15:05:50.681Z"
   },
   {
    "duration": 215,
    "start_time": "2024-05-15T15:05:50.830Z"
   },
   {
    "duration": 2,
    "start_time": "2024-05-15T15:05:51.047Z"
   },
   {
    "duration": 5,
    "start_time": "2024-05-15T15:05:51.053Z"
   },
   {
    "duration": 9,
    "start_time": "2024-05-15T15:05:51.060Z"
   },
   {
    "duration": 27,
    "start_time": "2024-05-15T15:05:51.071Z"
   },
   {
    "duration": 206,
    "start_time": "2024-05-15T15:05:51.099Z"
   },
   {
    "duration": 212,
    "start_time": "2024-05-15T15:05:51.307Z"
   },
   {
    "duration": 17,
    "start_time": "2024-05-15T15:05:51.521Z"
   },
   {
    "duration": 21,
    "start_time": "2024-05-15T15:05:51.539Z"
   },
   {
    "duration": 27,
    "start_time": "2024-05-15T15:05:51.562Z"
   },
   {
    "duration": 13,
    "start_time": "2024-05-15T15:05:51.590Z"
   },
   {
    "duration": 59,
    "start_time": "2024-05-15T15:05:51.605Z"
   },
   {
    "duration": 444,
    "start_time": "2024-05-15T15:05:51.665Z"
   },
   {
    "duration": 436,
    "start_time": "2024-05-15T15:05:52.110Z"
   },
   {
    "duration": 3,
    "start_time": "2024-05-15T15:05:52.548Z"
   },
   {
    "duration": 41,
    "start_time": "2024-05-15T15:05:52.553Z"
   },
   {
    "duration": 2,
    "start_time": "2024-05-15T15:05:52.595Z"
   },
   {
    "duration": 20,
    "start_time": "2024-05-15T15:05:52.599Z"
   },
   {
    "duration": 10,
    "start_time": "2024-05-15T15:05:52.621Z"
   },
   {
    "duration": 17,
    "start_time": "2024-05-15T15:05:52.633Z"
   },
   {
    "duration": 24,
    "start_time": "2024-05-15T15:05:52.652Z"
   },
   {
    "duration": 6,
    "start_time": "2024-05-15T15:05:52.678Z"
   },
   {
    "duration": 31,
    "start_time": "2024-05-15T15:05:52.685Z"
   },
   {
    "duration": 22,
    "start_time": "2024-05-15T15:05:52.717Z"
   },
   {
    "duration": 12,
    "start_time": "2024-05-15T15:05:52.741Z"
   },
   {
    "duration": 10,
    "start_time": "2024-05-15T15:21:47.396Z"
   },
   {
    "duration": 6,
    "start_time": "2024-05-15T15:26:00.709Z"
   },
   {
    "duration": 7,
    "start_time": "2024-05-15T15:30:38.031Z"
   },
   {
    "duration": 5,
    "start_time": "2024-05-15T15:32:32.660Z"
   },
   {
    "duration": 8,
    "start_time": "2024-05-15T15:36:21.791Z"
   },
   {
    "duration": 5,
    "start_time": "2024-05-15T15:37:16.545Z"
   },
   {
    "duration": 10,
    "start_time": "2024-05-15T15:39:11.115Z"
   },
   {
    "duration": 1398,
    "start_time": "2024-05-15T15:57:56.967Z"
   },
   {
    "duration": 72,
    "start_time": "2024-05-15T15:57:58.367Z"
   },
   {
    "duration": 22,
    "start_time": "2024-05-15T15:57:58.441Z"
   },
   {
    "duration": 21,
    "start_time": "2024-05-15T15:57:58.465Z"
   },
   {
    "duration": 21,
    "start_time": "2024-05-15T15:57:58.487Z"
   },
   {
    "duration": 19,
    "start_time": "2024-05-15T15:57:58.509Z"
   },
   {
    "duration": 9,
    "start_time": "2024-05-15T15:57:58.530Z"
   },
   {
    "duration": 49,
    "start_time": "2024-05-15T15:57:58.541Z"
   },
   {
    "duration": 14,
    "start_time": "2024-05-15T15:57:58.592Z"
   },
   {
    "duration": 9,
    "start_time": "2024-05-15T15:57:58.609Z"
   },
   {
    "duration": 26,
    "start_time": "2024-05-15T15:57:58.619Z"
   },
   {
    "duration": 29,
    "start_time": "2024-05-15T15:57:58.646Z"
   },
   {
    "duration": 12,
    "start_time": "2024-05-15T15:57:58.677Z"
   },
   {
    "duration": 19,
    "start_time": "2024-05-15T15:57:58.691Z"
   },
   {
    "duration": 249,
    "start_time": "2024-05-15T15:57:58.711Z"
   },
   {
    "duration": 141,
    "start_time": "2024-05-15T15:57:58.962Z"
   },
   {
    "duration": 288,
    "start_time": "2024-05-15T15:57:59.105Z"
   },
   {
    "duration": 8,
    "start_time": "2024-05-15T15:57:59.395Z"
   },
   {
    "duration": 139,
    "start_time": "2024-05-15T15:57:59.404Z"
   },
   {
    "duration": 5,
    "start_time": "2024-05-15T15:57:59.544Z"
   },
   {
    "duration": 29,
    "start_time": "2024-05-15T15:57:59.550Z"
   },
   {
    "duration": 315,
    "start_time": "2024-05-15T15:57:59.582Z"
   },
   {
    "duration": 4,
    "start_time": "2024-05-15T15:57:59.899Z"
   },
   {
    "duration": 22,
    "start_time": "2024-05-15T15:57:59.905Z"
   },
   {
    "duration": 180,
    "start_time": "2024-05-15T15:57:59.929Z"
   },
   {
    "duration": 236,
    "start_time": "2024-05-15T15:58:00.111Z"
   },
   {
    "duration": 14,
    "start_time": "2024-05-15T15:58:00.349Z"
   },
   {
    "duration": 109,
    "start_time": "2024-05-15T15:58:00.367Z"
   },
   {
    "duration": 68,
    "start_time": "2024-05-15T15:58:00.478Z"
   },
   {
    "duration": 78,
    "start_time": "2024-05-15T15:58:00.547Z"
   },
   {
    "duration": 262,
    "start_time": "2024-05-15T15:58:00.627Z"
   },
   {
    "duration": 223,
    "start_time": "2024-05-15T15:58:00.891Z"
   },
   {
    "duration": 18,
    "start_time": "2024-05-15T15:58:01.115Z"
   },
   {
    "duration": 33,
    "start_time": "2024-05-15T15:58:01.135Z"
   },
   {
    "duration": 57,
    "start_time": "2024-05-15T15:58:01.170Z"
   },
   {
    "duration": 24,
    "start_time": "2024-05-15T15:58:01.229Z"
   },
   {
    "duration": 90,
    "start_time": "2024-05-15T15:58:01.254Z"
   },
   {
    "duration": 525,
    "start_time": "2024-05-15T15:58:01.346Z"
   },
   {
    "duration": 500,
    "start_time": "2024-05-15T15:58:01.874Z"
   },
   {
    "duration": 4,
    "start_time": "2024-05-15T15:58:02.376Z"
   },
   {
    "duration": 66,
    "start_time": "2024-05-15T15:58:02.382Z"
   },
   {
    "duration": 13,
    "start_time": "2024-05-15T15:58:02.449Z"
   },
   {
    "duration": 35,
    "start_time": "2024-05-15T15:58:02.464Z"
   },
   {
    "duration": 40,
    "start_time": "2024-05-15T15:58:02.501Z"
   },
   {
    "duration": 51,
    "start_time": "2024-05-15T15:58:02.543Z"
   },
   {
    "duration": 7,
    "start_time": "2024-05-15T15:58:02.596Z"
   },
   {
    "duration": 34,
    "start_time": "2024-05-15T15:58:02.606Z"
   },
   {
    "duration": 50,
    "start_time": "2024-05-15T15:58:02.642Z"
   },
   {
    "duration": 20,
    "start_time": "2024-05-15T15:58:02.694Z"
   },
   {
    "duration": 4,
    "start_time": "2024-05-15T16:04:10.369Z"
   },
   {
    "duration": 7,
    "start_time": "2024-05-15T16:04:26.834Z"
   },
   {
    "duration": 248,
    "start_time": "2024-05-15T16:07:47.328Z"
   },
   {
    "duration": 250,
    "start_time": "2024-05-15T16:07:59.413Z"
   },
   {
    "duration": 831,
    "start_time": "2024-05-15T16:12:45.776Z"
   },
   {
    "duration": 306,
    "start_time": "2024-05-15T16:13:08.420Z"
   },
   {
    "duration": 8,
    "start_time": "2024-05-15T16:13:16.981Z"
   },
   {
    "duration": 305,
    "start_time": "2024-05-15T16:13:38.053Z"
   },
   {
    "duration": 109,
    "start_time": "2024-05-15T16:14:46.500Z"
   },
   {
    "duration": 63,
    "start_time": "2024-05-15T16:15:39.626Z"
   },
   {
    "duration": 65,
    "start_time": "2024-05-15T16:16:01.581Z"
   },
   {
    "duration": 280,
    "start_time": "2024-05-15T16:16:36.481Z"
   },
   {
    "duration": 258,
    "start_time": "2024-05-15T16:16:59.512Z"
   },
   {
    "duration": 71,
    "start_time": "2024-05-15T16:17:50.756Z"
   },
   {
    "duration": 304,
    "start_time": "2024-05-15T16:18:06.271Z"
   },
   {
    "duration": 298,
    "start_time": "2024-05-15T16:19:38.320Z"
   },
   {
    "duration": 277,
    "start_time": "2024-05-15T16:20:38.133Z"
   },
   {
    "duration": 254,
    "start_time": "2024-05-15T16:30:27.149Z"
   },
   {
    "duration": 252,
    "start_time": "2024-05-15T16:32:04.481Z"
   },
   {
    "duration": 1216,
    "start_time": "2024-05-15T16:40:24.020Z"
   },
   {
    "duration": 69,
    "start_time": "2024-05-15T16:40:25.238Z"
   },
   {
    "duration": 20,
    "start_time": "2024-05-15T16:40:25.308Z"
   },
   {
    "duration": 12,
    "start_time": "2024-05-15T16:40:25.330Z"
   },
   {
    "duration": 14,
    "start_time": "2024-05-15T16:40:25.344Z"
   },
   {
    "duration": 14,
    "start_time": "2024-05-15T16:40:25.360Z"
   },
   {
    "duration": 13,
    "start_time": "2024-05-15T16:40:25.375Z"
   },
   {
    "duration": 13,
    "start_time": "2024-05-15T16:40:25.389Z"
   },
   {
    "duration": 19,
    "start_time": "2024-05-15T16:40:25.404Z"
   },
   {
    "duration": 11,
    "start_time": "2024-05-15T16:40:25.425Z"
   },
   {
    "duration": 42,
    "start_time": "2024-05-15T16:40:25.438Z"
   },
   {
    "duration": 8,
    "start_time": "2024-05-15T16:40:25.482Z"
   },
   {
    "duration": 11,
    "start_time": "2024-05-15T16:40:25.491Z"
   },
   {
    "duration": 8,
    "start_time": "2024-05-15T16:40:25.503Z"
   },
   {
    "duration": 237,
    "start_time": "2024-05-15T16:40:25.512Z"
   },
   {
    "duration": 141,
    "start_time": "2024-05-15T16:40:25.750Z"
   },
   {
    "duration": 270,
    "start_time": "2024-05-15T16:40:25.894Z"
   },
   {
    "duration": 277,
    "start_time": "2024-05-15T16:40:26.166Z"
   },
   {
    "duration": 7,
    "start_time": "2024-05-15T16:40:26.445Z"
   },
   {
    "duration": 124,
    "start_time": "2024-05-15T16:40:26.454Z"
   },
   {
    "duration": 4,
    "start_time": "2024-05-15T16:40:26.580Z"
   },
   {
    "duration": 13,
    "start_time": "2024-05-15T16:40:26.585Z"
   },
   {
    "duration": 310,
    "start_time": "2024-05-15T16:40:26.599Z"
   },
   {
    "duration": 3,
    "start_time": "2024-05-15T16:40:26.911Z"
   },
   {
    "duration": 13,
    "start_time": "2024-05-15T16:40:26.915Z"
   },
   {
    "duration": 153,
    "start_time": "2024-05-15T16:40:26.929Z"
   },
   {
    "duration": 290,
    "start_time": "2024-05-15T16:40:27.083Z"
   },
   {
    "duration": 2,
    "start_time": "2024-05-15T16:40:27.378Z"
   },
   {
    "duration": 6,
    "start_time": "2024-05-15T16:40:27.382Z"
   },
   {
    "duration": 11,
    "start_time": "2024-05-15T16:40:27.389Z"
   },
   {
    "duration": 14,
    "start_time": "2024-05-15T16:40:27.402Z"
   },
   {
    "duration": 146,
    "start_time": "2024-05-15T16:40:27.417Z"
   },
   {
    "duration": 220,
    "start_time": "2024-05-15T16:40:27.569Z"
   },
   {
    "duration": 16,
    "start_time": "2024-05-15T16:40:27.791Z"
   },
   {
    "duration": 5,
    "start_time": "2024-05-15T16:40:27.809Z"
   },
   {
    "duration": 37,
    "start_time": "2024-05-15T16:40:27.816Z"
   },
   {
    "duration": 14,
    "start_time": "2024-05-15T16:40:27.855Z"
   },
   {
    "duration": 28,
    "start_time": "2024-05-15T16:40:27.871Z"
   },
   {
    "duration": 465,
    "start_time": "2024-05-15T16:40:27.901Z"
   },
   {
    "duration": 460,
    "start_time": "2024-05-15T16:40:28.369Z"
   },
   {
    "duration": 3,
    "start_time": "2024-05-15T16:40:28.831Z"
   },
   {
    "duration": 44,
    "start_time": "2024-05-15T16:40:28.835Z"
   },
   {
    "duration": 3,
    "start_time": "2024-05-15T16:40:28.880Z"
   },
   {
    "duration": 14,
    "start_time": "2024-05-15T16:40:28.884Z"
   },
   {
    "duration": 10,
    "start_time": "2024-05-15T16:40:28.900Z"
   },
   {
    "duration": 16,
    "start_time": "2024-05-15T16:40:28.912Z"
   },
   {
    "duration": 5,
    "start_time": "2024-05-15T16:40:28.930Z"
   },
   {
    "duration": 17,
    "start_time": "2024-05-15T16:40:28.937Z"
   },
   {
    "duration": 18,
    "start_time": "2024-05-15T16:40:28.956Z"
   },
   {
    "duration": 25,
    "start_time": "2024-05-15T16:40:28.976Z"
   },
   {
    "duration": 1254,
    "start_time": "2024-05-15T17:19:06.326Z"
   },
   {
    "duration": 65,
    "start_time": "2024-05-15T17:19:07.582Z"
   },
   {
    "duration": 22,
    "start_time": "2024-05-15T17:19:07.649Z"
   },
   {
    "duration": 12,
    "start_time": "2024-05-15T17:19:07.674Z"
   },
   {
    "duration": 27,
    "start_time": "2024-05-15T17:19:07.687Z"
   },
   {
    "duration": 12,
    "start_time": "2024-05-15T17:19:07.715Z"
   },
   {
    "duration": 7,
    "start_time": "2024-05-15T17:19:07.728Z"
   },
   {
    "duration": 18,
    "start_time": "2024-05-15T17:19:07.736Z"
   },
   {
    "duration": 28,
    "start_time": "2024-05-15T17:19:07.756Z"
   },
   {
    "duration": 8,
    "start_time": "2024-05-15T17:19:07.786Z"
   },
   {
    "duration": 20,
    "start_time": "2024-05-15T17:19:07.796Z"
   },
   {
    "duration": 8,
    "start_time": "2024-05-15T17:19:07.817Z"
   },
   {
    "duration": 12,
    "start_time": "2024-05-15T17:19:07.826Z"
   },
   {
    "duration": 35,
    "start_time": "2024-05-15T17:19:07.840Z"
   },
   {
    "duration": 223,
    "start_time": "2024-05-15T17:19:07.877Z"
   },
   {
    "duration": 127,
    "start_time": "2024-05-15T17:19:08.102Z"
   },
   {
    "duration": 268,
    "start_time": "2024-05-15T17:19:08.230Z"
   },
   {
    "duration": 278,
    "start_time": "2024-05-15T17:19:08.501Z"
   },
   {
    "duration": 9,
    "start_time": "2024-05-15T17:19:08.781Z"
   },
   {
    "duration": 133,
    "start_time": "2024-05-15T17:19:08.792Z"
   },
   {
    "duration": 5,
    "start_time": "2024-05-15T17:19:08.927Z"
   },
   {
    "duration": 23,
    "start_time": "2024-05-15T17:19:08.933Z"
   },
   {
    "duration": 310,
    "start_time": "2024-05-15T17:19:08.957Z"
   },
   {
    "duration": 3,
    "start_time": "2024-05-15T17:19:09.269Z"
   },
   {
    "duration": 13,
    "start_time": "2024-05-15T17:19:09.274Z"
   },
   {
    "duration": 155,
    "start_time": "2024-05-15T17:19:09.288Z"
   },
   {
    "duration": 288,
    "start_time": "2024-05-15T17:19:09.445Z"
   },
   {
    "duration": 2,
    "start_time": "2024-05-15T17:19:09.737Z"
   },
   {
    "duration": 11,
    "start_time": "2024-05-15T17:19:09.740Z"
   },
   {
    "duration": 6,
    "start_time": "2024-05-15T17:19:09.753Z"
   },
   {
    "duration": 22,
    "start_time": "2024-05-15T17:19:09.761Z"
   },
   {
    "duration": 166,
    "start_time": "2024-05-15T17:19:09.785Z"
   },
   {
    "duration": 229,
    "start_time": "2024-05-15T17:19:09.954Z"
   },
   {
    "duration": 16,
    "start_time": "2024-05-15T17:19:10.185Z"
   },
   {
    "duration": 10,
    "start_time": "2024-05-15T17:19:10.203Z"
   },
   {
    "duration": 26,
    "start_time": "2024-05-15T17:19:10.215Z"
   },
   {
    "duration": 6,
    "start_time": "2024-05-15T17:19:10.242Z"
   },
   {
    "duration": 29,
    "start_time": "2024-05-15T17:19:10.270Z"
   },
   {
    "duration": 485,
    "start_time": "2024-05-15T17:19:10.301Z"
   },
   {
    "duration": 445,
    "start_time": "2024-05-15T17:19:10.788Z"
   },
   {
    "duration": 3,
    "start_time": "2024-05-15T17:19:11.234Z"
   },
   {
    "duration": 54,
    "start_time": "2024-05-15T17:19:11.239Z"
   },
   {
    "duration": 2,
    "start_time": "2024-05-15T17:19:11.294Z"
   },
   {
    "duration": 18,
    "start_time": "2024-05-15T17:19:11.298Z"
   },
   {
    "duration": 17,
    "start_time": "2024-05-15T17:19:11.318Z"
   },
   {
    "duration": 16,
    "start_time": "2024-05-15T17:19:11.337Z"
   },
   {
    "duration": 5,
    "start_time": "2024-05-15T17:19:11.355Z"
   },
   {
    "duration": 7,
    "start_time": "2024-05-15T17:19:11.362Z"
   },
   {
    "duration": 11,
    "start_time": "2024-05-15T17:19:11.371Z"
   },
   {
    "duration": 9,
    "start_time": "2024-05-15T17:19:11.384Z"
   },
   {
    "duration": 6,
    "start_time": "2024-05-15T17:27:39.341Z"
   },
   {
    "duration": 42,
    "start_time": "2024-05-16T11:37:27.725Z"
   },
   {
    "duration": 1273,
    "start_time": "2024-05-16T11:37:48.902Z"
   },
   {
    "duration": 303,
    "start_time": "2024-05-16T11:37:50.176Z"
   },
   {
    "duration": 17,
    "start_time": "2024-05-16T11:37:50.481Z"
   },
   {
    "duration": 10,
    "start_time": "2024-05-16T11:37:50.500Z"
   },
   {
    "duration": 38,
    "start_time": "2024-05-16T11:37:50.511Z"
   },
   {
    "duration": 8,
    "start_time": "2024-05-16T11:37:50.551Z"
   },
   {
    "duration": 7,
    "start_time": "2024-05-16T11:37:50.561Z"
   },
   {
    "duration": 22,
    "start_time": "2024-05-16T11:37:50.569Z"
   },
   {
    "duration": 10,
    "start_time": "2024-05-16T11:37:50.593Z"
   },
   {
    "duration": 7,
    "start_time": "2024-05-16T11:37:50.606Z"
   },
   {
    "duration": 15,
    "start_time": "2024-05-16T11:37:50.615Z"
   },
   {
    "duration": 7,
    "start_time": "2024-05-16T11:37:50.632Z"
   },
   {
    "duration": 10,
    "start_time": "2024-05-16T11:37:50.641Z"
   },
   {
    "duration": 37,
    "start_time": "2024-05-16T11:37:50.652Z"
   },
   {
    "duration": 180,
    "start_time": "2024-05-16T11:37:50.690Z"
   },
   {
    "duration": 105,
    "start_time": "2024-05-16T11:37:50.871Z"
   },
   {
    "duration": 212,
    "start_time": "2024-05-16T11:37:50.977Z"
   },
   {
    "duration": 219,
    "start_time": "2024-05-16T11:37:51.190Z"
   },
   {
    "duration": 6,
    "start_time": "2024-05-16T11:37:51.411Z"
   },
   {
    "duration": 108,
    "start_time": "2024-05-16T11:37:51.418Z"
   },
   {
    "duration": 3,
    "start_time": "2024-05-16T11:37:51.528Z"
   },
   {
    "duration": 16,
    "start_time": "2024-05-16T11:37:51.532Z"
   },
   {
    "duration": 241,
    "start_time": "2024-05-16T11:37:51.550Z"
   },
   {
    "duration": 3,
    "start_time": "2024-05-16T11:37:51.793Z"
   },
   {
    "duration": 48,
    "start_time": "2024-05-16T11:37:51.797Z"
   },
   {
    "duration": 143,
    "start_time": "2024-05-16T11:37:51.847Z"
   },
   {
    "duration": 249,
    "start_time": "2024-05-16T11:37:51.991Z"
   },
   {
    "duration": 2,
    "start_time": "2024-05-16T11:37:52.243Z"
   },
   {
    "duration": 11,
    "start_time": "2024-05-16T11:37:52.246Z"
   },
   {
    "duration": 6,
    "start_time": "2024-05-16T11:37:52.258Z"
   },
   {
    "duration": 23,
    "start_time": "2024-05-16T11:37:52.265Z"
   },
   {
    "duration": 131,
    "start_time": "2024-05-16T11:37:52.289Z"
   },
   {
    "duration": 165,
    "start_time": "2024-05-16T11:37:52.421Z"
   },
   {
    "duration": 13,
    "start_time": "2024-05-16T11:37:52.588Z"
   },
   {
    "duration": 4,
    "start_time": "2024-05-16T11:37:52.603Z"
   },
   {
    "duration": 25,
    "start_time": "2024-05-16T11:37:52.608Z"
   },
   {
    "duration": 4,
    "start_time": "2024-05-16T11:37:52.634Z"
   },
   {
    "duration": 48,
    "start_time": "2024-05-16T11:37:52.639Z"
   },
   {
    "duration": 375,
    "start_time": "2024-05-16T11:37:52.689Z"
   },
   {
    "duration": 365,
    "start_time": "2024-05-16T11:37:53.065Z"
   },
   {
    "duration": 2,
    "start_time": "2024-05-16T11:37:53.432Z"
   },
   {
    "duration": 67,
    "start_time": "2024-05-16T11:37:53.435Z"
   },
   {
    "duration": 1,
    "start_time": "2024-05-16T11:37:53.504Z"
   },
   {
    "duration": 8,
    "start_time": "2024-05-16T11:37:53.507Z"
   },
   {
    "duration": 8,
    "start_time": "2024-05-16T11:37:53.516Z"
   },
   {
    "duration": 14,
    "start_time": "2024-05-16T11:37:53.525Z"
   },
   {
    "duration": 4,
    "start_time": "2024-05-16T11:37:53.540Z"
   },
   {
    "duration": 10,
    "start_time": "2024-05-16T11:37:53.546Z"
   },
   {
    "duration": 17,
    "start_time": "2024-05-16T11:37:53.557Z"
   },
   {
    "duration": 2,
    "start_time": "2024-05-16T11:37:53.584Z"
   },
   {
    "duration": 1085,
    "start_time": "2024-05-16T11:39:36.550Z"
   },
   {
    "duration": 65,
    "start_time": "2024-05-16T11:39:37.637Z"
   },
   {
    "duration": 17,
    "start_time": "2024-05-16T11:39:37.705Z"
   },
   {
    "duration": 11,
    "start_time": "2024-05-16T11:39:37.723Z"
   },
   {
    "duration": 17,
    "start_time": "2024-05-16T11:39:37.735Z"
   },
   {
    "duration": 10,
    "start_time": "2024-05-16T11:39:37.753Z"
   },
   {
    "duration": 20,
    "start_time": "2024-05-16T11:39:37.764Z"
   },
   {
    "duration": 10,
    "start_time": "2024-05-16T11:39:37.786Z"
   },
   {
    "duration": 11,
    "start_time": "2024-05-16T11:39:37.798Z"
   },
   {
    "duration": 6,
    "start_time": "2024-05-16T11:39:37.811Z"
   },
   {
    "duration": 20,
    "start_time": "2024-05-16T11:39:37.819Z"
   },
   {
    "duration": 7,
    "start_time": "2024-05-16T11:39:37.840Z"
   },
   {
    "duration": 14,
    "start_time": "2024-05-16T11:39:37.848Z"
   },
   {
    "duration": 27,
    "start_time": "2024-05-16T11:39:37.863Z"
   },
   {
    "duration": 178,
    "start_time": "2024-05-16T11:39:37.891Z"
   },
   {
    "duration": 101,
    "start_time": "2024-05-16T11:39:38.070Z"
   },
   {
    "duration": 221,
    "start_time": "2024-05-16T11:39:38.172Z"
   },
   {
    "duration": 212,
    "start_time": "2024-05-16T11:39:38.394Z"
   },
   {
    "duration": 7,
    "start_time": "2024-05-16T11:39:38.607Z"
   },
   {
    "duration": 107,
    "start_time": "2024-05-16T11:39:38.615Z"
   },
   {
    "duration": 4,
    "start_time": "2024-05-16T11:39:38.724Z"
   },
   {
    "duration": 10,
    "start_time": "2024-05-16T11:39:38.729Z"
   },
   {
    "duration": 251,
    "start_time": "2024-05-16T11:39:38.741Z"
   },
   {
    "duration": 3,
    "start_time": "2024-05-16T11:39:38.993Z"
   },
   {
    "duration": 69,
    "start_time": "2024-05-16T11:39:38.998Z"
   },
   {
    "duration": 118,
    "start_time": "2024-05-16T11:39:39.069Z"
   },
   {
    "duration": 235,
    "start_time": "2024-05-16T11:39:39.191Z"
   },
   {
    "duration": 2,
    "start_time": "2024-05-16T11:39:39.427Z"
   },
   {
    "duration": 6,
    "start_time": "2024-05-16T11:39:39.430Z"
   },
   {
    "duration": 47,
    "start_time": "2024-05-16T11:39:39.437Z"
   },
   {
    "duration": 13,
    "start_time": "2024-05-16T11:39:39.486Z"
   },
   {
    "duration": 226,
    "start_time": "2024-05-16T11:39:39.500Z"
   },
   {
    "duration": 374,
    "start_time": "2024-05-16T11:39:39.728Z"
   },
   {
    "duration": 13,
    "start_time": "2024-05-16T11:39:40.103Z"
   },
   {
    "duration": 4,
    "start_time": "2024-05-16T11:39:40.118Z"
   },
   {
    "duration": 75,
    "start_time": "2024-05-16T11:39:40.123Z"
   },
   {
    "duration": 4,
    "start_time": "2024-05-16T11:39:40.199Z"
   },
   {
    "duration": 89,
    "start_time": "2024-05-16T11:39:40.204Z"
   },
   {
    "duration": 535,
    "start_time": "2024-05-16T11:39:40.295Z"
   },
   {
    "duration": 377,
    "start_time": "2024-05-16T11:39:40.831Z"
   },
   {
    "duration": 2,
    "start_time": "2024-05-16T11:39:41.210Z"
   },
   {
    "duration": 38,
    "start_time": "2024-05-16T11:39:41.214Z"
   },
   {
    "duration": 2,
    "start_time": "2024-05-16T11:39:41.254Z"
   },
   {
    "duration": 5,
    "start_time": "2024-05-16T11:39:41.257Z"
   },
   {
    "duration": 7,
    "start_time": "2024-05-16T11:39:41.263Z"
   },
   {
    "duration": 25,
    "start_time": "2024-05-16T11:39:41.271Z"
   },
   {
    "duration": 5,
    "start_time": "2024-05-16T11:39:41.297Z"
   },
   {
    "duration": 8,
    "start_time": "2024-05-16T11:39:41.303Z"
   },
   {
    "duration": 18,
    "start_time": "2024-05-16T11:39:41.312Z"
   },
   {
    "duration": 4,
    "start_time": "2024-05-16T11:39:41.331Z"
   },
   {
    "duration": 1037,
    "start_time": "2024-05-16T11:42:58.850Z"
   },
   {
    "duration": 65,
    "start_time": "2024-05-16T11:42:59.888Z"
   },
   {
    "duration": 19,
    "start_time": "2024-05-16T11:42:59.956Z"
   },
   {
    "duration": 10,
    "start_time": "2024-05-16T11:42:59.976Z"
   },
   {
    "duration": 11,
    "start_time": "2024-05-16T11:42:59.987Z"
   },
   {
    "duration": 9,
    "start_time": "2024-05-16T11:42:59.999Z"
   },
   {
    "duration": 72,
    "start_time": "2024-05-16T11:43:00.009Z"
   },
   {
    "duration": 59,
    "start_time": "2024-05-16T11:43:00.082Z"
   },
   {
    "duration": 47,
    "start_time": "2024-05-16T11:43:00.143Z"
   },
   {
    "duration": 30,
    "start_time": "2024-05-16T11:43:00.191Z"
   },
   {
    "duration": 93,
    "start_time": "2024-05-16T11:43:00.222Z"
   },
   {
    "duration": 183,
    "start_time": "2024-05-16T11:43:00.316Z"
   },
   {
    "duration": 63,
    "start_time": "2024-05-16T11:43:00.500Z"
   },
   {
    "duration": 52,
    "start_time": "2024-05-16T11:43:00.564Z"
   },
   {
    "duration": 251,
    "start_time": "2024-05-16T11:43:00.617Z"
   },
   {
    "duration": 99,
    "start_time": "2024-05-16T11:43:00.869Z"
   },
   {
    "duration": 217,
    "start_time": "2024-05-16T11:43:00.969Z"
   },
   {
    "duration": 223,
    "start_time": "2024-05-16T11:43:01.188Z"
   },
   {
    "duration": 6,
    "start_time": "2024-05-16T11:43:01.413Z"
   },
   {
    "duration": 209,
    "start_time": "2024-05-16T11:43:01.421Z"
   },
   {
    "duration": 19,
    "start_time": "2024-05-16T11:43:01.632Z"
   },
   {
    "duration": 44,
    "start_time": "2024-05-16T11:43:01.652Z"
   },
   {
    "duration": 333,
    "start_time": "2024-05-16T11:43:01.697Z"
   },
   {
    "duration": 2,
    "start_time": "2024-05-16T11:43:02.032Z"
   },
   {
    "duration": 14,
    "start_time": "2024-05-16T11:43:02.035Z"
   },
   {
    "duration": 124,
    "start_time": "2024-05-16T11:43:02.050Z"
   },
   {
    "duration": 233,
    "start_time": "2024-05-16T11:43:02.184Z"
   },
   {
    "duration": 3,
    "start_time": "2024-05-16T11:43:02.418Z"
   },
   {
    "duration": 16,
    "start_time": "2024-05-16T11:43:02.422Z"
   },
   {
    "duration": 9,
    "start_time": "2024-05-16T11:43:02.439Z"
   },
   {
    "duration": 12,
    "start_time": "2024-05-16T11:43:02.449Z"
   },
   {
    "duration": 228,
    "start_time": "2024-05-16T11:43:02.462Z"
   },
   {
    "duration": 313,
    "start_time": "2024-05-16T11:43:02.692Z"
   },
   {
    "duration": 14,
    "start_time": "2024-05-16T11:43:03.006Z"
   },
   {
    "duration": 65,
    "start_time": "2024-05-16T11:43:03.022Z"
   },
   {
    "duration": 21,
    "start_time": "2024-05-16T11:43:03.088Z"
   },
   {
    "duration": 4,
    "start_time": "2024-05-16T11:43:03.110Z"
   },
   {
    "duration": 94,
    "start_time": "2024-05-16T11:43:03.115Z"
   },
   {
    "duration": 596,
    "start_time": "2024-05-16T11:43:03.211Z"
   },
   {
    "duration": 345,
    "start_time": "2024-05-16T11:43:03.808Z"
   },
   {
    "duration": 2,
    "start_time": "2024-05-16T11:43:04.155Z"
   },
   {
    "duration": 14,
    "start_time": "2024-05-16T11:43:04.158Z"
   },
   {
    "duration": 29,
    "start_time": "2024-05-16T11:43:04.173Z"
   },
   {
    "duration": 2,
    "start_time": "2024-05-16T11:43:04.203Z"
   },
   {
    "duration": 8,
    "start_time": "2024-05-16T11:43:04.206Z"
   },
   {
    "duration": 8,
    "start_time": "2024-05-16T11:43:04.215Z"
   },
   {
    "duration": 13,
    "start_time": "2024-05-16T11:43:04.224Z"
   },
   {
    "duration": 6,
    "start_time": "2024-05-16T11:43:04.238Z"
   },
   {
    "duration": 8,
    "start_time": "2024-05-16T11:43:04.245Z"
   },
   {
    "duration": 31,
    "start_time": "2024-05-16T11:43:04.254Z"
   },
   {
    "duration": 2,
    "start_time": "2024-05-16T11:43:04.286Z"
   },
   {
    "duration": 363,
    "start_time": "2024-05-16T11:43:45.802Z"
   },
   {
    "duration": 1114,
    "start_time": "2024-05-16T11:54:51.866Z"
   },
   {
    "duration": 64,
    "start_time": "2024-05-16T11:54:52.983Z"
   },
   {
    "duration": 17,
    "start_time": "2024-05-16T11:54:53.049Z"
   },
   {
    "duration": 9,
    "start_time": "2024-05-16T11:54:53.068Z"
   },
   {
    "duration": 25,
    "start_time": "2024-05-16T11:54:53.080Z"
   },
   {
    "duration": 41,
    "start_time": "2024-05-16T11:54:53.106Z"
   },
   {
    "duration": 14,
    "start_time": "2024-05-16T11:54:53.148Z"
   },
   {
    "duration": 40,
    "start_time": "2024-05-16T11:54:53.163Z"
   },
   {
    "duration": 10,
    "start_time": "2024-05-16T11:54:53.204Z"
   },
   {
    "duration": 16,
    "start_time": "2024-05-16T11:54:53.215Z"
   },
   {
    "duration": 31,
    "start_time": "2024-05-16T11:54:53.232Z"
   },
   {
    "duration": 20,
    "start_time": "2024-05-16T11:54:53.264Z"
   },
   {
    "duration": 20,
    "start_time": "2024-05-16T11:54:53.285Z"
   },
   {
    "duration": 37,
    "start_time": "2024-05-16T11:54:53.307Z"
   },
   {
    "duration": 180,
    "start_time": "2024-05-16T11:54:53.346Z"
   },
   {
    "duration": 98,
    "start_time": "2024-05-16T11:54:53.527Z"
   },
   {
    "duration": 209,
    "start_time": "2024-05-16T11:54:53.626Z"
   },
   {
    "duration": 230,
    "start_time": "2024-05-16T11:54:53.836Z"
   },
   {
    "duration": 6,
    "start_time": "2024-05-16T11:54:54.067Z"
   },
   {
    "duration": 98,
    "start_time": "2024-05-16T11:54:54.074Z"
   },
   {
    "duration": 11,
    "start_time": "2024-05-16T11:54:54.174Z"
   },
   {
    "duration": 28,
    "start_time": "2024-05-16T11:54:54.186Z"
   },
   {
    "duration": 255,
    "start_time": "2024-05-16T11:54:54.216Z"
   },
   {
    "duration": 3,
    "start_time": "2024-05-16T11:54:54.473Z"
   },
   {
    "duration": 8,
    "start_time": "2024-05-16T11:54:54.484Z"
   },
   {
    "duration": 119,
    "start_time": "2024-05-16T11:54:54.493Z"
   },
   {
    "duration": 213,
    "start_time": "2024-05-16T11:54:54.614Z"
   },
   {
    "duration": 2,
    "start_time": "2024-05-16T11:54:54.829Z"
   },
   {
    "duration": 12,
    "start_time": "2024-05-16T11:54:54.833Z"
   },
   {
    "duration": 5,
    "start_time": "2024-05-16T11:54:54.847Z"
   },
   {
    "duration": 11,
    "start_time": "2024-05-16T11:54:54.853Z"
   },
   {
    "duration": 114,
    "start_time": "2024-05-16T11:54:54.866Z"
   },
   {
    "duration": 174,
    "start_time": "2024-05-16T11:54:54.984Z"
   },
   {
    "duration": 14,
    "start_time": "2024-05-16T11:54:55.160Z"
   },
   {
    "duration": 9,
    "start_time": "2024-05-16T11:54:55.176Z"
   },
   {
    "duration": 29,
    "start_time": "2024-05-16T11:54:55.186Z"
   },
   {
    "duration": 4,
    "start_time": "2024-05-16T11:54:55.216Z"
   },
   {
    "duration": 29,
    "start_time": "2024-05-16T11:54:55.221Z"
   },
   {
    "duration": 359,
    "start_time": "2024-05-16T11:54:55.251Z"
   },
   {
    "duration": 346,
    "start_time": "2024-05-16T11:54:55.612Z"
   },
   {
    "duration": 2,
    "start_time": "2024-05-16T11:54:55.962Z"
   },
   {
    "duration": 15,
    "start_time": "2024-05-16T11:54:55.966Z"
   },
   {
    "duration": 56,
    "start_time": "2024-05-16T11:54:55.982Z"
   },
   {
    "duration": 44,
    "start_time": "2024-05-16T11:54:56.039Z"
   },
   {
    "duration": 18,
    "start_time": "2024-05-16T11:54:56.084Z"
   },
   {
    "duration": 33,
    "start_time": "2024-05-16T11:54:56.103Z"
   },
   {
    "duration": 15,
    "start_time": "2024-05-16T11:54:56.137Z"
   },
   {
    "duration": 30,
    "start_time": "2024-05-16T11:54:56.154Z"
   },
   {
    "duration": 48,
    "start_time": "2024-05-16T11:54:56.185Z"
   },
   {
    "duration": 62,
    "start_time": "2024-05-16T11:54:56.234Z"
   },
   {
    "duration": 1065,
    "start_time": "2024-05-16T12:12:56.905Z"
   },
   {
    "duration": 64,
    "start_time": "2024-05-16T12:12:57.971Z"
   },
   {
    "duration": 17,
    "start_time": "2024-05-16T12:12:58.036Z"
   },
   {
    "duration": 10,
    "start_time": "2024-05-16T12:12:58.054Z"
   },
   {
    "duration": 9,
    "start_time": "2024-05-16T12:12:58.065Z"
   },
   {
    "duration": 18,
    "start_time": "2024-05-16T12:12:58.075Z"
   },
   {
    "duration": 5,
    "start_time": "2024-05-16T12:12:58.094Z"
   },
   {
    "duration": 9,
    "start_time": "2024-05-16T12:12:58.100Z"
   },
   {
    "duration": 10,
    "start_time": "2024-05-16T12:12:58.110Z"
   },
   {
    "duration": 6,
    "start_time": "2024-05-16T12:12:58.122Z"
   },
   {
    "duration": 11,
    "start_time": "2024-05-16T12:12:58.129Z"
   },
   {
    "duration": 5,
    "start_time": "2024-05-16T12:12:58.142Z"
   },
   {
    "duration": 40,
    "start_time": "2024-05-16T12:12:58.148Z"
   },
   {
    "duration": 6,
    "start_time": "2024-05-16T12:12:58.189Z"
   },
   {
    "duration": 172,
    "start_time": "2024-05-16T12:12:58.196Z"
   },
   {
    "duration": 101,
    "start_time": "2024-05-16T12:12:58.369Z"
   },
   {
    "duration": 215,
    "start_time": "2024-05-16T12:12:58.471Z"
   },
   {
    "duration": 218,
    "start_time": "2024-05-16T12:12:58.687Z"
   },
   {
    "duration": 6,
    "start_time": "2024-05-16T12:12:58.906Z"
   },
   {
    "duration": 99,
    "start_time": "2024-05-16T12:12:58.913Z"
   },
   {
    "duration": 3,
    "start_time": "2024-05-16T12:12:59.013Z"
   },
   {
    "duration": 14,
    "start_time": "2024-05-16T12:12:59.017Z"
   },
   {
    "duration": 224,
    "start_time": "2024-05-16T12:12:59.032Z"
   },
   {
    "duration": 2,
    "start_time": "2024-05-16T12:12:59.257Z"
   },
   {
    "duration": 12,
    "start_time": "2024-05-16T12:12:59.260Z"
   },
   {
    "duration": 121,
    "start_time": "2024-05-16T12:12:59.273Z"
   },
   {
    "duration": 206,
    "start_time": "2024-05-16T12:12:59.396Z"
   },
   {
    "duration": 2,
    "start_time": "2024-05-16T12:12:59.605Z"
   },
   {
    "duration": 4,
    "start_time": "2024-05-16T12:12:59.608Z"
   },
   {
    "duration": 6,
    "start_time": "2024-05-16T12:12:59.613Z"
   },
   {
    "duration": 10,
    "start_time": "2024-05-16T12:12:59.620Z"
   },
   {
    "duration": 111,
    "start_time": "2024-05-16T12:12:59.632Z"
   },
   {
    "duration": 168,
    "start_time": "2024-05-16T12:12:59.744Z"
   },
   {
    "duration": 13,
    "start_time": "2024-05-16T12:12:59.914Z"
   },
   {
    "duration": 5,
    "start_time": "2024-05-16T12:12:59.928Z"
   },
   {
    "duration": 21,
    "start_time": "2024-05-16T12:12:59.934Z"
   },
   {
    "duration": 4,
    "start_time": "2024-05-16T12:12:59.957Z"
   },
   {
    "duration": 47,
    "start_time": "2024-05-16T12:12:59.962Z"
   },
   {
    "duration": 378,
    "start_time": "2024-05-16T12:13:00.010Z"
   },
   {
    "duration": 342,
    "start_time": "2024-05-16T12:13:00.389Z"
   },
   {
    "duration": 2,
    "start_time": "2024-05-16T12:13:00.732Z"
   },
   {
    "duration": 46,
    "start_time": "2024-05-16T12:13:00.735Z"
   },
   {
    "duration": 106,
    "start_time": "2024-05-16T12:13:00.782Z"
   },
   {
    "duration": 60,
    "start_time": "2024-05-16T12:13:00.890Z"
   },
   {
    "duration": 59,
    "start_time": "2024-05-16T12:13:00.952Z"
   },
   {
    "duration": 56,
    "start_time": "2024-05-16T12:13:01.012Z"
   },
   {
    "duration": 34,
    "start_time": "2024-05-16T12:13:01.069Z"
   },
   {
    "duration": 42,
    "start_time": "2024-05-16T12:13:01.105Z"
   },
   {
    "duration": 110,
    "start_time": "2024-05-16T12:13:01.149Z"
   },
   {
    "duration": 88,
    "start_time": "2024-05-16T12:13:01.260Z"
   }
  ],
  "kernelspec": {
   "display_name": "Python 3 (ipykernel)",
   "language": "python",
   "name": "python3"
  },
  "language_info": {
   "codemirror_mode": {
    "name": "ipython",
    "version": 3
   },
   "file_extension": ".py",
   "mimetype": "text/x-python",
   "name": "python",
   "nbconvert_exporter": "python",
   "pygments_lexer": "ipython3",
   "version": "3.9.5"
  },
  "toc": {
   "base_numbering": 1,
   "nav_menu": {},
   "number_sections": true,
   "sideBar": true,
   "skip_h1_title": true,
   "title_cell": "Table of Contents",
   "title_sidebar": "Contents",
   "toc_cell": false,
   "toc_position": {},
   "toc_section_display": true,
   "toc_window_display": true
  }
 },
 "nbformat": 4,
 "nbformat_minor": 5
}
